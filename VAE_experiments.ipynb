{
 "cells": [
  {
   "cell_type": "code",
   "execution_count": 1,
   "metadata": {
    "collapsed": true
   },
   "outputs": [],
   "source": [
    "import tensorflow as tf\n",
    "import numpy as np\n",
    "import matplotlib.pyplot as plt\n",
    "%matplotlib inline\n",
    "%load_ext autoreload\n",
    "%autoreload 2"
   ]
  },
  {
   "cell_type": "code",
   "execution_count": 10,
   "metadata": {
    "collapsed": true
   },
   "outputs": [],
   "source": [
    "from utils.func_utils import accept, jacobian, autocovariance, get_log_likelihood, get_data, binarize, normal_kl\n",
    "from utils.distributions import Gaussian, GMM, GaussianFunnel, gen_ring\n",
    "from utils.layers import Linear\n",
    "from utils.dynamics import Dynamics"
   ]
  },
  {
   "cell_type": "code",
   "execution_count": 3,
   "metadata": {
    "collapsed": true
   },
   "outputs": [],
   "source": [
    "x = tf.placeholder(tf.float32, shape=(None, 10))\n",
    "l = Linear(10, 5)\n",
    "\n",
    "y = l(x)"
   ]
  },
  {
   "cell_type": "code",
   "execution_count": 4,
   "metadata": {},
   "outputs": [
    {
     "name": "stdout",
     "output_type": "stream",
     "text": [
      "(2, 5)\n"
     ]
    }
   ],
   "source": [
    "with tf.Session() as sess:\n",
    "    sess.run(tf.global_variables_initializer())\n",
    "    print sess.run(y, {x: np.ones((2, 10))}).shape"
   ]
  },
  {
   "cell_type": "code",
   "execution_count": 5,
   "metadata": {
    "collapsed": true
   },
   "outputs": [],
   "source": [
    "with tf.variable_scope('vae'):\n",
    "    e_1 = Linear(784, 200, scope='encoder_1')\n",
    "    e_2 = Linear(200, 12, scope='encoder_mean')\n",
    "    e_3 = Linear(200, 12, scope='encoder_std')\n",
    "    \n",
    "    d_1 = Linear(12, 200, scope='decoder_1')\n",
    "    d_2 = Linear(200, 784, scope='decoder_2', factor=0.01)\n",
    "\n",
    "def encoder(x):\n",
    "    h = e_1(x)\n",
    "    h = tf.nn.softplus(h)\n",
    "    return e_2(h), e_3(h)\n",
    "\n",
    "def decoder(z):\n",
    "    h = d_1(z)\n",
    "    h = tf.nn.softplus(h)\n",
    "    return d_2(h)"
   ]
  },
  {
   "cell_type": "code",
   "execution_count": 6,
   "metadata": {
    "collapsed": true
   },
   "outputs": [],
   "source": [
    "from tensorflow.examples.tutorials.mnist import input_data"
   ]
  },
  {
   "cell_type": "code",
   "execution_count": 8,
   "metadata": {},
   "outputs": [
    {
     "name": "stdout",
     "output_type": "stream",
     "text": [
      "Successfully downloaded train-images-idx3-ubyte.gz 9912422 bytes.\n",
      "Extracting MNIST_data/train-images-idx3-ubyte.gz\n",
      "Successfully downloaded train-labels-idx1-ubyte.gz 28881 bytes.\n",
      "Extracting MNIST_data/train-labels-idx1-ubyte.gz\n",
      "Successfully downloaded t10k-images-idx3-ubyte.gz 1648877 bytes.\n",
      "Extracting MNIST_data/t10k-images-idx3-ubyte.gz\n",
      "Successfully downloaded t10k-labels-idx1-ubyte.gz 4542 bytes.\n",
      "Extracting MNIST_data/t10k-labels-idx1-ubyte.gz\n"
     ]
    }
   ],
   "source": [
    "float_x_train, float_x_test = get_data()\n",
    "\n",
    "N = float_x_train.shape[0]\n",
    "D = float_x_train.shape[1]\n",
    "\n",
    "float_x_train = float_x_train[np.random.permutation(N), :]\n",
    "float_x_test = float_x_test[np.random.permutation(float_x_test.shape[0]), :]\n",
    "\n",
    "x_train = binarize(float_x_train)\n",
    "x_test = binarize(float_x_test)"
   ]
  },
  {
   "cell_type": "code",
   "execution_count": 16,
   "metadata": {
    "collapsed": true
   },
   "outputs": [],
   "source": [
    "def var_from_scope(scope_name):\n",
    "    return tf.get_collection(tf.GraphKeys.GLOBAL_VARIABLES, scope=scope_name)"
   ]
  },
  {
   "cell_type": "code",
   "execution_count": 18,
   "metadata": {},
   "outputs": [],
   "source": [
    "inp = tf.placeholder(tf.float32, shape=(None, 784))\n",
    "\n",
    "mu, log_sigma = encoder(inp)\n",
    "\n",
    "noise = tf.random_normal(tf.shape(mu))\n",
    "\n",
    "z = mu + noise * tf.exp(log_sigma)\n",
    "\n",
    "logits = decoder(z)\n",
    "\n",
    "KL = normal_kl(mu, tf.exp(log_sigma), 0., 1.)\n",
    "BCE = tf.reduce_sum(tf.nn.sigmoid_cross_entropy_with_logits(labels=inp, logits=logits), axis=1)\n",
    "loss = tf.reduce_mean(KL+BCE)\n",
    "opt = tf.train.AdamOptimizer(0.001)\n",
    "train_op = opt.minimize(loss, var_list=var_from_scope('vae'))"
   ]
  },
  {
   "cell_type": "code",
   "execution_count": 19,
   "metadata": {
    "collapsed": true
   },
   "outputs": [],
   "source": [
    "def energy(z, aux=None):\n",
    "    logits = decoder(z)\n",
    "    log_posterior = -tf.reduce_sum(tf.nn.sigmoid_cross_entropy_with_logits(labels=aux, logits=logits), axis=1)\n",
    "    log_prior = -0.5 * tf.reduce_sum(tf.square(z), axis=1)\n",
    "    return -log_posterior - log_prior"
   ]
  },
  {
   "cell_type": "code",
   "execution_count": 23,
   "metadata": {},
   "outputs": [],
   "source": [
    "with tf.variable_scope('sampler__'):\n",
    "    x_dim = 12\n",
    "\n",
    "    size1 = 50\n",
    "    size2 = 50\n",
    "\n",
    "    encoder_1 = Linear(784, 200, scope='encoder_1_T')\n",
    "    encoder_2 = Linear(200, size1, scope='encoder_2_T')\n",
    "\n",
    "    def encode_T(aux):\n",
    "        h = encoder_1(aux)\n",
    "        h = tf.nn.softplus(h)\n",
    "        h = encoder_2(h)\n",
    "        return h\n",
    "\n",
    "\n",
    "    class Network(object):\n",
    "        def __init__(self, x_dim, scope='Network', factor=1.0):\n",
    "            with tf.variable_scope(scope):\n",
    "                self.embed_1 = Linear(x_dim, size1, scope='embed_1', factor=1.0 / 3)\n",
    "                self.embed_2 = Linear(x_dim, size1, scope='embed_2', factor=factor * 1.0 / 3)\n",
    "                self.embed_3 = Linear(2, size1, scope='embed_3', factor=1.0 / 3)\n",
    "\n",
    "                self.linear_1 = Linear(size1, size2, scope='linear_1')\n",
    "\n",
    "                self.scaling_S = tf.exp(tf.get_variable('scale_s', shape=(1, x_dim), initializer=tf.constant_initializer(0.)))\n",
    "                self.scaling_F = tf.exp(tf.get_variable('scale_f', shape=(1, x_dim), initializer=tf.constant_initializer(0.)))      \n",
    "                self.linear_s = Linear(size2, x_dim, scope='linear_s', factor=0.001)\n",
    "                self.linear_t = Linear(size2, x_dim, scope='linear_t', factor=0.001)\n",
    "                self.linear_f = Linear(size2, x_dim, scope='linear_f', factor=0.001)\n",
    "\n",
    "        def hidden(self, x, v, t, aux=None):\n",
    "            z1 = self.embed_1(x)\n",
    "            z2 = self.embed_2(v)\n",
    "            z3 = self.embed_3(t)\n",
    "            z4 = encode_T(aux)\n",
    "\n",
    "            h1 = tf.nn.relu(z1 + z2 + z3 + z4)\n",
    "\n",
    "            h2 = tf.nn.relu(self.linear_1(h1))\n",
    "            # h3 = tf.nn.relu(self.linear_2(h2))\n",
    "            return tf.nn.relu(h2)\n",
    "\n",
    "        def S(self, x, v, t, aux=None):\n",
    "            h = self.hidden(x, v, t, aux=aux)\n",
    "            return self.scaling_S * tf.nn.tanh(self.linear_s(h))\n",
    "\n",
    "        def T(self, x, v, t, aux=None):\n",
    "            h = self.hidden(x, v, t, aux=aux)\n",
    "            return self.linear_t(h)\n",
    "\n",
    "        def F(self, x, v, t, aux=None):\n",
    "            h = self.hidden(x, v, t, aux=aux)\n",
    "            return self.scaling_F * tf.nn.tanh(self.linear_f(h))\n",
    "\n",
    "        def net_factory(x_dim, scope, factor):\n",
    "            return Network(x_dim, scope=scope, factor=factor)\n",
    "\n",
    "    dynamics = Dynamics(x_dim, energy, T=10, eps=0.1, hmc=False, net_factory=net_factory, eps_trainable=True, use_temperature=False)"
   ]
  },
  {
   "cell_type": "code",
   "execution_count": 29,
   "metadata": {
    "collapsed": true
   },
   "outputs": [],
   "source": [
    "def boolean_mask(x, mask):\n",
    "    return tf.boolean_mask(x, mask), tf.boolean_mask(x, tf.logical_not(mask))\n",
    "\n",
    "def inverse_boolean_mask(x_true, x_false, mask):\n",
    "    n = tf.shape(mask)[0]\n",
    "    rest = x_true.get_shape().as_list()[1:]\n",
    "    shape = [n] + rest\n",
    "\n",
    "    ind1 = tf.expand_dims(gather_indices(mask), 1)\n",
    "    ind2 = tf.expand_dims(gather_indices(tf.logical_not(mask)), 1)\n",
    "\n",
    "    z = tf.scatter_nd(ind1, x_true, shape) + tf.scatter_nd(ind2, x_false, shape)\n",
    "    return z\n",
    "\n",
    "def gather_indices(mask):\n",
    "    n = tf.shape(mask)[0]\n",
    "    return tf.boolean_mask(tf.range(n), mask)"
   ]
  },
  {
   "cell_type": "code",
   "execution_count": 27,
   "metadata": {},
   "outputs": [
    {
     "name": "stdout",
     "output_type": "stream",
     "text": [
      "aux there\n",
      "aux there\n",
      "aux there\n",
      "aux there\n",
      "aux there\n",
      "aux there\n",
      "aux there\n",
      "aux there\n",
      "aux there\n",
      "aux there\n",
      "aux there\n",
      "aux there\n",
      "aux there\n",
      "aux there\n",
      "aux there\n",
      "aux there\n",
      "aux there\n",
      "aux there\n",
      "aux there\n",
      "aux there\n",
      "aux there\n",
      "aux there\n",
      "aux there\n",
      "aux there\n",
      "aux there\n",
      "aux there\n",
      "aux there\n",
      "aux there\n",
      "aux there\n",
      "aux there\n",
      "aux there\n",
      "aux there\n",
      "aux there\n",
      "aux there\n",
      "aux there\n",
      "aux there\n",
      "aux there\n",
      "aux there\n",
      "aux there\n",
      "aux there\n",
      "Tensor(\"strided_slice_10:0\", shape=(), dtype=int32) [12]\n",
      "Tensor(\"strided_slice_13:0\", shape=(), dtype=int32) [12]\n",
      "Tensor(\"strided_slice_16:0\", shape=(), dtype=int32) []\n",
      "Tensor(\"strided_slice_19:0\", shape=(), dtype=int32) []\n"
     ]
    }
   ],
   "source": [
    "aux = tf.placeholder(tf.float32, shape=(None, 784))\n",
    "x = tf.placeholder(tf.float32, shape=(None, 12))\n",
    "z = tf.random_uniform(tf.shape(x))\n",
    "\n",
    "# dynamics.energy(x, aux=aux)\n",
    "mask = tf.cast(tf.random_uniform((tf.shape(x)[0],), maxval=2, dtype=tf.int32), tf.bool)\n",
    "x1, x2 = boolean_mask(x, mask)\n",
    "z1, z2 = boolean_mask(z, mask)\n",
    "aux1, aux2 = boolean_mask(aux, mask)\n",
    "\n",
    "Lx1, _, px1 = dynamics.forward(x1, aux=aux1)\n",
    "Lx2, _, px2 = dynamics.backward(x2, aux=aux2)\n",
    "\n",
    "Lz1, _, pz1 = dynamics.forward(z1, aux=aux1)\n",
    "Lz2, _, pz2 = dynamics.forward(z2, aux=aux2)\n",
    "\n",
    "Lx = inverse_boolean_mask(Lx1, Lx2, mask)\n",
    "Lz = inverse_boolean_mask(Lz1, Lz2, mask)\n",
    "px = inverse_boolean_mask(px1, px2, mask)\n",
    "pz = inverse_boolean_mask(pz1, pz2, mask)"
   ]
  },
  {
   "cell_type": "code",
   "execution_count": 28,
   "metadata": {
    "collapsed": true
   },
   "outputs": [],
   "source": [
    "loss2 = 0.\n",
    "lr = tf.placeholder(tf.float32, shape=())\n",
    "v1 = tf.reduce_sum(tf.square(x - Lx), axis=1) * px + 1e-4\n",
    "# v2 = tf.reduce_sum(tf.square(z - Lz), axis=1) * pz + 1e-4\n",
    "# energy_loss = s.fn(x)\n",
    "\n",
    "scale = 1.0\n",
    "\n",
    "loss2 += scale * (tf.reduce_mean(1.0 / v1))\n",
    "loss2 += (- tf.reduce_mean(v1)) / scale\n",
    "\n",
    "global_step = tf.Variable(0., name='global_step', trainable=False)\n",
    "\n",
    "learning_rate = tf.train.exponential_decay(lr, global_step,\n",
    "                                           250, 0.96, staircase=True)\n",
    "\n",
    "optimizer = tf.train.AdamOptimizer(learning_rate=learning_rate)\n",
    "sampler_train_op = optimizer.minimize(loss2, var_list=var_from_scope('sampler__'))"
   ]
  },
  {
   "cell_type": "code",
   "execution_count": 30,
   "metadata": {},
   "outputs": [
    {
     "name": "stdout",
     "output_type": "stream",
     "text": [
      "0 634.358\n",
      "1000 119.887\n",
      "2000 116.626\n",
      "3000 113.726\n",
      "4000 110.365\n",
      "5000 115.025\n",
      "6000 112.619\n",
      "7000 109.296\n",
      "8000 108.679\n",
      "9000 107.567\n",
      "10000 107.648\n",
      "11000 104.407\n",
      "12000 105.941\n",
      "13000 102.535\n",
      "14000 103.793\n",
      "15000 108.044\n",
      "16000 104.194\n",
      "17000 104.457\n",
      "18000 102.702\n",
      "19000 105.696\n",
      "20000 102.43\n",
      "21000 104.899\n",
      "22000 102.694\n",
      "23000 100.364\n",
      "24000 99.8262\n",
      "25000 101.106\n",
      "26000 102.334\n",
      "27000 107.655\n",
      "28000 106.644\n",
      "29000 113.1\n",
      "30000 101.81\n",
      "31000 102.513\n",
      "32000 103.659\n",
      "33000 103.493\n",
      "34000 95.465\n"
     ]
    }
   ],
   "source": [
    "sess = tf.Session()\n",
    "\n",
    "sess.run(tf.global_variables_initializer())\n",
    "\n",
    "L = []\n",
    "\n",
    "for t in range(int(3.5e4)):\n",
    "    ind = np.random.randint(low=0, high=60000, size=(128,))\n",
    "    _, loss_ = sess.run([train_op, loss], {inp: x_train[ind, :]})\n",
    "\n",
    "    L.append(loss_)\n",
    "\n",
    "    if t % 1000 == 0:\n",
    "        print t, loss_"
   ]
  },
  {
   "cell_type": "code",
   "execution_count": 32,
   "metadata": {},
   "outputs": [
    {
     "name": "stdout",
     "output_type": "stream",
     "text": [
      "Approximate posterior samples\n",
      "Step: 0 / 5000, Loss: 3.51e+00, Acceptance sample: 0.59, Epsilon: 0.099, LR: 0.00100\n",
      "Step: 50 / 5000, Loss: 4.92e-01, Acceptance sample: 0.72, Epsilon: 0.097, LR: 0.00100\n",
      "Step: 100 / 5000, Loss: -2.67e-01, Acceptance sample: 0.83, Epsilon: 0.096, LR: 0.00100\n",
      "Step: 150 / 5000, Loss: -3.98e-01, Acceptance sample: 0.89, Epsilon: 0.094, LR: 0.00100\n",
      "Step: 200 / 5000, Loss: -1.87e-01, Acceptance sample: 0.89, Epsilon: 0.093, LR: 0.00100\n",
      "Step: 250 / 5000, Loss: -5.55e-04, Acceptance sample: 0.91, Epsilon: 0.093, LR: 0.00100\n",
      "Step: 300 / 5000, Loss: -5.83e-01, Acceptance sample: 0.89, Epsilon: 0.092, LR: 0.00100\n",
      "Step: 350 / 5000, Loss: -5.01e-01, Acceptance sample: 0.91, Epsilon: 0.092, LR: 0.00100\n",
      "Step: 400 / 5000, Loss: -8.63e-01, Acceptance sample: 0.92, Epsilon: 0.091, LR: 0.00100\n",
      "Step: 450 / 5000, Loss: -6.20e-01, Acceptance sample: 0.89, Epsilon: 0.088, LR: 0.00100\n",
      "Step: 500 / 5000, Loss: -5.66e-01, Acceptance sample: 0.91, Epsilon: 0.087, LR: 0.00100\n",
      "Step: 550 / 5000, Loss: -6.23e-01, Acceptance sample: 0.93, Epsilon: 0.086, LR: 0.00100\n",
      "Step: 600 / 5000, Loss: -8.55e-01, Acceptance sample: 0.94, Epsilon: 0.085, LR: 0.00100\n",
      "Step: 650 / 5000, Loss: -8.78e-01, Acceptance sample: 0.93, Epsilon: 0.084, LR: 0.00100\n",
      "Step: 700 / 5000, Loss: -1.15e+00, Acceptance sample: 0.94, Epsilon: 0.083, LR: 0.00100\n",
      "Step: 750 / 5000, Loss: -6.82e-01, Acceptance sample: 0.94, Epsilon: 0.082, LR: 0.00100\n"
     ]
    },
    {
     "ename": "KeyboardInterrupt",
     "evalue": "",
     "output_type": "error",
     "traceback": [
      "\u001b[0;31m---------------------------------------------------------------------------\u001b[0m",
      "\u001b[0;31mKeyboardInterrupt\u001b[0m                         Traceback (most recent call last)",
      "\u001b[0;32m<ipython-input-32-e5e9f263ba69>\u001b[0m in \u001b[0;36m<module>\u001b[0;34m()\u001b[0m\n\u001b[1;32m     30\u001b[0m         \u001b[0mLx\u001b[0m\u001b[0;34m,\u001b[0m\u001b[0;34m\u001b[0m\u001b[0m\n\u001b[1;32m     31\u001b[0m         \u001b[0mpx\u001b[0m\u001b[0;34m,\u001b[0m\u001b[0;34m\u001b[0m\u001b[0m\n\u001b[0;32m---> 32\u001b[0;31m     ], feed_dict)\n\u001b[0m\u001b[1;32m     33\u001b[0m \u001b[0;34m\u001b[0m\u001b[0m\n\u001b[1;32m     34\u001b[0m     \u001b[0msample_acc_prob\u001b[0m\u001b[0;34m.\u001b[0m\u001b[0mappend\u001b[0m\u001b[0;34m(\u001b[0m\u001b[0mnp\u001b[0m\u001b[0;34m.\u001b[0m\u001b[0mmean\u001b[0m\u001b[0;34m(\u001b[0m\u001b[0mpx_\u001b[0m\u001b[0;34m)\u001b[0m\u001b[0;34m)\u001b[0m\u001b[0;34m\u001b[0m\u001b[0m\n",
      "\u001b[0;32m/home/danilevy/anaconda2/lib/python2.7/site-packages/tensorflow/python/client/session.pyc\u001b[0m in \u001b[0;36mrun\u001b[0;34m(self, fetches, feed_dict, options, run_metadata)\u001b[0m\n\u001b[1;32m    893\u001b[0m     \u001b[0;32mtry\u001b[0m\u001b[0;34m:\u001b[0m\u001b[0;34m\u001b[0m\u001b[0m\n\u001b[1;32m    894\u001b[0m       result = self._run(None, fetches, feed_dict, options_ptr,\n\u001b[0;32m--> 895\u001b[0;31m                          run_metadata_ptr)\n\u001b[0m\u001b[1;32m    896\u001b[0m       \u001b[0;32mif\u001b[0m \u001b[0mrun_metadata\u001b[0m\u001b[0;34m:\u001b[0m\u001b[0;34m\u001b[0m\u001b[0m\n\u001b[1;32m    897\u001b[0m         \u001b[0mproto_data\u001b[0m \u001b[0;34m=\u001b[0m \u001b[0mtf_session\u001b[0m\u001b[0;34m.\u001b[0m\u001b[0mTF_GetBuffer\u001b[0m\u001b[0;34m(\u001b[0m\u001b[0mrun_metadata_ptr\u001b[0m\u001b[0;34m)\u001b[0m\u001b[0;34m\u001b[0m\u001b[0m\n",
      "\u001b[0;32m/home/danilevy/anaconda2/lib/python2.7/site-packages/tensorflow/python/client/session.pyc\u001b[0m in \u001b[0;36m_run\u001b[0;34m(self, handle, fetches, feed_dict, options, run_metadata)\u001b[0m\n\u001b[1;32m   1122\u001b[0m     \u001b[0;32mif\u001b[0m \u001b[0mfinal_fetches\u001b[0m \u001b[0;32mor\u001b[0m \u001b[0mfinal_targets\u001b[0m \u001b[0;32mor\u001b[0m \u001b[0;34m(\u001b[0m\u001b[0mhandle\u001b[0m \u001b[0;32mand\u001b[0m \u001b[0mfeed_dict_tensor\u001b[0m\u001b[0;34m)\u001b[0m\u001b[0;34m:\u001b[0m\u001b[0;34m\u001b[0m\u001b[0m\n\u001b[1;32m   1123\u001b[0m       results = self._do_run(handle, final_targets, final_fetches,\n\u001b[0;32m-> 1124\u001b[0;31m                              feed_dict_tensor, options, run_metadata)\n\u001b[0m\u001b[1;32m   1125\u001b[0m     \u001b[0;32melse\u001b[0m\u001b[0;34m:\u001b[0m\u001b[0;34m\u001b[0m\u001b[0m\n\u001b[1;32m   1126\u001b[0m       \u001b[0mresults\u001b[0m \u001b[0;34m=\u001b[0m \u001b[0;34m[\u001b[0m\u001b[0;34m]\u001b[0m\u001b[0;34m\u001b[0m\u001b[0m\n",
      "\u001b[0;32m/home/danilevy/anaconda2/lib/python2.7/site-packages/tensorflow/python/client/session.pyc\u001b[0m in \u001b[0;36m_do_run\u001b[0;34m(self, handle, target_list, fetch_list, feed_dict, options, run_metadata)\u001b[0m\n\u001b[1;32m   1319\u001b[0m     \u001b[0;32mif\u001b[0m \u001b[0mhandle\u001b[0m \u001b[0;32mis\u001b[0m \u001b[0mNone\u001b[0m\u001b[0;34m:\u001b[0m\u001b[0;34m\u001b[0m\u001b[0m\n\u001b[1;32m   1320\u001b[0m       return self._do_call(_run_fn, self._session, feeds, fetches, targets,\n\u001b[0;32m-> 1321\u001b[0;31m                            options, run_metadata)\n\u001b[0m\u001b[1;32m   1322\u001b[0m     \u001b[0;32melse\u001b[0m\u001b[0;34m:\u001b[0m\u001b[0;34m\u001b[0m\u001b[0m\n\u001b[1;32m   1323\u001b[0m       \u001b[0;32mreturn\u001b[0m \u001b[0mself\u001b[0m\u001b[0;34m.\u001b[0m\u001b[0m_do_call\u001b[0m\u001b[0;34m(\u001b[0m\u001b[0m_prun_fn\u001b[0m\u001b[0;34m,\u001b[0m \u001b[0mself\u001b[0m\u001b[0;34m.\u001b[0m\u001b[0m_session\u001b[0m\u001b[0;34m,\u001b[0m \u001b[0mhandle\u001b[0m\u001b[0;34m,\u001b[0m \u001b[0mfeeds\u001b[0m\u001b[0;34m,\u001b[0m \u001b[0mfetches\u001b[0m\u001b[0;34m)\u001b[0m\u001b[0;34m\u001b[0m\u001b[0m\n",
      "\u001b[0;32m/home/danilevy/anaconda2/lib/python2.7/site-packages/tensorflow/python/client/session.pyc\u001b[0m in \u001b[0;36m_do_call\u001b[0;34m(self, fn, *args)\u001b[0m\n\u001b[1;32m   1325\u001b[0m   \u001b[0;32mdef\u001b[0m \u001b[0m_do_call\u001b[0m\u001b[0;34m(\u001b[0m\u001b[0mself\u001b[0m\u001b[0;34m,\u001b[0m \u001b[0mfn\u001b[0m\u001b[0;34m,\u001b[0m \u001b[0;34m*\u001b[0m\u001b[0margs\u001b[0m\u001b[0;34m)\u001b[0m\u001b[0;34m:\u001b[0m\u001b[0;34m\u001b[0m\u001b[0m\n\u001b[1;32m   1326\u001b[0m     \u001b[0;32mtry\u001b[0m\u001b[0;34m:\u001b[0m\u001b[0;34m\u001b[0m\u001b[0m\n\u001b[0;32m-> 1327\u001b[0;31m       \u001b[0;32mreturn\u001b[0m \u001b[0mfn\u001b[0m\u001b[0;34m(\u001b[0m\u001b[0;34m*\u001b[0m\u001b[0margs\u001b[0m\u001b[0;34m)\u001b[0m\u001b[0;34m\u001b[0m\u001b[0m\n\u001b[0m\u001b[1;32m   1328\u001b[0m     \u001b[0;32mexcept\u001b[0m \u001b[0merrors\u001b[0m\u001b[0;34m.\u001b[0m\u001b[0mOpError\u001b[0m \u001b[0;32mas\u001b[0m \u001b[0me\u001b[0m\u001b[0;34m:\u001b[0m\u001b[0;34m\u001b[0m\u001b[0m\n\u001b[1;32m   1329\u001b[0m       \u001b[0mmessage\u001b[0m \u001b[0;34m=\u001b[0m \u001b[0mcompat\u001b[0m\u001b[0;34m.\u001b[0m\u001b[0mas_text\u001b[0m\u001b[0;34m(\u001b[0m\u001b[0me\u001b[0m\u001b[0;34m.\u001b[0m\u001b[0mmessage\u001b[0m\u001b[0;34m)\u001b[0m\u001b[0;34m\u001b[0m\u001b[0m\n",
      "\u001b[0;32m/home/danilevy/anaconda2/lib/python2.7/site-packages/tensorflow/python/client/session.pyc\u001b[0m in \u001b[0;36m_run_fn\u001b[0;34m(session, feed_dict, fetch_list, target_list, options, run_metadata)\u001b[0m\n\u001b[1;32m   1304\u001b[0m           return tf_session.TF_Run(session, options,\n\u001b[1;32m   1305\u001b[0m                                    \u001b[0mfeed_dict\u001b[0m\u001b[0;34m,\u001b[0m \u001b[0mfetch_list\u001b[0m\u001b[0;34m,\u001b[0m \u001b[0mtarget_list\u001b[0m\u001b[0;34m,\u001b[0m\u001b[0;34m\u001b[0m\u001b[0m\n\u001b[0;32m-> 1306\u001b[0;31m                                    status, run_metadata)\n\u001b[0m\u001b[1;32m   1307\u001b[0m \u001b[0;34m\u001b[0m\u001b[0m\n\u001b[1;32m   1308\u001b[0m     \u001b[0;32mdef\u001b[0m \u001b[0m_prun_fn\u001b[0m\u001b[0;34m(\u001b[0m\u001b[0msession\u001b[0m\u001b[0;34m,\u001b[0m \u001b[0mhandle\u001b[0m\u001b[0;34m,\u001b[0m \u001b[0mfeed_dict\u001b[0m\u001b[0;34m,\u001b[0m \u001b[0mfetch_list\u001b[0m\u001b[0;34m)\u001b[0m\u001b[0;34m:\u001b[0m\u001b[0;34m\u001b[0m\u001b[0m\n",
      "\u001b[0;31mKeyboardInterrupt\u001b[0m: "
     ]
    }
   ],
   "source": [
    "# sess.run(tf.initialize_variables(var_from_scope('sampler')))\n",
    "\n",
    "nb_steps = 5000\n",
    "\n",
    "dN = np.shape(x_train)[0]\n",
    "posterior_samples = sess.run(mu + noise * tf.exp(log_sigma), {inp: x_train})\n",
    "\n",
    "print 'Approximate posterior samples'\n",
    "\n",
    "sample_acc_prob = []\n",
    "noise_acc_prob = []\n",
    "\n",
    "loss_values = []\n",
    "\n",
    "temp = 1.0\n",
    "\n",
    "for t in range(nb_steps):\n",
    "  ind = np.random.randint(low=0, high=60000, size=(128,))\n",
    "  for tt in range(10):\n",
    "    feed_dict={\n",
    "        x: posterior_samples[ind, :],\n",
    "        aux: x_train[ind, :],\n",
    "        dynamics.temperature: temp,\n",
    "        lr: 1e-3,\n",
    "    }\n",
    "\n",
    "    _, loss_sampler, Lx_, px_ = sess.run([\n",
    "        sampler_train_op,\n",
    "        loss2,\n",
    "        Lx,\n",
    "        px,\n",
    "    ], feed_dict)\n",
    "\n",
    "    sample_acc_prob.append(np.mean(px_))\n",
    "\n",
    "    new_posterior_samples = accept(posterior_samples[ind, :], Lx_, px_)\n",
    "    posterior_samples[ind, :] = new_posterior_samples\n",
    "    loss_values.append(loss_sampler)\n",
    "  \n",
    "  if t % 50 == 0:\n",
    "    print 'Step: %d / %d, Loss: %.2e, Acceptance sample: %.2f, Epsilon: %.3f, LR: %.5f' % (t, nb_steps, loss_sampler, np.mean(px_),sess.run(dynamics.eps), sess.run(learning_rate, {lr: 1e-3}))"
   ]
  },
  {
   "cell_type": "code",
   "execution_count": 102,
   "metadata": {},
   "outputs": [
    {
     "data": {
      "text/plain": [
       "(-1, 0)"
      ]
     },
     "execution_count": 102,
     "metadata": {},
     "output_type": "execute_result"
    },
    {
     "data": {
      "image/png": "[encoded data removed]",
      "text/plain": [
       "<matplotlib.figure.Figure at 0x7f8f0e371590>"
      ]
     },
     "metadata": {},
     "output_type": "display_data"
    }
   ],
   "source": [
    "plt.plot(smooth(loss_values, k=100))\n",
    "plt.ylim(-1, 0)"
   ]
  },
  {
   "cell_type": "code",
   "execution_count": 103,
   "metadata": {},
   "outputs": [
    {
     "data": {
      "text/plain": [
       "<function __main__.smooth>"
      ]
     },
     "execution_count": 103,
     "metadata": {},
     "output_type": "execute_result"
    }
   ],
   "source": [
    "def smooth(l, k=25):\n",
    "    return [np.mean(l[t:t+k]) for t in range(len(l) - k)]"
   ]
  },
  {
   "cell_type": "code",
   "execution_count": 38,
   "metadata": {
    "collapsed": true
   },
   "outputs": [],
   "source": [
    "start_particles = sess.run(mu + noise * tf.exp(log_sigma), {inp: x_train[ind, :]})\n",
    "samples_ = np.copy(start_particles)\n",
    "\n",
    "final_samples_list = []\n",
    " \n",
    "for t in range(2000):\n",
    "    Lx_, px_ = sess.run([Lx, px], {x: samples_, aux: x_train[ind, :]})\n",
    "    samples_ = accept(samples_, Lx_, px_)\n",
    "\n",
    "    final_samples_list.append(np.copy(samples_))"
   ]
  },
  {
   "cell_type": "code",
   "execution_count": 39,
   "metadata": {
    "collapsed": true
   },
   "outputs": [],
   "source": [
    "F = np.array(final_samples_list)"
   ]
  },
  {
   "cell_type": "code",
   "execution_count": 40,
   "metadata": {},
   "outputs": [
    {
     "data": {
      "text/plain": [
       "(2000, 128, 12)"
      ]
     },
     "execution_count": 40,
     "metadata": {},
     "output_type": "execute_result"
    }
   ],
   "source": [
    "F.shape"
   ]
  },
  {
   "cell_type": "code",
   "execution_count": 45,
   "metadata": {
    "collapsed": true
   },
   "outputs": [],
   "source": [
    "def auto_correlation_time(x, s, mu, var):\n",
    "    b, t, d = x.shape\n",
    "    act_ = np.zeros([d])\n",
    "    for i in range(0, b):\n",
    "        y = x[i] - mu[i]\n",
    "        p, n = y[:-s], y[s:]\n",
    "        act_ += np.mean(p * n, axis=0) / var\n",
    "    act_ = act_ / b\n",
    "    return act_"
   ]
  },
  {
   "cell_type": "code",
   "execution_count": 90,
   "metadata": {
    "collapsed": true
   },
   "outputs": [],
   "source": [
    "F_conv = F[1000:, :, :]"
   ]
  },
  {
   "cell_type": "code",
   "execution_count": 89,
   "metadata": {},
   "outputs": [
    {
     "name": "stdout",
     "output_type": "stream",
     "text": [
      "alive?\n"
     ]
    }
   ],
   "source": [
    "print 'alive?'"
   ]
  },
  {
   "cell_type": "code",
   "execution_count": 91,
   "metadata": {
    "collapsed": true
   },
   "outputs": [],
   "source": [
    "mu = F_conv.mean(axis=0)"
   ]
  },
  {
   "cell_type": "code",
   "execution_count": 92,
   "metadata": {},
   "outputs": [
    {
     "data": {
      "text/plain": [
       "(128, 12)"
      ]
     },
     "execution_count": 92,
     "metadata": {},
     "output_type": "execute_result"
    }
   ],
   "source": [
    "mu.shape"
   ]
  },
  {
   "cell_type": "code",
   "execution_count": 48,
   "metadata": {},
   "outputs": [],
   "source": [
    "FF = np.transpose(F_conv, (1, 0, 2))"
   ]
  },
  {
   "cell_type": "code",
   "execution_count": 50,
   "metadata": {},
   "outputs": [
    {
     "ename": "ValueError",
     "evalue": "operands could not be broadcast together with shapes (0,12) (1000,12) ",
     "output_type": "error",
     "traceback": [
      "\u001b[0;31m---------------------------------------------------------------------------\u001b[0m",
      "\u001b[0;31mValueError\u001b[0m                                Traceback (most recent call last)",
      "\u001b[0;32m<ipython-input-50-0afa3327b96e>\u001b[0m in \u001b[0;36m<module>\u001b[0;34m()\u001b[0m\n\u001b[0;32m----> 1\u001b[0;31m \u001b[0mplt\u001b[0m\u001b[0;34m.\u001b[0m\u001b[0mplot\u001b[0m\u001b[0;34m(\u001b[0m\u001b[0;34m[\u001b[0m\u001b[0mauto_correlation_time\u001b[0m\u001b[0;34m(\u001b[0m\u001b[0mFF\u001b[0m\u001b[0;34m,\u001b[0m \u001b[0mt\u001b[0m\u001b[0;34m,\u001b[0m \u001b[0mmu\u001b[0m\u001b[0;34m,\u001b[0m \u001b[0;36m1.\u001b[0m\u001b[0;34m)\u001b[0m \u001b[0;32mfor\u001b[0m \u001b[0mt\u001b[0m \u001b[0;32min\u001b[0m \u001b[0mrange\u001b[0m\u001b[0;34m(\u001b[0m\u001b[0;36m500\u001b[0m\u001b[0;34m)\u001b[0m\u001b[0;34m]\u001b[0m\u001b[0;34m)\u001b[0m\u001b[0;34m\u001b[0m\u001b[0m\n\u001b[0m",
      "\u001b[0;32m<ipython-input-45-70d87ec7732e>\u001b[0m in \u001b[0;36mauto_correlation_time\u001b[0;34m(x, s, mu, var)\u001b[0m\n\u001b[1;32m      5\u001b[0m         \u001b[0my\u001b[0m \u001b[0;34m=\u001b[0m \u001b[0mx\u001b[0m\u001b[0;34m[\u001b[0m\u001b[0mi\u001b[0m\u001b[0;34m]\u001b[0m \u001b[0;34m-\u001b[0m \u001b[0mmu\u001b[0m\u001b[0;34m[\u001b[0m\u001b[0mi\u001b[0m\u001b[0;34m]\u001b[0m\u001b[0;34m\u001b[0m\u001b[0m\n\u001b[1;32m      6\u001b[0m         \u001b[0mp\u001b[0m\u001b[0;34m,\u001b[0m \u001b[0mn\u001b[0m \u001b[0;34m=\u001b[0m \u001b[0my\u001b[0m\u001b[0;34m[\u001b[0m\u001b[0;34m:\u001b[0m\u001b[0;34m-\u001b[0m\u001b[0ms\u001b[0m\u001b[0;34m]\u001b[0m\u001b[0;34m,\u001b[0m \u001b[0my\u001b[0m\u001b[0;34m[\u001b[0m\u001b[0ms\u001b[0m\u001b[0;34m:\u001b[0m\u001b[0;34m]\u001b[0m\u001b[0;34m\u001b[0m\u001b[0m\n\u001b[0;32m----> 7\u001b[0;31m         \u001b[0mact_\u001b[0m \u001b[0;34m+=\u001b[0m \u001b[0mnp\u001b[0m\u001b[0;34m.\u001b[0m\u001b[0mmean\u001b[0m\u001b[0;34m(\u001b[0m\u001b[0mp\u001b[0m \u001b[0;34m*\u001b[0m \u001b[0mn\u001b[0m\u001b[0;34m,\u001b[0m \u001b[0maxis\u001b[0m\u001b[0;34m=\u001b[0m\u001b[0;36m0\u001b[0m\u001b[0;34m)\u001b[0m \u001b[0;34m/\u001b[0m \u001b[0mvar\u001b[0m\u001b[0;34m\u001b[0m\u001b[0m\n\u001b[0m\u001b[1;32m      8\u001b[0m     \u001b[0mact_\u001b[0m \u001b[0;34m=\u001b[0m \u001b[0mact_\u001b[0m \u001b[0;34m/\u001b[0m \u001b[0mb\u001b[0m\u001b[0;34m\u001b[0m\u001b[0m\n\u001b[1;32m      9\u001b[0m     \u001b[0;32mreturn\u001b[0m \u001b[0mact_\u001b[0m\u001b[0;34m\u001b[0m\u001b[0m\n",
      "\u001b[0;31mValueError\u001b[0m: operands could not be broadcast together with shapes (0,12) (1000,12) "
     ]
    }
   ],
   "source": [
    "plt.plot([auto_correlation_time(FF, t, mu, 1.) for t in range(500)])"
   ]
  },
  {
   "cell_type": "code",
   "execution_count": 51,
   "metadata": {
    "collapsed": true
   },
   "outputs": [],
   "source": [
    "signal = F_conv[:, 0, :]\n",
    "\n",
    "centered_signal = signal - np.mean(signal, axis=0)"
   ]
  },
  {
   "cell_type": "code",
   "execution_count": 52,
   "metadata": {},
   "outputs": [
    {
     "data": {
      "text/plain": [
       "(1000, 12)"
      ]
     },
     "execution_count": 52,
     "metadata": {},
     "output_type": "execute_result"
    }
   ],
   "source": [
    "centered_signal.shape"
   ]
  },
  {
   "cell_type": "code",
   "execution_count": 53,
   "metadata": {
    "collapsed": true
   },
   "outputs": [],
   "source": [
    "ft_signal = np.fft.fftn(centered_signal)"
   ]
  },
  {
   "cell_type": "code",
   "execution_count": 54,
   "metadata": {
    "collapsed": true
   },
   "outputs": [],
   "source": [
    "powerSpectralDensity = np.abs(ft_signal)**2\n",
    "autocovariance = np.fft.ifftn(powerSpectralDensity) / len(centered_signal)"
   ]
  },
  {
   "cell_type": "code",
   "execution_count": 55,
   "metadata": {
    "collapsed": true
   },
   "outputs": [],
   "source": [
    "autocovariance = np.real(autocovariance)"
   ]
  },
  {
   "cell_type": "code",
   "execution_count": 56,
   "metadata": {},
   "outputs": [
    {
     "data": {
      "text/plain": [
       "(1000, 12)"
      ]
     },
     "execution_count": 56,
     "metadata": {},
     "output_type": "execute_result"
    }
   ],
   "source": [
    "autocovariance.shape"
   ]
  },
  {
   "cell_type": "code",
   "execution_count": 58,
   "metadata": {},
   "outputs": [],
   "source": [
    "p = np.linalg.norm(autocovariance, axis=1)"
   ]
  },
  {
   "cell_type": "code",
   "execution_count": 59,
   "metadata": {},
   "outputs": [
    {
     "data": {
      "text/plain": [
       "(1000,)"
      ]
     },
     "execution_count": 59,
     "metadata": {},
     "output_type": "execute_result"
    }
   ],
   "source": [
    "p.shape"
   ]
  },
  {
   "cell_type": "code",
   "execution_count": 60,
   "metadata": {},
   "outputs": [
    {
     "data": {
      "text/plain": [
       "[<matplotlib.lines.Line2D at 0x7f8f11e77d90>]"
      ]
     },
     "execution_count": 60,
     "metadata": {},
     "output_type": "execute_result"
    },
    {
     "data": {
      "image/png": "[encoded data removed]",
      "text/plain": [
       "<matplotlib.figure.Figure at 0x7f8f11f23410>"
      ]
     },
     "metadata": {},
     "output_type": "display_data"
    }
   ],
   "source": [
    "plt.plot(p)"
   ]
  },
  {
   "cell_type": "code",
   "execution_count": 76,
   "metadata": {
    "collapsed": true
   },
   "outputs": [],
   "source": [
    "def autocovariance(X, tau=0):\n",
    "    dT, dN, dX = np.shape(X)\n",
    "    s = 0.\n",
    "    for t in range(dT - tau):\n",
    "        x1 = X[t, :, :]\n",
    "        x2 = X[t+tau, :, :]\n",
    "\n",
    "        s += np.trace(x1.dot(x2.T)) / dN\n",
    "\n",
    "    return s / (dT - tau)"
   ]
  },
  {
   "cell_type": "code",
   "execution_count": 67,
   "metadata": {},
   "outputs": [
    {
     "data": {
      "text/plain": [
       "[<matplotlib.lines.Line2D at 0x7f8f11dd6a90>]"
      ]
     },
     "execution_count": 67,
     "metadata": {},
     "output_type": "execute_result"
    },
    {
     "data": {
      "image/png": "[encoded data removed]",
      "text/plain": [
       "<matplotlib.figure.Figure at 0x7f8f11f87d10>"
      ]
     },
     "metadata": {},
     "output_type": "display_data"
    }
   ],
   "source": [
    "plt.plot(np.abs([autocovariance(F_conv - mu, tau=t) for t in range(999)]))"
   ]
  },
  {
   "cell_type": "code",
   "execution_count": 69,
   "metadata": {},
   "outputs": [
    {
     "name": "stdout",
     "output_type": "stream",
     "text": [
      "aux there\n",
      "aux there\n",
      "aux there\n",
      "aux there\n",
      "aux there\n",
      "aux there\n",
      "aux there\n",
      "aux there\n",
      "aux there\n",
      "aux there\n"
     ]
    }
   ],
   "source": [
    "with tf.variable_scope('hmc_sampler6'):\n",
    "    hmc_dynamics = Dynamics(x_dim, energy, T=10, eps=0.1, hmc=True, eps_trainable=False, use_temperature=False)\n",
    "\n",
    "x_hmc = tf.placeholder(tf.float32, shape=(None, 12))\n",
    "Lx_hmc, _, p_x_hmc = hmc_dynamics.forward(x_hmc, aux=aux)"
   ]
  },
  {
   "cell_type": "code",
   "execution_count": 70,
   "metadata": {},
   "outputs": [
    {
     "name": "stdout",
     "output_type": "stream",
     "text": [
      "WARNING:tensorflow:From /home/danilevy/anaconda2/lib/python2.7/site-packages/tensorflow/python/util/tf_should_use.py:175: initialize_variables (from tensorflow.python.ops.variables) is deprecated and will be removed after 2017-03-02.\n",
      "Instructions for updating:\n",
      "Use `tf.variables_initializer` instead.\n"
     ]
    }
   ],
   "source": [
    "sess.run(tf.variables_initializer(var_from_scope('hmc_sampler6')))"
   ]
  },
  {
   "cell_type": "code",
   "execution_count": 73,
   "metadata": {
    "collapsed": true
   },
   "outputs": [],
   "source": [
    "samples_ = np.copy(start_particles)\n",
    "\n",
    "hmc_samples_list = []\n",
    " \n",
    "for t in range(2000):\n",
    "    Lx_, px_ = sess.run([Lx_hmc, p_x_hmc], {x_hmc: samples_, aux: x_train[ind, :]})\n",
    "    samples_ = accept(samples_, Lx_, px_)\n",
    "\n",
    "    hmc_samples_list.append(np.copy(samples_))"
   ]
  },
  {
   "cell_type": "code",
   "execution_count": 95,
   "metadata": {},
   "outputs": [
    {
     "data": {
      "text/plain": [
       "<matplotlib.legend.Legend at 0x7f8f0e5e38d0>"
      ]
     },
     "execution_count": 95,
     "metadata": {},
     "output_type": "execute_result"
    },
    {
     "data": {
      "image/png": "[encoded data removed]",
      "text/plain": [
       "<matplotlib.figure.Figure at 0x7f8f0e658210>"
      ]
     },
     "metadata": {},
     "output_type": "display_data"
    }
   ],
   "source": [
    "G = np.array(hmc_samples_list)[1000:, :, :]\n",
    "plt.plot(np.abs([autocovariance(F_conv - mu, tau=t) for t in range(999)]), label='cosa nostra')\n",
    "plt.plot(np.abs([autocovariance(G - mu, tau=t) for t in range(999)]), label='HMC')\n",
    "plt.xlim(0, 100)\n",
    "plt.xlabel('MH steps')\n",
    "plt.ylabel('Autocovariance')\n",
    "plt.legend()"
   ]
  },
  {
   "cell_type": "code",
   "execution_count": 78,
   "metadata": {},
   "outputs": [
    {
     "data": {
      "text/plain": [
       "array([ 0.1706972 , -0.43266033, -0.87561742,  1.71988317, -1.33437561,\n",
       "        1.63003337, -0.16605591, -0.23247811, -0.54360363, -0.37592683,\n",
       "        1.59473853,  0.00557079])"
      ]
     },
     "execution_count": 78,
     "metadata": {},
     "output_type": "execute_result"
    }
   ],
   "source": [
    "np.mean(G, axis=0)[0]"
   ]
  },
  {
   "cell_type": "code",
   "execution_count": 79,
   "metadata": {},
   "outputs": [
    {
     "data": {
      "text/plain": [
       "array([ 0.17655646, -0.44286594, -0.88104573,  1.70873846, -1.33587713,\n",
       "        1.64337355, -0.15587746, -0.24919004, -0.54928921, -0.37966474,\n",
       "        1.56712239, -0.01853508])"
      ]
     },
     "execution_count": 79,
     "metadata": {},
     "output_type": "execute_result"
    }
   ],
   "source": [
    "np.mean(F_conv, axis=0)[0]"
   ]
  },
  {
   "cell_type": "code",
   "execution_count": 80,
   "metadata": {
    "collapsed": true
   },
   "outputs": [],
   "source": [
    "z_eval = tf.random_normal((64, 12))\n",
    "x_eval = tf.nn.sigmoid(decoder(z_eval))"
   ]
  },
  {
   "cell_type": "code",
   "execution_count": 81,
   "metadata": {
    "collapsed": true
   },
   "outputs": [],
   "source": [
    "S = sess.run(x_eval)"
   ]
  },
  {
   "cell_type": "code",
   "execution_count": 82,
   "metadata": {},
   "outputs": [
    {
     "name": "stdout",
     "output_type": "stream",
     "text": [
      "(64, 28, 28)\n"
     ]
    }
   ],
   "source": [
    "S = np.reshape(S, (-1, 28, 28))\n",
    "print S.shape"
   ]
  },
  {
   "cell_type": "code",
   "execution_count": 84,
   "metadata": {},
   "outputs": [],
   "source": [
    "def plot_grid(S, width=8):\n",
    "    sheet_width = width\n",
    "    plt.figure(figsize=(8, 8))\n",
    "    for i in xrange(S.shape[0]):\n",
    "        plt.subplot(sheet_width, sheet_width, i + 1)\n",
    "        plt.imshow(S[i], cmap='gray')\n",
    "        plt.grid('off')\n",
    "        plt.axis('off')"
   ]
  },
  {
   "cell_type": "code",
   "execution_count": 85,
   "metadata": {},
   "outputs": [
    {
     "data": {
      "image/png": "[encoded data removed]",
      "text/plain": [
       "<matplotlib.figure.Figure at 0x7f8f10d62510>"
      ]
     },
     "metadata": {},
     "output_type": "display_data"
    }
   ],
   "source": [
    "plot_grid(S)"
   ]
  },
  {
   "cell_type": "code",
   "execution_count": 101,
   "metadata": {},
   "outputs": [
    {
     "data": {
      "text/plain": [
       "[<matplotlib.lines.Line2D at 0x7f8f0e3adc50>]"
      ]
     },
     "execution_count": 101,
     "metadata": {},
     "output_type": "execute_result"
    },
    {
     "data": {
      "image/png": "[encoded data removed]",
      "text/plain": [
       "<matplotlib.figure.Figure at 0x7f8f0e435a50>"
      ]
     },
     "metadata": {},
     "output_type": "display_data"
    }
   ],
   "source": [
    "plt.plot(G[:, 0, np.random.choice(12)], G[:, 0, np.random.choice(12)])"
   ]
  },
  {
   "cell_type": "code",
   "execution_count": 99,
   "metadata": {},
   "outputs": [
    {
     "data": {
      "text/plain": [
       "2"
      ]
     },
     "execution_count": 99,
     "metadata": {},
     "output_type": "execute_result"
    }
   ],
   "source": [
    "i = np.random.choice(12)\n",
    "i"
   ]
  },
  {
   "cell_type": "code",
   "execution_count": null,
   "metadata": {
    "collapsed": true
   },
   "outputs": [],
   "source": [
    "R"
   ]
  }
 ],
 "metadata": {
  "kernelspec": {
   "display_name": "Python 2",
   "language": "python",
   "name": "python2"
  },
  "language_info": {
   "codemirror_mode": {
    "name": "ipython",
    "version": 2
   },
   "file_extension": ".py",
   "mimetype": "text/x-python",
   "name": "python",
   "nbconvert_exporter": "python",
   "pygments_lexer": "ipython2",
   "version": "2.7.13"
  }
 },
 "nbformat": 4,
 "nbformat_minor": 2
}
