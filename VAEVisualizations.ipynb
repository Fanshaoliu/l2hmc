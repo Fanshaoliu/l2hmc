{
 "cells": [
  {
   "cell_type": "code",
   "execution_count": 1,
   "metadata": {
    "collapsed": true
   },
   "outputs": [],
   "source": [
    "import tensorflow as tf\n",
    "import tensorflow as tf\n",
    "import numpy as np\n",
    "import matplotlib.pyplot as plt\n",
    "%matplotlib inline\n",
    "%load_ext autoreload\n",
    "%autoreload 2\n",
    "from utils.layers import Sequential, Zip, Parallel, Linear, ScaleTanh\n",
    "from utils.dynamics import Dynamics\n",
    "from utils.func_utils import get_data, binarize, tf_accept\n",
    "from utils.sampler import propose"
   ]
  },
  {
   "cell_type": "code",
   "execution_count": 2,
   "metadata": {
    "collapsed": true
   },
   "outputs": [],
   "source": [
    "path = 'logs/random_mask/optimizer=adam,learning_rate=0.001,latent_dim=50,MH=10,batch_size=512,update_sampler_every=1,leapfrogs=10/model.ckpt'\n",
    "path = 'logs/09-24/optimizer=adam,learning_rate=0.001,latent_dim=50,MH=5,batch_size=512,update_sampler_every=1,leapfrogs=5,hmc=False/model.ckpt'\n",
    "with tf.gfile.Open(path+'.meta'):\n",
    "    tf.reset_default_graph()\n",
    "    tf.train.import_meta_graph(path+'.meta')"
   ]
  },
  {
   "cell_type": "code",
   "execution_count": 4,
   "metadata": {
    "collapsed": true
   },
   "outputs": [],
   "source": [
    "tf.reset_default_graph()"
   ]
  },
  {
   "cell_type": "code",
   "execution_count": null,
   "metadata": {
    "collapsed": true
   },
   "outputs": [],
   "source": [
    "node_list = [(n.name, n) for n in tf.get_default_graph().as_graph_def().node if 'Const' in str(n.name)]"
   ]
  },
  {
   "cell_type": "code",
   "execution_count": 3,
   "metadata": {
    "collapsed": true,
    "scrolled": true
   },
   "outputs": [],
   "source": [
    "mask = tf.get_default_graph().get_tensor_by_name('sampler/Const_%d:0' % 1)\n",
    "\n",
    "with tf.Session() as sess:\n",
    "    mask = sess.run(mask)"
   ]
  },
  {
   "cell_type": "code",
   "execution_count": null,
   "metadata": {},
   "outputs": [],
   "source": [
    "mask"
   ]
  },
  {
   "cell_type": "code",
   "execution_count": 5,
   "metadata": {
    "collapsed": true
   },
   "outputs": [],
   "source": [
    "with tf.variable_scope('encoder'):\n",
    "    encoder = Sequential([\n",
    "        Linear(784, 1024, scope='encoder_1'),\n",
    "        tf.nn.softplus,\n",
    "        Linear(1024, 1024, scope='encoder_2'),\n",
    "        tf.nn.softplus,\n",
    "        Parallel([\n",
    "            Linear(1024, 50, scope='encoder_mean'),\n",
    "            Linear(1024, 50, scope='encoder_std'),\n",
    "        ])\n",
    "    ])\n",
    "\n",
    "with tf.variable_scope('decoder'):\n",
    "    decoder = Sequential([\n",
    "        Linear(50, 1024, scope='decoder_1'),\n",
    "        tf.nn.softplus,\n",
    "        Linear(1024, 1024, scope='decoder_2'),\n",
    "        tf.nn.softplus,\n",
    "        Linear(1024, 784, scope='decoder_3', factor=0.01)\n",
    "    ])\n",
    "\n",
    "# Setting up the VAE\n",
    "\n",
    "inp = tf.placeholder(tf.float32, shape=(None, 784))\n",
    "\n",
    "mu, log_sigma = encoder(inp)\n",
    "\n",
    "noise = tf.random_normal(tf.shape(mu))\n",
    "\n",
    "latent_q = mu + noise * tf.exp(log_sigma)\n",
    "\n",
    "logits = decoder(latent_q)\n",
    "\n",
    "# Setting up sampler\n",
    "def energy(z, aux=None):\n",
    "    logits = decoder(z)\n",
    "    log_posterior = -tf.reduce_sum(tf.nn.sigmoid_cross_entropy_with_logits(labels=aux, logits=logits), axis=1)\n",
    "    log_prior = -0.5 * tf.reduce_sum(tf.square(z), axis=1)\n",
    "    return -log_posterior - log_prior\n",
    "\n",
    "sampler_loss = 0.\n",
    "\n",
    "with tf.variable_scope('sampler'):\n",
    "    size1 = 200\n",
    "    size2 = 200\n",
    "\n",
    "    encoder_sampler = Sequential([\n",
    "        Linear(784, 512, scope='encoder_1'),\n",
    "        tf.nn.softplus,\n",
    "        Linear(512, 512, scope='encoder_2'),\n",
    "        tf.nn.softplus,\n",
    "        Linear(512, size1, scope='encoder_3'),\n",
    "    ])\n",
    "\n",
    "    def net_factory(x_dim, scope, factor):\n",
    "        with tf.variable_scope(scope):\n",
    "            net = Sequential([\n",
    "                Zip([\n",
    "                    Linear(50, size1, scope='embed_1', factor=0.33),\n",
    "                    Linear(50, size1, scope='embed_2', factor=factor * 0.33),\n",
    "                    Linear(2, size1, scope='embed_3', factor=0.33),\n",
    "                    encoder_sampler,\n",
    "                ]),\n",
    "                sum,\n",
    "                tf.nn.relu,\n",
    "                Linear(size1, size2, scope='linear_1'),\n",
    "                tf.nn.relu,\n",
    "                Parallel([\n",
    "                    Sequential([\n",
    "                        Linear(size2, 50, scope='linear_s', factor=0.01), \n",
    "                        ScaleTanh(50, scope='scale_s')\n",
    "                    ]),\n",
    "                    Linear(size2, 50, scope='linear_t', factor=0.01),\n",
    "                    Sequential([\n",
    "                        Linear(size2, 50, scope='linear_f', factor=0.01),\n",
    "                        ScaleTanh(50, scope='scale_f'),\n",
    "                    ])\n",
    "                ])\n",
    "            ])\n",
    "        return net\n",
    "\n",
    "    dynamics = Dynamics(\n",
    "        50, \n",
    "        energy, \n",
    "        T=10, \n",
    "        eps=0.1, \n",
    "        hmc=False, \n",
    "        net_factory=net_factory, \n",
    "        eps_trainable=True, \n",
    "        use_temperature=False,\n",
    "    )"
   ]
  },
  {
   "cell_type": "code",
   "execution_count": 6,
   "metadata": {
    "collapsed": true
   },
   "outputs": [],
   "source": [
    "dynamics.mask = tf.constant(mask, tf.float32)"
   ]
  },
  {
   "cell_type": "code",
   "execution_count": 7,
   "metadata": {
    "collapsed": true
   },
   "outputs": [],
   "source": [
    "x = tf.placeholder(tf.float32, shape=(None, 784))\n",
    "z_start = tf.placeholder(tf.float32, shape=(None, 50))\n",
    "_, _, _, MH = propose(z_start, dynamics, do_mh_step=True, aux=inp)"
   ]
  },
  {
   "cell_type": "code",
   "execution_count": null,
   "metadata": {
    "collapsed": true
   },
   "outputs": [],
   "source": [
    "Z = tf.placeholder(tf.float32, shape=(None, 50))\n",
    "probs = tf.nn.sigmoid(decoder(Z))\n",
    "sample = tf.cast((probs - tf.random_uniform(tf.shape(probs)) >= 0), tf.float32)"
   ]
  },
  {
   "cell_type": "code",
   "execution_count": 8,
   "metadata": {
    "collapsed": true
   },
   "outputs": [],
   "source": [
    "saver = tf.train.Saver()\n",
    "\n",
    "sess = tf.Session()"
   ]
  },
  {
   "cell_type": "code",
   "execution_count": 9,
   "metadata": {},
   "outputs": [
    {
     "name": "stdout",
     "output_type": "stream",
     "text": [
      "INFO:tensorflow:Restoring parameters from logs/09-24/optimizer=adam,learning_rate=0.001,latent_dim=50,MH=10,batch_size=512,update_sampler_every=1,leapfrogs=5,hmc=False/model.ckpt\n"
     ]
    }
   ],
   "source": [
    "saver.restore(save_path=path, sess=sess)"
   ]
  },
  {
   "cell_type": "code",
   "execution_count": 10,
   "metadata": {},
   "outputs": [
    {
     "name": "stdout",
     "output_type": "stream",
     "text": [
      "Extracting MNIST_data/train-images-idx3-ubyte.gz\n",
      "Extracting MNIST_data/train-labels-idx1-ubyte.gz\n",
      "Extracting MNIST_data/t10k-images-idx3-ubyte.gz\n",
      "Extracting MNIST_data/t10k-labels-idx1-ubyte.gz\n"
     ]
    },
    {
     "data": {
      "text/plain": [
       "(200, 784)"
      ]
     },
     "execution_count": 10,
     "metadata": {},
     "output_type": "execute_result"
    }
   ],
   "source": [
    "train, test = get_data()\n",
    "x_train = binarize(train)\n",
    "\n",
    "x_0 = np.tile(x_train[0, :][None, :], (200, 1))\n",
    "\n",
    "x_0.shape"
   ]
  },
  {
   "cell_type": "code",
   "execution_count": 11,
   "metadata": {
    "collapsed": true
   },
   "outputs": [],
   "source": [
    "init_chain = sess.run(latent_q, {inp: x_0})"
   ]
  },
  {
   "cell_type": "code",
   "execution_count": 15,
   "metadata": {},
   "outputs": [
    {
     "name": "stdout",
     "output_type": "stream",
     "text": [
      "(1000, 200, 50)\n",
      "(1000, 200, 50)\n",
      "(1000, 200, 50)\n"
     ]
    },
    {
     "data": {
      "text/plain": [
       "<matplotlib.legend.Legend at 0x7f84292a4c10>"
      ]
     },
     "execution_count": 15,
     "metadata": {},
     "output_type": "execute_result"
    },
    {
     "data": {
      "image/png": "[encoded data removed]",
      "text/plain": [
       "<matplotlib.figure.Figure at 0x7f841cbeba90>"
      ]
     },
     "metadata": {},
     "output_type": "display_data"
    }
   ],
   "source": [
    "for eps in np.arange(0.05, 0.125, 0.025):\n",
    "    hmc_dynamics = Dynamics(\n",
    "        50, \n",
    "        energy, \n",
    "        T=10, \n",
    "        eps=eps, \n",
    "        hmc=True, \n",
    "    )\n",
    "    z_start_hmc = tf.placeholder(tf.float32, shape=(None, 50))\n",
    "    _, _, _, MH_HMC = propose(z_start_hmc, hmc_dynamics, do_mh_step=True, aux=inp)\n",
    "    hmc_samples = []\n",
    "    samples = np.copy(init_chain)\n",
    "    for t in range(2000):\n",
    "        hmc_samples.append(np.copy(samples))\n",
    "        samples = sess.run(MH_HMC[0], {inp: x_0, z_start_hmc: samples})\n",
    "    G = np.array(hmc_samples[1000:])\n",
    "    print G.shape\n",
    "    plt.plot(np.abs([autocovariance(G - mu, tau=t) for t in range(199)]), label='$\\epsilon=%.2f$' % eps)\n",
    "plt.plot(np.abs([autocovariance(F[1000:, :, :] - mu, tau=t) for t in range(199)]), label='CS')\n",
    "plt.xlabel('# MH steps')\n",
    "plt.ylabel('Autocovariance')\n",
    "plt.legend()"
   ]
  },
  {
   "cell_type": "code",
   "execution_count": null,
   "metadata": {},
   "outputs": [],
   "source": [
    "for t in range(50):\n",
    "    plt.hist(F[1000:, :, t].flatten(), bins=100, alpha=0.1)\n",
    "    plt.hist(G[:, :, t].flatten(), bins=100, alpha=0.1, color='red')\n",
    "    plt.show()"
   ]
  },
  {
   "cell_type": "code",
   "execution_count": null,
   "metadata": {},
   "outputs": [],
   "source": [
    "F[:, :, t].flatten().shape"
   ]
  },
  {
   "cell_type": "code",
   "execution_count": null,
   "metadata": {
    "collapsed": true
   },
   "outputs": [],
   "source": [
    "list_samples2 = []\n",
    "\n"
   ]
  },
  {
   "cell_type": "code",
   "execution_count": 12,
   "metadata": {
    "collapsed": true
   },
   "outputs": [],
   "source": [
    "list_samples = []\n",
    "\n",
    "samples = np.copy(init_chain)\n",
    "for t in range(2000):\n",
    "    list_samples.append(np.copy(samples))\n",
    "    samples = sess.run(MH[0], {inp: x_0, z_start: samples})"
   ]
  },
  {
   "cell_type": "code",
   "execution_count": 14,
   "metadata": {
    "collapsed": true
   },
   "outputs": [],
   "source": [
    "def autocovariance(X, tau=0):\n",
    "    dT, dN, dX = np.shape(X)\n",
    "    s = 0.\n",
    "    for t in range(dT - tau):\n",
    "        x1 = X[t, :, :]\n",
    "        x2 = X[t+tau, :, :]\n",
    "\n",
    "        s += np.sum(x1 * x2) / dN\n",
    "\n",
    "    return s / (dT - tau)"
   ]
  },
  {
   "cell_type": "code",
   "execution_count": 13,
   "metadata": {
    "collapsed": true
   },
   "outputs": [],
   "source": [
    "F = np.array(list_samples)\n",
    "mu = F[1000:, :, :].mean(axis=(0, 1))"
   ]
  },
  {
   "cell_type": "code",
   "execution_count": null,
   "metadata": {
    "collapsed": true
   },
   "outputs": [],
   "source": [
    "G = np.array(list_samples2)"
   ]
  },
  {
   "cell_type": "code",
   "execution_count": null,
   "metadata": {},
   "outputs": [],
   "source": [
    "#plt.plot(np.abs([autocovariance(G - mu, tau=t) for t in range(199)]))\n",
    "plt.plot(np.abs([autocovariance(F[1000:, :, :] - mu, tau=t) for t in range(199)]))\n",
    "plt.xlim(0, 60)"
   ]
  },
  {
   "cell_type": "code",
   "execution_count": null,
   "metadata": {
    "collapsed": true
   },
   "outputs": [],
   "source": [
    "z_eval = tf.random_normal((64, 50))\n",
    "x_eval = tf.nn.sigmoid(decoder(z_eval))"
   ]
  },
  {
   "cell_type": "code",
   "execution_count": null,
   "metadata": {
    "collapsed": true
   },
   "outputs": [],
   "source": [
    "def plot_grid(S, width=8):\n",
    "    sheet_width = width\n",
    "    plt.figure(figsize=(8, 8))\n",
    "    for i in xrange(S.shape[0]):\n",
    "        plt.subplot(sheet_width, sheet_width, i + 1)\n",
    "        plt.imshow(S[i], cmap='gray')\n",
    "        plt.grid('off')\n",
    "        plt.axis('off')"
   ]
  },
  {
   "cell_type": "code",
   "execution_count": null,
   "metadata": {},
   "outputs": [],
   "source": [
    "train, test = get_data()"
   ]
  },
  {
   "cell_type": "code",
   "execution_count": null,
   "metadata": {
    "collapsed": true
   },
   "outputs": [],
   "source": [
    "train = np.reshape(train, (-1, 28, 28))"
   ]
  },
  {
   "cell_type": "code",
   "execution_count": null,
   "metadata": {
    "collapsed": true
   },
   "outputs": [],
   "source": [
    "mask"
   ]
  },
  {
   "cell_type": "code",
   "execution_count": null,
   "metadata": {
    "collapsed": true
   },
   "outputs": [],
   "source": [
    "latent = latent_q\n",
    "\n",
    "for t in range(10):\n",
    "    mask = tf.cast(tf.random_uniform((tf.shape(latent)[0], 1), maxval=2, dtype=tf.int32), tf.float32)\n",
    "\n",
    "    Lx1, _, px1 = dynamics.forward(latent, aux=inp)\n",
    "    Lx2, _, px2 = dynamics.backward(latent, aux=inp)\n",
    "\n",
    "    Lx = mask * Lx1 + (1 - mask) * Lx2\n",
    "    px = tf.squeeze(mask, axis=1) * px1 + tf.squeeze(1 - mask, axis=1) * px2\n",
    "\n",
    "    latent = tf_accept(latent, Lx, px)"
   ]
  },
  {
   "cell_type": "code",
   "execution_count": null,
   "metadata": {
    "collapsed": true
   },
   "outputs": [],
   "source": [
    "x0 = np.copy(train[66])\n",
    "x0[:14, :] = 0\n",
    "x0 = binarize(x0)\n",
    "plt.imshow(x0)\n",
    "\n",
    "samples2 = []\n",
    "curr_sample = np.copy(x0).flatten()[None, :]\n",
    "for t in range(100):\n",
    "    current_z = sess.run(latent, {inp: curr_sample})\n",
    "    # curr_sample = sess.run(sample, {Z: current_z})\n",
    "    curr_probs = sess.run(probs, {Z: current_z})\n",
    "    samples2.append(np.copy(curr_probs))"
   ]
  },
  {
   "cell_type": "code",
   "execution_count": null,
   "metadata": {
    "collapsed": true
   },
   "outputs": [],
   "source": [
    "S = np.array(samples2)\n",
    "S = np.reshape(S, (-1, 28, 28))\n",
    "\n",
    "plot_grid(S, width=10)"
   ]
  },
  {
   "cell_type": "code",
   "execution_count": null,
   "metadata": {
    "collapsed": true
   },
   "outputs": [],
   "source": [
    "# x0 = np.copy(train[66])\n",
    "# x0[:14, :] = 0\n",
    "# x0 = binarize(x0)\n",
    "plt.imshow(x0)\n",
    "\n",
    "samples = []\n",
    "curr_sample = np.copy(x0).flatten()[None, :]\n",
    "for t in range(100):\n",
    "    current_z = sess.run(latent_q, {inp: curr_sample})\n",
    "    # curr_sample = sess.run(sample, {Z: current_z})\n",
    "    curr_probs = sess.run(probs, {Z: current_z})\n",
    "    samples.append(np.copy(curr_probs))"
   ]
  },
  {
   "cell_type": "code",
   "execution_count": null,
   "metadata": {
    "collapsed": true
   },
   "outputs": [],
   "source": [
    "S2 = np.array(samples)\n",
    "S2 = np.reshape(S2, (-1, 28, 28))\n",
    "\n",
    "plot_grid(S2, width=10)"
   ]
  },
  {
   "cell_type": "code",
   "execution_count": null,
   "metadata": {
    "collapsed": true
   },
   "outputs": [],
   "source": [
    "with tf.Session() as sess:\n",
    "    sess.run([op1, op2], {x1: np.eye(5,), x2: 5 * np.eye(5,)})\n",
    "    \n",
    "    time0 = time.time()\n",
    "    \n",
    "    [sess.run(op1, {x1: np.eye(5,), x2: 5 * np.eye(5,)}) for t in range(1000)]\n",
    "    \n",
    "    time1 = time.time()\n",
    "    \n",
    "    [sess.run(op2, {x1: np.eye(5,), x2: 5 * np.eye(5,)}) for t in range(1000)]\n",
    "    123\n",
    "    time2 = time.time()"
   ]
  }
 ],
 "metadata": {
  "kernelspec": {
   "display_name": "Python 2",
   "language": "python",
   "name": "python2"
  },
  "language_info": {
   "codemirror_mode": {
    "name": "ipython",
    "version": 2
   },
   "file_extension": ".py",
   "mimetype": "text/x-python",
   "name": "python",
   "nbconvert_exporter": "python",
   "pygments_lexer": "ipython2",
   "version": "2.7.13"
  }
 },
 "nbformat": 4,
 "nbformat_minor": 2
}
