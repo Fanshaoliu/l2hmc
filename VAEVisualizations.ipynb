{
 "cells": [
  {
   "cell_type": "code",
   "execution_count": 2,
   "metadata": {},
   "outputs": [],
   "source": [
    "import tensorflow as tf\n",
    "import tensorflow as tf\n",
    "import numpy as np\n",
    "import matplotlib.pyplot as plt\n",
    "%matplotlib inline\n",
    "%load_ext autoreload\n",
    "%autoreload 2\n",
    "from utils.layers import Sequential, Zip, Parallel, Linear, ScaleTanh\n",
    "from utils.dynamics import Dynamics\n",
    "from utils.func_utils import get_data, binarize, tf_accept\n",
    "from utils.sampler import propose"
   ]
  },
  {
   "cell_type": "code",
   "execution_count": 3,
   "metadata": {
    "collapsed": true
   },
   "outputs": [],
   "source": [
    "path = 'logs/random_mask/optimizer=adam,learning_rate=0.001,latent_dim=50,MH=10,batch_size=512,update_sampler_every=1,leapfrogs=10/model.ckpt'\n",
    "path = 'logs/09-27/optimizer=adam,learning_rate=0.001,latent_dim=50,MH=5,batch_size=512,update_sampler_every=1,leapfrogs=5,hmc=False/model.ckpt'\n",
    "path = '/home/daniel_levy0/best_model/model.ckpt'\n",
    "with tf.gfile.Open(path+'.meta'):\n",
    "    tf.reset_default_graph()\n",
    "    tf.train.import_meta_graph(path+'.meta')"
   ]
  },
  {
   "cell_type": "code",
   "execution_count": 4,
   "metadata": {
    "collapsed": true
   },
   "outputs": [],
   "source": [
    "mask = tf.get_default_graph().get_tensor_by_name('sampler/Const_%d:0' % 1)\n",
    "\n",
    "with tf.Session() as sess:\n",
    "    mask = sess.run(mask)"
   ]
  },
  {
   "cell_type": "code",
   "execution_count": 5,
   "metadata": {
    "collapsed": true
   },
   "outputs": [],
   "source": [
    "tf.reset_default_graph()"
   ]
  },
  {
   "cell_type": "code",
   "execution_count": 6,
   "metadata": {
    "collapsed": true
   },
   "outputs": [],
   "source": [
    "with tf.variable_scope('encoder'):\n",
    "    encoder = Sequential([\n",
    "        Linear(784, 1024, scope='encoder_1'),\n",
    "        tf.nn.softplus,\n",
    "        Linear(1024, 1024, scope='encoder_2'),\n",
    "        tf.nn.softplus,\n",
    "        Parallel([\n",
    "            Linear(1024, 50, scope='encoder_mean'),\n",
    "            Linear(1024, 50, scope='encoder_std'),\n",
    "        ])\n",
    "    ])\n",
    "\n",
    "with tf.variable_scope('decoder'):\n",
    "    decoder = Sequential([\n",
    "        Linear(50, 1024, scope='decoder_1'),\n",
    "        tf.nn.softplus,\n",
    "        Linear(1024, 1024, scope='decoder_2'),\n",
    "        tf.nn.softplus,\n",
    "        Linear(1024, 784, scope='decoder_3', factor=0.01)\n",
    "    ])\n",
    "\n",
    "# Setting up the VAE\n",
    "\n",
    "inp = tf.placeholder(tf.float32, shape=(None, 784))\n",
    "\n",
    "mu, log_sigma = encoder(inp)\n",
    "\n",
    "noise = tf.random_normal(tf.shape(mu))\n",
    "\n",
    "latent_q = mu + noise * tf.exp(log_sigma)\n",
    "\n",
    "logits = decoder(latent_q)\n",
    "\n",
    "# Setting up sampler\n",
    "def energy(z, aux=None):\n",
    "    logits = decoder(z)\n",
    "    log_posterior = -tf.reduce_sum(tf.nn.sigmoid_cross_entropy_with_logits(labels=aux, logits=logits), axis=1)\n",
    "    log_prior = -0.5 * tf.reduce_sum(tf.square(z), axis=1)\n",
    "    return -log_posterior - log_prior\n",
    "\n",
    "sampler_loss = 0.\n",
    "\n",
    "with tf.variable_scope('sampler'):\n",
    "    size1 = 200\n",
    "    size2 = 200\n",
    "\n",
    "    encoder_sampler = Sequential([\n",
    "        Linear(784, 512, scope='encoder_1'),\n",
    "        tf.nn.softplus,\n",
    "        Linear(512, 512, scope='encoder_2'),\n",
    "        tf.nn.softplus,\n",
    "        Linear(512, size1, scope='encoder_3'),\n",
    "    ])\n",
    "\n",
    "    def net_factory(x_dim, scope, factor):\n",
    "        with tf.variable_scope(scope):\n",
    "            net = Sequential([\n",
    "                Zip([\n",
    "                    Linear(50, size1, scope='embed_1', factor=0.33),\n",
    "                    Linear(50, size1, scope='embed_2', factor=factor * 0.33),\n",
    "                    Linear(2, size1, scope='embed_3', factor=0.33),\n",
    "                    encoder_sampler,\n",
    "                ]),\n",
    "                sum,\n",
    "                tf.nn.relu,\n",
    "                Linear(size1, size2, scope='linear_1'),\n",
    "                tf.nn.relu,\n",
    "                Parallel([\n",
    "                    Sequential([\n",
    "                        Linear(size2, 50, scope='linear_s', factor=0.01), \n",
    "                        ScaleTanh(50, scope='scale_s')\n",
    "                    ]),\n",
    "                    Linear(size2, 50, scope='linear_t', factor=0.01),\n",
    "                    Sequential([\n",
    "                        Linear(size2, 50, scope='linear_f', factor=0.01),\n",
    "                        ScaleTanh(50, scope='scale_f'),\n",
    "                    ])\n",
    "                ])\n",
    "            ])\n",
    "        return net\n",
    "\n",
    "    dynamics = Dynamics(\n",
    "        50, \n",
    "        energy, \n",
    "        T=5, \n",
    "        eps=0.1, \n",
    "        hmc=False, \n",
    "        net_factory=net_factory, \n",
    "        eps_trainable=True, \n",
    "        use_temperature=False,\n",
    "    )"
   ]
  },
  {
   "cell_type": "code",
   "execution_count": 7,
   "metadata": {
    "collapsed": true
   },
   "outputs": [],
   "source": [
    "dynamics.mask = tf.constant(mask, tf.float32)"
   ]
  },
  {
   "cell_type": "code",
   "execution_count": 8,
   "metadata": {
    "collapsed": true
   },
   "outputs": [],
   "source": [
    "z_start = tf.placeholder(tf.float32, shape=(None, 50))\n",
    "_, _, _, MH = propose(z_start, dynamics, do_mh_step=True, aux=inp)\n",
    "# probs = tf.nn.sigmoid(decoder(MH[0]))\n",
    "# sample = tf.cast((probs - tf.random_uniform(tf.shape(probs)) >= 0), tf.float32)"
   ]
  },
  {
   "cell_type": "code",
   "execution_count": null,
   "metadata": {
    "collapsed": true
   },
   "outputs": [],
   "source": [
    "Z = tf.placeholder(tf.float32, shape=(None, 50))\n",
    "probs = tf.nn.sigmoid(decoder(Z))\n",
    "sample = tf.cast((probs - tf.random_uniform(tf.shape(probs)) >= 0), tf.float32)"
   ]
  },
  {
   "cell_type": "code",
   "execution_count": 9,
   "metadata": {
    "collapsed": true
   },
   "outputs": [],
   "source": [
    "saver = tf.train.Saver()\n",
    "\n",
    "sess = tf.Session()"
   ]
  },
  {
   "cell_type": "code",
   "execution_count": 10,
   "metadata": {},
   "outputs": [
    {
     "name": "stdout",
     "output_type": "stream",
     "text": [
      "INFO:tensorflow:Restoring parameters from /home/daniel_levy0/best_model/model.ckpt\n"
     ]
    }
   ],
   "source": [
    "saver.restore(save_path=path, sess=sess)"
   ]
  },
  {
   "cell_type": "code",
   "execution_count": 11,
   "metadata": {},
   "outputs": [
    {
     "name": "stdout",
     "output_type": "stream",
     "text": [
      "Extracting MNIST_data/train-images-idx3-ubyte.gz\n",
      "Extracting MNIST_data/train-labels-idx1-ubyte.gz\n",
      "Extracting MNIST_data/t10k-images-idx3-ubyte.gz\n",
      "Extracting MNIST_data/t10k-labels-idx1-ubyte.gz\n"
     ]
    }
   ],
   "source": [
    "train, test = get_data()\n",
    "x_train = binarize(train)"
   ]
  },
  {
   "cell_type": "code",
   "execution_count": 12,
   "metadata": {},
   "outputs": [
    {
     "data": {
      "text/plain": [
       "(50, 784)"
      ]
     },
     "execution_count": 12,
     "metadata": {},
     "output_type": "execute_result"
    }
   ],
   "source": [
    "x0 = x_train[4567]\n",
    "x0 = np.tile(x0, (50, 1))\n",
    "x0.shape"
   ]
  },
  {
   "cell_type": "code",
   "execution_count": 13,
   "metadata": {
    "collapsed": true
   },
   "outputs": [],
   "source": [
    "init_chain = sess.run(latent_q, {inp: x0})"
   ]
  },
  {
   "cell_type": "code",
   "execution_count": 14,
   "metadata": {
    "collapsed": true
   },
   "outputs": [],
   "source": [
    "posterior_samples = []\n",
    "\n",
    "curr_z = np.copy(init_chain)\n",
    "for t in range(2000):\n",
    "    posterior_samples.append(np.copy(curr_z))\n",
    "    curr_z = sess.run(MH[0], {inp: x0, z_start: curr_z})"
   ]
  },
  {
   "cell_type": "code",
   "execution_count": 15,
   "metadata": {
    "collapsed": true
   },
   "outputs": [],
   "source": [
    "# from sklearn.decomposition import PCA\n",
    "S = np.array(posterior_samples[1000:])\n",
    "S = np.reshape(S, (-1, 50))\n",
    "\n",
    "mu = S.mean(axis=0)\n",
    "X = (S-mu).T.dot(S-mu)\n",
    "D, V = np.linalg.eig(X)"
   ]
  },
  {
   "cell_type": "code",
   "execution_count": 311,
   "metadata": {},
   "outputs": [
    {
     "data": {
      "text/plain": [
       "'kernel?'"
      ]
     },
     "execution_count": 311,
     "metadata": {},
     "output_type": "execute_result"
    }
   ],
   "source": [
    "'kernel?'"
   ]
  },
  {
   "cell_type": "code",
   "execution_count": 16,
   "metadata": {
    "collapsed": true
   },
   "outputs": [],
   "source": [
    "v = V[:, 0]\n",
    "w = V[:, 1]"
   ]
  },
  {
   "cell_type": "code",
   "execution_count": 141,
   "metadata": {},
   "outputs": [
    {
     "data": {
      "text/plain": [
       "(150,)"
      ]
     },
     "execution_count": 141,
     "metadata": {},
     "output_type": "execute_result"
    }
   ],
   "source": [
    "S[-150:, :].dot(v).shape"
   ]
  },
  {
   "cell_type": "code",
   "execution_count": 185,
   "metadata": {},
   "outputs": [
    {
     "data": {
      "text/plain": [
       "(7500,)"
      ]
     },
     "execution_count": 185,
     "metadata": {},
     "output_type": "execute_result"
    }
   ],
   "source": [
    "U.dot(v).flatten().shape"
   ]
  },
  {
   "cell_type": "code",
   "execution_count": 282,
   "metadata": {},
   "outputs": [
    {
     "data": {
      "text/plain": [
       "(array([  1.00000000e+00,   0.00000000e+00,   1.00000000e+00,\n",
       "          1.00000000e+00,   0.00000000e+00,   1.00000000e+00,\n",
       "          1.00000000e+00,   2.00000000e+00,   5.00000000e+00,\n",
       "          7.00000000e+00,   1.30000000e+01,   1.10000000e+01,\n",
       "          4.00000000e+00,   1.10000000e+01,   1.30000000e+01,\n",
       "          2.00000000e+01,   1.80000000e+01,   1.80000000e+01,\n",
       "          4.70000000e+01,   2.60000000e+01,   4.30000000e+01,\n",
       "          5.30000000e+01,   5.50000000e+01,   9.70000000e+01,\n",
       "          1.16000000e+02,   1.53000000e+02,   1.74000000e+02,\n",
       "          1.99000000e+02,   2.16000000e+02,   2.62000000e+02,\n",
       "          3.20000000e+02,   3.65000000e+02,   4.02000000e+02,\n",
       "          4.92000000e+02,   5.24000000e+02,   6.39000000e+02,\n",
       "          7.50000000e+02,   8.12000000e+02,   8.65000000e+02,\n",
       "          1.00200000e+03,   1.05700000e+03,   1.17900000e+03,\n",
       "          1.18600000e+03,   1.31800000e+03,   1.40500000e+03,\n",
       "          1.39100000e+03,   1.41700000e+03,   1.53200000e+03,\n",
       "          1.61800000e+03,   1.68300000e+03,   1.65500000e+03,\n",
       "          1.64400000e+03,   1.61600000e+03,   1.66200000e+03,\n",
       "          1.63500000e+03,   1.54800000e+03,   1.50600000e+03,\n",
       "          1.52900000e+03,   1.45500000e+03,   1.27500000e+03,\n",
       "          1.25700000e+03,   1.29300000e+03,   1.13700000e+03,\n",
       "          1.00300000e+03,   1.02300000e+03,   8.78000000e+02,\n",
       "          8.44000000e+02,   7.31000000e+02,   6.28000000e+02,\n",
       "          5.60000000e+02,   4.63000000e+02,   4.40000000e+02,\n",
       "          3.96000000e+02,   3.43000000e+02,   2.76000000e+02,\n",
       "          2.40000000e+02,   2.23000000e+02,   1.68000000e+02,\n",
       "          1.39000000e+02,   1.22000000e+02,   8.10000000e+01,\n",
       "          7.40000000e+01,   6.60000000e+01,   5.60000000e+01,\n",
       "          3.40000000e+01,   3.50000000e+01,   1.80000000e+01,\n",
       "          1.20000000e+01,   3.76000000e+02,   6.00000000e+00,\n",
       "          3.00000000e+00,   4.00000000e+00,   1.00000000e+01,\n",
       "          3.00000000e+00,   2.00000000e+00,   1.00000000e+00,\n",
       "          3.00000000e+00,   1.00000000e+00,   0.00000000e+00,\n",
       "          1.00000000e+00]),\n",
       " array([-5.31670523, -5.22799732, -5.13928942, -5.05058151, -4.96187361,\n",
       "        -4.8731657 , -4.7844578 , -4.69574989, -4.60704199, -4.51833408,\n",
       "        -4.42962618, -4.34091827, -4.25221037, -4.16350246, -4.07479456,\n",
       "        -3.98608665, -3.89737875, -3.80867085, -3.71996294, -3.63125504,\n",
       "        -3.54254713, -3.45383923, -3.36513132, -3.27642342, -3.18771551,\n",
       "        -3.09900761, -3.0102997 , -2.9215918 , -2.83288389, -2.74417599,\n",
       "        -2.65546808, -2.56676018, -2.47805227, -2.38934437, -2.30063646,\n",
       "        -2.21192856, -2.12322065, -2.03451275, -1.94580484, -1.85709694,\n",
       "        -1.76838903, -1.67968113, -1.59097322, -1.50226532, -1.41355742,\n",
       "        -1.32484951, -1.23614161, -1.1474337 , -1.0587258 , -0.97001789,\n",
       "        -0.88130999, -0.79260208, -0.70389418, -0.61518627, -0.52647837,\n",
       "        -0.43777046, -0.34906256, -0.26035465, -0.17164675, -0.08293884,\n",
       "         0.00576906,  0.09447697,  0.18318487,  0.27189278,  0.36060068,\n",
       "         0.44930859,  0.53801649,  0.6267244 ,  0.7154323 ,  0.80414021,\n",
       "         0.89284811,  0.98155602,  1.07026392,  1.15897182,  1.24767973,\n",
       "         1.33638763,  1.42509554,  1.51380344,  1.60251135,  1.69121925,\n",
       "         1.77992716,  1.86863506,  1.95734297,  2.04605087,  2.13475878,\n",
       "         2.22346668,  2.31217459,  2.40088249,  2.4895904 ,  2.5782983 ,\n",
       "         2.66700621,  2.75571411,  2.84442202,  2.93312992,  3.02183783,\n",
       "         3.11054573,  3.19925364,  3.28796154,  3.37666945,  3.46537735,\n",
       "         3.55408525]),\n",
       " <a list of 100 Patch objects>)"
      ]
     },
     "execution_count": 282,
     "metadata": {},
     "output_type": "execute_result"
    },
    {
     "data": {
      "image/png": "[encoded data removed]",
      "text/plain": [
       "<matplotlib.figure.Figure at 0x7f3df3986950>"
      ]
     },
     "metadata": {},
     "output_type": "display_data"
    }
   ],
   "source": [
    "plt.hist(S.dot(w).flatten(), bins=100)\n",
    "#plt.hist(U.dot(v).flatten(), bins=25, alpha=0.2)"
   ]
  },
  {
   "cell_type": "code",
   "execution_count": 34,
   "metadata": {},
   "outputs": [
    {
     "name": "stdout",
     "output_type": "stream",
     "text": [
      "(200, 50, 50)\n"
     ]
    },
    {
     "data": {
      "text/plain": [
       "<matplotlib.legend.Legend at 0x7ff8706c42d0>"
      ]
     },
     "execution_count": 34,
     "metadata": {},
     "output_type": "execute_result"
    },
    {
     "data": {
      "image/png": "[encoded data removed]",
      "text/plain": [
       "<matplotlib.figure.Figure at 0x7ff8706c4190>"
      ]
     },
     "metadata": {},
     "output_type": "display_data"
    }
   ],
   "source": [
    "S = np.array(posterior_samples)\n",
    "T = S[-150:-130, 40, :]\n",
    "plt.plot(T.dot(v), T.dot(w), label='CS', alpha=0.8, marker='d')\n",
    "#plt.scatter(T.dot(v).flatten(), T.dot(w).flatten())\n",
    "#plt.scatter(init_chain2.dot(v), init_chain2.dot(w), alpha=0.5)\n",
    "U = dd[dd.keys()[1]][-150:-140]\n",
    "# U.shape\n",
    "# #plt.scatter(U.dot(v), U.dot(w), alpha=0.3, label='HMC', marker='d')\n",
    "# # plt.scatter(mu_.dot(v), mu_.dot(w), marker='d')\n",
    "x = np.arange(-4.0, 3.0, delta)\n",
    "y = np.arange(-3.0, 3.0, delta)\n",
    "X, Y = np.meshgrid(x, y)\n",
    "Z1 = mlab.bivariate_normal(X, Y, mux=mu_.dot(v)[0], muy=mu_.dot(w)[0], sigmax=0.99, sigmay=0.99)\n",
    "plt.contour(X, Y, Z1, alpha=0.5, label='q')\n",
    "plt.legend()"
   ]
  },
  {
   "cell_type": "code",
   "execution_count": 173,
   "metadata": {},
   "outputs": [
    {
     "data": {
      "text/plain": [
       "0.99494642"
      ]
     },
     "execution_count": 173,
     "metadata": {},
     "output_type": "execute_result"
    }
   ],
   "source": [
    "Sigma = np.diag(sigma_[0])\n",
    "v.dot(Sigma.dot(v.T))"
   ]
  },
  {
   "cell_type": "code",
   "execution_count": 19,
   "metadata": {
    "collapsed": true
   },
   "outputs": [],
   "source": [
    "delta = 0.05"
   ]
  },
  {
   "cell_type": "code",
   "execution_count": 198,
   "metadata": {},
   "outputs": [
    {
     "data": {
      "text/plain": [
       "(21, 50)"
      ]
     },
     "execution_count": 198,
     "metadata": {},
     "output_type": "execute_result"
    }
   ],
   "source": [
    "z1 = S[-150, 0, :]\n",
    "z2 = S[-149, 0, :]\n",
    "points = []\n",
    "for l in  np.arange(0, 1.001, 0.05):\n",
    "    z = l * z1 + (1-l * z2)\n",
    "    points.append(np.copy(z))\n",
    "    \n",
    "interpolation = np.array(points)\n",
    "interpolation.shape"
   ]
  },
  {
   "cell_type": "code",
   "execution_count": 22,
   "metadata": {
    "collapsed": true
   },
   "outputs": [],
   "source": [
    "import matplotlib\n",
    "import numpy as np\n",
    "import matplotlib.cm as cm\n",
    "import matplotlib.mlab as mlab\n",
    "import matplotlib.pyplot as plt"
   ]
  },
  {
   "cell_type": "code",
   "execution_count": 150,
   "metadata": {},
   "outputs": [
    {
     "data": {
      "text/plain": [
       "array([-2.11689019, -2.11689019, -2.11689019, -2.11689019, -2.11689019,\n",
       "       -2.11689019, -2.11689019, -2.11689019, -2.11689019, -2.11689019,\n",
       "       -2.11689019, -2.11689019, -2.11689019, -2.11689019, -2.11689019,\n",
       "       -2.11689019, -2.11689019, -2.11689019, -2.11689019, -2.11689019,\n",
       "       -2.11689019, -2.11689019, -2.11689019, -2.11689019, -2.11689019,\n",
       "       -2.11689019, -2.11689019, -2.11689019, -2.11689019, -2.11689019,\n",
       "       -2.11689019, -2.11689019, -2.11689019, -2.11689019, -2.11689019,\n",
       "       -2.11689019, -2.11689019, -2.11689019, -2.11689019, -2.11689019,\n",
       "       -2.11689019, -2.11689019, -2.11689019, -2.11689019, -2.11689019,\n",
       "       -2.11689019, -2.11689019, -2.11689019, -2.11689019, -2.11689019,\n",
       "       -2.11689019, -2.11689019, -2.11689019, -2.11689019, -2.11689019,\n",
       "       -2.11689019, -2.11689019, -2.11689019, -2.11689019, -2.11689019,\n",
       "       -2.11689019, -2.11689019, -2.11689019, -2.11689019, -2.11689019,\n",
       "       -2.11689019, -2.11689019, -2.11689019, -2.11689019, -2.11689019,\n",
       "       -2.11689019, -2.11689019, -2.11689019, -2.11689019, -2.11689019,\n",
       "       -2.11689019, -2.11689019, -2.11689019, -2.11689019, -2.11689019,\n",
       "       -2.11689019, -2.11689019, -2.11689019, -2.11689019, -2.11689019,\n",
       "       -2.11689019, -2.11689019, -2.11689019, -2.11689019, -2.11689019,\n",
       "       -2.11689019, -2.11689019, -2.11689019, -2.11689019, -2.11689019,\n",
       "       -2.11689019, -2.11689019, -2.11689019, -2.11689019, -2.11689019,\n",
       "       -2.11689019, -2.11689019, -2.11689019, -2.11689019, -2.11689019,\n",
       "       -2.11689019, -2.11689019, -2.11689019, -2.11689019, -2.11689019,\n",
       "       -2.11689019, -2.11689019, -2.11689019, -2.11689019, -2.11689019,\n",
       "       -2.11689019, -2.11689019, -2.11689019, -2.11689019, -2.11689019,\n",
       "       -2.11689019, -2.11689019, -2.11689019, -2.11689019, -2.11689019,\n",
       "       -2.11689019, -2.11689019, -2.11689019, -2.11689019, -2.11689019,\n",
       "       -2.11689019, -2.11689019, -2.11689019, -2.11689019, -2.11689019,\n",
       "       -2.11689019, -2.11689019, -2.11689019, -2.11689019, -2.11689019,\n",
       "       -2.11689019, -2.11689019, -2.11689019, -2.11689019, -2.11689019,\n",
       "       -2.11689019, -2.11689019, -2.11689019, -2.11689019, -2.11689019], dtype=float32)"
      ]
     },
     "execution_count": 150,
     "metadata": {},
     "output_type": "execute_result"
    }
   ],
   "source": [
    "sigma_.dot(v)"
   ]
  },
  {
   "cell_type": "code",
   "execution_count": 155,
   "metadata": {},
   "outputs": [
    {
     "data": {
      "text/plain": [
       "<matplotlib.text.Text at 0x7f3f350ffd90>"
      ]
     },
     "execution_count": 155,
     "metadata": {},
     "output_type": "execute_result"
    },
    {
     "data": {
      "image/png": "[encoded data removed]",
      "text/plain": [
       "<matplotlib.figure.Figure at 0x7f3f360333d0>"
      ]
     },
     "metadata": {},
     "output_type": "display_data"
    }
   ],
   "source": [
    "delta = 0.05\n",
    "x = np.arange(-4.0, 3.0, delta)\n",
    "y = np.arange(-3.0, 3.0, delta)\n",
    "X, Y = np.meshgrid(x, y)\n",
    "Z1 = mlab.bivariate_normal(X, Y, mux=mu_.dot(v)[0], muy=mu_.dot(w)[0], sigmax=sigma_[0].dot(v), sigmay=sigma_[0].dot(w))\n",
    "Z2 = mlab.bivariate_normal(X, Y, 1.5, 0.5, 1, 1)\n",
    "# difference of Gaussians\n",
    "Z = Z1\n",
    "\n",
    "\n",
    "# Create a simple contour plot with labels using default colors.  The\n",
    "# inline argument to clabel will control whether the labels are draw\n",
    "# over the line segments of the contour, removing the lines beneath\n",
    "# the label\n",
    "plt.figure()\n",
    "CS = plt.contour(X, Y, Z)\n",
    "plt.clabel(CS, inline=1, fontsize=10)\n",
    "plt.title('Simplest default with labels')"
   ]
  },
  {
   "cell_type": "code",
   "execution_count": 20,
   "metadata": {},
   "outputs": [
    {
     "data": {
      "text/plain": [
       "(50, 50)"
      ]
     },
     "execution_count": 20,
     "metadata": {},
     "output_type": "execute_result"
    }
   ],
   "source": [
    "mu, log_sigma = encoder(inp)\n",
    "mu_, sigma_ = sess.run([mu, tf.exp(log_sigma)], {inp: x0})\n",
    "\n",
    "sigma_.shape"
   ]
  },
  {
   "cell_type": "code",
   "execution_count": 203,
   "metadata": {},
   "outputs": [
    {
     "ename": "InvalidArgumentError",
     "evalue": "Incompatible shapes: [2,784] vs. [150,784]\n\t [[Node: logistic_loss_21/mul = Mul[T=DT_FLOAT, _device=\"/job:localhost/replica:0/task:0/cpu:0\"](Add_84, _arg_Placeholder_0_0)]]\n\nCaused by op u'logistic_loss_21/mul', defined at:\n  File \"/home/danilevy/anaconda2/lib/python2.7/runpy.py\", line 174, in _run_module_as_main\n    \"__main__\", fname, loader, pkg_name)\n  File \"/home/danilevy/anaconda2/lib/python2.7/runpy.py\", line 72, in _run_code\n    exec code in run_globals\n  File \"/home/danilevy/anaconda2/lib/python2.7/site-packages/ipykernel_launcher.py\", line 16, in <module>\n    app.launch_new_instance()\n  File \"/home/danilevy/anaconda2/lib/python2.7/site-packages/traitlets/config/application.py\", line 658, in launch_instance\n    app.start()\n  File \"/home/danilevy/anaconda2/lib/python2.7/site-packages/ipykernel/kernelapp.py\", line 477, in start\n    ioloop.IOLoop.instance().start()\n  File \"/home/danilevy/anaconda2/lib/python2.7/site-packages/zmq/eventloop/ioloop.py\", line 177, in start\n    super(ZMQIOLoop, self).start()\n  File \"/home/danilevy/anaconda2/lib/python2.7/site-packages/tornado/ioloop.py\", line 888, in start\n    handler_func(fd_obj, events)\n  File \"/home/danilevy/anaconda2/lib/python2.7/site-packages/tornado/stack_context.py\", line 277, in null_wrapper\n    return fn(*args, **kwargs)\n  File \"/home/danilevy/anaconda2/lib/python2.7/site-packages/zmq/eventloop/zmqstream.py\", line 440, in _handle_events\n    self._handle_recv()\n  File \"/home/danilevy/anaconda2/lib/python2.7/site-packages/zmq/eventloop/zmqstream.py\", line 472, in _handle_recv\n    self._run_callback(callback, msg)\n  File \"/home/danilevy/anaconda2/lib/python2.7/site-packages/zmq/eventloop/zmqstream.py\", line 414, in _run_callback\n    callback(*args, **kwargs)\n  File \"/home/danilevy/anaconda2/lib/python2.7/site-packages/tornado/stack_context.py\", line 277, in null_wrapper\n    return fn(*args, **kwargs)\n  File \"/home/danilevy/anaconda2/lib/python2.7/site-packages/ipykernel/kernelbase.py\", line 283, in dispatcher\n    return self.dispatch_shell(stream, msg)\n  File \"/home/danilevy/anaconda2/lib/python2.7/site-packages/ipykernel/kernelbase.py\", line 235, in dispatch_shell\n    handler(stream, idents, msg)\n  File \"/home/danilevy/anaconda2/lib/python2.7/site-packages/ipykernel/kernelbase.py\", line 399, in execute_request\n    user_expressions, allow_stdin)\n  File \"/home/danilevy/anaconda2/lib/python2.7/site-packages/ipykernel/ipkernel.py\", line 196, in do_execute\n    res = shell.run_cell(code, store_history=store_history, silent=silent)\n  File \"/home/danilevy/anaconda2/lib/python2.7/site-packages/ipykernel/zmqshell.py\", line 533, in run_cell\n    return super(ZMQInteractiveShell, self).run_cell(*args, **kwargs)\n  File \"/home/danilevy/anaconda2/lib/python2.7/site-packages/IPython/core/interactiveshell.py\", line 2717, in run_cell\n    interactivity=interactivity, compiler=compiler, result=result)\n  File \"/home/danilevy/anaconda2/lib/python2.7/site-packages/IPython/core/interactiveshell.py\", line 2821, in run_ast_nodes\n    if self.run_code(code, result):\n  File \"/home/danilevy/anaconda2/lib/python2.7/site-packages/IPython/core/interactiveshell.py\", line 2881, in run_code\n    exec(code_obj, self.user_global_ns, self.user_ns)\n  File \"<ipython-input-203-a9d163416391>\", line 2, in <module>\n    e = energy(Z, aux=inp)\n  File \"<ipython-input-5-3a4105261f71>\", line 37, in energy\n    log_posterior = -tf.reduce_sum(tf.nn.sigmoid_cross_entropy_with_logits(labels=aux, logits=logits), axis=1)\n  File \"/home/danilevy/anaconda2/lib/python2.7/site-packages/tensorflow/python/ops/nn_impl.py\", line 174, in sigmoid_cross_entropy_with_logits\n    relu_logits - logits * labels,\n  File \"/home/danilevy/anaconda2/lib/python2.7/site-packages/tensorflow/python/ops/math_ops.py\", line 865, in binary_op_wrapper\n    return func(x, y, name=name)\n  File \"/home/danilevy/anaconda2/lib/python2.7/site-packages/tensorflow/python/ops/math_ops.py\", line 1088, in _mul_dispatch\n    return gen_math_ops._mul(x, y, name=name)\n  File \"/home/danilevy/anaconda2/lib/python2.7/site-packages/tensorflow/python/ops/gen_math_ops.py\", line 1449, in _mul\n    result = _op_def_lib.apply_op(\"Mul\", x=x, y=y, name=name)\n  File \"/home/danilevy/anaconda2/lib/python2.7/site-packages/tensorflow/python/framework/op_def_library.py\", line 767, in apply_op\n    op_def=op_def)\n  File \"/home/danilevy/anaconda2/lib/python2.7/site-packages/tensorflow/python/framework/ops.py\", line 2630, in create_op\n    original_op=self._default_original_op, op_def=op_def)\n  File \"/home/danilevy/anaconda2/lib/python2.7/site-packages/tensorflow/python/framework/ops.py\", line 1204, in __init__\n    self._traceback = self._graph._extract_stack()  # pylint: disable=protected-access\n\nInvalidArgumentError (see above for traceback): Incompatible shapes: [2,784] vs. [150,784]\n\t [[Node: logistic_loss_21/mul = Mul[T=DT_FLOAT, _device=\"/job:localhost/replica:0/task:0/cpu:0\"](Add_84, _arg_Placeholder_0_0)]]\n",
     "output_type": "error",
     "traceback": [
      "\u001b[0;31m---------------------------------------------------------------------------\u001b[0m",
      "\u001b[0;31mInvalidArgumentError\u001b[0m                      Traceback (most recent call last)",
      "\u001b[0;32m<ipython-input-203-a9d163416391>\u001b[0m in \u001b[0;36m<module>\u001b[0;34m()\u001b[0m\n\u001b[1;32m      2\u001b[0m \u001b[0me\u001b[0m \u001b[0;34m=\u001b[0m \u001b[0menergy\u001b[0m\u001b[0;34m(\u001b[0m\u001b[0mZ\u001b[0m\u001b[0;34m,\u001b[0m \u001b[0maux\u001b[0m\u001b[0;34m=\u001b[0m\u001b[0minp\u001b[0m\u001b[0;34m)\u001b[0m\u001b[0;34m\u001b[0m\u001b[0m\n\u001b[1;32m      3\u001b[0m \u001b[0;34m\u001b[0m\u001b[0m\n\u001b[0;32m----> 4\u001b[0;31m \u001b[0me1\u001b[0m \u001b[0;34m=\u001b[0m \u001b[0msess\u001b[0m\u001b[0;34m.\u001b[0m\u001b[0mrun\u001b[0m\u001b[0;34m(\u001b[0m\u001b[0me\u001b[0m\u001b[0;34m,\u001b[0m \u001b[0;34m{\u001b[0m\u001b[0mZ\u001b[0m\u001b[0;34m:\u001b[0m \u001b[0mT\u001b[0m\u001b[0;34m,\u001b[0m \u001b[0minp\u001b[0m\u001b[0;34m:\u001b[0m \u001b[0mx0\u001b[0m\u001b[0;34m}\u001b[0m\u001b[0;34m)\u001b[0m\u001b[0;34m\u001b[0m\u001b[0m\n\u001b[0m\u001b[1;32m      5\u001b[0m \u001b[0me2\u001b[0m \u001b[0;34m=\u001b[0m \u001b[0msess\u001b[0m\u001b[0;34m.\u001b[0m\u001b[0mrun\u001b[0m\u001b[0;34m(\u001b[0m\u001b[0me\u001b[0m\u001b[0;34m,\u001b[0m \u001b[0;34m{\u001b[0m\u001b[0mZ\u001b[0m\u001b[0;34m:\u001b[0m \u001b[0mU\u001b[0m\u001b[0;34m,\u001b[0m \u001b[0minp\u001b[0m\u001b[0;34m:\u001b[0m \u001b[0mx0\u001b[0m\u001b[0;34m}\u001b[0m\u001b[0;34m)\u001b[0m\u001b[0;34m\u001b[0m\u001b[0m\n",
      "\u001b[0;32m/home/danilevy/anaconda2/lib/python2.7/site-packages/tensorflow/python/client/session.pyc\u001b[0m in \u001b[0;36mrun\u001b[0;34m(self, fetches, feed_dict, options, run_metadata)\u001b[0m\n\u001b[1;32m    893\u001b[0m     \u001b[0;32mtry\u001b[0m\u001b[0;34m:\u001b[0m\u001b[0;34m\u001b[0m\u001b[0m\n\u001b[1;32m    894\u001b[0m       result = self._run(None, fetches, feed_dict, options_ptr,\n\u001b[0;32m--> 895\u001b[0;31m                          run_metadata_ptr)\n\u001b[0m\u001b[1;32m    896\u001b[0m       \u001b[0;32mif\u001b[0m \u001b[0mrun_metadata\u001b[0m\u001b[0;34m:\u001b[0m\u001b[0;34m\u001b[0m\u001b[0m\n\u001b[1;32m    897\u001b[0m         \u001b[0mproto_data\u001b[0m \u001b[0;34m=\u001b[0m \u001b[0mtf_session\u001b[0m\u001b[0;34m.\u001b[0m\u001b[0mTF_GetBuffer\u001b[0m\u001b[0;34m(\u001b[0m\u001b[0mrun_metadata_ptr\u001b[0m\u001b[0;34m)\u001b[0m\u001b[0;34m\u001b[0m\u001b[0m\n",
      "\u001b[0;32m/home/danilevy/anaconda2/lib/python2.7/site-packages/tensorflow/python/client/session.pyc\u001b[0m in \u001b[0;36m_run\u001b[0;34m(self, handle, fetches, feed_dict, options, run_metadata)\u001b[0m\n\u001b[1;32m   1122\u001b[0m     \u001b[0;32mif\u001b[0m \u001b[0mfinal_fetches\u001b[0m \u001b[0;32mor\u001b[0m \u001b[0mfinal_targets\u001b[0m \u001b[0;32mor\u001b[0m \u001b[0;34m(\u001b[0m\u001b[0mhandle\u001b[0m \u001b[0;32mand\u001b[0m \u001b[0mfeed_dict_tensor\u001b[0m\u001b[0;34m)\u001b[0m\u001b[0;34m:\u001b[0m\u001b[0;34m\u001b[0m\u001b[0m\n\u001b[1;32m   1123\u001b[0m       results = self._do_run(handle, final_targets, final_fetches,\n\u001b[0;32m-> 1124\u001b[0;31m                              feed_dict_tensor, options, run_metadata)\n\u001b[0m\u001b[1;32m   1125\u001b[0m     \u001b[0;32melse\u001b[0m\u001b[0;34m:\u001b[0m\u001b[0;34m\u001b[0m\u001b[0m\n\u001b[1;32m   1126\u001b[0m       \u001b[0mresults\u001b[0m \u001b[0;34m=\u001b[0m \u001b[0;34m[\u001b[0m\u001b[0;34m]\u001b[0m\u001b[0;34m\u001b[0m\u001b[0m\n",
      "\u001b[0;32m/home/danilevy/anaconda2/lib/python2.7/site-packages/tensorflow/python/client/session.pyc\u001b[0m in \u001b[0;36m_do_run\u001b[0;34m(self, handle, target_list, fetch_list, feed_dict, options, run_metadata)\u001b[0m\n\u001b[1;32m   1319\u001b[0m     \u001b[0;32mif\u001b[0m \u001b[0mhandle\u001b[0m \u001b[0;32mis\u001b[0m \u001b[0mNone\u001b[0m\u001b[0;34m:\u001b[0m\u001b[0;34m\u001b[0m\u001b[0m\n\u001b[1;32m   1320\u001b[0m       return self._do_call(_run_fn, self._session, feeds, fetches, targets,\n\u001b[0;32m-> 1321\u001b[0;31m                            options, run_metadata)\n\u001b[0m\u001b[1;32m   1322\u001b[0m     \u001b[0;32melse\u001b[0m\u001b[0;34m:\u001b[0m\u001b[0;34m\u001b[0m\u001b[0m\n\u001b[1;32m   1323\u001b[0m       \u001b[0;32mreturn\u001b[0m \u001b[0mself\u001b[0m\u001b[0;34m.\u001b[0m\u001b[0m_do_call\u001b[0m\u001b[0;34m(\u001b[0m\u001b[0m_prun_fn\u001b[0m\u001b[0;34m,\u001b[0m \u001b[0mself\u001b[0m\u001b[0;34m.\u001b[0m\u001b[0m_session\u001b[0m\u001b[0;34m,\u001b[0m \u001b[0mhandle\u001b[0m\u001b[0;34m,\u001b[0m \u001b[0mfeeds\u001b[0m\u001b[0;34m,\u001b[0m \u001b[0mfetches\u001b[0m\u001b[0;34m)\u001b[0m\u001b[0;34m\u001b[0m\u001b[0m\n",
      "\u001b[0;32m/home/danilevy/anaconda2/lib/python2.7/site-packages/tensorflow/python/client/session.pyc\u001b[0m in \u001b[0;36m_do_call\u001b[0;34m(self, fn, *args)\u001b[0m\n\u001b[1;32m   1338\u001b[0m         \u001b[0;32mexcept\u001b[0m \u001b[0mKeyError\u001b[0m\u001b[0;34m:\u001b[0m\u001b[0;34m\u001b[0m\u001b[0m\n\u001b[1;32m   1339\u001b[0m           \u001b[0;32mpass\u001b[0m\u001b[0;34m\u001b[0m\u001b[0m\n\u001b[0;32m-> 1340\u001b[0;31m       \u001b[0;32mraise\u001b[0m \u001b[0mtype\u001b[0m\u001b[0;34m(\u001b[0m\u001b[0me\u001b[0m\u001b[0;34m)\u001b[0m\u001b[0;34m(\u001b[0m\u001b[0mnode_def\u001b[0m\u001b[0;34m,\u001b[0m \u001b[0mop\u001b[0m\u001b[0;34m,\u001b[0m \u001b[0mmessage\u001b[0m\u001b[0;34m)\u001b[0m\u001b[0;34m\u001b[0m\u001b[0m\n\u001b[0m\u001b[1;32m   1341\u001b[0m \u001b[0;34m\u001b[0m\u001b[0m\n\u001b[1;32m   1342\u001b[0m   \u001b[0;32mdef\u001b[0m \u001b[0m_extend_graph\u001b[0m\u001b[0;34m(\u001b[0m\u001b[0mself\u001b[0m\u001b[0;34m)\u001b[0m\u001b[0;34m:\u001b[0m\u001b[0;34m\u001b[0m\u001b[0m\n",
      "\u001b[0;31mInvalidArgumentError\u001b[0m: Incompatible shapes: [2,784] vs. [150,784]\n\t [[Node: logistic_loss_21/mul = Mul[T=DT_FLOAT, _device=\"/job:localhost/replica:0/task:0/cpu:0\"](Add_84, _arg_Placeholder_0_0)]]\n\nCaused by op u'logistic_loss_21/mul', defined at:\n  File \"/home/danilevy/anaconda2/lib/python2.7/runpy.py\", line 174, in _run_module_as_main\n    \"__main__\", fname, loader, pkg_name)\n  File \"/home/danilevy/anaconda2/lib/python2.7/runpy.py\", line 72, in _run_code\n    exec code in run_globals\n  File \"/home/danilevy/anaconda2/lib/python2.7/site-packages/ipykernel_launcher.py\", line 16, in <module>\n    app.launch_new_instance()\n  File \"/home/danilevy/anaconda2/lib/python2.7/site-packages/traitlets/config/application.py\", line 658, in launch_instance\n    app.start()\n  File \"/home/danilevy/anaconda2/lib/python2.7/site-packages/ipykernel/kernelapp.py\", line 477, in start\n    ioloop.IOLoop.instance().start()\n  File \"/home/danilevy/anaconda2/lib/python2.7/site-packages/zmq/eventloop/ioloop.py\", line 177, in start\n    super(ZMQIOLoop, self).start()\n  File \"/home/danilevy/anaconda2/lib/python2.7/site-packages/tornado/ioloop.py\", line 888, in start\n    handler_func(fd_obj, events)\n  File \"/home/danilevy/anaconda2/lib/python2.7/site-packages/tornado/stack_context.py\", line 277, in null_wrapper\n    return fn(*args, **kwargs)\n  File \"/home/danilevy/anaconda2/lib/python2.7/site-packages/zmq/eventloop/zmqstream.py\", line 440, in _handle_events\n    self._handle_recv()\n  File \"/home/danilevy/anaconda2/lib/python2.7/site-packages/zmq/eventloop/zmqstream.py\", line 472, in _handle_recv\n    self._run_callback(callback, msg)\n  File \"/home/danilevy/anaconda2/lib/python2.7/site-packages/zmq/eventloop/zmqstream.py\", line 414, in _run_callback\n    callback(*args, **kwargs)\n  File \"/home/danilevy/anaconda2/lib/python2.7/site-packages/tornado/stack_context.py\", line 277, in null_wrapper\n    return fn(*args, **kwargs)\n  File \"/home/danilevy/anaconda2/lib/python2.7/site-packages/ipykernel/kernelbase.py\", line 283, in dispatcher\n    return self.dispatch_shell(stream, msg)\n  File \"/home/danilevy/anaconda2/lib/python2.7/site-packages/ipykernel/kernelbase.py\", line 235, in dispatch_shell\n    handler(stream, idents, msg)\n  File \"/home/danilevy/anaconda2/lib/python2.7/site-packages/ipykernel/kernelbase.py\", line 399, in execute_request\n    user_expressions, allow_stdin)\n  File \"/home/danilevy/anaconda2/lib/python2.7/site-packages/ipykernel/ipkernel.py\", line 196, in do_execute\n    res = shell.run_cell(code, store_history=store_history, silent=silent)\n  File \"/home/danilevy/anaconda2/lib/python2.7/site-packages/ipykernel/zmqshell.py\", line 533, in run_cell\n    return super(ZMQInteractiveShell, self).run_cell(*args, **kwargs)\n  File \"/home/danilevy/anaconda2/lib/python2.7/site-packages/IPython/core/interactiveshell.py\", line 2717, in run_cell\n    interactivity=interactivity, compiler=compiler, result=result)\n  File \"/home/danilevy/anaconda2/lib/python2.7/site-packages/IPython/core/interactiveshell.py\", line 2821, in run_ast_nodes\n    if self.run_code(code, result):\n  File \"/home/danilevy/anaconda2/lib/python2.7/site-packages/IPython/core/interactiveshell.py\", line 2881, in run_code\n    exec(code_obj, self.user_global_ns, self.user_ns)\n  File \"<ipython-input-203-a9d163416391>\", line 2, in <module>\n    e = energy(Z, aux=inp)\n  File \"<ipython-input-5-3a4105261f71>\", line 37, in energy\n    log_posterior = -tf.reduce_sum(tf.nn.sigmoid_cross_entropy_with_logits(labels=aux, logits=logits), axis=1)\n  File \"/home/danilevy/anaconda2/lib/python2.7/site-packages/tensorflow/python/ops/nn_impl.py\", line 174, in sigmoid_cross_entropy_with_logits\n    relu_logits - logits * labels,\n  File \"/home/danilevy/anaconda2/lib/python2.7/site-packages/tensorflow/python/ops/math_ops.py\", line 865, in binary_op_wrapper\n    return func(x, y, name=name)\n  File \"/home/danilevy/anaconda2/lib/python2.7/site-packages/tensorflow/python/ops/math_ops.py\", line 1088, in _mul_dispatch\n    return gen_math_ops._mul(x, y, name=name)\n  File \"/home/danilevy/anaconda2/lib/python2.7/site-packages/tensorflow/python/ops/gen_math_ops.py\", line 1449, in _mul\n    result = _op_def_lib.apply_op(\"Mul\", x=x, y=y, name=name)\n  File \"/home/danilevy/anaconda2/lib/python2.7/site-packages/tensorflow/python/framework/op_def_library.py\", line 767, in apply_op\n    op_def=op_def)\n  File \"/home/danilevy/anaconda2/lib/python2.7/site-packages/tensorflow/python/framework/ops.py\", line 2630, in create_op\n    original_op=self._default_original_op, op_def=op_def)\n  File \"/home/danilevy/anaconda2/lib/python2.7/site-packages/tensorflow/python/framework/ops.py\", line 1204, in __init__\n    self._traceback = self._graph._extract_stack()  # pylint: disable=protected-access\n\nInvalidArgumentError (see above for traceback): Incompatible shapes: [2,784] vs. [150,784]\n\t [[Node: logistic_loss_21/mul = Mul[T=DT_FLOAT, _device=\"/job:localhost/replica:0/task:0/cpu:0\"](Add_84, _arg_Placeholder_0_0)]]\n"
     ]
    }
   ],
   "source": [
    "Z = tf.placeholder(tf.float32, shape=(None, 50))\n",
    "e = energy(Z, aux=inp)\n",
    "\n",
    "e1 = sess.run(e, {Z: T, inp: x0})\n",
    "e2 = sess.run(e, {Z: U, inp: x0})"
   ]
  },
  {
   "cell_type": "code",
   "execution_count": 217,
   "metadata": {},
   "outputs": [
    {
     "data": {
      "text/plain": [
       "(array([-0.27081263,  0.52993363,  1.88966048,  1.3784467 ,  0.32094243], dtype=float32),\n",
       " array([ 0.37942019,  0.23738442, -2.12431741,  1.05054164,  0.66992515], dtype=float32))"
      ]
     },
     "execution_count": 217,
     "metadata": {},
     "output_type": "execute_result"
    }
   ],
   "source": [
    "S[-149, 0, :5], S[-148, 0, :5]"
   ]
  },
  {
   "cell_type": "code",
   "execution_count": 241,
   "metadata": {},
   "outputs": [
    {
     "data": {
      "text/plain": [
       "(150, 50, 50)"
      ]
     },
     "execution_count": 241,
     "metadata": {},
     "output_type": "execute_result"
    }
   ],
   "source": [
    "U.shape"
   ]
  },
  {
   "cell_type": "code",
   "execution_count": 249,
   "metadata": {},
   "outputs": [
    {
     "data": {
      "text/plain": [
       "<matplotlib.text.Text at 0x7f3f280e5e10>"
      ]
     },
     "execution_count": 249,
     "metadata": {},
     "output_type": "execute_result"
    },
    {
     "data": {
      "image/png": "[encoded data removed]",
      "text/plain": [
       "<matplotlib.figure.Figure at 0x7f3f280fb910>"
      ]
     },
     "metadata": {},
     "output_type": "display_data"
    }
   ],
   "source": [
    "z1 = U[0, 2, :]\n",
    "z2 = U[1, 2, :]\n",
    "points = []\n",
    "for l in  np.arange(0, 1.001, 0.05):\n",
    "    z = l * z1 + (1-l) * z2\n",
    "    points.append(np.copy(z))\n",
    "\n",
    "interpolation = np.array(points)\n",
    "interpolation.shape\n",
    "# plt.plot(interpolation[:, 0], interpolation[:, 1])\n",
    "e3 = sess.run(e, {Z: interpolation, inp: x0[:21, :]})\n",
    "plt.plot(e3)\n",
    "interpolation[0, :] - z2, interpolation[-1, :] - z1\n",
    "plt.ylabel('$-\\log p(x, z)$')"
   ]
  },
  {
   "cell_type": "code",
   "execution_count": 122,
   "metadata": {},
   "outputs": [
    {
     "data": {
      "text/plain": [
       "[<matplotlib.lines.Line2D at 0x7f3f3412aad0>]"
      ]
     },
     "execution_count": 122,
     "metadata": {},
     "output_type": "execute_result"
    },
    {
     "data": {
      "image/png": "[encoded data removed]",
      "text/plain": [
       "<matplotlib.figure.Figure at 0x7f3f3412ab50>"
      ]
     },
     "metadata": {},
     "output_type": "display_data"
    }
   ],
   "source": [
    "plt.plot(e1)\n",
    "plt.plot(e2)"
   ]
  },
  {
   "cell_type": "code",
   "execution_count": 31,
   "metadata": {},
   "outputs": [
    {
     "name": "stdout",
     "output_type": "stream",
     "text": [
      "0.1\n",
      "0.25\n",
      "0.5\n"
     ]
    }
   ],
   "source": [
    "dd = {}\n",
    "for eps in [0.1, 0.25, 0.5]:\n",
    "    print eps\n",
    "    hmc_dynamics = Dynamics(\n",
    "        50, \n",
    "        energy, \n",
    "        T=5, \n",
    "        eps=eps, \n",
    "        hmc=True, \n",
    "    )\n",
    "    z_start_hmc = tf.placeholder(tf.float32, shape=(None, 50))\n",
    "    _, _, _, MH_HMC = propose(z_start_hmc, hmc_dynamics, do_mh_step=True, aux=inp)\n",
    "    hmc_samples = []\n",
    "    samples = np.copy(S[500, :, :])\n",
    "    for t in range(200):\n",
    "        hmc_samples.append(np.copy(samples))\n",
    "        samples = sess.run(MH_HMC[0], {inp: x0[:50], z_start_hmc: samples})\n",
    "    G = np.array(hmc_samples)\n",
    "    dd[eps] = G\n",
    "#     plt.plot(np.abs([autocovariance(G - mu, tau=t) for t in range(199)]), label='$\\epsilon=%.2f$' % eps)\n",
    "# plt.plot(np.abs([autocovariance(F[1000:, :, :] - mu, tau=t) for t in range(199)]), label='CS')\n",
    "# plt.xlabel('# MH steps')\n",
    "# plt.ylabel('Autocovariance')\n",
    "# plt.legend()"
   ]
  },
  {
   "cell_type": "code",
   "execution_count": null,
   "metadata": {
    "collapsed": true
   },
   "outputs": [],
   "source": [
    "for t in range(50):\n",
    "    plt.hist(F[1000:, :, t].flatten(), bins=100, alpha=0.1)\n",
    "    plt.hist(G[:, :, t].flatten(), bins=100, alpha=0.1, color='red')\n",
    "    plt.show()"
   ]
  },
  {
   "cell_type": "code",
   "execution_count": null,
   "metadata": {
    "collapsed": true
   },
   "outputs": [],
   "source": [
    "F[:, :, t].flatten().shape"
   ]
  },
  {
   "cell_type": "code",
   "execution_count": null,
   "metadata": {
    "collapsed": true
   },
   "outputs": [],
   "source": [
    "list_samples2 = []\n",
    "\n"
   ]
  },
  {
   "cell_type": "code",
   "execution_count": null,
   "metadata": {
    "collapsed": true
   },
   "outputs": [],
   "source": [
    "list_samples = []\n",
    "\n",
    "samples = np.copy(init_chain)\n",
    "for t in range(2000):\n",
    "    list_samples.append(np.copy(samples))\n",
    "    samples = sess.run(MH[0], {inp: x_0, z_start: samples})"
   ]
  },
  {
   "cell_type": "code",
   "execution_count": null,
   "metadata": {
    "collapsed": true
   },
   "outputs": [],
   "source": [
    "def autocovariance(X, tau=0):\n",
    "    dT, dN, dX = np.shape(X)\n",
    "    s = 0.\n",
    "    for t in range(dT - tau):\n",
    "        x1 = X[t, :, :]\n",
    "        x2 = X[t+tau, :, :]\n",
    "\n",
    "        s += np.sum(x1 * x2) / dN\n",
    "\n",
    "    return s / (dT - tau)"
   ]
  },
  {
   "cell_type": "code",
   "execution_count": null,
   "metadata": {
    "collapsed": true
   },
   "outputs": [],
   "source": [
    "F = np.array(list_samples)\n",
    "mu = F[1000:, :, :].mean(axis=(0, 1))"
   ]
  },
  {
   "cell_type": "code",
   "execution_count": null,
   "metadata": {
    "collapsed": true
   },
   "outputs": [],
   "source": [
    "G = np.array(list_samples2)"
   ]
  },
  {
   "cell_type": "code",
   "execution_count": null,
   "metadata": {
    "collapsed": true
   },
   "outputs": [],
   "source": [
    "#plt.plot(np.abs([autocovariance(G - mu, tau=t) for t in range(199)]))\n",
    "plt.plot(np.abs([autocovariance(F[1000:, :, :] - mu, tau=t) for t in range(199)]))\n",
    "plt.xlim(0, 60)"
   ]
  },
  {
   "cell_type": "code",
   "execution_count": 33,
   "metadata": {
    "collapsed": true
   },
   "outputs": [],
   "source": [
    "z_eval = tf.random_normal((64, 50))\n",
    "x_eval = tf.nn.sigmoid(decoder(z_eval))"
   ]
  },
  {
   "cell_type": "code",
   "execution_count": 38,
   "metadata": {
    "collapsed": true
   },
   "outputs": [],
   "source": [
    "def plot_grid(S, width=8):\n",
    "    sheet_width = width\n",
    "    plt.figure(figsize=(12, 12))\n",
    "    for i in xrange(S.shape[0]):\n",
    "        plt.subplot(sheet_width, sheet_width, i + 1)\n",
    "        plt.imshow(S[i], cmap='gray')\n",
    "        plt.grid('off')\n",
    "        plt.axis('off')"
   ]
  },
  {
   "cell_type": "code",
   "execution_count": null,
   "metadata": {
    "collapsed": true
   },
   "outputs": [],
   "source": [
    "train, test = get_data()"
   ]
  },
  {
   "cell_type": "code",
   "execution_count": null,
   "metadata": {
    "collapsed": true
   },
   "outputs": [],
   "source": [
    "train = np.reshape(train, (-1, 28, 28))"
   ]
  },
  {
   "cell_type": "code",
   "execution_count": null,
   "metadata": {
    "collapsed": true
   },
   "outputs": [],
   "source": [
    "mask"
   ]
  },
  {
   "cell_type": "code",
   "execution_count": 23,
   "metadata": {},
   "outputs": [
    {
     "data": {
      "text/plain": [
       "<matplotlib.image.AxesImage at 0x7fe809248b10>"
      ]
     },
     "execution_count": 23,
     "metadata": {},
     "output_type": "execute_result"
    },
    {
     "data": {
      "image/png": "[encoded data removed]",
      "text/plain": [
       "<matplotlib.figure.Figure at 0x7fe8088dcad0>"
      ]
     },
     "metadata": {},
     "output_type": "display_data"
    }
   ],
   "source": []
  },
  {
   "cell_type": "code",
   "execution_count": 15,
   "metadata": {},
   "outputs": [
    {
     "data": {
      "text/plain": [
       "<matplotlib.image.AxesImage at 0x7fe809aebb10>"
      ]
     },
     "execution_count": 15,
     "metadata": {},
     "output_type": "execute_result"
    },
    {
     "data": {
      "image/png": "[encoded data removed]",
      "text/plain": [
       "<matplotlib.figure.Figure at 0x7fe7fe80ec10>"
      ]
     },
     "metadata": {},
     "output_type": "display_data"
    }
   ],
   "source": [
    "x0 = np.copy(x_train[66])\n",
    "x0 = binarize(x0)\n",
    "X0 = np.reshape(x0, (28, 28))\n",
    "plt.imshow(X0)\n",
    "\n",
    "# samples2 = []\n",
    "# curr_sample = np.copy(x0).flatten()[None, :]\n",
    "# for t in range(100):\n",
    "#     current_z = sess.run(latent, {inp: curr_sample})\n",
    "#     # curr_sample = sess.run(sample, {Z: current_z})\n",
    "#     curr_probs = sess.run(probs, {Z: current_z})\n",
    "#     samples2.append(np.copy(curr_probs))"
   ]
  },
  {
   "cell_type": "code",
   "execution_count": 83,
   "metadata": {},
   "outputs": [
    {
     "data": {
      "image/png": "[encoded data removed]",
      "text/plain": [
       "<matplotlib.figure.Figure at 0x7fe8009f4f10>"
      ]
     },
     "metadata": {},
     "output_type": "display_data"
    }
   ],
   "source": [
    "S = np.array(samples)\n",
    "S = np.reshape(S, (-1, 28, 28))\n",
    "\n",
    "plot_grid(S, width=10)"
   ]
  },
  {
   "cell_type": "code",
   "execution_count": 82,
   "metadata": {
    "collapsed": true
   },
   "outputs": [],
   "source": [
    "samples = []\n",
    "x0 = viz[42]\n",
    "x0[:14, :] = 0\n",
    "x0 = x0.flatten()[None, :]\n",
    "curr_x = np.copy(x0)\n",
    "curr_z = np.copy(init_chain)\n",
    "\n",
    "x0_2 = np.reshape(x0, (28, 28))\n",
    "for t in range(100):\n",
    "    curr_z, candidate_x, curr_probs = sess.run([MH[0], sample, probs], {inp: curr_x, z_start: curr_z})\n",
    "    samples.append(np.copy(curr_probs))\n",
    "    curr_x = np.reshape(candidate_x, (28, 28))\n",
    "    curr_x[14:, :] = x0_2[14:, :]\n",
    "    curr_x = curr_x.flatten()[None, :]"
   ]
  },
  {
   "cell_type": "code",
   "execution_count": 51,
   "metadata": {
    "collapsed": true
   },
   "outputs": [],
   "source": [
    "x0_old = np.copy(x0)"
   ]
  },
  {
   "cell_type": "code",
   "execution_count": 66,
   "metadata": {},
   "outputs": [
    {
     "data": {
      "image/png": "[encoded data removed]",
      "text/plain": [
       "<matplotlib.figure.Figure at 0x7fe7fc142510>"
      ]
     },
     "metadata": {},
     "output_type": "display_data"
    }
   ],
   "source": [
    "plot_grid(viz[:64])"
   ]
  },
  {
   "cell_type": "code",
   "execution_count": 65,
   "metadata": {
    "collapsed": true
   },
   "outputs": [],
   "source": [
    "viz = np.reshape(x_train, (-1, 28, 28))"
   ]
  },
  {
   "cell_type": "code",
   "execution_count": 81,
   "metadata": {},
   "outputs": [
    {
     "data": {
      "text/plain": [
       "<matplotlib.image.AxesImage at 0x7fe7fe18b210>"
      ]
     },
     "execution_count": 81,
     "metadata": {},
     "output_type": "execute_result"
    },
    {
     "data": {
      "image/png": "[encoded data removed]",
      "text/plain": [
       "<matplotlib.figure.Figure at 0x7fe7fce75a10>"
      ]
     },
     "metadata": {},
     "output_type": "display_data"
    }
   ],
   "source": [
    "plt.imshow(mask(viz[42]))"
   ]
  },
  {
   "cell_type": "code",
   "execution_count": 74,
   "metadata": {
    "collapsed": true
   },
   "outputs": [],
   "source": [
    "def mask(x):\n",
    "    y = np.copy(x)\n",
    "    y[:14, :] = 0\n",
    "    return y"
   ]
  },
  {
   "cell_type": "code",
   "execution_count": null,
   "metadata": {
    "collapsed": true
   },
   "outputs": [],
   "source": []
  }
 ],
 "metadata": {
  "kernelspec": {
   "display_name": "Python 2",
   "language": "python",
   "name": "python2"
  },
  "language_info": {
   "codemirror_mode": {
    "name": "ipython",
    "version": 2
   },
   "file_extension": ".py",
   "mimetype": "text/x-python",
   "name": "python",
   "nbconvert_exporter": "python",
   "pygments_lexer": "ipython2",
   "version": "2.7.13"
  }
 },
 "nbformat": 4,
 "nbformat_minor": 2
}
