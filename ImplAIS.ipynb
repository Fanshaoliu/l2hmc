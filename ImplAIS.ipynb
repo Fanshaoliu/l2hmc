{
 "cells": [
  {
   "cell_type": "code",
   "execution_count": 1,
   "metadata": {
    "collapsed": true
   },
   "outputs": [],
   "source": [
    "import tensorflow as tf\n",
    "from utils.distributions import Gaussian, gen_ring, GMM\n",
    "from utils.dynamics import Dynamics\n",
    "\n",
    "import numpy as np\n",
    "import matplotlib.pyplot as plt\n",
    "%matplotlib inline"
   ]
  },
  {
   "cell_type": "code",
   "execution_count": 100,
   "metadata": {},
   "outputs": [],
   "source": [
    "def tf_accept(x, Lx, px):\n",
    "    mask = (px - tf.random_uniform(tf.shape(px)) >= 0.)\n",
    "    return tf.where(mask, Lx, x)\n",
    "\n",
    "gaussian1 = Gaussian(mu=np.zeros((2,)), sigma=np.eye(2,))\n",
    "gaussian2 = Gaussian(mu=np.ones((2,)), sigma=np.array([[1.0, 0.95], [0.95, 1.0]]))\n",
    "n_samples = 1000\n",
    "init_energy = gaussian1.get_energy_function()\n",
    "final_energy = gaussian2.get_energy_function()\n",
    "beta_diff = 0.0001\n",
    "\n",
    "def body(z, w, t):\n",
    "    curr_beta = (t) * beta_diff\n",
    "    curr_energy = lambda z: (1-curr_beta) * init_energy(z) + (curr_beta) * final_energy(z)\n",
    "    diff_energy = - final_energy(z) + init_energy(z)\n",
    "    w = w + beta_diff * diff_energy\n",
    "    dynamics = Dynamics(x_dim=2, energy_function=curr_energy, eps=0.5, hmc=True, T=25)\n",
    "    \n",
    "    new_z, _, p = dynamics.forward(z)\n",
    "    mh_z = tf_accept(z, new_z, p)\n",
    "    \n",
    "    return mh_z, w, t+1\n",
    "\n",
    "def cond(z, w, t):\n",
    "    return tf.less(t, 10000+1)\n",
    "\n",
    "start_z, start_w, start_t = tf.random_uniform((n_samples, 2)), tf.zeros((n_samples,)), tf.constant(0.)\n",
    "\n",
    "last_z, last_w, T = tf.while_loop(body=body, cond=cond, loop_vars=(tf.random_normal((20, 2)), tf.zeros((20,)), tf.constant(0.)))"
   ]
  },
  {
   "cell_type": "code",
   "execution_count": 101,
   "metadata": {},
   "outputs": [],
   "source": [
    "with tf.Session() as sess:\n",
    "    log_w_T = sess.run(last_w)"
   ]
  },
  {
   "cell_type": "code",
   "execution_count": 17,
   "metadata": {},
   "outputs": [],
   "source": [
    "def get_log_Z(sigma):\n",
    "    n = sigma.shape[0]\n",
    "    return 0.5 * np.log(np.linalg.det(2 * np.pi * sigma))\n",
    "    "
   ]
  },
  {
   "cell_type": "code",
   "execution_count": 24,
   "metadata": {},
   "outputs": [],
   "source": [
    "Z_1 = get_log_Z(np.eye(2,))"
   ]
  },
  {
   "cell_type": "code",
   "execution_count": 25,
   "metadata": {},
   "outputs": [],
   "source": [
    "Z_T = get_log_Z(np.array([[1.0, 0.95], [0.95, 1.0]]))"
   ]
  },
  {
   "cell_type": "code",
   "execution_count": 78,
   "metadata": {},
   "outputs": [],
   "source": [
    "from scipy.misc import logsumexp"
   ]
  },
  {
   "cell_type": "code",
   "execution_count": 67,
   "metadata": {},
   "outputs": [
    {
     "data": {
      "text/plain": [
       "-1.1639514504891684"
      ]
     },
     "execution_count": 67,
     "metadata": {},
     "output_type": "execute_result"
    }
   ],
   "source": [
    "  beta = tf.linspace(0., 1., n_samples+1)[1:]\n",
    "  beta_diff = beta[1] - beta[0]\n",
    "  def body(a, beta):\n",
    "    def log_prob_beta(x, beta, *args, **kwargs):\n",
    "      return (1-beta) * log_q_f(x, *args, **kwargs) + beta * log_prob_f(x, *args, **kwargs)\n",
    "    last_x = a[1]\n",
    "    w = a[2]\n",
    "    w = w + beta_diff * (log_prob_f(last_x, *args, **kwargs)\n",
    "                         - log_q_f(last_x, *args, **kwargs))\n",
    "    alpha, updated_x = hmc_kernel(step_size, lf_steps, last_x, log_prob_beta,\n",
    "                                  beta, *args, **kwargs)\n",
    "    alpha.set_shape(batch_size)\n",
    "    updated_x.set_shape(z_shape)\n",
    "    return (alpha, updated_x, w)\n",
    "\n",
    "  alpha, x, w = tf.scan(body, beta, (tf.zeros_like(initial_x[:, 0]),\n",
    "                        initial_x, tf.zeros_like(initial_x[:, 0])))\n",
    "  return alpha[-1], x[-1], w[-1]"
   ]
  },
  {
   "cell_type": "code",
   "execution_count": 116,
   "metadata": {},
   "outputs": [
    {
     "data": {
      "text/plain": [
       "1.165473018194056"
      ]
     },
     "execution_count": 116,
     "metadata": {},
     "output_type": "execute_result"
    }
   ],
   "source": [
    "logsumexp(log_w_T) - np.log(20)"
   ]
  },
  {
   "cell_type": "code",
   "execution_count": 150,
   "metadata": {},
   "outputs": [],
   "source": [
    "S1 = np.random.randn(5, 5)\n",
    "S2 = np.random.randn(5, 5)\n",
    "\n",
    "mu1 = np.random.randn(5)\n",
    "mu2 = np.random.randn(5)\n",
    "\n",
    "sigma1 = S1.dot(S1.T) + 0.1 * np.eye(5)\n",
    "sigma2 = S2.dot(S2.T) + 0.1 * np.eye(5)\n",
    "\n",
    "gaussian1 = Gaussian(mu=np.zeros(5,), sigma=np.eye(5))\n",
    "gaussian2 = Gaussian(mu=mu2, sigma=sigma2)\n",
    "\n",
    "init_energy = gaussian1.get_energy_function()\n",
    "final_energy = gaussian2.get_energy_function()\n",
    "\n",
    "beta = tf.linspace(0., 1., 500+1)[1:]\n",
    "beta_diff = beta[1] - beta[0]\n",
    "\n",
    "def body(a, beta):\n",
    "    curr_energy = lambda z: (1-beta) * init_energy(z) + (beta) * final_energy(z)\n",
    "    last_x = a[1]\n",
    "    w = a[2]\n",
    "    w = w + beta_diff * (- final_energy(last_x) + init_energy(last_x))\n",
    "    dynamics = Dynamics(x_dim=5, energy_function=curr_energy, eps=0.5, hmc=True, T=25)\n",
    "    Lx, _, px = dynamics.forward(last_x)\n",
    "    updated_x = tf_accept(last_x, Lx, px)\n",
    "    return (px, updated_x, w)\n",
    "\n",
    "initial_x = tf.random_normal((100, 5))\n",
    "\n",
    "alpha, x, w = tf.scan(body, beta, (tf.zeros_like(initial_x[:, 0]),\n",
    "                    initial_x, tf.zeros_like(initial_x[:, 0])))"
   ]
  },
  {
   "cell_type": "code",
   "execution_count": 151,
   "metadata": {},
   "outputs": [],
   "source": [
    "with tf.Session() as sess:\n",
    "    log_w_T = sess.run(w[-1])"
   ]
  },
  {
   "cell_type": "code",
   "execution_count": 152,
   "metadata": {},
   "outputs": [
    {
     "data": {
      "text/plain": [
       "-3.0705821639835591"
      ]
     },
     "execution_count": 152,
     "metadata": {},
     "output_type": "execute_result"
    }
   ],
   "source": [
    "get_log_Z(np.eye(5)) - get_log_Z(sigma2)"
   ]
  },
  {
   "cell_type": "code",
   "execution_count": 154,
   "metadata": {},
   "outputs": [
    {
     "data": {
      "text/plain": [
       "2.9927192373822695"
      ]
     },
     "execution_count": 154,
     "metadata": {},
     "output_type": "execute_result"
    }
   ],
   "source": [
    "logsumexp(log_w_T) - np.log(100)"
   ]
  },
  {
   "cell_type": "code",
   "execution_count": null,
   "metadata": {
    "collapsed": true
   },
   "outputs": [],
   "source": []
  }
 ],
 "metadata": {
  "kernelspec": {
   "display_name": "Python 2",
   "language": "python",
   "name": "python2"
  },
  "language_info": {
   "codemirror_mode": {
    "name": "ipython",
    "version": 2
   },
   "file_extension": ".py",
   "mimetype": "text/x-python",
   "name": "python",
   "nbconvert_exporter": "python",
   "pygments_lexer": "ipython2",
   "version": "2.7.13"
  }
 },
 "nbformat": 4,
 "nbformat_minor": 2
}
