{
 "cells": [
  {
   "cell_type": "code",
   "execution_count": 1,
   "metadata": {
    "collapsed": true
   },
   "outputs": [],
   "source": [
    "import tensorflow as tf\n",
    "import numpy as np\n",
    "import matplotlib.pyplot as plt\n",
    "%matplotlib inline\n",
    "%load_ext autoreload\n",
    "%autoreload 2"
   ]
  },
  {
   "cell_type": "code",
   "execution_count": 2,
   "metadata": {
    "collapsed": true
   },
   "outputs": [],
   "source": [
    "from utils.func_utils import accept, jacobian, autocovariance, get_log_likelihood, get_data, binarize, normal_kl\n",
    "from utils.distributions import Gaussian, GMM, GaussianFunnel, gen_ring, RoughWell\n",
    "from utils.layers import Linear, Parallel, Sequential, Zip, ScaleTanh\n",
    "from utils.dynamics import Dynamics\n",
    "from utils.sampler import propose\n",
    "from utils.losses import get_loss, loss_mixed"
   ]
  },
  {
   "cell_type": "code",
   "execution_count": 88,
   "metadata": {
    "collapsed": true
   },
   "outputs": [],
   "source": [
    "tf.reset_default_graph()"
   ]
  },
  {
   "cell_type": "code",
   "execution_count": 89,
   "metadata": {},
   "outputs": [],
   "source": [
    "size1 = 10\n",
    "size2 = 10\n",
    "\n",
    "x_dim = 2\n",
    "\n",
    "#gaussian = Gaussian(np.zeros(2,), np.array([[10., 0.], [0., 0.1]]))\n",
    "gaussian = RoughWell(dim=2, eps=0.1, easy=False)\n",
    "\n",
    "def net_factory(x_dim, scope, factor):\n",
    "    with tf.variable_scope(scope):\n",
    "        net = Sequential([\n",
    "            Zip([\n",
    "                Linear(x_dim, size1, scope='embed_1', factor=0.33),\n",
    "                Linear(x_dim, size1, scope='embed_2', factor=factor * 0.33),\n",
    "                Linear(2, size1, scope='embed_3', factor=0.33),\n",
    "                lambda _, *args, **kwargs: 0.\n",
    "            ]),\n",
    "            sum,\n",
    "            tf.nn.relu,\n",
    "            Linear(size1, size2, scope='linear_1'),\n",
    "            tf.nn.relu,\n",
    "            Parallel([\n",
    "                Sequential([\n",
    "                    Linear(size2, x_dim, scope='linear_s', factor=0.01), \n",
    "                    ScaleTanh(x_dim, scope='scale_s')\n",
    "                ]),\n",
    "                Linear(size2, x_dim, scope='linear_t', factor=0.01),\n",
    "                Sequential([\n",
    "                    Linear(size2, x_dim, scope='linear_f', factor=0.01),\n",
    "                    ScaleTanh(x_dim, scope='scale_f'),\n",
    "                ])\n",
    "            ])\n",
    "        ])\n",
    "    return net\n",
    "\n",
    "dynamics = Dynamics(\n",
    "    x_dim, \n",
    "    gaussian.get_energy_function(), \n",
    "    T=5, \n",
    "    eps=0.15, \n",
    "    hmc=False, \n",
    "    eps_trainable=True, \n",
    "    net_factory=net_factory, \n",
    "    use_temperature=False\n",
    ")"
   ]
  },
  {
   "cell_type": "code",
   "execution_count": 90,
   "metadata": {
    "collapsed": true
   },
   "outputs": [],
   "source": [
    "def mixed(x, Lx, px):\n",
    "    v = tf.reduce_sum(tf.square(x - Lx), 1) * px + 1e-4\n",
    "    v = tf.boolean_mask(v, tf.is_finite(v))\n",
    "    return tf.reduce_mean(1.0 / v - v)"
   ]
  },
  {
   "cell_type": "code",
   "execution_count": 91,
   "metadata": {},
   "outputs": [
    {
     "name": "stdout",
     "output_type": "stream",
     "text": [
      "<dtype: 'float32_ref'> <dtype: 'float32_ref'>\n"
     ]
    },
    {
     "ename": "TypeError",
     "evalue": "Input 'b' of 'MatMul' Op has type float32 that does not match type float64 of argument 'a'.",
     "output_type": "error",
     "traceback": [
      "\u001b[0;31m---------------------------------------------------------------------------\u001b[0m",
      "\u001b[0;31mTypeError\u001b[0m                                 Traceback (most recent call last)",
      "\u001b[0;32m<ipython-input-91-c0f9f3fd47a4>\u001b[0m in \u001b[0;36m<module>\u001b[0;34m()\u001b[0m\n\u001b[1;32m      2\u001b[0m \u001b[0mz\u001b[0m \u001b[0;34m=\u001b[0m \u001b[0mtf\u001b[0m\u001b[0;34m.\u001b[0m\u001b[0mrandom_normal\u001b[0m\u001b[0;34m(\u001b[0m\u001b[0mtf\u001b[0m\u001b[0;34m.\u001b[0m\u001b[0mshape\u001b[0m\u001b[0;34m(\u001b[0m\u001b[0mx\u001b[0m\u001b[0;34m)\u001b[0m\u001b[0;34m,\u001b[0m \u001b[0mdtype\u001b[0m\u001b[0;34m=\u001b[0m\u001b[0mtf\u001b[0m\u001b[0;34m.\u001b[0m\u001b[0mfloat64\u001b[0m\u001b[0;34m)\u001b[0m\u001b[0;34m\u001b[0m\u001b[0m\n\u001b[1;32m      3\u001b[0m \u001b[0;34m\u001b[0m\u001b[0m\n\u001b[0;32m----> 4\u001b[0;31m \u001b[0mLx\u001b[0m\u001b[0;34m,\u001b[0m \u001b[0m_\u001b[0m\u001b[0;34m,\u001b[0m \u001b[0mpx\u001b[0m\u001b[0;34m,\u001b[0m \u001b[0mMHx\u001b[0m \u001b[0;34m=\u001b[0m \u001b[0mpropose\u001b[0m\u001b[0;34m(\u001b[0m\u001b[0mx\u001b[0m\u001b[0;34m,\u001b[0m \u001b[0mdynamics\u001b[0m\u001b[0;34m,\u001b[0m \u001b[0mdo_mh_step\u001b[0m\u001b[0;34m=\u001b[0m\u001b[0mTrue\u001b[0m\u001b[0;34m)\u001b[0m\u001b[0;34m\u001b[0m\u001b[0m\n\u001b[0m\u001b[1;32m      5\u001b[0m \u001b[0mLz\u001b[0m\u001b[0;34m,\u001b[0m \u001b[0m_\u001b[0m\u001b[0;34m,\u001b[0m \u001b[0mpz\u001b[0m\u001b[0;34m,\u001b[0m \u001b[0m_\u001b[0m \u001b[0;34m=\u001b[0m \u001b[0mpropose\u001b[0m\u001b[0;34m(\u001b[0m\u001b[0mz\u001b[0m\u001b[0;34m,\u001b[0m \u001b[0mdynamics\u001b[0m\u001b[0;34m,\u001b[0m \u001b[0mdo_mh_step\u001b[0m\u001b[0;34m=\u001b[0m\u001b[0mFalse\u001b[0m\u001b[0;34m)\u001b[0m\u001b[0;34m\u001b[0m\u001b[0m\n\u001b[1;32m      6\u001b[0m \u001b[0;34m\u001b[0m\u001b[0m\n",
      "\u001b[0;32m/home/daniel_levy0/l2hmc/utils/sampler.pyc\u001b[0m in \u001b[0;36mpropose\u001b[0;34m(x, dynamics, init_v, aux, do_mh_step, log_jac)\u001b[0m\n\u001b[1;32m      9\u001b[0m                 \u001b[0;31m# sample mask for forward/backward\u001b[0m\u001b[0;34m\u001b[0m\u001b[0;34m\u001b[0m\u001b[0m\n\u001b[1;32m     10\u001b[0m                 \u001b[0mmask\u001b[0m \u001b[0;34m=\u001b[0m \u001b[0mtf\u001b[0m\u001b[0;34m.\u001b[0m\u001b[0mcast\u001b[0m\u001b[0;34m(\u001b[0m\u001b[0mtf\u001b[0m\u001b[0;34m.\u001b[0m\u001b[0mrandom_uniform\u001b[0m\u001b[0;34m(\u001b[0m\u001b[0;34m(\u001b[0m\u001b[0mtf\u001b[0m\u001b[0;34m.\u001b[0m\u001b[0mshape\u001b[0m\u001b[0;34m(\u001b[0m\u001b[0mx\u001b[0m\u001b[0;34m)\u001b[0m\u001b[0;34m[\u001b[0m\u001b[0;36m0\u001b[0m\u001b[0;34m]\u001b[0m\u001b[0;34m,\u001b[0m \u001b[0;36m1\u001b[0m\u001b[0;34m)\u001b[0m\u001b[0;34m,\u001b[0m \u001b[0mmaxval\u001b[0m\u001b[0;34m=\u001b[0m\u001b[0;36m2\u001b[0m\u001b[0;34m,\u001b[0m \u001b[0mdtype\u001b[0m\u001b[0;34m=\u001b[0m\u001b[0mtf\u001b[0m\u001b[0;34m.\u001b[0m\u001b[0mint32\u001b[0m\u001b[0;34m)\u001b[0m\u001b[0;34m,\u001b[0m \u001b[0mtf\u001b[0m\u001b[0;34m.\u001b[0m\u001b[0mfloat32\u001b[0m\u001b[0;34m)\u001b[0m\u001b[0;34m\u001b[0m\u001b[0m\n\u001b[0;32m---> 11\u001b[0;31m                 \u001b[0mLx1\u001b[0m\u001b[0;34m,\u001b[0m \u001b[0mLv1\u001b[0m\u001b[0;34m,\u001b[0m \u001b[0mpx1\u001b[0m \u001b[0;34m=\u001b[0m \u001b[0mdynamics\u001b[0m\u001b[0;34m.\u001b[0m\u001b[0mforward\u001b[0m\u001b[0;34m(\u001b[0m\u001b[0mx\u001b[0m\u001b[0;34m,\u001b[0m \u001b[0maux\u001b[0m\u001b[0;34m=\u001b[0m\u001b[0maux\u001b[0m\u001b[0;34m,\u001b[0m \u001b[0mlog_jac\u001b[0m\u001b[0;34m=\u001b[0m\u001b[0mlog_jac\u001b[0m\u001b[0;34m)\u001b[0m\u001b[0;34m\u001b[0m\u001b[0m\n\u001b[0m\u001b[1;32m     12\u001b[0m                 \u001b[0mLx2\u001b[0m\u001b[0;34m,\u001b[0m \u001b[0mLv2\u001b[0m\u001b[0;34m,\u001b[0m \u001b[0mpx2\u001b[0m \u001b[0;34m=\u001b[0m \u001b[0mdynamics\u001b[0m\u001b[0;34m.\u001b[0m\u001b[0mbackward\u001b[0m\u001b[0;34m(\u001b[0m\u001b[0mx\u001b[0m\u001b[0;34m,\u001b[0m \u001b[0maux\u001b[0m\u001b[0;34m=\u001b[0m\u001b[0maux\u001b[0m\u001b[0;34m,\u001b[0m \u001b[0mlog_jac\u001b[0m\u001b[0;34m=\u001b[0m\u001b[0mlog_jac\u001b[0m\u001b[0;34m)\u001b[0m\u001b[0;34m\u001b[0m\u001b[0m\n\u001b[1;32m     13\u001b[0m \u001b[0;34m\u001b[0m\u001b[0m\n",
      "\u001b[0;32m/home/daniel_levy0/l2hmc/utils/dynamics.py\u001b[0m in \u001b[0;36mforward\u001b[0;34m(self, x, init_v, aux, log_path, log_jac)\u001b[0m\n\u001b[1;32m    260\u001b[0m         \u001b[0mcond\u001b[0m\u001b[0;34m=\u001b[0m\u001b[0mcond\u001b[0m\u001b[0;34m,\u001b[0m\u001b[0;34m\u001b[0m\u001b[0m\n\u001b[1;32m    261\u001b[0m         \u001b[0mbody\u001b[0m\u001b[0;34m=\u001b[0m\u001b[0mbody\u001b[0m\u001b[0;34m,\u001b[0m\u001b[0;34m\u001b[0m\u001b[0m\n\u001b[0;32m--> 262\u001b[0;31m         \u001b[0mloop_vars\u001b[0m\u001b[0;34m=\u001b[0m\u001b[0;34m[\u001b[0m\u001b[0mx\u001b[0m\u001b[0;34m,\u001b[0m \u001b[0mv\u001b[0m\u001b[0;34m,\u001b[0m \u001b[0mt\u001b[0m\u001b[0;34m,\u001b[0m \u001b[0mj\u001b[0m\u001b[0;34m]\u001b[0m\u001b[0;34m\u001b[0m\u001b[0m\n\u001b[0m\u001b[1;32m    263\u001b[0m     )\n\u001b[1;32m    264\u001b[0m \u001b[0;34m\u001b[0m\u001b[0m\n",
      "\u001b[0;32m/home/danilevy/anaconda2/lib/python2.7/site-packages/tensorflow/python/ops/control_flow_ops.pyc\u001b[0m in \u001b[0;36mwhile_loop\u001b[0;34m(cond, body, loop_vars, shape_invariants, parallel_iterations, back_prop, swap_memory, name)\u001b[0m\n\u001b[1;32m   2773\u001b[0m     \u001b[0mcontext\u001b[0m \u001b[0;34m=\u001b[0m \u001b[0mWhileContext\u001b[0m\u001b[0;34m(\u001b[0m\u001b[0mparallel_iterations\u001b[0m\u001b[0;34m,\u001b[0m \u001b[0mback_prop\u001b[0m\u001b[0;34m,\u001b[0m \u001b[0mswap_memory\u001b[0m\u001b[0;34m,\u001b[0m \u001b[0mname\u001b[0m\u001b[0;34m)\u001b[0m\u001b[0;34m\u001b[0m\u001b[0m\n\u001b[1;32m   2774\u001b[0m     \u001b[0mops\u001b[0m\u001b[0;34m.\u001b[0m\u001b[0madd_to_collection\u001b[0m\u001b[0;34m(\u001b[0m\u001b[0mops\u001b[0m\u001b[0;34m.\u001b[0m\u001b[0mGraphKeys\u001b[0m\u001b[0;34m.\u001b[0m\u001b[0mWHILE_CONTEXT\u001b[0m\u001b[0;34m,\u001b[0m \u001b[0mcontext\u001b[0m\u001b[0;34m)\u001b[0m\u001b[0;34m\u001b[0m\u001b[0m\n\u001b[0;32m-> 2775\u001b[0;31m     \u001b[0mresult\u001b[0m \u001b[0;34m=\u001b[0m \u001b[0mcontext\u001b[0m\u001b[0;34m.\u001b[0m\u001b[0mBuildLoop\u001b[0m\u001b[0;34m(\u001b[0m\u001b[0mcond\u001b[0m\u001b[0;34m,\u001b[0m \u001b[0mbody\u001b[0m\u001b[0;34m,\u001b[0m \u001b[0mloop_vars\u001b[0m\u001b[0;34m,\u001b[0m \u001b[0mshape_invariants\u001b[0m\u001b[0;34m)\u001b[0m\u001b[0;34m\u001b[0m\u001b[0m\n\u001b[0m\u001b[1;32m   2776\u001b[0m     \u001b[0;32mreturn\u001b[0m \u001b[0mresult\u001b[0m\u001b[0;34m\u001b[0m\u001b[0m\n\u001b[1;32m   2777\u001b[0m \u001b[0;34m\u001b[0m\u001b[0m\n",
      "\u001b[0;32m/home/danilevy/anaconda2/lib/python2.7/site-packages/tensorflow/python/ops/control_flow_ops.pyc\u001b[0m in \u001b[0;36mBuildLoop\u001b[0;34m(self, pred, body, loop_vars, shape_invariants)\u001b[0m\n\u001b[1;32m   2602\u001b[0m       \u001b[0mself\u001b[0m\u001b[0;34m.\u001b[0m\u001b[0mEnter\u001b[0m\u001b[0;34m(\u001b[0m\u001b[0;34m)\u001b[0m\u001b[0;34m\u001b[0m\u001b[0m\n\u001b[1;32m   2603\u001b[0m       original_body_result, exit_vars = self._BuildLoop(\n\u001b[0;32m-> 2604\u001b[0;31m           pred, body, original_loop_vars, loop_vars, shape_invariants)\n\u001b[0m\u001b[1;32m   2605\u001b[0m     \u001b[0;32mfinally\u001b[0m\u001b[0;34m:\u001b[0m\u001b[0;34m\u001b[0m\u001b[0m\n\u001b[1;32m   2606\u001b[0m       \u001b[0mself\u001b[0m\u001b[0;34m.\u001b[0m\u001b[0mExit\u001b[0m\u001b[0;34m(\u001b[0m\u001b[0;34m)\u001b[0m\u001b[0;34m\u001b[0m\u001b[0m\n",
      "\u001b[0;32m/home/danilevy/anaconda2/lib/python2.7/site-packages/tensorflow/python/ops/control_flow_ops.pyc\u001b[0m in \u001b[0;36m_BuildLoop\u001b[0;34m(self, pred, body, original_loop_vars, loop_vars, shape_invariants)\u001b[0m\n\u001b[1;32m   2552\u001b[0m         \u001b[0mstructure\u001b[0m\u001b[0;34m=\u001b[0m\u001b[0moriginal_loop_vars\u001b[0m\u001b[0;34m,\u001b[0m\u001b[0;34m\u001b[0m\u001b[0m\n\u001b[1;32m   2553\u001b[0m         flat_sequence=vars_for_body_with_tensor_arrays)\n\u001b[0;32m-> 2554\u001b[0;31m     \u001b[0mbody_result\u001b[0m \u001b[0;34m=\u001b[0m \u001b[0mbody\u001b[0m\u001b[0;34m(\u001b[0m\u001b[0;34m*\u001b[0m\u001b[0mpacked_vars_for_body\u001b[0m\u001b[0;34m)\u001b[0m\u001b[0;34m\u001b[0m\u001b[0m\n\u001b[0m\u001b[1;32m   2555\u001b[0m     \u001b[0;32mif\u001b[0m \u001b[0;32mnot\u001b[0m \u001b[0mnest\u001b[0m\u001b[0;34m.\u001b[0m\u001b[0mis_sequence\u001b[0m\u001b[0;34m(\u001b[0m\u001b[0mbody_result\u001b[0m\u001b[0;34m)\u001b[0m\u001b[0;34m:\u001b[0m\u001b[0;34m\u001b[0m\u001b[0m\n\u001b[1;32m   2556\u001b[0m       \u001b[0mbody_result\u001b[0m \u001b[0;34m=\u001b[0m \u001b[0;34m[\u001b[0m\u001b[0mbody_result\u001b[0m\u001b[0;34m]\u001b[0m\u001b[0;34m\u001b[0m\u001b[0m\n",
      "\u001b[0;32m/home/daniel_levy0/l2hmc/utils/dynamics.py\u001b[0m in \u001b[0;36mbody\u001b[0;34m(x, v, t, j)\u001b[0m\n\u001b[1;32m    251\u001b[0m \u001b[0;34m\u001b[0m\u001b[0m\n\u001b[1;32m    252\u001b[0m     \u001b[0;32mdef\u001b[0m \u001b[0mbody\u001b[0m\u001b[0;34m(\u001b[0m\u001b[0mx\u001b[0m\u001b[0;34m,\u001b[0m \u001b[0mv\u001b[0m\u001b[0;34m,\u001b[0m \u001b[0mt\u001b[0m\u001b[0;34m,\u001b[0m \u001b[0mj\u001b[0m\u001b[0;34m)\u001b[0m\u001b[0;34m:\u001b[0m\u001b[0;34m\u001b[0m\u001b[0m\n\u001b[0;32m--> 253\u001b[0;31m       \u001b[0mnew_x\u001b[0m\u001b[0;34m,\u001b[0m \u001b[0mnew_v\u001b[0m\u001b[0;34m,\u001b[0m \u001b[0mlog_j\u001b[0m \u001b[0;34m=\u001b[0m \u001b[0mself\u001b[0m\u001b[0;34m.\u001b[0m\u001b[0m_forward_step\u001b[0m\u001b[0;34m(\u001b[0m\u001b[0mx\u001b[0m\u001b[0;34m,\u001b[0m \u001b[0mv\u001b[0m\u001b[0;34m,\u001b[0m \u001b[0mt\u001b[0m\u001b[0;34m,\u001b[0m \u001b[0maux\u001b[0m\u001b[0;34m=\u001b[0m\u001b[0maux\u001b[0m\u001b[0;34m)\u001b[0m\u001b[0;34m\u001b[0m\u001b[0m\n\u001b[0m\u001b[1;32m    254\u001b[0m       \u001b[0;32mreturn\u001b[0m \u001b[0mnew_x\u001b[0m\u001b[0;34m,\u001b[0m \u001b[0mnew_v\u001b[0m\u001b[0;34m,\u001b[0m \u001b[0mt\u001b[0m\u001b[0;34m+\u001b[0m\u001b[0;36m1\u001b[0m\u001b[0;34m,\u001b[0m \u001b[0mj\u001b[0m\u001b[0;34m+\u001b[0m\u001b[0mlog_j\u001b[0m\u001b[0;34m\u001b[0m\u001b[0m\n\u001b[1;32m    255\u001b[0m \u001b[0;34m\u001b[0m\u001b[0m\n",
      "\u001b[0;32m/home/daniel_levy0/l2hmc/utils/dynamics.py\u001b[0m in \u001b[0;36m_forward_step\u001b[0;34m(self, x, v, step, aux)\u001b[0m\n\u001b[1;32m    113\u001b[0m \u001b[0;34m\u001b[0m\u001b[0m\n\u001b[1;32m    114\u001b[0m     \u001b[0mgrad1\u001b[0m \u001b[0;34m=\u001b[0m \u001b[0mself\u001b[0m\u001b[0;34m.\u001b[0m\u001b[0mgrad_energy\u001b[0m\u001b[0;34m(\u001b[0m\u001b[0mx\u001b[0m\u001b[0;34m,\u001b[0m \u001b[0maux\u001b[0m\u001b[0;34m=\u001b[0m\u001b[0maux\u001b[0m\u001b[0;34m)\u001b[0m\u001b[0;34m\u001b[0m\u001b[0m\n\u001b[0;32m--> 115\u001b[0;31m     \u001b[0mS1\u001b[0m \u001b[0;34m=\u001b[0m \u001b[0mself\u001b[0m\u001b[0;34m.\u001b[0m\u001b[0mVNet\u001b[0m\u001b[0;34m(\u001b[0m\u001b[0;34m[\u001b[0m\u001b[0mx\u001b[0m\u001b[0;34m,\u001b[0m \u001b[0mgrad1\u001b[0m\u001b[0;34m,\u001b[0m \u001b[0mt\u001b[0m\u001b[0;34m,\u001b[0m \u001b[0maux\u001b[0m\u001b[0;34m]\u001b[0m\u001b[0;34m)\u001b[0m\u001b[0;34m\u001b[0m\u001b[0m\n\u001b[0m\u001b[1;32m    116\u001b[0m \u001b[0;34m\u001b[0m\u001b[0m\n\u001b[1;32m    117\u001b[0m     \u001b[0msv1\u001b[0m \u001b[0;34m=\u001b[0m \u001b[0;36m0.5\u001b[0m \u001b[0;34m*\u001b[0m \u001b[0mself\u001b[0m\u001b[0;34m.\u001b[0m\u001b[0meps\u001b[0m \u001b[0;34m*\u001b[0m \u001b[0mS1\u001b[0m\u001b[0;34m[\u001b[0m\u001b[0;36m0\u001b[0m\u001b[0;34m]\u001b[0m\u001b[0;34m\u001b[0m\u001b[0m\n",
      "\u001b[0;32m/home/daniel_levy0/l2hmc/utils/layers.py\u001b[0m in \u001b[0;36m__call__\u001b[0;34m(self, x)\u001b[0m\n\u001b[1;32m     87\u001b[0m     \u001b[0my\u001b[0m \u001b[0;34m=\u001b[0m \u001b[0mx\u001b[0m\u001b[0;34m\u001b[0m\u001b[0m\n\u001b[1;32m     88\u001b[0m     \u001b[0;32mfor\u001b[0m \u001b[0mlayer\u001b[0m \u001b[0;32min\u001b[0m \u001b[0mself\u001b[0m\u001b[0;34m.\u001b[0m\u001b[0mlayers\u001b[0m\u001b[0;34m:\u001b[0m\u001b[0;34m\u001b[0m\u001b[0m\n\u001b[0;32m---> 89\u001b[0;31m       \u001b[0my\u001b[0m \u001b[0;34m=\u001b[0m \u001b[0mlayer\u001b[0m\u001b[0;34m(\u001b[0m\u001b[0my\u001b[0m\u001b[0;34m)\u001b[0m\u001b[0;34m\u001b[0m\u001b[0m\n\u001b[0m\u001b[1;32m     90\u001b[0m     \u001b[0;32mreturn\u001b[0m \u001b[0my\u001b[0m\u001b[0;34m\u001b[0m\u001b[0m\n\u001b[1;32m     91\u001b[0m \u001b[0;34m\u001b[0m\u001b[0m\n",
      "\u001b[0;32m/home/daniel_levy0/l2hmc/utils/layers.py\u001b[0m in \u001b[0;36m__call__\u001b[0;34m(self, x)\u001b[0m\n\u001b[1;32m    104\u001b[0m     \u001b[0;32massert\u001b[0m \u001b[0mlen\u001b[0m\u001b[0;34m(\u001b[0m\u001b[0mx\u001b[0m\u001b[0;34m)\u001b[0m \u001b[0;34m==\u001b[0m \u001b[0mlen\u001b[0m\u001b[0;34m(\u001b[0m\u001b[0mself\u001b[0m\u001b[0;34m.\u001b[0m\u001b[0mlayers\u001b[0m\u001b[0;34m)\u001b[0m\u001b[0;34m\u001b[0m\u001b[0m\n\u001b[1;32m    105\u001b[0m     \u001b[0mn\u001b[0m \u001b[0;34m=\u001b[0m \u001b[0mlen\u001b[0m\u001b[0;34m(\u001b[0m\u001b[0mself\u001b[0m\u001b[0;34m.\u001b[0m\u001b[0mlayers\u001b[0m\u001b[0;34m)\u001b[0m\u001b[0;34m\u001b[0m\u001b[0m\n\u001b[0;32m--> 106\u001b[0;31m     \u001b[0;32mreturn\u001b[0m \u001b[0;34m[\u001b[0m\u001b[0mself\u001b[0m\u001b[0;34m.\u001b[0m\u001b[0mlayers\u001b[0m\u001b[0;34m[\u001b[0m\u001b[0mi\u001b[0m\u001b[0;34m]\u001b[0m\u001b[0;34m(\u001b[0m\u001b[0mx\u001b[0m\u001b[0;34m[\u001b[0m\u001b[0mi\u001b[0m\u001b[0;34m]\u001b[0m\u001b[0;34m)\u001b[0m \u001b[0;32mfor\u001b[0m \u001b[0mi\u001b[0m \u001b[0;32min\u001b[0m \u001b[0mrange\u001b[0m\u001b[0;34m(\u001b[0m\u001b[0mn\u001b[0m\u001b[0;34m)\u001b[0m\u001b[0;34m]\u001b[0m\u001b[0;34m\u001b[0m\u001b[0m\n\u001b[0m\u001b[1;32m    107\u001b[0m \u001b[0;34m\u001b[0m\u001b[0m\n",
      "\u001b[0;32m/home/daniel_levy0/l2hmc/utils/layers.py\u001b[0m in \u001b[0;36m__call__\u001b[0;34m(self, x)\u001b[0m\n\u001b[1;32m     35\u001b[0m   \u001b[0;32mdef\u001b[0m \u001b[0m__call__\u001b[0m\u001b[0;34m(\u001b[0m\u001b[0mself\u001b[0m\u001b[0;34m,\u001b[0m \u001b[0mx\u001b[0m\u001b[0;34m)\u001b[0m\u001b[0;34m:\u001b[0m\u001b[0;34m\u001b[0m\u001b[0m\n\u001b[1;32m     36\u001b[0m     \u001b[0;32mprint\u001b[0m\u001b[0;34m(\u001b[0m\u001b[0mself\u001b[0m\u001b[0;34m.\u001b[0m\u001b[0mW\u001b[0m\u001b[0;34m.\u001b[0m\u001b[0mdtype\u001b[0m\u001b[0;34m,\u001b[0m \u001b[0mself\u001b[0m\u001b[0;34m.\u001b[0m\u001b[0mb\u001b[0m\u001b[0;34m.\u001b[0m\u001b[0mdtype\u001b[0m\u001b[0;34m)\u001b[0m\u001b[0;34m\u001b[0m\u001b[0m\n\u001b[0;32m---> 37\u001b[0;31m     \u001b[0;32mreturn\u001b[0m \u001b[0mtf\u001b[0m\u001b[0;34m.\u001b[0m\u001b[0madd\u001b[0m\u001b[0;34m(\u001b[0m\u001b[0mtf\u001b[0m\u001b[0;34m.\u001b[0m\u001b[0mmatmul\u001b[0m\u001b[0;34m(\u001b[0m\u001b[0mx\u001b[0m\u001b[0;34m,\u001b[0m \u001b[0mself\u001b[0m\u001b[0;34m.\u001b[0m\u001b[0mW\u001b[0m\u001b[0;34m)\u001b[0m\u001b[0;34m,\u001b[0m \u001b[0mself\u001b[0m\u001b[0;34m.\u001b[0m\u001b[0mb\u001b[0m\u001b[0;34m)\u001b[0m\u001b[0;34m\u001b[0m\u001b[0m\n\u001b[0m\u001b[1;32m     38\u001b[0m \u001b[0;34m\u001b[0m\u001b[0m\n\u001b[1;32m     39\u001b[0m \u001b[0;32mclass\u001b[0m \u001b[0mScaledTanh\u001b[0m\u001b[0;34m(\u001b[0m\u001b[0mobject\u001b[0m\u001b[0;34m)\u001b[0m\u001b[0;34m:\u001b[0m\u001b[0;34m\u001b[0m\u001b[0m\n",
      "\u001b[0;32m/home/danilevy/anaconda2/lib/python2.7/site-packages/tensorflow/python/ops/math_ops.pyc\u001b[0m in \u001b[0;36mmatmul\u001b[0;34m(a, b, transpose_a, transpose_b, adjoint_a, adjoint_b, a_is_sparse, b_is_sparse, name)\u001b[0m\n\u001b[1;32m   1842\u001b[0m     \u001b[0;32melse\u001b[0m\u001b[0;34m:\u001b[0m\u001b[0;34m\u001b[0m\u001b[0m\n\u001b[1;32m   1843\u001b[0m       return gen_math_ops._mat_mul(\n\u001b[0;32m-> 1844\u001b[0;31m           a, b, transpose_a=transpose_a, transpose_b=transpose_b, name=name)\n\u001b[0m\u001b[1;32m   1845\u001b[0m \u001b[0;34m\u001b[0m\u001b[0m\n\u001b[1;32m   1846\u001b[0m \u001b[0;34m\u001b[0m\u001b[0m\n",
      "\u001b[0;32m/home/danilevy/anaconda2/lib/python2.7/site-packages/tensorflow/python/ops/gen_math_ops.pyc\u001b[0m in \u001b[0;36m_mat_mul\u001b[0;34m(a, b, transpose_a, transpose_b, name)\u001b[0m\n\u001b[1;32m   1287\u001b[0m   \"\"\"\n\u001b[1;32m   1288\u001b[0m   result = _op_def_lib.apply_op(\"MatMul\", a=a, b=b, transpose_a=transpose_a,\n\u001b[0;32m-> 1289\u001b[0;31m                                 transpose_b=transpose_b, name=name)\n\u001b[0m\u001b[1;32m   1290\u001b[0m   \u001b[0;32mreturn\u001b[0m \u001b[0mresult\u001b[0m\u001b[0;34m\u001b[0m\u001b[0m\n\u001b[1;32m   1291\u001b[0m \u001b[0;34m\u001b[0m\u001b[0m\n",
      "\u001b[0;32m/home/danilevy/anaconda2/lib/python2.7/site-packages/tensorflow/python/framework/op_def_library.pyc\u001b[0m in \u001b[0;36mapply_op\u001b[0;34m(self, op_type_name, name, **keywords)\u001b[0m\n\u001b[1;32m    524\u001b[0m                   \u001b[0;34m\"%s type %s of argument '%s'.\"\u001b[0m \u001b[0;34m%\u001b[0m\u001b[0;34m\u001b[0m\u001b[0m\n\u001b[1;32m    525\u001b[0m                   (prefix, dtypes.as_dtype(attrs[input_arg.type_attr]).name,\n\u001b[0;32m--> 526\u001b[0;31m                    inferred_from[input_arg.type_attr]))\n\u001b[0m\u001b[1;32m    527\u001b[0m \u001b[0;34m\u001b[0m\u001b[0m\n\u001b[1;32m    528\u001b[0m           \u001b[0mtypes\u001b[0m \u001b[0;34m=\u001b[0m \u001b[0;34m[\u001b[0m\u001b[0mvalues\u001b[0m\u001b[0;34m.\u001b[0m\u001b[0mdtype\u001b[0m\u001b[0;34m]\u001b[0m\u001b[0;34m\u001b[0m\u001b[0m\n",
      "\u001b[0;31mTypeError\u001b[0m: Input 'b' of 'MatMul' Op has type float32 that does not match type float64 of argument 'a'."
     ]
    }
   ],
   "source": [
    "x = tf.placeholder(tf.float64, shape=(None, x_dim))\n",
    "z = tf.random_normal(tf.shape(x), dtype=tf.float64)\n",
    "\n",
    "Lx, _, px, MHx = propose(x, dynamics, do_mh_step=True)\n",
    "Lz, _, pz, _ = propose(z, dynamics, do_mh_step=False)\n",
    "\n",
    "loss = mixed(x, Lx, px) + mixed(z, Lz, pz)"
   ]
  },
  {
   "cell_type": "code",
   "execution_count": null,
   "metadata": {},
   "outputs": [],
   "source": [
    "lr = tf.placeholder(tf.float32, shape=())\n",
    "global_step = tf.Variable(0., trainable=False)\n",
    "learning_rate = tf.train.exponential_decay(lr, global_step,\n",
    "                                           250, 0.96, staircase=True)\n",
    "optimizer = tf.train.AdamOptimizer(learning_rate=learning_rate)\n",
    "train_op = optimizer.minimize(loss)"
   ]
  },
  {
   "cell_type": "code",
   "execution_count": 64,
   "metadata": {
    "scrolled": true
   },
   "outputs": [
    {
     "name": "stdout",
     "output_type": "stream",
     "text": [
      "0/10000: Loss=2.48e+03, p_acc=0.26\n",
      "100/10000: Loss=1.92e+04, p_acc=0.00\n",
      "200/10000: Loss=1.49e+04, p_acc=0.01\n",
      "300/10000: Loss=1.69e+04, p_acc=0.01\n",
      "400/10000: Loss=1.69e+04, p_acc=0.00\n",
      "500/10000: Loss=1.91e+04, p_acc=0.00\n",
      "600/10000: Loss=1.85e+04, p_acc=0.00\n",
      "700/10000: Loss=2.00e+04, p_acc=0.00\n",
      "800/10000: Loss=2.00e+04, p_acc=0.00\n",
      "900/10000: Loss=2.00e+04, p_acc=0.00\n",
      "1000/10000: Loss=2.00e+04, p_acc=0.00\n",
      "1100/10000: Loss=2.00e+04, p_acc=0.00\n",
      "1200/10000: Loss=2.00e+04, p_acc=0.00\n",
      "1300/10000: Loss=2.00e+04, p_acc=0.00\n",
      "1400/10000: Loss=2.00e+04, p_acc=0.00\n"
     ]
    },
    {
     "ename": "KeyboardInterrupt",
     "evalue": "",
     "output_type": "error",
     "traceback": [
      "\u001b[0;31m---------------------------------------------------------------------------\u001b[0m",
      "\u001b[0;31mKeyboardInterrupt\u001b[0m                         Traceback (most recent call last)",
      "\u001b[0;32m<ipython-input-64-f07a1ef9e8f0>\u001b[0m in \u001b[0;36m<module>\u001b[0;34m()\u001b[0m\n\u001b[1;32m      7\u001b[0m \u001b[0;32mfor\u001b[0m \u001b[0mt\u001b[0m \u001b[0;32min\u001b[0m \u001b[0mrange\u001b[0m\u001b[0;34m(\u001b[0m\u001b[0;36m10000\u001b[0m\u001b[0;34m)\u001b[0m\u001b[0;34m:\u001b[0m\u001b[0;34m\u001b[0m\u001b[0m\n\u001b[1;32m      8\u001b[0m \u001b[0;31m#     print sess.run(dynamics.eps)\u001b[0m\u001b[0;34m\u001b[0m\u001b[0;34m\u001b[0m\u001b[0m\n\u001b[0;32m----> 9\u001b[0;31m     \u001b[0msamples\u001b[0m\u001b[0;34m,\u001b[0m \u001b[0mloss_\u001b[0m\u001b[0;34m,\u001b[0m \u001b[0mpx_\u001b[0m\u001b[0;34m,\u001b[0m \u001b[0m_\u001b[0m \u001b[0;34m=\u001b[0m \u001b[0msess\u001b[0m\u001b[0;34m.\u001b[0m\u001b[0mrun\u001b[0m\u001b[0;34m(\u001b[0m\u001b[0;34m[\u001b[0m\u001b[0mMHx\u001b[0m\u001b[0;34m[\u001b[0m\u001b[0;36m0\u001b[0m\u001b[0;34m]\u001b[0m\u001b[0;34m,\u001b[0m \u001b[0mloss\u001b[0m\u001b[0;34m,\u001b[0m \u001b[0mpx\u001b[0m\u001b[0;34m,\u001b[0m \u001b[0mtrain_op\u001b[0m\u001b[0;34m]\u001b[0m\u001b[0;34m,\u001b[0m \u001b[0;34m{\u001b[0m\u001b[0mx\u001b[0m\u001b[0;34m:\u001b[0m \u001b[0msamples\u001b[0m\u001b[0;34m,\u001b[0m \u001b[0mlr\u001b[0m\u001b[0;34m:\u001b[0m \u001b[0;36m1e-2\u001b[0m\u001b[0;34m}\u001b[0m\u001b[0;34m)\u001b[0m\u001b[0;34m\u001b[0m\u001b[0m\n\u001b[0m\u001b[1;32m     10\u001b[0m     \u001b[0mL\u001b[0m\u001b[0;34m.\u001b[0m\u001b[0mappend\u001b[0m\u001b[0;34m(\u001b[0m\u001b[0mloss_\u001b[0m\u001b[0;34m)\u001b[0m\u001b[0;34m\u001b[0m\u001b[0m\n\u001b[1;32m     11\u001b[0m     \u001b[0;32mif\u001b[0m \u001b[0mt\u001b[0m \u001b[0;34m%\u001b[0m \u001b[0;36m100\u001b[0m \u001b[0;34m==\u001b[0m \u001b[0;36m0\u001b[0m\u001b[0;34m:\u001b[0m\u001b[0;34m\u001b[0m\u001b[0m\n",
      "\u001b[0;32m/home/danilevy/anaconda2/lib/python2.7/site-packages/tensorflow/python/client/session.pyc\u001b[0m in \u001b[0;36mrun\u001b[0;34m(self, fetches, feed_dict, options, run_metadata)\u001b[0m\n\u001b[1;32m    893\u001b[0m     \u001b[0;32mtry\u001b[0m\u001b[0;34m:\u001b[0m\u001b[0;34m\u001b[0m\u001b[0m\n\u001b[1;32m    894\u001b[0m       result = self._run(None, fetches, feed_dict, options_ptr,\n\u001b[0;32m--> 895\u001b[0;31m                          run_metadata_ptr)\n\u001b[0m\u001b[1;32m    896\u001b[0m       \u001b[0;32mif\u001b[0m \u001b[0mrun_metadata\u001b[0m\u001b[0;34m:\u001b[0m\u001b[0;34m\u001b[0m\u001b[0m\n\u001b[1;32m    897\u001b[0m         \u001b[0mproto_data\u001b[0m \u001b[0;34m=\u001b[0m \u001b[0mtf_session\u001b[0m\u001b[0;34m.\u001b[0m\u001b[0mTF_GetBuffer\u001b[0m\u001b[0;34m(\u001b[0m\u001b[0mrun_metadata_ptr\u001b[0m\u001b[0;34m)\u001b[0m\u001b[0;34m\u001b[0m\u001b[0m\n",
      "\u001b[0;32m/home/danilevy/anaconda2/lib/python2.7/site-packages/tensorflow/python/client/session.pyc\u001b[0m in \u001b[0;36m_run\u001b[0;34m(self, handle, fetches, feed_dict, options, run_metadata)\u001b[0m\n\u001b[1;32m   1122\u001b[0m     \u001b[0;32mif\u001b[0m \u001b[0mfinal_fetches\u001b[0m \u001b[0;32mor\u001b[0m \u001b[0mfinal_targets\u001b[0m \u001b[0;32mor\u001b[0m \u001b[0;34m(\u001b[0m\u001b[0mhandle\u001b[0m \u001b[0;32mand\u001b[0m \u001b[0mfeed_dict_tensor\u001b[0m\u001b[0;34m)\u001b[0m\u001b[0;34m:\u001b[0m\u001b[0;34m\u001b[0m\u001b[0m\n\u001b[1;32m   1123\u001b[0m       results = self._do_run(handle, final_targets, final_fetches,\n\u001b[0;32m-> 1124\u001b[0;31m                              feed_dict_tensor, options, run_metadata)\n\u001b[0m\u001b[1;32m   1125\u001b[0m     \u001b[0;32melse\u001b[0m\u001b[0;34m:\u001b[0m\u001b[0;34m\u001b[0m\u001b[0m\n\u001b[1;32m   1126\u001b[0m       \u001b[0mresults\u001b[0m \u001b[0;34m=\u001b[0m \u001b[0;34m[\u001b[0m\u001b[0;34m]\u001b[0m\u001b[0;34m\u001b[0m\u001b[0m\n",
      "\u001b[0;32m/home/danilevy/anaconda2/lib/python2.7/site-packages/tensorflow/python/client/session.pyc\u001b[0m in \u001b[0;36m_do_run\u001b[0;34m(self, handle, target_list, fetch_list, feed_dict, options, run_metadata)\u001b[0m\n\u001b[1;32m   1319\u001b[0m     \u001b[0;32mif\u001b[0m \u001b[0mhandle\u001b[0m \u001b[0;32mis\u001b[0m \u001b[0mNone\u001b[0m\u001b[0;34m:\u001b[0m\u001b[0;34m\u001b[0m\u001b[0m\n\u001b[1;32m   1320\u001b[0m       return self._do_call(_run_fn, self._session, feeds, fetches, targets,\n\u001b[0;32m-> 1321\u001b[0;31m                            options, run_metadata)\n\u001b[0m\u001b[1;32m   1322\u001b[0m     \u001b[0;32melse\u001b[0m\u001b[0;34m:\u001b[0m\u001b[0;34m\u001b[0m\u001b[0m\n\u001b[1;32m   1323\u001b[0m       \u001b[0;32mreturn\u001b[0m \u001b[0mself\u001b[0m\u001b[0;34m.\u001b[0m\u001b[0m_do_call\u001b[0m\u001b[0;34m(\u001b[0m\u001b[0m_prun_fn\u001b[0m\u001b[0;34m,\u001b[0m \u001b[0mself\u001b[0m\u001b[0;34m.\u001b[0m\u001b[0m_session\u001b[0m\u001b[0;34m,\u001b[0m \u001b[0mhandle\u001b[0m\u001b[0;34m,\u001b[0m \u001b[0mfeeds\u001b[0m\u001b[0;34m,\u001b[0m \u001b[0mfetches\u001b[0m\u001b[0;34m)\u001b[0m\u001b[0;34m\u001b[0m\u001b[0m\n",
      "\u001b[0;32m/home/danilevy/anaconda2/lib/python2.7/site-packages/tensorflow/python/client/session.pyc\u001b[0m in \u001b[0;36m_do_call\u001b[0;34m(self, fn, *args)\u001b[0m\n\u001b[1;32m   1325\u001b[0m   \u001b[0;32mdef\u001b[0m \u001b[0m_do_call\u001b[0m\u001b[0;34m(\u001b[0m\u001b[0mself\u001b[0m\u001b[0;34m,\u001b[0m \u001b[0mfn\u001b[0m\u001b[0;34m,\u001b[0m \u001b[0;34m*\u001b[0m\u001b[0margs\u001b[0m\u001b[0;34m)\u001b[0m\u001b[0;34m:\u001b[0m\u001b[0;34m\u001b[0m\u001b[0m\n\u001b[1;32m   1326\u001b[0m     \u001b[0;32mtry\u001b[0m\u001b[0;34m:\u001b[0m\u001b[0;34m\u001b[0m\u001b[0m\n\u001b[0;32m-> 1327\u001b[0;31m       \u001b[0;32mreturn\u001b[0m \u001b[0mfn\u001b[0m\u001b[0;34m(\u001b[0m\u001b[0;34m*\u001b[0m\u001b[0margs\u001b[0m\u001b[0;34m)\u001b[0m\u001b[0;34m\u001b[0m\u001b[0m\n\u001b[0m\u001b[1;32m   1328\u001b[0m     \u001b[0;32mexcept\u001b[0m \u001b[0merrors\u001b[0m\u001b[0;34m.\u001b[0m\u001b[0mOpError\u001b[0m \u001b[0;32mas\u001b[0m \u001b[0me\u001b[0m\u001b[0;34m:\u001b[0m\u001b[0;34m\u001b[0m\u001b[0m\n\u001b[1;32m   1329\u001b[0m       \u001b[0mmessage\u001b[0m \u001b[0;34m=\u001b[0m \u001b[0mcompat\u001b[0m\u001b[0;34m.\u001b[0m\u001b[0mas_text\u001b[0m\u001b[0;34m(\u001b[0m\u001b[0me\u001b[0m\u001b[0;34m.\u001b[0m\u001b[0mmessage\u001b[0m\u001b[0;34m)\u001b[0m\u001b[0;34m\u001b[0m\u001b[0m\n",
      "\u001b[0;32m/home/danilevy/anaconda2/lib/python2.7/site-packages/tensorflow/python/client/session.pyc\u001b[0m in \u001b[0;36m_run_fn\u001b[0;34m(session, feed_dict, fetch_list, target_list, options, run_metadata)\u001b[0m\n\u001b[1;32m   1304\u001b[0m           return tf_session.TF_Run(session, options,\n\u001b[1;32m   1305\u001b[0m                                    \u001b[0mfeed_dict\u001b[0m\u001b[0;34m,\u001b[0m \u001b[0mfetch_list\u001b[0m\u001b[0;34m,\u001b[0m \u001b[0mtarget_list\u001b[0m\u001b[0;34m,\u001b[0m\u001b[0;34m\u001b[0m\u001b[0m\n\u001b[0;32m-> 1306\u001b[0;31m                                    status, run_metadata)\n\u001b[0m\u001b[1;32m   1307\u001b[0m \u001b[0;34m\u001b[0m\u001b[0m\n\u001b[1;32m   1308\u001b[0m     \u001b[0;32mdef\u001b[0m \u001b[0m_prun_fn\u001b[0m\u001b[0;34m(\u001b[0m\u001b[0msession\u001b[0m\u001b[0;34m,\u001b[0m \u001b[0mhandle\u001b[0m\u001b[0;34m,\u001b[0m \u001b[0mfeed_dict\u001b[0m\u001b[0;34m,\u001b[0m \u001b[0mfetch_list\u001b[0m\u001b[0;34m)\u001b[0m\u001b[0;34m:\u001b[0m\u001b[0;34m\u001b[0m\u001b[0m\n",
      "\u001b[0;31mKeyboardInterrupt\u001b[0m: "
     ]
    }
   ],
   "source": [
    "samples = np.random.randn(200, 2)\n",
    "L = []\n",
    "\n",
    "sess = tf.Session()\n",
    "sess.run(tf.global_variables_initializer())\n",
    "\n",
    "for t in range(10000):\n",
    "#     print sess.run(dynamics.eps)\n",
    "    samples, loss_, px_, _ = sess.run([MHx[0], loss, px, train_op], {x: samples, lr: 1e-2})\n",
    "    L.append(loss_)\n",
    "    if t % 100 == 0:\n",
    "        print '%d/%d: Loss=%.2e, p_acc=%.2f' % (t, 10000, loss_, np.mean(px_))\n",
    "        "
   ]
  },
  {
   "cell_type": "code",
   "execution_count": 63,
   "metadata": {},
   "outputs": [
    {
     "data": {
      "text/plain": [
       "[<matplotlib.lines.Line2D at 0x7fdb9a138490>]"
      ]
     },
     "execution_count": 63,
     "metadata": {},
     "output_type": "execute_result"
    },
    {
     "data": {
      "image/png": "[encoded data removed]",
      "text/plain": [
       "<matplotlib.figure.Figure at 0x7fdba3e6ff90>"
      ]
     },
     "metadata": {},
     "output_type": "display_data"
    }
   ],
   "source": [
    "def smooth(x, k=25):\n",
    "    n = len(x)\n",
    "    return [np.mean(x[t: t+k]) for t in range(n - k)]\n",
    "plt.plot(smooth(L, k=50))"
   ]
  },
  {
   "cell_type": "code",
   "execution_count": 31,
   "metadata": {},
   "outputs": [
    {
     "data": {
      "text/plain": [
       "<matplotlib.collections.PathCollection at 0x7fdb9a341e90>"
      ]
     },
     "execution_count": 31,
     "metadata": {},
     "output_type": "execute_result"
    },
    {
     "data": {
      "image/png": "[encoded data removed]",
      "text/plain": [
       "<matplotlib.figure.Figure at 0x7fdb8b9fc950>"
      ]
     },
     "metadata": {},
     "output_type": "display_data"
    }
   ],
   "source": [
    "plt.scatter(samples[:, 0], samples[:, 1])"
   ]
  },
  {
   "cell_type": "code",
   "execution_count": 47,
   "metadata": {
    "collapsed": true
   },
   "outputs": [],
   "source": [
    "# samples = np.sqrt(0.1) * np.random.randn(200, 2)\n",
    "samples = gaussian.get_samples(200)\n",
    "\n",
    "final_samples = []\n",
    "for t in range(2000):\n",
    "    final_samples.append(np.copy(samples))\n",
    "    samples = sess.run(MHx[0], {x: samples})"
   ]
  },
  {
   "cell_type": "code",
   "execution_count": 49,
   "metadata": {},
   "outputs": [
    {
     "data": {
      "text/plain": [
       "(2000, 200, 2)"
      ]
     },
     "execution_count": 49,
     "metadata": {},
     "output_type": "execute_result"
    }
   ],
   "source": [
    "F.shape"
   ]
  },
  {
   "cell_type": "code",
   "execution_count": 53,
   "metadata": {},
   "outputs": [
    {
     "data": {
      "text/plain": [
       "[<matplotlib.lines.Line2D at 0x7fdba28ade50>]"
      ]
     },
     "execution_count": 53,
     "metadata": {},
     "output_type": "execute_result"
    },
    {
     "data": {
      "image/png": "[encoded data removed]",
      "text/plain": [
       "<matplotlib.figure.Figure at 0x7fdba28ad610>"
      ]
     },
     "metadata": {},
     "output_type": "display_data"
    }
   ],
   "source": [
    "F = np.array(final_samples)\n",
    "plt.scatter(samples[:, 0], samples[:, 1], color='grey', alpha=0.2)\n",
    "plt.plot(F[1000:1010, 1, 0], F[1000:1010, 1, 1], marker='d')"
   ]
  },
  {
   "cell_type": "code",
   "execution_count": 54,
   "metadata": {},
   "outputs": [
    {
     "data": {
      "text/plain": [
       "[<matplotlib.lines.Line2D at 0x7fdba2715a10>]"
      ]
     },
     "execution_count": 54,
     "metadata": {},
     "output_type": "execute_result"
    },
    {
     "data": {
      "image/png": "[encoded data removed]",
      "text/plain": [
       "<matplotlib.figure.Figure at 0x7fdba266bd10>"
      ]
     },
     "metadata": {},
     "output_type": "display_data"
    }
   ],
   "source": [
    "plt.plot([autocovariance(F[1000:, :, :], tau=t) for t in range(199)])"
   ]
  },
  {
   "cell_type": "code",
   "execution_count": null,
   "metadata": {
    "collapsed": true
   },
   "outputs": [],
   "source": [
    "F = np.array(final_samples[1000:])\n",
    "mu = F.mean(axis=(0, 1))\n",
    "I = np.array(H[:1000])\n",
    "plt.plot([autocovariance(F - mu, tau=t) for t in range(199)], label='CS')\n",
    "plt.plot([autocovariance(G - mu, tau=t) for t in range(199)], label='CS')\n",
    "plt.plot([autocovariance(I - mu, tau=t) for t in range(199)], label='CS')\n",
    "plt.xlim(0, 100)"
   ]
  },
  {
   "cell_type": "code",
   "execution_count": null,
   "metadata": {
    "collapsed": true
   },
   "outputs": [],
   "source": [
    "S = gaussian.get_samples(200)\n",
    "plt.scatter(S[:, 0], S[:, 1])\n",
    "plt.plot(G[:20, 1, 0], G[:20, 1, 1], color='red', marker='d', linewidth=1.2)"
   ]
  },
  {
   "cell_type": "code",
   "execution_count": null,
   "metadata": {
    "collapsed": true
   },
   "outputs": [],
   "source": [
    "plt.hist(F[:1000, 5, 0].flatten(), bins=20)"
   ]
  },
  {
   "cell_type": "code",
   "execution_count": null,
   "metadata": {
    "collapsed": true
   },
   "outputs": [],
   "source": [
    "H = get_hmc_samples(eps=0.2)"
   ]
  },
  {
   "cell_type": "code",
   "execution_count": null,
   "metadata": {
    "collapsed": true
   },
   "outputs": [],
   "source": [
    "G = np.array(H[1000:])\n",
    "\n",
    "plt.hist(G[:500, 50, 0].flatten(), bins=20)"
   ]
  },
  {
   "cell_type": "code",
   "execution_count": 9,
   "metadata": {
    "collapsed": true
   },
   "outputs": [],
   "source": [
    "def autocovariance(X, tau=0):\n",
    "    dT, dN, dX = np.shape(X)\n",
    "    s = 0.\n",
    "    for t in range(dT - tau):\n",
    "        x1 = X[t, :, :]\n",
    "        x2 = X[t+tau, :, :]\n",
    "\n",
    "        s += np.sum(x1 * x2) / dN\n",
    "\n",
    "    return s / (dT - tau)"
   ]
  },
  {
   "cell_type": "code",
   "execution_count": null,
   "metadata": {
    "collapsed": true
   },
   "outputs": [],
   "source": [
    "for eps in np.arange(0.1, 0.4, 0.05):\n",
    "    H = get_hmc_samples(eps)\n",
    "    plt.plot([autocovariance(H, tau=t) for t in range(199)], label='$\\epsilon=%.3f$' % eps)\n",
    "plt.plot(np.abs([autocovariance(np.array(final_samples), tau=t) for t in range(199)]), label='Cosa Nostra')\n",
    "plt.xlim(0, 50)\n",
    "plt.xlabel('# gradient steps')\n",
    "plt.ylabel('Autocovariance')\n",
    "plt.legend()"
   ]
  },
  {
   "cell_type": "code",
   "execution_count": 22,
   "metadata": {},
   "outputs": [
    {
     "name": "stdout",
     "output_type": "stream",
     "text": [
      "getting energy fn\n"
     ]
    }
   ],
   "source": [
    "H1 = get_hmc_samples(eps=0.1, steps=2000)"
   ]
  },
  {
   "cell_type": "code",
   "execution_count": 21,
   "metadata": {
    "collapsed": true
   },
   "outputs": [],
   "source": [
    "gaussian.sigma = 3."
   ]
  },
  {
   "cell_type": "code",
   "execution_count": 29,
   "metadata": {},
   "outputs": [
    {
     "name": "stdout",
     "output_type": "stream",
     "text": [
      "[ 0.0508208  -0.26301705]\n"
     ]
    }
   ],
   "source": [
    "mu = H1.mean(axis=(0, 1))\n",
    "print mu"
   ]
  },
  {
   "cell_type": "code",
   "execution_count": 80,
   "metadata": {},
   "outputs": [
    {
     "name": "stdout",
     "output_type": "stream",
     "text": [
      "getting energy fn\n",
      "[ 1.          1.          0.98000002  0.99000001  1.        ]\n",
      "[ 1.          1.          1.          0.98000002  1.        ]\n",
      "[ 1.          0.95999998  1.          1.          0.99000001]\n",
      "[ 1.    1.    1.    1.    0.81]\n",
      "[ 1.          1.          0.99000001  1.          1.        ]\n",
      "[ 1.          0.95999998  0.02        0.99000001  1.        ]\n",
      "[ 1.          1.          1.          1.          0.98000002]\n",
      "[ 1.          0.95999998  1.          1.          1.        ]\n",
      "[ 1.          1.          0.77999997  1.          1.        ]\n",
      "[ 1.          0.69999999  1.          1.          0.98000002]\n",
      "[ 1.    1.    0.05  1.    1.  ]\n",
      "[ 1.          1.          0.72000003  1.          1.        ]\n",
      "[ 1.          0.99000001  0.83999997  1.          0.97000003]\n",
      "[ 1.          0.80000001  0.88999999  1.          1.        ]\n",
      "[ 1.  0.  1.  1.  1.]\n",
      "[ 1.          0.          1.          0.93000001  1.        ]\n",
      "[ 1.          0.02        1.          1.          0.99000001]\n",
      "[ 1.          0.          0.99000001  1.          1.        ]\n",
      "[ 1.  0.  1.  1.  1.]\n",
      "[ 1.          0.          1.          1.          0.97000003]\n",
      "[ 1.          0.          1.          0.99000001  1.        ]\n",
      "[ 1.  1.  1.  1.  1.]\n",
      "[ 1.  1.  0.  1.  1.]\n",
      "[ 1.          1.          0.88999999  1.          1.        ]\n",
      "[ 1.          1.          0.          0.99000001  1.        ]\n",
      "[ 1.          1.          0.97000003  1.          1.        ]\n",
      "[ 1.          1.          0.95999998  1.          1.        ]\n",
      "[ 1.          1.          0.43000001  1.          1.        ]\n",
      "[ 1.          1.          0.94999999  1.          0.99000001]\n",
      "[ 1.          1.          0.94999999  1.          0.94999999]\n",
      "[ 1.  1.  1.  1.  1.]\n",
      "[ 1.          1.          1.          0.99000001  1.        ]\n",
      "[ 1.  1.  1.  1.  1.]\n",
      "[ 1.          1.          0.28        0.99000001  1.        ]\n",
      "[ 1.          1.          0.80000001  1.          1.        ]\n",
      "[ 1.          1.          0.92000002  0.99000001  1.        ]\n",
      "[ 1.          1.          0.79000002  1.          0.        ]\n",
      "[ 1.  1.  1.  1.  0.]\n",
      "[ 1.          1.          0.94999999  1.          0.47999999]\n",
      "[ 1.    1.    1.    1.    0.03]\n",
      "[ 1.    1.    1.    1.    0.09]\n",
      "[ 1.  1.  1.  1.  0.]\n",
      "[ 1.          1.          1.          0.99000001  0.        ]\n",
      "[ 1.  1.  1.  1.  0.]\n",
      "[ 1.          1.          0.95999998  0.99000001  0.        ]\n",
      "[ 1.          1.          0.99000001  1.          0.01      ]\n",
      "[ 1.    1.    1.    1.    0.09]\n",
      "[ 1.  1.  1.  1.  1.]\n",
      "[ 1.          1.          0.97000003  1.          1.        ]\n",
      "[ 1.          1.          0.97000003  1.          1.        ]\n",
      "[ 1.          1.          1.          1.          0.95999998]\n",
      "[ 1.          1.          0.99000001  0.98000002  1.        ]\n",
      "[ 1.          1.          0.99000001  1.          1.        ]\n",
      "[ 1.  1.  1.  1.  1.]\n",
      "[ 1.  1.  1.  1.  1.]\n",
      "[ 1.          1.          1.          1.          0.98000002]\n",
      "[ 1.  1.  1.  1.  1.]\n",
      "[ 1.  1.  1.  1.  1.]\n",
      "[ 1.  1.  0.  1.  1.]\n",
      "[ 1.          1.          0.87        1.          0.99000001]\n",
      "[ 1.          1.          0.23        0.99000001  1.        ]\n",
      "[ 1.  1.  1.  1.  1.]\n",
      "[ 1.          1.          0.99000001  1.          1.        ]\n",
      "[ 1.          1.          0.97000003  0.91000003  1.        ]\n",
      "[ 1.          1.          0.98000002  0.81        0.91000003]\n",
      "[ 1.          1.          1.          1.          0.95999998]\n",
      "[ 1.  1.  1.  1.  1.]\n",
      "[ 1.          1.          0.98000002  0.80000001  0.94999999]\n",
      "[ 1.          1.          0.99000001  0.87        0.28      ]\n",
      "[ 1.  1.  1.  1.  0.]\n",
      "[ 1.          1.          0.98000002  1.          0.        ]\n",
      "[ 1.  1.  1.  1.  1.]\n",
      "[ 1.          1.          0.94999999  0.98000002  0.        ]\n",
      "[ 1.          1.          1.          1.          0.81999999]\n",
      "[ 1.          1.          0.97000003  1.          0.86000001]\n",
      "[ 1.          1.          0.49000001  0.95999998  0.98000002]\n",
      "[ 1.  1.  1.  1.  1.]\n",
      "[ 1.          1.          0.68000001  1.          1.        ]\n",
      "[ 1.  1.  0.  1.  0.]\n",
      "[ 1.          1.          0.01        0.86000001  0.98000002]\n",
      "[ 1.          1.          1.          1.          0.95999998]\n",
      "[ 1.          1.          1.          1.          0.99000001]\n",
      "[ 1.          1.          0.89999998  0.92000002  0.98000002]\n",
      "[ 1.          1.          0.98000002  1.          0.92000002]\n",
      "[ 1.  1.  1.  1.  1.]\n",
      "[ 1.  1.  1.  1.  1.]\n",
      "[ 1.          1.          1.          0.97000003  1.        ]\n",
      "[ 1.  1.  1.  1.  0.]\n",
      "[ 1.          1.          0.99000001  0.99000001  0.69      ]\n",
      "[ 1.  1.  1.  1.  0.]\n",
      "[ 1.          1.          0.94999999  1.          0.80000001]\n",
      "[ 1.          1.          1.          1.          0.76999998]\n",
      "[ 1.          1.          0.99000001  1.          1.        ]\n",
      "[ 1.  1.  1.  1.  1.]\n",
      "[ 1.    1.    1.    0.25  1.  ]\n",
      "[ 1.          1.          1.          0.99000001  0.17      ]\n",
      "[ 1.          1.          1.          1.          0.70999998]\n",
      "[ 1.          1.          0.91000003  0.99000001  1.        ]\n",
      "[ 1.          1.          0.87        0.66000003  1.        ]\n",
      "[ 1.  1.  1.  1.  1.]\n",
      "[ 1.          1.          1.          0.94999999  0.99000001]\n",
      "[ 1.          1.          0.68000001  1.          1.        ]\n",
      "[ 1.  1.  0.  1.  1.]\n",
      "[ 1.  1.  1.  1.  1.]\n",
      "[ 1.  1.  1.  1.  1.]\n",
      "[ 1.          1.          1.          0.75999999  1.        ]\n",
      "[ 1.          1.          0.97000003  0.03        1.        ]\n",
      "[ 1.          1.          0.91000003  0.97000003  1.        ]\n",
      "[ 1.          1.          1.          0.82999998  1.        ]\n",
      "[ 1.    1.    0.94  1.    1.  ]\n",
      "[ 1.          1.          0.98000002  1.          1.        ]\n",
      "[ 1.          1.          0.41        0.91000003  0.98000002]\n",
      "[ 1.  1.  1.  1.  1.]\n",
      "[ 1.  1.  0.  0.  1.]\n",
      "[ 1.          1.          0.79000002  0.87        1.        ]\n",
      "[ 1.          1.          0.99000001  0.85000002  1.        ]\n",
      "[ 1.          1.          0.99000001  0.38999999  1.        ]\n",
      "[ 1.          1.          1.          0.86000001  0.99000001]\n",
      "[ 1.  1.  1.  1.  1.]\n",
      "[ 1.  1.  1.  1.  1.]\n",
      "[ 1.          1.          1.          0.99000001  0.99000001]\n",
      "[ 1.          1.          0.99000001  1.          1.        ]\n",
      "[ 1.          1.          0.97000003  0.99000001  1.        ]\n",
      "[ 1.  1.  1.  1.  1.]\n",
      "[ 1.          1.          0.97000003  1.          0.81      ]\n",
      "[ 1.          1.          1.          1.          0.49000001]\n",
      "[ 1.          1.          1.          1.          0.99000001]\n",
      "[ 1.  1.  1.  1.  1.]\n",
      "[ 1.          1.          1.          1.          0.99000001]\n",
      "[ 1.          1.          0.99000001  0.98000002  1.        ]\n",
      "[ 1.          1.          1.          1.          0.97000003]\n",
      "[ 1.          1.          0.98000002  0.98000002  0.98000002]\n",
      "[ 1.  1.  1.  1.  1.]\n",
      "[ 1.  1.  1.  1.  1.]\n",
      "[ 1.          1.          0.99000001  0.99000001  1.        ]\n",
      "[ 1.          1.          1.          1.          0.99000001]\n",
      "[ 1.          1.          1.          1.          0.97000003]\n",
      "[ 1.  1.  1.  1.  1.]\n",
      "[ 1.          1.          0.99000001  1.          0.98000002]\n",
      "[ 1.  1.  1.  1.  1.]\n",
      "[ 1.          1.          0.99000001  1.          1.        ]\n",
      "[ 1.          1.          1.          1.          0.99000001]\n",
      "[ 1.          1.          1.          0.97000003  1.        ]\n",
      "[ 1.  1.  1.  1.  1.]\n",
      "[ 1.          1.          0.99000001  0.95999998  1.        ]\n",
      "[ 1.          1.          0.88999999  1.          0.99000001]\n",
      "[ 1.          1.          1.          0.99000001  0.88999999]\n",
      "[ 1.  1.  1.  1.  1.]\n",
      "[ 1.          1.          1.          1.          0.99000001]\n",
      "[ 1.          1.          1.          1.          0.99000001]\n",
      "[ 1.          1.          0.99000001  0.95999998  1.        ]\n",
      "[ 1.  1.  1.  1.  1.]\n",
      "[ 1.          1.          1.          1.          0.79000002]\n",
      "[ 1.  1.  1.  1.  0.]\n",
      "[ 1.          1.          1.          1.          0.99000001]\n",
      "[ 1.          1.          1.          0.99000001  1.        ]\n",
      "[ 1.  1.  1.  1.  1.]\n",
      "[ 1.  1.  1.  1.  1.]\n",
      "[ 1.  1.  1.  1.  1.]\n",
      "[ 1.          1.          1.          0.99000001  1.        ]\n",
      "[ 1.          1.          1.          0.99000001  1.        ]\n",
      "[ 1.          1.          1.          0.99000001  1.        ]\n",
      "[ 1.          1.          0.99000001  1.          1.        ]\n",
      "[ 1.  1.  1.  1.  1.]\n",
      "[ 1.          1.          0.93000001  0.97000003  1.        ]\n",
      "[ 1.  1.  1.  1.  1.]\n",
      "[ 1.          1.          1.          0.98000002  1.        ]\n",
      "[ 1.  1.  1.  1.  1.]\n",
      "[ 1.          1.          1.          1.          0.99000001]\n",
      "[ 1.          1.          0.99000001  0.99000001  0.99000001]\n",
      "[ 1.  1.  1.  1.  1.]\n",
      "[ 1.  1.  1.  1.  1.]\n",
      "[ 1.          1.          1.          0.99000001  1.        ]\n",
      "[ 1.          1.          0.88        0.99000001  1.        ]\n",
      "[ 1.          1.          0.98000002  1.          1.        ]\n",
      "[ 1.  1.  0.  1.  1.]\n",
      "[ 1.          1.          0.79000002  1.          0.99000001]\n",
      "[ 1.          1.          0.41999999  0.99000001  1.        ]\n",
      "[ 1.          1.          1.          1.          0.99000001]\n",
      "[ 1.          1.          0.99000001  1.          0.99000001]\n",
      "[ 1.          1.          0.98000002  1.          1.        ]\n",
      "[ 1.  1.  1.  1.  1.]\n",
      "[ 1.  1.  1.  1.  1.]\n",
      "[ 1.          1.          1.          0.94999999  0.99000001]\n",
      "[ 1.  1.  0.  1.  1.]\n",
      "[ 1.   1.   0.1  1.   1. ]\n",
      "[ 1.          1.          0.79000002  0.83999997  1.        ]\n",
      "[ 1.          1.          0.70999998  1.          0.99000001]\n",
      "[ 1.  1.  1.  1.  1.]\n",
      "[ 1.          1.          0.94        1.          0.99000001]\n",
      "[ 1.          1.          0.98000002  1.          0.98000002]\n",
      "[ 1.          1.          0.99000001  1.          1.        ]\n",
      "[ 1.  1.  1.  1.  1.]\n",
      "[ 1.  1.  1.  1.  1.]\n",
      "[ 1.  1.  1.  1.  1.]\n",
      "[ 1.          1.          0.99000001  1.          0.93000001]\n",
      "[ 1.  1.  1.  1.  1.]\n",
      "[ 1.    1.    0.02  1.    1.  ]\n",
      "[ 1.          1.          1.          1.          0.99000001]\n",
      "[ 1.          1.          1.          0.98000002  1.        ]\n",
      "[ 1.          1.          1.          0.99000001  1.        ]\n",
      "[ 1.  1.  1.  1.  1.]\n",
      "[ 1.          1.          1.          0.98000002  1.        ]\n",
      "[ 1.  1.  1.  1.  1.]\n",
      "[ 1.  1.  1.  1.  1.]\n",
      "[ 1.          1.          1.          1.          0.92000002]\n",
      "[ 1.          1.          1.          1.          0.98000002]\n",
      "[ 1.          1.          1.          0.98000002  0.95999998]\n",
      "[ 1.          1.          0.99000001  1.          0.99000001]\n",
      "[ 1.          1.          0.99000001  1.          1.        ]\n",
      "[ 1.  1.  1.  1.  1.]\n",
      "[ 1.          1.          1.          1.          0.75999999]\n",
      "[ 1.          1.          1.          0.99000001  1.        ]\n",
      "[ 1.          1.          1.          0.82999998  1.        ]\n",
      "[ 1.          1.          0.99000001  1.          0.97000003]\n",
      "[ 1.  1.  1.  1.  1.]\n",
      "[ 1.          1.          0.95999998  0.99000001  0.98000002]\n",
      "[ 1.          1.          1.          1.          0.97000003]\n",
      "[ 1.  1.  1.  1.  1.]\n",
      "[ 1.          1.          1.          0.92000002  1.        ]\n",
      "[ 1.          1.          1.          0.37        0.99000001]\n",
      "[ 1.  1.  1.  1.  1.]\n",
      "[ 1.    1.    1.    0.94  1.  ]\n",
      "[ 1.          1.          0.94999999  0.89999998  1.        ]\n",
      "[ 1.          1.          1.          0.92000002  1.        ]\n",
      "[ 1.          1.          1.          0.99000001  0.97000003]\n",
      "[ 1.          1.          1.          1.          0.99000001]\n",
      "[ 1.          1.          1.          0.99000001  0.81999999]\n",
      "[ 1.          1.          1.          1.          0.98000002]\n",
      "[ 1.  1.  1.  1.  1.]\n",
      "[ 1.          1.          1.          1.          0.80000001]\n",
      "[ 1.          1.          0.99000001  1.          0.95999998]\n",
      "[ 1.          1.          1.          0.92000002  0.95999998]\n",
      "[ 1.          1.          0.99000001  1.          1.        ]\n",
      "[ 1.          1.          1.          1.          0.98000002]\n",
      "[ 1.          1.          0.99000001  0.98000002  1.        ]\n",
      "[ 1.          1.          1.          1.          0.93000001]\n",
      "[ 1.          1.          1.          1.          0.72000003]\n",
      "[ 1.          1.          0.97000003  1.          1.        ]\n",
      "[ 1.          1.          0.92000002  0.94999999  1.        ]\n",
      "[ 1.          1.          0.83999997  0.99000001  1.        ]\n",
      "[ 1.          1.          0.81999999  1.          1.        ]\n",
      "[ 1.          1.          0.92000002  0.97000003  0.98000002]\n",
      "[ 1.    1.    0.94  1.    1.  ]\n",
      "[ 1.          1.          0.98000002  1.          1.        ]\n",
      "[ 1.          1.          0.99000001  1.          1.        ]\n",
      "[ 1.  1.  1.  1.  1.]\n",
      "[ 1.          1.          1.          0.97000003  0.99000001]\n",
      "[ 1.          1.          0.94999999  1.          1.        ]\n",
      "[ 1.  1.  1.  1.  1.]\n",
      "[ 1.          1.          1.          1.          0.99000001]\n",
      "[ 1.  1.  1.  1.  1.]\n",
      "[ 1.  1.  1.  1.  1.]\n",
      "[ 1.          1.          1.          0.72000003  1.        ]\n",
      "[ 1.  1.  1.  1.  1.]\n",
      "[ 1.          1.          1.          1.          0.99000001]\n",
      "[ 1.  1.  1.  1.  1.]\n",
      "[ 1.          1.          0.98000002  1.          1.        ]\n",
      "[ 1.          1.          0.97000003  0.72000003  1.        ]\n",
      "[ 1.  1.  1.  1.  1.]\n",
      "[ 1.          1.          1.          0.94999999  1.        ]\n",
      "[ 1.  1.  1.  1.  1.]\n",
      "[ 1.    1.    1.    0.88  1.  ]\n",
      "[ 1.          1.          0.94999999  1.          1.        ]\n",
      "[ 1.          1.          1.          0.98000002  1.        ]\n",
      "[ 1.          1.          1.          1.          0.99000001]\n",
      "[ 1.          1.          1.          0.99000001  0.98000002]\n",
      "[ 1.  1.  1.  1.  1.]\n",
      "[ 1.  1.  1.  1.  1.]\n",
      "[ 1.          1.          1.          0.98000002  1.        ]\n",
      "[ 1.          1.          0.97000003  0.99000001  1.        ]\n",
      "[ 1.          1.          0.99000001  0.18000001  1.        ]\n",
      "[ 1.    1.    0.94  0.94  1.  ]\n",
      "[ 1.          1.          1.          0.98000002  1.        ]\n",
      "[ 1.          1.          1.          0.99000001  1.        ]\n",
      "[ 1.  1.  1.  1.  1.]\n",
      "[ 1.  1.  1.  1.  1.]\n",
      "[ 1.  1.  1.  1.  1.]\n",
      "[ 1.          1.          0.97000003  1.          1.        ]\n",
      "[ 1.          1.          0.95999998  0.99000001  1.        ]\n",
      "[ 1.          1.          0.93000001  0.81999999  1.        ]\n",
      "[ 1.          1.          1.          0.94999999  1.        ]\n",
      "[ 1.          1.          0.85000002  1.          1.        ]\n",
      "[ 1.          1.          0.99000001  0.75999999  1.        ]\n",
      "[ 1.          1.          0.97000003  1.          1.        ]\n",
      "[ 1.  1.  1.  1.  1.]\n",
      "[ 1.  1.  1.  1.  1.]\n",
      "[ 1.          1.          1.          0.95999998  1.        ]\n",
      "[ 1.  1.  1.  1.  1.]\n",
      "[ 1.          1.          0.97000003  1.          1.        ]\n",
      "[ 1.          1.          1.          0.94999999  1.        ]\n",
      "[ 1.  1.  1.  1.  1.]\n",
      "[ 1.          1.          0.89999998  1.          1.        ]\n",
      "[ 1.  1.  1.  1.  1.]\n",
      "[ 1.  1.  1.  1.  1.]\n",
      "[ 1.  1.  1.  1.  1.]\n",
      "[ 1.          1.          0.97000003  0.98000002  1.        ]\n",
      "[ 1.   1.   0.2  1.   1. ]\n",
      "[ 1.          1.          0.17        0.99000001  1.        ]\n",
      "[ 1.    1.    0.01  1.    1.  ]\n",
      "[ 1.          1.          1.          0.94999999  1.        ]\n",
      "[ 1.  1.  1.  1.  1.]\n",
      "[ 1.          1.          0.92000002  0.97000003  1.        ]\n",
      "[ 1.          1.          1.          0.95999998  1.        ]\n",
      "[ 1.          1.          1.          0.93000001  1.        ]\n",
      "[ 1.  1.  1.  1.  1.]\n",
      "[ 1.  1.  1.  1.  1.]\n",
      "[ 1.  1.  1.  1.  1.]\n",
      "[ 1.          1.          0.98000002  1.          1.        ]\n",
      "[ 1.  1.  1.  1.  1.]\n",
      "[ 1.          1.          1.          0.97000003  1.        ]\n",
      "[ 1.  1.  1.  1.  1.]\n",
      "[ 1.  1.  1.  1.  1.]\n",
      "[ 1.          1.          1.          0.99000001  1.        ]\n",
      "[ 1.  1.  1.  1.  1.]\n",
      "[ 1.  1.  1.  1.  1.]\n",
      "[ 1.  1.  1.  1.  1.]\n",
      "[ 1.          1.          0.91000003  1.          1.        ]\n",
      "[ 1.          1.          1.          0.99000001  1.        ]\n",
      "[ 1.  1.  1.  1.  1.]\n",
      "[ 1.  1.  1.  1.  1.]\n",
      "[ 1.          1.          1.          0.99000001  1.        ]\n",
      "[ 1.  1.  1.  1.  1.]\n",
      "[ 1.  1.  1.  1.  1.]\n",
      "[ 1.          1.          0.83999997  1.          1.        ]\n",
      "[ 1.  1.  1.  1.  1.]\n",
      "[ 1.          1.          0.30000001  1.          1.        ]\n",
      "[ 1.  1.  1.  1.  1.]\n",
      "[ 1.  1.  1.  1.  1.]\n",
      "[ 1.  1.  1.  1.  1.]\n",
      "[ 1.          1.          1.          0.99000001  1.        ]\n",
      "[ 1.  1.  1.  1.  1.]\n",
      "[ 1.          1.          1.          0.99000001  1.        ]\n",
      "[ 1.  1.  1.  1.  1.]\n",
      "[ 1.          1.          1.          0.99000001  1.        ]\n",
      "[ 1.  1.  1.  1.  1.]\n",
      "[ 1.  1.  1.  1.  1.]\n",
      "[ 1.          1.          1.          0.99000001  1.        ]\n",
      "[ 1.          1.          1.          0.98000002  1.        ]\n",
      "[ 1.  1.  1.  1.  1.]\n",
      "[ 1.          1.          1.          0.99000001  1.        ]\n",
      "[ 1.  1.  1.  1.  1.]\n",
      "[ 1.  1.  1.  1.  1.]\n",
      "[ 1.          1.          1.          0.97000003  1.        ]\n",
      "[ 1.  1.  1.  1.  1.]\n",
      "[ 1.  1.  1.  1.  1.]\n",
      "[ 1.  1.  1.  1.  1.]\n",
      "[ 1.          1.          1.          0.99000001  1.        ]\n",
      "[ 1.  1.  1.  1.  1.]\n",
      "[ 1.  1.  1.  1.  1.]\n",
      "[ 1.  1.  1.  1.  1.]\n",
      "[ 1.  1.  1.  1.  1.]\n",
      "[ 1.          1.          1.          0.99000001  1.        ]\n",
      "[ 1.          1.          1.          0.98000002  1.        ]\n",
      "[ 1.  1.  1.  1.  1.]\n",
      "[ 1.          1.          1.          0.98000002  1.        ]\n",
      "[ 1.          1.          1.          0.95999998  1.        ]\n",
      "[ 1.  1.  1.  1.  1.]\n",
      "[ 1.    1.    1.    0.81  1.  ]\n",
      "[ 1.  1.  1.  1.  1.]\n",
      "[ 1.  1.  1.  1.  1.]\n",
      "[ 1.  1.  1.  1.  1.]\n",
      "[ 1.  1.  1.  1.  1.]\n",
      "[ 1.  1.  1.  1.  1.]\n",
      "[ 1.  1.  1.  1.  1.]\n",
      "[ 1.          1.          1.          0.97000003  1.        ]\n",
      "[ 1.  1.  1.  1.  1.]\n",
      "[ 1.  1.  1.  1.  1.]\n",
      "[ 1.  1.  1.  1.  1.]\n",
      "[ 1.    1.    1.    0.88  1.  ]\n",
      "[ 1.  1.  1.  1.  1.]\n",
      "[ 1.          1.          1.          0.98000002  1.        ]\n",
      "[ 1.  1.  1.  1.  1.]\n",
      "[ 1.  1.  1.  1.  1.]\n",
      "[ 1.  1.  1.  1.  1.]\n",
      "[ 1.  1.  1.  1.  1.]\n",
      "[ 1.  1.  1.  1.  1.]\n",
      "[ 1.  1.  1.  1.  1.]\n",
      "[ 1.  1.  1.  1.  1.]\n",
      "[ 1.  1.  1.  1.  1.]\n",
      "[ 1.  1.  1.  1.  1.]\n",
      "[ 1.  1.  1.  0.  1.]\n",
      "[ 1.          1.          1.          0.83999997  1.        ]\n",
      "[ 1.  1.  1.  1.  1.]\n",
      "[ 1.          1.          1.          0.82999998  1.        ]\n",
      "[ 1.  1.  1.  1.  1.]\n",
      "[ 1.  1.  1.  1.  1.]\n",
      "[ 1.          1.          1.          0.91000003  1.        ]\n",
      "[ 1.  1.  1.  1.  1.]\n",
      "[ 1.          1.          1.          0.95999998  1.        ]\n",
      "[ 1.  1.  1.  1.  1.]\n",
      "[ 1.          1.          1.          0.94999999  1.        ]\n"
     ]
    }
   ],
   "source": [
    "S = gaussian.get_samples(n=5)\n",
    "H = get_hmc_samples(0.3, samples=S, steps=400)\n",
    "# for eps in np.arange(0.1, 0.7, 0.1):\n",
    "#     H = get_hmc_samples(eps, samples=S)\n",
    "#     plt.plot(np.abs([autocovariance(H-mu, tau=t) for t in range(199)]), label='$\\epsilon=%.3f$' % eps)\n",
    "# # plt.plot(np.abs([autocovariance(F-mu, tau=t) for t in range(199)]), label='Cosa Nostra')\n",
    "# plt.xlabel('# gradient steps')\n",
    "# plt.ylabel('Autocovariance')\n",
    "# plt.legend()"
   ]
  },
  {
   "cell_type": "code",
   "execution_count": 81,
   "metadata": {},
   "outputs": [
    {
     "data": {
      "text/plain": [
       "1878"
      ]
     },
     "execution_count": 81,
     "metadata": {},
     "output_type": "execute_result"
    }
   ],
   "source": [
    "np.isnan(H.flatten()).sum()"
   ]
  },
  {
   "cell_type": "code",
   "execution_count": 85,
   "metadata": {},
   "outputs": [
    {
     "data": {
      "text/plain": [
       "[<matplotlib.lines.Line2D at 0x7f92c9196c50>]"
      ]
     },
     "execution_count": 85,
     "metadata": {},
     "output_type": "execute_result"
    },
    {
     "data": {
      "image/png": "[encoded data removed]",
      "text/plain": [
       "<matplotlib.figure.Figure at 0x7f92c9212690>"
      ]
     },
     "metadata": {},
     "output_type": "display_data"
    }
   ],
   "source": [
    "plt.plot(H[:, 2, 0])"
   ]
  },
  {
   "cell_type": "code",
   "execution_count": 8,
   "metadata": {},
   "outputs": [
    {
     "data": {
      "text/plain": [
       "[<matplotlib.lines.Line2D at 0x7f93f8789950>]"
      ]
     },
     "execution_count": 8,
     "metadata": {},
     "output_type": "execute_result"
    },
    {
     "data": {
      "image/png": "[encoded data removed]",
      "text/plain": [
       "<matplotlib.figure.Figure at 0x7f9517b9bb50>"
      ]
     },
     "metadata": {},
     "output_type": "display_data"
    }
   ],
   "source": [
    "plt.plot(np.abs([autocovariance(H-mu, tau=t) for t in range(199)]), label='$\\epsilon=%.3f$' % eps)"
   ]
  },
  {
   "cell_type": "code",
   "execution_count": 61,
   "metadata": {
    "collapsed": true
   },
   "outputs": [],
   "source": [
    "sess = tf.Session()\n",
    "\n",
    "def get_hmc_samples(eps, steps=200, samples=None):\n",
    "    hmc_dynamics = Dynamics(x_dim, gaussian.get_energy_function(), T=5, eps=eps, hmc=True)\n",
    "    hmc_x = tf.placeholder(tf.float32, shape=(None, x_dim))\n",
    "    Lx, _, px, hmc_MH = propose(hmc_x, hmc_dynamics, do_mh_step=True)\n",
    "    \n",
    "    if samples is None:\n",
    "        samples = gaussian.get_samples(n=200)\n",
    "    final_samples = []\n",
    "    \n",
    "    for t in range(steps):\n",
    "        final_samples.append(np.copy(samples))\n",
    "        Lx_, px_, samples = sess.run([Lx, px, hmc_MH[0]], {hmc_x: samples})\n",
    "        if np.isnan(Lx_.flatten()).sum() > 0:\n",
    "            print np.round(px_, decimals=2)\n",
    "    return np.array(final_samples)"
   ]
  },
  {
   "cell_type": "code",
   "execution_count": null,
   "metadata": {
    "collapsed": true
   },
   "outputs": [],
   "source": []
  },
  {
   "cell_type": "code",
   "execution_count": null,
   "metadata": {
    "collapsed": true
   },
   "outputs": [],
   "source": [
    "from utils.func_utils import get_log_likelihood\n",
    "F = np.array(final_samples)\n",
    "G = np.array(final_samples2)\n",
    "plt.plot([get_log_likelihood(F[t, :, :], gaussian) for t in range(200)], label='Small gaussian')\n",
    "plt.plot([get_log_likelihood(G[t, :, :], gaussian) for t in range(200)], label='Unit gaussian')\n",
    "plt.plot([get_log_likelihood(gaussian.get_samples(200), gaussian) for t in range(200)], label='Exact sampling')\n",
    "plt.xlabel('MH steps')\n",
    "plt.ylabel('$E(x)$')\n",
    "plt.legend()"
   ]
  },
  {
   "cell_type": "code",
   "execution_count": null,
   "metadata": {
    "collapsed": true
   },
   "outputs": [],
   "source": [
    "w = tf.placeholder(tf.float32, shape=(None, 5))\n",
    "v = tf.placeholder(tf.float32, shape=(None, 5))\n",
    "\n",
    "w / v"
   ]
  },
  {
   "cell_type": "code",
   "execution_count": null,
   "metadata": {
    "collapsed": true
   },
   "outputs": [],
   "source": [
    "sess.run(w / v, {w: [[1, 2, 3, 4, 5]], v: [[2, 2, 5, 2, 2]]})"
   ]
  },
  {
   "cell_type": "code",
   "execution_count": 11,
   "metadata": {
    "collapsed": true
   },
   "outputs": [],
   "source": [
    "steps = [500, 2500, 5000, 25000]\n",
    "lower_bound = [-96, -87.40, -85.82, -84.79]"
   ]
  },
  {
   "cell_type": "code",
   "execution_count": 12,
   "metadata": {},
   "outputs": [
    {
     "data": {
      "text/plain": [
       "[]"
      ]
     },
     "execution_count": 12,
     "metadata": {},
     "output_type": "execute_result"
    },
    {
     "data": {
      "image/png": "[encoded data removed]",
      "text/plain": [
       "<matplotlib.figure.Figure at 0x11c0addd0>"
      ]
     },
     "metadata": {},
     "output_type": "display_data"
    }
   ],
   "source": [
    "plt.plot(steps, lower_bound, marker='d')\n",
    "plt.semilogx()"
   ]
  },
  {
   "cell_type": "code",
   "execution_count": 13,
   "metadata": {
    "collapsed": true
   },
   "outputs": [],
   "source": [
    "HMC_test = [-87.59, -85.10, -84.46]\n",
    "CS_test = [-86.85, -84.56, -84.66]"
   ]
  },
  {
   "cell_type": "code",
   "execution_count": 16,
   "metadata": {},
   "outputs": [
    {
     "data": {
      "text/plain": [
       "[<matplotlib.lines.Line2D at 0x11d56ea90>]"
      ]
     },
     "execution_count": 16,
     "metadata": {},
     "output_type": "execute_result"
    },
    {
     "data": {
      "image/png": "[encoded data removed]",
      "text/plain": [
       "<matplotlib.figure.Figure at 0x11d56ec90>"
      ]
     },
     "metadata": {},
     "output_type": "display_data"
    }
   ],
   "source": [
    "plt.plot(-np.array(HMC_test))\n",
    "plt.plot(-np.array(CS_test))"
   ]
  },
  {
   "cell_type": "code",
   "execution_count": null,
   "metadata": {
    "collapsed": true
   },
   "outputs": [],
   "source": []
  }
 ],
 "metadata": {
  "anaconda-cloud": {},
  "kernelspec": {
   "display_name": "Python 2",
   "language": "python",
   "name": "python2"
  },
  "language_info": {
   "codemirror_mode": {
    "name": "ipython",
    "version": 2
   },
   "file_extension": ".py",
   "mimetype": "text/x-python",
   "name": "python",
   "nbconvert_exporter": "python",
   "pygments_lexer": "ipython2",
   "version": "2.7.13"
  }
 },
 "nbformat": 4,
 "nbformat_minor": 2
}
