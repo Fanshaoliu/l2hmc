{
 "cells": [
  {
   "cell_type": "code",
   "execution_count": 92,
   "metadata": {},
   "outputs": [
    {
     "name": "stdout",
     "output_type": "stream",
     "text": [
      "The autoreload extension is already loaded. To reload it, use:\n",
      "  %reload_ext autoreload\n"
     ]
    }
   ],
   "source": [
    "import tensorflow as tf\n",
    "import numpy as np\n",
    "import matplotlib.pyplot as plt\n",
    "%matplotlib inline\n",
    "%load_ext autoreload\n",
    "%autoreload 2"
   ]
  },
  {
   "cell_type": "code",
   "execution_count": 93,
   "metadata": {
    "collapsed": true
   },
   "outputs": [],
   "source": [
    "from utils.func_utils import accept, jacobian, autocovariance, get_log_likelihood, get_data, binarize, normal_kl\n",
    "from utils.distributions import Gaussian, GMM, GaussianFunnel, gen_ring, RoughWell\n",
    "from utils.layers import Linear, Parallel, Sequential, Zip, ScaleTanh\n",
    "from utils.dynamics import Dynamics\n",
    "from utils.sampler import propose\n",
    "from utils.losses import get_loss, loss_mixed"
   ]
  },
  {
   "cell_type": "code",
   "execution_count": 153,
   "metadata": {
    "collapsed": true
   },
   "outputs": [],
   "source": [
    "tf.reset_default_graph()"
   ]
  },
  {
   "cell_type": "code",
   "execution_count": 154,
   "metadata": {},
   "outputs": [
    {
     "data": {
      "text/plain": [
       "<matplotlib.collections.PathCollection at 0x7fdb81147e10>"
      ]
     },
     "execution_count": 154,
     "metadata": {},
     "output_type": "execute_result"
    },
    {
     "data": {
      "image/png": "[encoded data removed]",
      "text/plain": [
       "<matplotlib.figure.Figure at 0x7fdb81205990>"
      ]
     },
     "metadata": {},
     "output_type": "display_data"
    }
   ],
   "source": [
    "gaussian = gen_ring(r=2.0, var=0.1, nb_mixtures=4)\n",
    "S = gaussian.get_samples(200)\n",
    "\n",
    "plt.scatter(S[:, 0], S[:, 1])"
   ]
  },
  {
   "cell_type": "code",
   "execution_count": 155,
   "metadata": {
    "collapsed": true
   },
   "outputs": [],
   "source": [
    "size1 = 10\n",
    "size2 = 10\n",
    "\n",
    "x_dim = 2\n",
    "\n",
    "gaussian = Gaussian(np.zeros(2,), np.array([[10., 0.], [0., 0.1]]))\n",
    "gaussian = gen_ring(r=2.0, var=0.1, nb_mixtures=4)\n",
    "# gaussian = RoughWell(dim=2, eps=0.1, easy=False)\n",
    "\n",
    "sigma1 = 50.\n",
    "sigma2 = 2\n",
    "\n",
    "def energy(x):\n",
    "    n = tf.reduce_sum(tf.square(x), 1) / (2 * sigma1 ** 2)\n",
    "    return n + tf.reduce_sum(tf.cos(x * np.pi / sigma2), 1)\n",
    "\n",
    "def net_factory(x_dim, scope, factor):\n",
    "    with tf.variable_scope(scope):\n",
    "        net = Sequential([\n",
    "            Zip([\n",
    "                Linear(x_dim, size1, scope='embed_1', factor=0.33),\n",
    "                Linear(x_dim, size1, scope='embed_2', factor=factor * 0.33),\n",
    "                Linear(2, size1, scope='embed_3', factor=0.33),\n",
    "                lambda _, *args, **kwargs: 0.\n",
    "            ]),\n",
    "            sum,\n",
    "            tf.nn.relu,\n",
    "            Linear(size1, size2, scope='linear_1'),\n",
    "            tf.nn.relu,\n",
    "            Parallel([\n",
    "                Sequential([\n",
    "                    Linear(size2, x_dim, scope='linear_s', factor=0.01), \n",
    "                    ScaleTanh(x_dim, scope='scale_s')\n",
    "                ]),\n",
    "                Linear(size2, x_dim, scope='linear_t', factor=0.01),\n",
    "                Sequential([\n",
    "                    Linear(size2, x_dim, scope='linear_f', factor=0.01),\n",
    "                    ScaleTanh(x_dim, scope='scale_f'),\n",
    "                ])\n",
    "            ])\n",
    "        ])\n",
    "    return net\n",
    "\n",
    "dynamics = Dynamics(\n",
    "    x_dim, \n",
    "    gaussian.get_energy_function(), \n",
    "    T=10, \n",
    "    eps=0.4, \n",
    "    hmc=False, \n",
    "    eps_trainable=True, \n",
    "    net_factory=net_factory, \n",
    "    use_temperature=False\n",
    ")"
   ]
  },
  {
   "cell_type": "code",
   "execution_count": 156,
   "metadata": {
    "collapsed": true
   },
   "outputs": [],
   "source": [
    "def mixed(x, Lx, px, scale=1.0):\n",
    "    v = tf.reduce_sum(tf.square(x - Lx) / (scale ** 2), 1) * px + 1e-4\n",
    "    v = tf.boolean_mask(v, tf.is_finite(v))\n",
    "    return tf.reduce_mean(1.0 / v - v)"
   ]
  },
  {
   "cell_type": "code",
   "execution_count": 157,
   "metadata": {
    "collapsed": true
   },
   "outputs": [],
   "source": [
    "x = tf.placeholder(tf.float32, shape=(None, x_dim))\n",
    "z = tf.random_normal(tf.shape(x), dtype=tf.float32)\n",
    "\n",
    "Lx, _, px, MHx = propose(x, dynamics, do_mh_step=True)\n",
    "Lz, _, pz, _ = propose(z, dynamics, do_mh_step=False)\n",
    "\n",
    "loss = mixed(x, Lx, px, scale=np.sqrt(0.1)) + mixed(z, Lz, pz, scale=np.sqrt(0.1))"
   ]
  },
  {
   "cell_type": "code",
   "execution_count": null,
   "metadata": {
    "collapsed": true
   },
   "outputs": [],
   "source": [
    "lr = tf.placeholder(tf.float32, shape=())\n",
    "global_step = tf.Variable(0., trainable=False)\n",
    "learning_rate = tf.train.exponential_decay(lr, global_step,\n",
    "                                           500, 0.96, staircase=True)\n",
    "optimizer = tf.train.AdamOptimizer(learning_rate=learning_rate)\n",
    "train_op = optimizer.minimize(loss)"
   ]
  },
  {
   "cell_type": "code",
   "execution_count": 169,
   "metadata": {
    "scrolled": true
   },
   "outputs": [
    {
     "name": "stdout",
     "output_type": "stream",
     "text": [
      "0/10000: Loss=7.24e+03, p_acc=0.46\n",
      "100/10000: Loss=5.03e+03, p_acc=0.41\n",
      "200/10000: Loss=6.35e+03, p_acc=0.35\n",
      "300/10000: Loss=5.78e+03, p_acc=0.43\n",
      "400/10000: Loss=7.62e+03, p_acc=0.31\n",
      "500/10000: Loss=6.96e+03, p_acc=0.31\n",
      "600/10000: Loss=6.43e+03, p_acc=0.35\n",
      "700/10000: Loss=6.98e+03, p_acc=0.29\n",
      "800/10000: Loss=1.00e+04, p_acc=0.27\n",
      "900/10000: Loss=8.48e+03, p_acc=0.29\n",
      "1000/10000: Loss=9.31e+03, p_acc=0.31\n",
      "1100/10000: Loss=1.00e+04, p_acc=0.20\n",
      "1200/10000: Loss=1.02e+04, p_acc=0.18\n",
      "1300/10000: Loss=9.37e+03, p_acc=0.23\n",
      "1400/10000: Loss=8.22e+03, p_acc=0.21\n",
      "1500/10000: Loss=1.07e+04, p_acc=0.18\n",
      "1600/10000: Loss=1.00e+04, p_acc=0.23\n",
      "1700/10000: Loss=1.44e+04, p_acc=0.10\n",
      "1800/10000: Loss=1.56e+04, p_acc=0.11\n",
      "1900/10000: Loss=1.49e+04, p_acc=0.11\n",
      "2000/10000: Loss=1.53e+04, p_acc=0.07\n",
      "2100/10000: Loss=1.56e+04, p_acc=0.07\n",
      "2200/10000: Loss=1.60e+04, p_acc=0.04\n",
      "2300/10000: Loss=1.55e+04, p_acc=0.07\n",
      "2400/10000: Loss=1.65e+04, p_acc=0.04\n",
      "2500/10000: Loss=1.82e+04, p_acc=0.02\n",
      "2600/10000: Loss=1.75e+04, p_acc=0.04\n",
      "2700/10000: Loss=1.74e+04, p_acc=0.05\n",
      "2800/10000: Loss=1.67e+04, p_acc=0.05\n",
      "2900/10000: Loss=1.70e+04, p_acc=0.03\n",
      "3000/10000: Loss=1.69e+04, p_acc=0.03\n"
     ]
    },
    {
     "ename": "KeyboardInterrupt",
     "evalue": "",
     "output_type": "error",
     "traceback": [
      "\u001b[0;31m---------------------------------------------------------------------------\u001b[0m",
      "\u001b[0;31mKeyboardInterrupt\u001b[0m                         Traceback (most recent call last)",
      "\u001b[0;32m<ipython-input-169-6269fcaf70a6>\u001b[0m in \u001b[0;36m<module>\u001b[0;34m()\u001b[0m\n\u001b[1;32m      7\u001b[0m \u001b[0;32mfor\u001b[0m \u001b[0mt\u001b[0m \u001b[0;32min\u001b[0m \u001b[0mrange\u001b[0m\u001b[0;34m(\u001b[0m\u001b[0;36m10000\u001b[0m\u001b[0;34m)\u001b[0m\u001b[0;34m:\u001b[0m\u001b[0;34m\u001b[0m\u001b[0m\n\u001b[1;32m      8\u001b[0m \u001b[0;31m#     print sess.run(dynamics.eps)\u001b[0m\u001b[0;34m\u001b[0m\u001b[0;34m\u001b[0m\u001b[0m\n\u001b[0;32m----> 9\u001b[0;31m     \u001b[0msamples\u001b[0m\u001b[0;34m,\u001b[0m \u001b[0mloss_\u001b[0m\u001b[0;34m,\u001b[0m \u001b[0mpx_\u001b[0m\u001b[0;34m,\u001b[0m \u001b[0m_\u001b[0m \u001b[0;34m=\u001b[0m \u001b[0msess\u001b[0m\u001b[0;34m.\u001b[0m\u001b[0mrun\u001b[0m\u001b[0;34m(\u001b[0m\u001b[0;34m[\u001b[0m\u001b[0mMHx\u001b[0m\u001b[0;34m[\u001b[0m\u001b[0;36m0\u001b[0m\u001b[0;34m]\u001b[0m\u001b[0;34m,\u001b[0m \u001b[0mloss\u001b[0m\u001b[0;34m,\u001b[0m \u001b[0mpx\u001b[0m\u001b[0;34m,\u001b[0m \u001b[0mtrain_op\u001b[0m\u001b[0;34m]\u001b[0m\u001b[0;34m,\u001b[0m \u001b[0;34m{\u001b[0m\u001b[0mx\u001b[0m\u001b[0;34m:\u001b[0m \u001b[0msamples\u001b[0m\u001b[0;34m,\u001b[0m \u001b[0mlr\u001b[0m\u001b[0;34m:\u001b[0m \u001b[0;36m5e-4\u001b[0m\u001b[0;34m}\u001b[0m\u001b[0;34m)\u001b[0m\u001b[0;34m\u001b[0m\u001b[0m\n\u001b[0m\u001b[1;32m     10\u001b[0m     \u001b[0mL\u001b[0m\u001b[0;34m.\u001b[0m\u001b[0mappend\u001b[0m\u001b[0;34m(\u001b[0m\u001b[0mloss_\u001b[0m\u001b[0;34m)\u001b[0m\u001b[0;34m\u001b[0m\u001b[0m\n\u001b[1;32m     11\u001b[0m     \u001b[0;32mif\u001b[0m \u001b[0mt\u001b[0m \u001b[0;34m%\u001b[0m \u001b[0;36m100\u001b[0m \u001b[0;34m==\u001b[0m \u001b[0;36m0\u001b[0m\u001b[0;34m:\u001b[0m\u001b[0;34m\u001b[0m\u001b[0m\n",
      "\u001b[0;32m/home/danilevy/anaconda2/lib/python2.7/site-packages/tensorflow/python/client/session.pyc\u001b[0m in \u001b[0;36mrun\u001b[0;34m(self, fetches, feed_dict, options, run_metadata)\u001b[0m\n\u001b[1;32m    893\u001b[0m     \u001b[0;32mtry\u001b[0m\u001b[0;34m:\u001b[0m\u001b[0;34m\u001b[0m\u001b[0m\n\u001b[1;32m    894\u001b[0m       result = self._run(None, fetches, feed_dict, options_ptr,\n\u001b[0;32m--> 895\u001b[0;31m                          run_metadata_ptr)\n\u001b[0m\u001b[1;32m    896\u001b[0m       \u001b[0;32mif\u001b[0m \u001b[0mrun_metadata\u001b[0m\u001b[0;34m:\u001b[0m\u001b[0;34m\u001b[0m\u001b[0m\n\u001b[1;32m    897\u001b[0m         \u001b[0mproto_data\u001b[0m \u001b[0;34m=\u001b[0m \u001b[0mtf_session\u001b[0m\u001b[0;34m.\u001b[0m\u001b[0mTF_GetBuffer\u001b[0m\u001b[0;34m(\u001b[0m\u001b[0mrun_metadata_ptr\u001b[0m\u001b[0;34m)\u001b[0m\u001b[0;34m\u001b[0m\u001b[0m\n",
      "\u001b[0;32m/home/danilevy/anaconda2/lib/python2.7/site-packages/tensorflow/python/client/session.pyc\u001b[0m in \u001b[0;36m_run\u001b[0;34m(self, handle, fetches, feed_dict, options, run_metadata)\u001b[0m\n\u001b[1;32m   1122\u001b[0m     \u001b[0;32mif\u001b[0m \u001b[0mfinal_fetches\u001b[0m \u001b[0;32mor\u001b[0m \u001b[0mfinal_targets\u001b[0m \u001b[0;32mor\u001b[0m \u001b[0;34m(\u001b[0m\u001b[0mhandle\u001b[0m \u001b[0;32mand\u001b[0m \u001b[0mfeed_dict_tensor\u001b[0m\u001b[0;34m)\u001b[0m\u001b[0;34m:\u001b[0m\u001b[0;34m\u001b[0m\u001b[0m\n\u001b[1;32m   1123\u001b[0m       results = self._do_run(handle, final_targets, final_fetches,\n\u001b[0;32m-> 1124\u001b[0;31m                              feed_dict_tensor, options, run_metadata)\n\u001b[0m\u001b[1;32m   1125\u001b[0m     \u001b[0;32melse\u001b[0m\u001b[0;34m:\u001b[0m\u001b[0;34m\u001b[0m\u001b[0m\n\u001b[1;32m   1126\u001b[0m       \u001b[0mresults\u001b[0m \u001b[0;34m=\u001b[0m \u001b[0;34m[\u001b[0m\u001b[0;34m]\u001b[0m\u001b[0;34m\u001b[0m\u001b[0m\n",
      "\u001b[0;32m/home/danilevy/anaconda2/lib/python2.7/site-packages/tensorflow/python/client/session.pyc\u001b[0m in \u001b[0;36m_do_run\u001b[0;34m(self, handle, target_list, fetch_list, feed_dict, options, run_metadata)\u001b[0m\n\u001b[1;32m   1319\u001b[0m     \u001b[0;32mif\u001b[0m \u001b[0mhandle\u001b[0m \u001b[0;32mis\u001b[0m \u001b[0mNone\u001b[0m\u001b[0;34m:\u001b[0m\u001b[0;34m\u001b[0m\u001b[0m\n\u001b[1;32m   1320\u001b[0m       return self._do_call(_run_fn, self._session, feeds, fetches, targets,\n\u001b[0;32m-> 1321\u001b[0;31m                            options, run_metadata)\n\u001b[0m\u001b[1;32m   1322\u001b[0m     \u001b[0;32melse\u001b[0m\u001b[0;34m:\u001b[0m\u001b[0;34m\u001b[0m\u001b[0m\n\u001b[1;32m   1323\u001b[0m       \u001b[0;32mreturn\u001b[0m \u001b[0mself\u001b[0m\u001b[0;34m.\u001b[0m\u001b[0m_do_call\u001b[0m\u001b[0;34m(\u001b[0m\u001b[0m_prun_fn\u001b[0m\u001b[0;34m,\u001b[0m \u001b[0mself\u001b[0m\u001b[0;34m.\u001b[0m\u001b[0m_session\u001b[0m\u001b[0;34m,\u001b[0m \u001b[0mhandle\u001b[0m\u001b[0;34m,\u001b[0m \u001b[0mfeeds\u001b[0m\u001b[0;34m,\u001b[0m \u001b[0mfetches\u001b[0m\u001b[0;34m)\u001b[0m\u001b[0;34m\u001b[0m\u001b[0m\n",
      "\u001b[0;32m/home/danilevy/anaconda2/lib/python2.7/site-packages/tensorflow/python/client/session.pyc\u001b[0m in \u001b[0;36m_do_call\u001b[0;34m(self, fn, *args)\u001b[0m\n\u001b[1;32m   1325\u001b[0m   \u001b[0;32mdef\u001b[0m \u001b[0m_do_call\u001b[0m\u001b[0;34m(\u001b[0m\u001b[0mself\u001b[0m\u001b[0;34m,\u001b[0m \u001b[0mfn\u001b[0m\u001b[0;34m,\u001b[0m \u001b[0;34m*\u001b[0m\u001b[0margs\u001b[0m\u001b[0;34m)\u001b[0m\u001b[0;34m:\u001b[0m\u001b[0;34m\u001b[0m\u001b[0m\n\u001b[1;32m   1326\u001b[0m     \u001b[0;32mtry\u001b[0m\u001b[0;34m:\u001b[0m\u001b[0;34m\u001b[0m\u001b[0m\n\u001b[0;32m-> 1327\u001b[0;31m       \u001b[0;32mreturn\u001b[0m \u001b[0mfn\u001b[0m\u001b[0;34m(\u001b[0m\u001b[0;34m*\u001b[0m\u001b[0margs\u001b[0m\u001b[0;34m)\u001b[0m\u001b[0;34m\u001b[0m\u001b[0m\n\u001b[0m\u001b[1;32m   1328\u001b[0m     \u001b[0;32mexcept\u001b[0m \u001b[0merrors\u001b[0m\u001b[0;34m.\u001b[0m\u001b[0mOpError\u001b[0m \u001b[0;32mas\u001b[0m \u001b[0me\u001b[0m\u001b[0;34m:\u001b[0m\u001b[0;34m\u001b[0m\u001b[0m\n\u001b[1;32m   1329\u001b[0m       \u001b[0mmessage\u001b[0m \u001b[0;34m=\u001b[0m \u001b[0mcompat\u001b[0m\u001b[0;34m.\u001b[0m\u001b[0mas_text\u001b[0m\u001b[0;34m(\u001b[0m\u001b[0me\u001b[0m\u001b[0;34m.\u001b[0m\u001b[0mmessage\u001b[0m\u001b[0;34m)\u001b[0m\u001b[0;34m\u001b[0m\u001b[0m\n",
      "\u001b[0;32m/home/danilevy/anaconda2/lib/python2.7/site-packages/tensorflow/python/client/session.pyc\u001b[0m in \u001b[0;36m_run_fn\u001b[0;34m(session, feed_dict, fetch_list, target_list, options, run_metadata)\u001b[0m\n\u001b[1;32m   1304\u001b[0m           return tf_session.TF_Run(session, options,\n\u001b[1;32m   1305\u001b[0m                                    \u001b[0mfeed_dict\u001b[0m\u001b[0;34m,\u001b[0m \u001b[0mfetch_list\u001b[0m\u001b[0;34m,\u001b[0m \u001b[0mtarget_list\u001b[0m\u001b[0;34m,\u001b[0m\u001b[0;34m\u001b[0m\u001b[0m\n\u001b[0;32m-> 1306\u001b[0;31m                                    status, run_metadata)\n\u001b[0m\u001b[1;32m   1307\u001b[0m \u001b[0;34m\u001b[0m\u001b[0m\n\u001b[1;32m   1308\u001b[0m     \u001b[0;32mdef\u001b[0m \u001b[0m_prun_fn\u001b[0m\u001b[0;34m(\u001b[0m\u001b[0msession\u001b[0m\u001b[0;34m,\u001b[0m \u001b[0mhandle\u001b[0m\u001b[0;34m,\u001b[0m \u001b[0mfeed_dict\u001b[0m\u001b[0;34m,\u001b[0m \u001b[0mfetch_list\u001b[0m\u001b[0;34m)\u001b[0m\u001b[0;34m:\u001b[0m\u001b[0;34m\u001b[0m\u001b[0m\n",
      "\u001b[0;31mKeyboardInterrupt\u001b[0m: "
     ]
    }
   ],
   "source": [
    "samples = np.random.randn(200, 2)\n",
    "L = []\n",
    "\n",
    "sess = tf.Session()\n",
    "sess.run(tf.global_variables_initializer())\n",
    "\n",
    "for t in range(10000):\n",
    "#     print sess.run(dynamics.eps)\n",
    "    samples, loss_, px_, _ = sess.run([MHx[0], loss, px, train_op], {x: samples, lr: 5e-4})\n",
    "    L.append(loss_)\n",
    "    if t % 100 == 0:\n",
    "        print '%d/%d: Loss=%.2e, p_acc=%.2f' % (t, 10000, loss_, np.mean(px_))\n",
    "        "
   ]
  },
  {
   "cell_type": "code",
   "execution_count": 162,
   "metadata": {},
   "outputs": [
    {
     "data": {
      "text/plain": [
       "[<matplotlib.lines.Line2D at 0x7fdb9b59a490>]"
      ]
     },
     "execution_count": 162,
     "metadata": {},
     "output_type": "execute_result"
    },
    {
     "data": {
      "image/png": "[encoded data removed]",
      "text/plain": [
       "<matplotlib.figure.Figure at 0x7fdb8116cd90>"
      ]
     },
     "metadata": {},
     "output_type": "display_data"
    }
   ],
   "source": [
    "def smooth(x, k=25):\n",
    "    n = len(x)\n",
    "    return [np.mean(x[t: t+k]) for t in range(n - k)]\n",
    "plt.plot(smooth(L, k=50))"
   ]
  },
  {
   "cell_type": "code",
   "execution_count": 163,
   "metadata": {},
   "outputs": [
    {
     "data": {
      "text/plain": [
       "<matplotlib.collections.PathCollection at 0x7fdb9b483650>"
      ]
     },
     "execution_count": 163,
     "metadata": {},
     "output_type": "execute_result"
    },
    {
     "data": {
      "image/png": "[encoded data removed]",
      "text/plain": [
       "<matplotlib.figure.Figure at 0x7fdb9b60ea50>"
      ]
     },
     "metadata": {},
     "output_type": "display_data"
    }
   ],
   "source": [
    "plt.scatter(samples[:, 0], samples[:, 1])"
   ]
  },
  {
   "cell_type": "code",
   "execution_count": 164,
   "metadata": {
    "collapsed": true
   },
   "outputs": [],
   "source": [
    "# samples = np.sqrt(0.1) * np.random.randn(200, 2)\n",
    "samples = gaussian.get_samples(200)\n",
    "\n",
    "final_samples = []\n",
    "for t in range(2000):\n",
    "    final_samples.append(np.copy(samples))\n",
    "    samples = sess.run(MHx[0], {x: samples})"
   ]
  },
  {
   "cell_type": "code",
   "execution_count": 49,
   "metadata": {},
   "outputs": [
    {
     "data": {
      "text/plain": [
       "(2000, 200, 2)"
      ]
     },
     "execution_count": 49,
     "metadata": {},
     "output_type": "execute_result"
    }
   ],
   "source": [
    "F.shape"
   ]
  },
  {
   "cell_type": "code",
   "execution_count": 168,
   "metadata": {},
   "outputs": [
    {
     "data": {
      "text/plain": [
       "[<matplotlib.lines.Line2D at 0x7fdb9b10d750>,\n",
       " <matplotlib.lines.Line2D at 0x7fdb9b076a10>,\n",
       " <matplotlib.lines.Line2D at 0x7fdb9b076c50>,\n",
       " <matplotlib.lines.Line2D at 0x7fdb9b076d10>,\n",
       " <matplotlib.lines.Line2D at 0x7fdb9b076e10>,\n",
       " <matplotlib.lines.Line2D at 0x7fdb9b076f10>,\n",
       " <matplotlib.lines.Line2D at 0x7fdb9b0762d0>,\n",
       " <matplotlib.lines.Line2D at 0x7fdb9b003090>,\n",
       " <matplotlib.lines.Line2D at 0x7fdb9b003190>,\n",
       " <matplotlib.lines.Line2D at 0x7fdb9b003290>,\n",
       " <matplotlib.lines.Line2D at 0x7fdb9b003390>,\n",
       " <matplotlib.lines.Line2D at 0x7fdb9b003490>,\n",
       " <matplotlib.lines.Line2D at 0x7fdb9b003590>,\n",
       " <matplotlib.lines.Line2D at 0x7fdb9b003690>,\n",
       " <matplotlib.lines.Line2D at 0x7fdb9b003790>,\n",
       " <matplotlib.lines.Line2D at 0x7fdb9b003890>,\n",
       " <matplotlib.lines.Line2D at 0x7fdb9b003990>,\n",
       " <matplotlib.lines.Line2D at 0x7fdb9b003a90>,\n",
       " <matplotlib.lines.Line2D at 0x7fdb9b003b90>,\n",
       " <matplotlib.lines.Line2D at 0x7fdb9b003c90>,\n",
       " <matplotlib.lines.Line2D at 0x7fdb9b09fb10>,\n",
       " <matplotlib.lines.Line2D at 0x7fdb9b003e90>,\n",
       " <matplotlib.lines.Line2D at 0x7fdb9b003f90>,\n",
       " <matplotlib.lines.Line2D at 0x7fdb9b0110d0>,\n",
       " <matplotlib.lines.Line2D at 0x7fdb9b0111d0>,\n",
       " <matplotlib.lines.Line2D at 0x7fdb9b0112d0>,\n",
       " <matplotlib.lines.Line2D at 0x7fdb9b0113d0>,\n",
       " <matplotlib.lines.Line2D at 0x7fdb9b0114d0>,\n",
       " <matplotlib.lines.Line2D at 0x7fdb9b0115d0>,\n",
       " <matplotlib.lines.Line2D at 0x7fdb9b0116d0>,\n",
       " <matplotlib.lines.Line2D at 0x7fdb9b003d90>,\n",
       " <matplotlib.lines.Line2D at 0x7fdb9b0118d0>,\n",
       " <matplotlib.lines.Line2D at 0x7fdb9b0119d0>,\n",
       " <matplotlib.lines.Line2D at 0x7fdb9b011ad0>,\n",
       " <matplotlib.lines.Line2D at 0x7fdb9b011bd0>,\n",
       " <matplotlib.lines.Line2D at 0x7fdb9b011cd0>,\n",
       " <matplotlib.lines.Line2D at 0x7fdb9b011dd0>,\n",
       " <matplotlib.lines.Line2D at 0x7fdb9b011ed0>,\n",
       " <matplotlib.lines.Line2D at 0x7fdb9b011fd0>,\n",
       " <matplotlib.lines.Line2D at 0x7fdb9b01c110>,\n",
       " <matplotlib.lines.Line2D at 0x7fdb9b0117d0>,\n",
       " <matplotlib.lines.Line2D at 0x7fdb9b01c310>,\n",
       " <matplotlib.lines.Line2D at 0x7fdb9b01c410>,\n",
       " <matplotlib.lines.Line2D at 0x7fdb9b01c510>,\n",
       " <matplotlib.lines.Line2D at 0x7fdb9b01c610>,\n",
       " <matplotlib.lines.Line2D at 0x7fdb9b01c710>,\n",
       " <matplotlib.lines.Line2D at 0x7fdb9b01c810>,\n",
       " <matplotlib.lines.Line2D at 0x7fdb9b01c910>,\n",
       " <matplotlib.lines.Line2D at 0x7fdb9b01ca10>,\n",
       " <matplotlib.lines.Line2D at 0x7fdb9b01cb10>,\n",
       " <matplotlib.lines.Line2D at 0x7fdb9b01c210>,\n",
       " <matplotlib.lines.Line2D at 0x7fdb9b01cd10>,\n",
       " <matplotlib.lines.Line2D at 0x7fdb9b01ce10>,\n",
       " <matplotlib.lines.Line2D at 0x7fdb9b01cf10>,\n",
       " <matplotlib.lines.Line2D at 0x7fdb9b028050>,\n",
       " <matplotlib.lines.Line2D at 0x7fdb9b028150>,\n",
       " <matplotlib.lines.Line2D at 0x7fdb9b028250>,\n",
       " <matplotlib.lines.Line2D at 0x7fdb9b028350>,\n",
       " <matplotlib.lines.Line2D at 0x7fdb9b028450>,\n",
       " <matplotlib.lines.Line2D at 0x7fdb9b028550>,\n",
       " <matplotlib.lines.Line2D at 0x7fdb9b01cc10>,\n",
       " <matplotlib.lines.Line2D at 0x7fdb9b028750>,\n",
       " <matplotlib.lines.Line2D at 0x7fdb9b028850>,\n",
       " <matplotlib.lines.Line2D at 0x7fdb9b028950>,\n",
       " <matplotlib.lines.Line2D at 0x7fdb9b028a50>,\n",
       " <matplotlib.lines.Line2D at 0x7fdb9b028b50>,\n",
       " <matplotlib.lines.Line2D at 0x7fdb9b028c50>,\n",
       " <matplotlib.lines.Line2D at 0x7fdb9b028d50>,\n",
       " <matplotlib.lines.Line2D at 0x7fdb9b028e50>,\n",
       " <matplotlib.lines.Line2D at 0x7fdb9b028f50>,\n",
       " <matplotlib.lines.Line2D at 0x7fdb9b028650>,\n",
       " <matplotlib.lines.Line2D at 0x7fdb9b034190>,\n",
       " <matplotlib.lines.Line2D at 0x7fdb9b034290>,\n",
       " <matplotlib.lines.Line2D at 0x7fdb9b034390>,\n",
       " <matplotlib.lines.Line2D at 0x7fdb9b034490>,\n",
       " <matplotlib.lines.Line2D at 0x7fdb9b034590>,\n",
       " <matplotlib.lines.Line2D at 0x7fdb9b034690>,\n",
       " <matplotlib.lines.Line2D at 0x7fdb9b034790>,\n",
       " <matplotlib.lines.Line2D at 0x7fdb9b034890>,\n",
       " <matplotlib.lines.Line2D at 0x7fdb9b034990>,\n",
       " <matplotlib.lines.Line2D at 0x7fdb9b034090>,\n",
       " <matplotlib.lines.Line2D at 0x7fdb9b034b90>,\n",
       " <matplotlib.lines.Line2D at 0x7fdb9b034c90>,\n",
       " <matplotlib.lines.Line2D at 0x7fdb9b034d90>,\n",
       " <matplotlib.lines.Line2D at 0x7fdb9b034e90>,\n",
       " <matplotlib.lines.Line2D at 0x7fdb9b034f90>,\n",
       " <matplotlib.lines.Line2D at 0x7fdb9af810d0>,\n",
       " <matplotlib.lines.Line2D at 0x7fdb9af811d0>,\n",
       " <matplotlib.lines.Line2D at 0x7fdb9af812d0>,\n",
       " <matplotlib.lines.Line2D at 0x7fdb9af813d0>,\n",
       " <matplotlib.lines.Line2D at 0x7fdb9b034a90>,\n",
       " <matplotlib.lines.Line2D at 0x7fdb9af815d0>,\n",
       " <matplotlib.lines.Line2D at 0x7fdb9af816d0>,\n",
       " <matplotlib.lines.Line2D at 0x7fdb9af817d0>,\n",
       " <matplotlib.lines.Line2D at 0x7fdb9af818d0>,\n",
       " <matplotlib.lines.Line2D at 0x7fdb9af819d0>,\n",
       " <matplotlib.lines.Line2D at 0x7fdb9af81ad0>,\n",
       " <matplotlib.lines.Line2D at 0x7fdb9af81bd0>,\n",
       " <matplotlib.lines.Line2D at 0x7fdb9af81cd0>,\n",
       " <matplotlib.lines.Line2D at 0x7fdb9af81dd0>,\n",
       " <matplotlib.lines.Line2D at 0x7fdb9af814d0>,\n",
       " <matplotlib.lines.Line2D at 0x7fdb9af81fd0>,\n",
       " <matplotlib.lines.Line2D at 0x7fdb9af8c110>,\n",
       " <matplotlib.lines.Line2D at 0x7fdb9af8c210>,\n",
       " <matplotlib.lines.Line2D at 0x7fdb9af8c310>,\n",
       " <matplotlib.lines.Line2D at 0x7fdb9af8c410>,\n",
       " <matplotlib.lines.Line2D at 0x7fdb9af8c510>,\n",
       " <matplotlib.lines.Line2D at 0x7fdb9af8c610>,\n",
       " <matplotlib.lines.Line2D at 0x7fdb9af8c710>,\n",
       " <matplotlib.lines.Line2D at 0x7fdb9af8c810>,\n",
       " <matplotlib.lines.Line2D at 0x7fdb9af81ed0>,\n",
       " <matplotlib.lines.Line2D at 0x7fdb9af8ca10>,\n",
       " <matplotlib.lines.Line2D at 0x7fdb9af8cb10>,\n",
       " <matplotlib.lines.Line2D at 0x7fdb9af8cc10>,\n",
       " <matplotlib.lines.Line2D at 0x7fdb9af8cd10>,\n",
       " <matplotlib.lines.Line2D at 0x7fdb9af8ce10>,\n",
       " <matplotlib.lines.Line2D at 0x7fdb9af8cf10>,\n",
       " <matplotlib.lines.Line2D at 0x7fdb9af99050>,\n",
       " <matplotlib.lines.Line2D at 0x7fdb9af99150>,\n",
       " <matplotlib.lines.Line2D at 0x7fdb9af99250>,\n",
       " <matplotlib.lines.Line2D at 0x7fdb9af8c910>,\n",
       " <matplotlib.lines.Line2D at 0x7fdb9af99450>,\n",
       " <matplotlib.lines.Line2D at 0x7fdb9af99550>,\n",
       " <matplotlib.lines.Line2D at 0x7fdb9af99650>,\n",
       " <matplotlib.lines.Line2D at 0x7fdb9af99750>,\n",
       " <matplotlib.lines.Line2D at 0x7fdb9af99850>,\n",
       " <matplotlib.lines.Line2D at 0x7fdb9af99950>,\n",
       " <matplotlib.lines.Line2D at 0x7fdb9af99a50>,\n",
       " <matplotlib.lines.Line2D at 0x7fdb9af99b50>,\n",
       " <matplotlib.lines.Line2D at 0x7fdb9af99c50>,\n",
       " <matplotlib.lines.Line2D at 0x7fdb9af99350>,\n",
       " <matplotlib.lines.Line2D at 0x7fdb9af99e50>,\n",
       " <matplotlib.lines.Line2D at 0x7fdb9af99f50>,\n",
       " <matplotlib.lines.Line2D at 0x7fdb9afa5090>,\n",
       " <matplotlib.lines.Line2D at 0x7fdb9afa5190>,\n",
       " <matplotlib.lines.Line2D at 0x7fdb9afa5290>,\n",
       " <matplotlib.lines.Line2D at 0x7fdb9afa5390>,\n",
       " <matplotlib.lines.Line2D at 0x7fdb9afa5490>,\n",
       " <matplotlib.lines.Line2D at 0x7fdb9afa5590>,\n",
       " <matplotlib.lines.Line2D at 0x7fdb9afa5690>,\n",
       " <matplotlib.lines.Line2D at 0x7fdb9af99d50>,\n",
       " <matplotlib.lines.Line2D at 0x7fdb9afa5890>,\n",
       " <matplotlib.lines.Line2D at 0x7fdb9afa5990>,\n",
       " <matplotlib.lines.Line2D at 0x7fdb9afa5a90>,\n",
       " <matplotlib.lines.Line2D at 0x7fdb9afa5b90>,\n",
       " <matplotlib.lines.Line2D at 0x7fdb9afa5c90>,\n",
       " <matplotlib.lines.Line2D at 0x7fdb9afa5d90>,\n",
       " <matplotlib.lines.Line2D at 0x7fdb9afa5e90>,\n",
       " <matplotlib.lines.Line2D at 0x7fdb9afa5f90>,\n",
       " <matplotlib.lines.Line2D at 0x7fdb9afb00d0>,\n",
       " <matplotlib.lines.Line2D at 0x7fdb9afa5790>,\n",
       " <matplotlib.lines.Line2D at 0x7fdb9afb02d0>,\n",
       " <matplotlib.lines.Line2D at 0x7fdb9afb03d0>,\n",
       " <matplotlib.lines.Line2D at 0x7fdb9afb04d0>,\n",
       " <matplotlib.lines.Line2D at 0x7fdb9afb05d0>,\n",
       " <matplotlib.lines.Line2D at 0x7fdb9afb06d0>,\n",
       " <matplotlib.lines.Line2D at 0x7fdb9afb07d0>,\n",
       " <matplotlib.lines.Line2D at 0x7fdb9afb08d0>,\n",
       " <matplotlib.lines.Line2D at 0x7fdb9afb09d0>,\n",
       " <matplotlib.lines.Line2D at 0x7fdb9afb0ad0>,\n",
       " <matplotlib.lines.Line2D at 0x7fdb9afb01d0>,\n",
       " <matplotlib.lines.Line2D at 0x7fdb9afb0cd0>,\n",
       " <matplotlib.lines.Line2D at 0x7fdb9afb0dd0>,\n",
       " <matplotlib.lines.Line2D at 0x7fdb9afb0ed0>,\n",
       " <matplotlib.lines.Line2D at 0x7fdb9afb0fd0>,\n",
       " <matplotlib.lines.Line2D at 0x7fdb9afbe110>,\n",
       " <matplotlib.lines.Line2D at 0x7fdb9afbe210>,\n",
       " <matplotlib.lines.Line2D at 0x7fdb9afbe310>,\n",
       " <matplotlib.lines.Line2D at 0x7fdb9afbe410>,\n",
       " <matplotlib.lines.Line2D at 0x7fdb9afbe510>,\n",
       " <matplotlib.lines.Line2D at 0x7fdb9afb0bd0>,\n",
       " <matplotlib.lines.Line2D at 0x7fdb9afbe710>,\n",
       " <matplotlib.lines.Line2D at 0x7fdb9afbe810>,\n",
       " <matplotlib.lines.Line2D at 0x7fdb9afbe910>,\n",
       " <matplotlib.lines.Line2D at 0x7fdb9afbea10>,\n",
       " <matplotlib.lines.Line2D at 0x7fdb9afbeb10>,\n",
       " <matplotlib.lines.Line2D at 0x7fdb9afbec10>,\n",
       " <matplotlib.lines.Line2D at 0x7fdb9afbed10>,\n",
       " <matplotlib.lines.Line2D at 0x7fdb9afbee10>,\n",
       " <matplotlib.lines.Line2D at 0x7fdb9afbef10>,\n",
       " <matplotlib.lines.Line2D at 0x7fdb9afbe610>,\n",
       " <matplotlib.lines.Line2D at 0x7fdb9af08150>,\n",
       " <matplotlib.lines.Line2D at 0x7fdb9af08250>,\n",
       " <matplotlib.lines.Line2D at 0x7fdb9af08350>,\n",
       " <matplotlib.lines.Line2D at 0x7fdb9af08450>,\n",
       " <matplotlib.lines.Line2D at 0x7fdb9af08550>,\n",
       " <matplotlib.lines.Line2D at 0x7fdb9af08650>,\n",
       " <matplotlib.lines.Line2D at 0x7fdb9af08750>,\n",
       " <matplotlib.lines.Line2D at 0x7fdb9af08850>,\n",
       " <matplotlib.lines.Line2D at 0x7fdb9af08950>,\n",
       " <matplotlib.lines.Line2D at 0x7fdb9af08050>,\n",
       " <matplotlib.lines.Line2D at 0x7fdb9af08b50>,\n",
       " <matplotlib.lines.Line2D at 0x7fdb9af08c50>,\n",
       " <matplotlib.lines.Line2D at 0x7fdb9af08d50>,\n",
       " <matplotlib.lines.Line2D at 0x7fdb9af08e50>,\n",
       " <matplotlib.lines.Line2D at 0x7fdb9af08f50>,\n",
       " <matplotlib.lines.Line2D at 0x7fdb9af15090>,\n",
       " <matplotlib.lines.Line2D at 0x7fdb9af15190>,\n",
       " <matplotlib.lines.Line2D at 0x7fdb9af15290>,\n",
       " <matplotlib.lines.Line2D at 0x7fdb9af15390>]"
      ]
     },
     "execution_count": 168,
     "metadata": {},
     "output_type": "execute_result"
    },
    {
     "data": {
      "image/png": "[encoded data removed]",
      "text/plain": [
       "<matplotlib.figure.Figure at 0x7fdb9b4bc9d0>"
      ]
     },
     "metadata": {},
     "output_type": "display_data"
    }
   ],
   "source": [
    "F = np.array(final_samples)\n",
    "plt.scatter(samples[:, 0], samples[:, 1], color='grey', alpha=0.2)\n",
    "plt.plot(F[1000:1200, :, 0], F[1000:1200, :, 1], marker='d')"
   ]
  },
  {
   "cell_type": "code",
   "execution_count": 151,
   "metadata": {},
   "outputs": [
    {
     "data": {
      "text/plain": [
       "(0, 50)"
      ]
     },
     "execution_count": 151,
     "metadata": {},
     "output_type": "execute_result"
    },
    {
     "data": {
      "image/png": "[encoded data removed]",
      "text/plain": [
       "<matplotlib.figure.Figure at 0x7fdb8db10f10>"
      ]
     },
     "metadata": {},
     "output_type": "display_data"
    }
   ],
   "source": [
    "plt.plot(np.abs([autocovariance(F[1000:, :, :], tau=t) for t in range(199)]))\n",
    "plt.xlim(0, 50)"
   ]
  },
  {
   "cell_type": "code",
   "execution_count": null,
   "metadata": {
    "collapsed": true
   },
   "outputs": [],
   "source": [
    "F = np.array(final_samples[1000:])\n",
    "mu = F.mean(axis=(0, 1))\n",
    "I = np.array(H[:1000])\n",
    "plt.plot([autocovariance(F - mu, tau=t) for t in range(199)], label='CS')\n",
    "plt.plot([autocovariance(G - mu, tau=t) for t in range(199)], label='CS')\n",
    "plt.plot([autocovariance(I - mu, tau=t) for t in range(199)], label='CS')\n",
    "plt.xlim(0, 100)"
   ]
  },
  {
   "cell_type": "code",
   "execution_count": null,
   "metadata": {
    "collapsed": true
   },
   "outputs": [],
   "source": [
    "S = gaussian.get_samples(200)\n",
    "plt.scatter(S[:, 0], S[:, 1])\n",
    "plt.plot(G[:20, 1, 0], G[:20, 1, 1], color='red', marker='d', linewidth=1.2)"
   ]
  },
  {
   "cell_type": "code",
   "execution_count": null,
   "metadata": {
    "collapsed": true
   },
   "outputs": [],
   "source": [
    "plt.hist(F[:1000, 5, 0].flatten(), bins=20)"
   ]
  },
  {
   "cell_type": "code",
   "execution_count": null,
   "metadata": {
    "collapsed": true
   },
   "outputs": [],
   "source": [
    "H = get_hmc_samples(eps=0.2)"
   ]
  },
  {
   "cell_type": "code",
   "execution_count": null,
   "metadata": {
    "collapsed": true
   },
   "outputs": [],
   "source": [
    "G = np.array(H[1000:])\n",
    "\n",
    "plt.hist(G[:500, 50, 0].flatten(), bins=20)"
   ]
  },
  {
   "cell_type": "code",
   "execution_count": 9,
   "metadata": {
    "collapsed": true
   },
   "outputs": [],
   "source": [
    "def autocovariance(X, tau=0):\n",
    "    dT, dN, dX = np.shape(X)\n",
    "    s = 0.\n",
    "    for t in range(dT - tau):\n",
    "        x1 = X[t, :, :]\n",
    "        x2 = X[t+tau, :, :]\n",
    "\n",
    "        s += np.sum(x1 * x2) / dN\n",
    "\n",
    "    return s / (dT - tau)"
   ]
  },
  {
   "cell_type": "code",
   "execution_count": null,
   "metadata": {
    "collapsed": true
   },
   "outputs": [],
   "source": [
    "for eps in np.arange(0.1, 0.4, 0.05):\n",
    "    H = get_hmc_samples(eps)\n",
    "    plt.plot([autocovariance(H, tau=t) for t in range(199)], label='$\\epsilon=%.3f$' % eps)\n",
    "plt.plot(np.abs([autocovariance(np.array(final_samples), tau=t) for t in range(199)]), label='Cosa Nostra')\n",
    "plt.xlim(0, 50)\n",
    "plt.xlabel('# gradient steps')\n",
    "plt.ylabel('Autocovariance')\n",
    "plt.legend()"
   ]
  },
  {
   "cell_type": "code",
   "execution_count": 22,
   "metadata": {},
   "outputs": [
    {
     "name": "stdout",
     "output_type": "stream",
     "text": [
      "getting energy fn\n"
     ]
    }
   ],
   "source": [
    "H1 = get_hmc_samples(eps=0.1, steps=2000)"
   ]
  },
  {
   "cell_type": "code",
   "execution_count": 21,
   "metadata": {
    "collapsed": true
   },
   "outputs": [],
   "source": [
    "gaussian.sigma = 3."
   ]
  },
  {
   "cell_type": "code",
   "execution_count": 29,
   "metadata": {},
   "outputs": [
    {
     "name": "stdout",
     "output_type": "stream",
     "text": [
      "[ 0.0508208  -0.26301705]\n"
     ]
    }
   ],
   "source": [
    "mu = H1.mean(axis=(0, 1))\n",
    "print mu"
   ]
  },
  {
   "cell_type": "code",
   "execution_count": 80,
   "metadata": {},
   "outputs": [
    {
     "name": "stdout",
     "output_type": "stream",
     "text": [
      "getting energy fn\n",
      "[ 1.          1.          0.98000002  0.99000001  1.        ]\n",
      "[ 1.          1.          1.          0.98000002  1.        ]\n",
      "[ 1.          0.95999998  1.          1.          0.99000001]\n",
      "[ 1.    1.    1.    1.    0.81]\n",
      "[ 1.          1.          0.99000001  1.          1.        ]\n",
      "[ 1.          0.95999998  0.02        0.99000001  1.        ]\n",
      "[ 1.          1.          1.          1.          0.98000002]\n",
      "[ 1.          0.95999998  1.          1.          1.        ]\n",
      "[ 1.          1.          0.77999997  1.          1.        ]\n",
      "[ 1.          0.69999999  1.          1.          0.98000002]\n",
      "[ 1.    1.    0.05  1.    1.  ]\n",
      "[ 1.          1.          0.72000003  1.          1.        ]\n",
      "[ 1.          0.99000001  0.83999997  1.          0.97000003]\n",
      "[ 1.          0.80000001  0.88999999  1.          1.        ]\n",
      "[ 1.  0.  1.  1.  1.]\n",
      "[ 1.          0.          1.          0.93000001  1.        ]\n",
      "[ 1.          0.02        1.          1.          0.99000001]\n",
      "[ 1.          0.          0.99000001  1.          1.        ]\n",
      "[ 1.  0.  1.  1.  1.]\n",
      "[ 1.          0.          1.          1.          0.97000003]\n",
      "[ 1.          0.          1.          0.99000001  1.        ]\n",
      "[ 1.  1.  1.  1.  1.]\n",
      "[ 1.  1.  0.  1.  1.]\n",
      "[ 1.          1.          0.88999999  1.          1.        ]\n",
      "[ 1.          1.          0.          0.99000001  1.        ]\n",
      "[ 1.          1.          0.97000003  1.          1.        ]\n",
      "[ 1.          1.          0.95999998  1.          1.        ]\n",
      "[ 1.          1.          0.43000001  1.          1.        ]\n",
      "[ 1.          1.          0.94999999  1.          0.99000001]\n",
      "[ 1.          1.          0.94999999  1.          0.94999999]\n",
      "[ 1.  1.  1.  1.  1.]\n",
      "[ 1.          1.          1.          0.99000001  1.        ]\n",
      "[ 1.  1.  1.  1.  1.]\n",
      "[ 1.          1.          0.28        0.99000001  1.        ]\n",
      "[ 1.          1.          0.80000001  1.          1.        ]\n",
      "[ 1.          1.          0.92000002  0.99000001  1.        ]\n",
      "[ 1.          1.          0.79000002  1.          0.        ]\n",
      "[ 1.  1.  1.  1.  0.]\n",
      "[ 1.          1.          0.94999999  1.          0.47999999]\n",
      "[ 1.    1.    1.    1.    0.03]\n",
      "[ 1.    1.    1.    1.    0.09]\n",
      "[ 1.  1.  1.  1.  0.]\n",
      "[ 1.          1.          1.          0.99000001  0.        ]\n",
      "[ 1.  1.  1.  1.  0.]\n",
      "[ 1.          1.          0.95999998  0.99000001  0.        ]\n",
      "[ 1.          1.          0.99000001  1.          0.01      ]\n",
      "[ 1.    1.    1.    1.    0.09]\n",
      "[ 1.  1.  1.  1.  1.]\n",
      "[ 1.          1.          0.97000003  1.          1.        ]\n",
      "[ 1.          1.          0.97000003  1.          1.        ]\n",
      "[ 1.          1.          1.          1.          0.95999998]\n",
      "[ 1.          1.          0.99000001  0.98000002  1.        ]\n",
      "[ 1.          1.          0.99000001  1.          1.        ]\n",
      "[ 1.  1.  1.  1.  1.]\n",
      "[ 1.  1.  1.  1.  1.]\n",
      "[ 1.          1.          1.          1.          0.98000002]\n",
      "[ 1.  1.  1.  1.  1.]\n",
      "[ 1.  1.  1.  1.  1.]\n",
      "[ 1.  1.  0.  1.  1.]\n",
      "[ 1.          1.          0.87        1.          0.99000001]\n",
      "[ 1.          1.          0.23        0.99000001  1.        ]\n",
      "[ 1.  1.  1.  1.  1.]\n",
      "[ 1.          1.          0.99000001  1.          1.        ]\n",
      "[ 1.          1.          0.97000003  0.91000003  1.        ]\n",
      "[ 1.          1.          0.98000002  0.81        0.91000003]\n",
      "[ 1.          1.          1.          1.          0.95999998]\n",
      "[ 1.  1.  1.  1.  1.]\n",
      "[ 1.          1.          0.98000002  0.80000001  0.94999999]\n",
      "[ 1.          1.          0.99000001  0.87        0.28      ]\n",
      "[ 1.  1.  1.  1.  0.]\n",
      "[ 1.          1.          0.98000002  1.          0.        ]\n",
      "[ 1.  1.  1.  1.  1.]\n",
      "[ 1.          1.          0.94999999  0.98000002  0.        ]\n",
      "[ 1.          1.          1.          1.          0.81999999]\n",
      "[ 1.          1.          0.97000003  1.          0.86000001]\n",
      "[ 1.          1.          0.49000001  0.95999998  0.98000002]\n",
      "[ 1.  1.  1.  1.  1.]\n",
      "[ 1.          1.          0.68000001  1.          1.        ]\n",
      "[ 1.  1.  0.  1.  0.]\n",
      "[ 1.          1.          0.01        0.86000001  0.98000002]\n",
      "[ 1.          1.          1.          1.          0.95999998]\n",
      "[ 1.          1.          1.          1.          0.99000001]\n",
      "[ 1.          1.          0.89999998  0.92000002  0.98000002]\n",
      "[ 1.          1.          0.98000002  1.          0.92000002]\n",
      "[ 1.  1.  1.  1.  1.]\n",
      "[ 1.  1.  1.  1.  1.]\n",
      "[ 1.          1.          1.          0.97000003  1.        ]\n",
      "[ 1.  1.  1.  1.  0.]\n",
      "[ 1.          1.          0.99000001  0.99000001  0.69      ]\n",
      "[ 1.  1.  1.  1.  0.]\n",
      "[ 1.          1.          0.94999999  1.          0.80000001]\n",
      "[ 1.          1.          1.          1.          0.76999998]\n",
      "[ 1.          1.          0.99000001  1.          1.        ]\n",
      "[ 1.  1.  1.  1.  1.]\n",
      "[ 1.    1.    1.    0.25  1.  ]\n",
      "[ 1.          1.          1.          0.99000001  0.17      ]\n",
      "[ 1.          1.          1.          1.          0.70999998]\n",
      "[ 1.          1.          0.91000003  0.99000001  1.        ]\n",
      "[ 1.          1.          0.87        0.66000003  1.        ]\n",
      "[ 1.  1.  1.  1.  1.]\n",
      "[ 1.          1.          1.          0.94999999  0.99000001]\n",
      "[ 1.          1.          0.68000001  1.          1.        ]\n",
      "[ 1.  1.  0.  1.  1.]\n",
      "[ 1.  1.  1.  1.  1.]\n",
      "[ 1.  1.  1.  1.  1.]\n",
      "[ 1.          1.          1.          0.75999999  1.        ]\n",
      "[ 1.          1.          0.97000003  0.03        1.        ]\n",
      "[ 1.          1.          0.91000003  0.97000003  1.        ]\n",
      "[ 1.          1.          1.          0.82999998  1.        ]\n",
      "[ 1.    1.    0.94  1.    1.  ]\n",
      "[ 1.          1.          0.98000002  1.          1.        ]\n",
      "[ 1.          1.          0.41        0.91000003  0.98000002]\n",
      "[ 1.  1.  1.  1.  1.]\n",
      "[ 1.  1.  0.  0.  1.]\n",
      "[ 1.          1.          0.79000002  0.87        1.        ]\n",
      "[ 1.          1.          0.99000001  0.85000002  1.        ]\n",
      "[ 1.          1.          0.99000001  0.38999999  1.        ]\n",
      "[ 1.          1.          1.          0.86000001  0.99000001]\n",
      "[ 1.  1.  1.  1.  1.]\n",
      "[ 1.  1.  1.  1.  1.]\n",
      "[ 1.          1.          1.          0.99000001  0.99000001]\n",
      "[ 1.          1.          0.99000001  1.          1.        ]\n",
      "[ 1.          1.          0.97000003  0.99000001  1.        ]\n",
      "[ 1.  1.  1.  1.  1.]\n",
      "[ 1.          1.          0.97000003  1.          0.81      ]\n",
      "[ 1.          1.          1.          1.          0.49000001]\n",
      "[ 1.          1.          1.          1.          0.99000001]\n",
      "[ 1.  1.  1.  1.  1.]\n",
      "[ 1.          1.          1.          1.          0.99000001]\n",
      "[ 1.          1.          0.99000001  0.98000002  1.        ]\n",
      "[ 1.          1.          1.          1.          0.97000003]\n",
      "[ 1.          1.          0.98000002  0.98000002  0.98000002]\n",
      "[ 1.  1.  1.  1.  1.]\n",
      "[ 1.  1.  1.  1.  1.]\n",
      "[ 1.          1.          0.99000001  0.99000001  1.        ]\n",
      "[ 1.          1.          1.          1.          0.99000001]\n",
      "[ 1.          1.          1.          1.          0.97000003]\n",
      "[ 1.  1.  1.  1.  1.]\n",
      "[ 1.          1.          0.99000001  1.          0.98000002]\n",
      "[ 1.  1.  1.  1.  1.]\n",
      "[ 1.          1.          0.99000001  1.          1.        ]\n",
      "[ 1.          1.          1.          1.          0.99000001]\n",
      "[ 1.          1.          1.          0.97000003  1.        ]\n",
      "[ 1.  1.  1.  1.  1.]\n",
      "[ 1.          1.          0.99000001  0.95999998  1.        ]\n",
      "[ 1.          1.          0.88999999  1.          0.99000001]\n",
      "[ 1.          1.          1.          0.99000001  0.88999999]\n",
      "[ 1.  1.  1.  1.  1.]\n",
      "[ 1.          1.          1.          1.          0.99000001]\n",
      "[ 1.          1.          1.          1.          0.99000001]\n",
      "[ 1.          1.          0.99000001  0.95999998  1.        ]\n",
      "[ 1.  1.  1.  1.  1.]\n",
      "[ 1.          1.          1.          1.          0.79000002]\n",
      "[ 1.  1.  1.  1.  0.]\n",
      "[ 1.          1.          1.          1.          0.99000001]\n",
      "[ 1.          1.          1.          0.99000001  1.        ]\n",
      "[ 1.  1.  1.  1.  1.]\n",
      "[ 1.  1.  1.  1.  1.]\n",
      "[ 1.  1.  1.  1.  1.]\n",
      "[ 1.          1.          1.          0.99000001  1.        ]\n",
      "[ 1.          1.          1.          0.99000001  1.        ]\n",
      "[ 1.          1.          1.          0.99000001  1.        ]\n",
      "[ 1.          1.          0.99000001  1.          1.        ]\n",
      "[ 1.  1.  1.  1.  1.]\n",
      "[ 1.          1.          0.93000001  0.97000003  1.        ]\n",
      "[ 1.  1.  1.  1.  1.]\n",
      "[ 1.          1.          1.          0.98000002  1.        ]\n",
      "[ 1.  1.  1.  1.  1.]\n",
      "[ 1.          1.          1.          1.          0.99000001]\n",
      "[ 1.          1.          0.99000001  0.99000001  0.99000001]\n",
      "[ 1.  1.  1.  1.  1.]\n",
      "[ 1.  1.  1.  1.  1.]\n",
      "[ 1.          1.          1.          0.99000001  1.        ]\n",
      "[ 1.          1.          0.88        0.99000001  1.        ]\n",
      "[ 1.          1.          0.98000002  1.          1.        ]\n",
      "[ 1.  1.  0.  1.  1.]\n",
      "[ 1.          1.          0.79000002  1.          0.99000001]\n",
      "[ 1.          1.          0.41999999  0.99000001  1.        ]\n",
      "[ 1.          1.          1.          1.          0.99000001]\n",
      "[ 1.          1.          0.99000001  1.          0.99000001]\n",
      "[ 1.          1.          0.98000002  1.          1.        ]\n",
      "[ 1.  1.  1.  1.  1.]\n",
      "[ 1.  1.  1.  1.  1.]\n",
      "[ 1.          1.          1.          0.94999999  0.99000001]\n",
      "[ 1.  1.  0.  1.  1.]\n",
      "[ 1.   1.   0.1  1.   1. ]\n",
      "[ 1.          1.          0.79000002  0.83999997  1.        ]\n",
      "[ 1.          1.          0.70999998  1.          0.99000001]\n",
      "[ 1.  1.  1.  1.  1.]\n",
      "[ 1.          1.          0.94        1.          0.99000001]\n",
      "[ 1.          1.          0.98000002  1.          0.98000002]\n",
      "[ 1.          1.          0.99000001  1.          1.        ]\n",
      "[ 1.  1.  1.  1.  1.]\n",
      "[ 1.  1.  1.  1.  1.]\n",
      "[ 1.  1.  1.  1.  1.]\n",
      "[ 1.          1.          0.99000001  1.          0.93000001]\n",
      "[ 1.  1.  1.  1.  1.]\n",
      "[ 1.    1.    0.02  1.    1.  ]\n",
      "[ 1.          1.          1.          1.          0.99000001]\n",
      "[ 1.          1.          1.          0.98000002  1.        ]\n",
      "[ 1.          1.          1.          0.99000001  1.        ]\n",
      "[ 1.  1.  1.  1.  1.]\n",
      "[ 1.          1.          1.          0.98000002  1.        ]\n",
      "[ 1.  1.  1.  1.  1.]\n",
      "[ 1.  1.  1.  1.  1.]\n",
      "[ 1.          1.          1.          1.          0.92000002]\n",
      "[ 1.          1.          1.          1.          0.98000002]\n",
      "[ 1.          1.          1.          0.98000002  0.95999998]\n",
      "[ 1.          1.          0.99000001  1.          0.99000001]\n",
      "[ 1.          1.          0.99000001  1.          1.        ]\n",
      "[ 1.  1.  1.  1.  1.]\n",
      "[ 1.          1.          1.          1.          0.75999999]\n",
      "[ 1.          1.          1.          0.99000001  1.        ]\n",
      "[ 1.          1.          1.          0.82999998  1.        ]\n",
      "[ 1.          1.          0.99000001  1.          0.97000003]\n",
      "[ 1.  1.  1.  1.  1.]\n",
      "[ 1.          1.          0.95999998  0.99000001  0.98000002]\n",
      "[ 1.          1.          1.          1.          0.97000003]\n",
      "[ 1.  1.  1.  1.  1.]\n",
      "[ 1.          1.          1.          0.92000002  1.        ]\n",
      "[ 1.          1.          1.          0.37        0.99000001]\n",
      "[ 1.  1.  1.  1.  1.]\n",
      "[ 1.    1.    1.    0.94  1.  ]\n",
      "[ 1.          1.          0.94999999  0.89999998  1.        ]\n",
      "[ 1.          1.          1.          0.92000002  1.        ]\n",
      "[ 1.          1.          1.          0.99000001  0.97000003]\n",
      "[ 1.          1.          1.          1.          0.99000001]\n",
      "[ 1.          1.          1.          0.99000001  0.81999999]\n",
      "[ 1.          1.          1.          1.          0.98000002]\n",
      "[ 1.  1.  1.  1.  1.]\n",
      "[ 1.          1.          1.          1.          0.80000001]\n",
      "[ 1.          1.          0.99000001  1.          0.95999998]\n",
      "[ 1.          1.          1.          0.92000002  0.95999998]\n",
      "[ 1.          1.          0.99000001  1.          1.        ]\n",
      "[ 1.          1.          1.          1.          0.98000002]\n",
      "[ 1.          1.          0.99000001  0.98000002  1.        ]\n",
      "[ 1.          1.          1.          1.          0.93000001]\n",
      "[ 1.          1.          1.          1.          0.72000003]\n",
      "[ 1.          1.          0.97000003  1.          1.        ]\n",
      "[ 1.          1.          0.92000002  0.94999999  1.        ]\n",
      "[ 1.          1.          0.83999997  0.99000001  1.        ]\n",
      "[ 1.          1.          0.81999999  1.          1.        ]\n",
      "[ 1.          1.          0.92000002  0.97000003  0.98000002]\n",
      "[ 1.    1.    0.94  1.    1.  ]\n",
      "[ 1.          1.          0.98000002  1.          1.        ]\n",
      "[ 1.          1.          0.99000001  1.          1.        ]\n",
      "[ 1.  1.  1.  1.  1.]\n",
      "[ 1.          1.          1.          0.97000003  0.99000001]\n",
      "[ 1.          1.          0.94999999  1.          1.        ]\n",
      "[ 1.  1.  1.  1.  1.]\n",
      "[ 1.          1.          1.          1.          0.99000001]\n",
      "[ 1.  1.  1.  1.  1.]\n",
      "[ 1.  1.  1.  1.  1.]\n",
      "[ 1.          1.          1.          0.72000003  1.        ]\n",
      "[ 1.  1.  1.  1.  1.]\n",
      "[ 1.          1.          1.          1.          0.99000001]\n",
      "[ 1.  1.  1.  1.  1.]\n",
      "[ 1.          1.          0.98000002  1.          1.        ]\n",
      "[ 1.          1.          0.97000003  0.72000003  1.        ]\n",
      "[ 1.  1.  1.  1.  1.]\n",
      "[ 1.          1.          1.          0.94999999  1.        ]\n",
      "[ 1.  1.  1.  1.  1.]\n",
      "[ 1.    1.    1.    0.88  1.  ]\n",
      "[ 1.          1.          0.94999999  1.          1.        ]\n",
      "[ 1.          1.          1.          0.98000002  1.        ]\n",
      "[ 1.          1.          1.          1.          0.99000001]\n",
      "[ 1.          1.          1.          0.99000001  0.98000002]\n",
      "[ 1.  1.  1.  1.  1.]\n",
      "[ 1.  1.  1.  1.  1.]\n",
      "[ 1.          1.          1.          0.98000002  1.        ]\n",
      "[ 1.          1.          0.97000003  0.99000001  1.        ]\n",
      "[ 1.          1.          0.99000001  0.18000001  1.        ]\n",
      "[ 1.    1.    0.94  0.94  1.  ]\n",
      "[ 1.          1.          1.          0.98000002  1.        ]\n",
      "[ 1.          1.          1.          0.99000001  1.        ]\n",
      "[ 1.  1.  1.  1.  1.]\n",
      "[ 1.  1.  1.  1.  1.]\n",
      "[ 1.  1.  1.  1.  1.]\n",
      "[ 1.          1.          0.97000003  1.          1.        ]\n",
      "[ 1.          1.          0.95999998  0.99000001  1.        ]\n",
      "[ 1.          1.          0.93000001  0.81999999  1.        ]\n",
      "[ 1.          1.          1.          0.94999999  1.        ]\n",
      "[ 1.          1.          0.85000002  1.          1.        ]\n",
      "[ 1.          1.          0.99000001  0.75999999  1.        ]\n",
      "[ 1.          1.          0.97000003  1.          1.        ]\n",
      "[ 1.  1.  1.  1.  1.]\n",
      "[ 1.  1.  1.  1.  1.]\n",
      "[ 1.          1.          1.          0.95999998  1.        ]\n",
      "[ 1.  1.  1.  1.  1.]\n",
      "[ 1.          1.          0.97000003  1.          1.        ]\n",
      "[ 1.          1.          1.          0.94999999  1.        ]\n",
      "[ 1.  1.  1.  1.  1.]\n",
      "[ 1.          1.          0.89999998  1.          1.        ]\n",
      "[ 1.  1.  1.  1.  1.]\n",
      "[ 1.  1.  1.  1.  1.]\n",
      "[ 1.  1.  1.  1.  1.]\n",
      "[ 1.          1.          0.97000003  0.98000002  1.        ]\n",
      "[ 1.   1.   0.2  1.   1. ]\n",
      "[ 1.          1.          0.17        0.99000001  1.        ]\n",
      "[ 1.    1.    0.01  1.    1.  ]\n",
      "[ 1.          1.          1.          0.94999999  1.        ]\n",
      "[ 1.  1.  1.  1.  1.]\n",
      "[ 1.          1.          0.92000002  0.97000003  1.        ]\n",
      "[ 1.          1.          1.          0.95999998  1.        ]\n",
      "[ 1.          1.          1.          0.93000001  1.        ]\n",
      "[ 1.  1.  1.  1.  1.]\n",
      "[ 1.  1.  1.  1.  1.]\n",
      "[ 1.  1.  1.  1.  1.]\n",
      "[ 1.          1.          0.98000002  1.          1.        ]\n",
      "[ 1.  1.  1.  1.  1.]\n",
      "[ 1.          1.          1.          0.97000003  1.        ]\n",
      "[ 1.  1.  1.  1.  1.]\n",
      "[ 1.  1.  1.  1.  1.]\n",
      "[ 1.          1.          1.          0.99000001  1.        ]\n",
      "[ 1.  1.  1.  1.  1.]\n",
      "[ 1.  1.  1.  1.  1.]\n",
      "[ 1.  1.  1.  1.  1.]\n",
      "[ 1.          1.          0.91000003  1.          1.        ]\n",
      "[ 1.          1.          1.          0.99000001  1.        ]\n",
      "[ 1.  1.  1.  1.  1.]\n",
      "[ 1.  1.  1.  1.  1.]\n",
      "[ 1.          1.          1.          0.99000001  1.        ]\n",
      "[ 1.  1.  1.  1.  1.]\n",
      "[ 1.  1.  1.  1.  1.]\n",
      "[ 1.          1.          0.83999997  1.          1.        ]\n",
      "[ 1.  1.  1.  1.  1.]\n",
      "[ 1.          1.          0.30000001  1.          1.        ]\n",
      "[ 1.  1.  1.  1.  1.]\n",
      "[ 1.  1.  1.  1.  1.]\n",
      "[ 1.  1.  1.  1.  1.]\n",
      "[ 1.          1.          1.          0.99000001  1.        ]\n",
      "[ 1.  1.  1.  1.  1.]\n",
      "[ 1.          1.          1.          0.99000001  1.        ]\n",
      "[ 1.  1.  1.  1.  1.]\n",
      "[ 1.          1.          1.          0.99000001  1.        ]\n",
      "[ 1.  1.  1.  1.  1.]\n",
      "[ 1.  1.  1.  1.  1.]\n",
      "[ 1.          1.          1.          0.99000001  1.        ]\n",
      "[ 1.          1.          1.          0.98000002  1.        ]\n",
      "[ 1.  1.  1.  1.  1.]\n",
      "[ 1.          1.          1.          0.99000001  1.        ]\n",
      "[ 1.  1.  1.  1.  1.]\n",
      "[ 1.  1.  1.  1.  1.]\n",
      "[ 1.          1.          1.          0.97000003  1.        ]\n",
      "[ 1.  1.  1.  1.  1.]\n",
      "[ 1.  1.  1.  1.  1.]\n",
      "[ 1.  1.  1.  1.  1.]\n",
      "[ 1.          1.          1.          0.99000001  1.        ]\n",
      "[ 1.  1.  1.  1.  1.]\n",
      "[ 1.  1.  1.  1.  1.]\n",
      "[ 1.  1.  1.  1.  1.]\n",
      "[ 1.  1.  1.  1.  1.]\n",
      "[ 1.          1.          1.          0.99000001  1.        ]\n",
      "[ 1.          1.          1.          0.98000002  1.        ]\n",
      "[ 1.  1.  1.  1.  1.]\n",
      "[ 1.          1.          1.          0.98000002  1.        ]\n",
      "[ 1.          1.          1.          0.95999998  1.        ]\n",
      "[ 1.  1.  1.  1.  1.]\n",
      "[ 1.    1.    1.    0.81  1.  ]\n",
      "[ 1.  1.  1.  1.  1.]\n",
      "[ 1.  1.  1.  1.  1.]\n",
      "[ 1.  1.  1.  1.  1.]\n",
      "[ 1.  1.  1.  1.  1.]\n",
      "[ 1.  1.  1.  1.  1.]\n",
      "[ 1.  1.  1.  1.  1.]\n",
      "[ 1.          1.          1.          0.97000003  1.        ]\n",
      "[ 1.  1.  1.  1.  1.]\n",
      "[ 1.  1.  1.  1.  1.]\n",
      "[ 1.  1.  1.  1.  1.]\n",
      "[ 1.    1.    1.    0.88  1.  ]\n",
      "[ 1.  1.  1.  1.  1.]\n",
      "[ 1.          1.          1.          0.98000002  1.        ]\n",
      "[ 1.  1.  1.  1.  1.]\n",
      "[ 1.  1.  1.  1.  1.]\n",
      "[ 1.  1.  1.  1.  1.]\n",
      "[ 1.  1.  1.  1.  1.]\n",
      "[ 1.  1.  1.  1.  1.]\n",
      "[ 1.  1.  1.  1.  1.]\n",
      "[ 1.  1.  1.  1.  1.]\n",
      "[ 1.  1.  1.  1.  1.]\n",
      "[ 1.  1.  1.  1.  1.]\n",
      "[ 1.  1.  1.  0.  1.]\n",
      "[ 1.          1.          1.          0.83999997  1.        ]\n",
      "[ 1.  1.  1.  1.  1.]\n",
      "[ 1.          1.          1.          0.82999998  1.        ]\n",
      "[ 1.  1.  1.  1.  1.]\n",
      "[ 1.  1.  1.  1.  1.]\n",
      "[ 1.          1.          1.          0.91000003  1.        ]\n",
      "[ 1.  1.  1.  1.  1.]\n",
      "[ 1.          1.          1.          0.95999998  1.        ]\n",
      "[ 1.  1.  1.  1.  1.]\n",
      "[ 1.          1.          1.          0.94999999  1.        ]\n"
     ]
    }
   ],
   "source": [
    "S = gaussian.get_samples(n=5)\n",
    "H = get_hmc_samples(0.3, samples=S, steps=400)\n",
    "# for eps in np.arange(0.1, 0.7, 0.1):\n",
    "#     H = get_hmc_samples(eps, samples=S)\n",
    "#     plt.plot(np.abs([autocovariance(H-mu, tau=t) for t in range(199)]), label='$\\epsilon=%.3f$' % eps)\n",
    "# # plt.plot(np.abs([autocovariance(F-mu, tau=t) for t in range(199)]), label='Cosa Nostra')\n",
    "# plt.xlabel('# gradient steps')\n",
    "# plt.ylabel('Autocovariance')\n",
    "# plt.legend()"
   ]
  },
  {
   "cell_type": "code",
   "execution_count": 81,
   "metadata": {},
   "outputs": [
    {
     "data": {
      "text/plain": [
       "1878"
      ]
     },
     "execution_count": 81,
     "metadata": {},
     "output_type": "execute_result"
    }
   ],
   "source": [
    "np.isnan(H.flatten()).sum()"
   ]
  },
  {
   "cell_type": "code",
   "execution_count": 85,
   "metadata": {},
   "outputs": [
    {
     "data": {
      "text/plain": [
       "[<matplotlib.lines.Line2D at 0x7f92c9196c50>]"
      ]
     },
     "execution_count": 85,
     "metadata": {},
     "output_type": "execute_result"
    },
    {
     "data": {
      "image/png": "[encoded data removed]",
      "text/plain": [
       "<matplotlib.figure.Figure at 0x7f92c9212690>"
      ]
     },
     "metadata": {},
     "output_type": "display_data"
    }
   ],
   "source": [
    "plt.plot(H[:, 2, 0])"
   ]
  },
  {
   "cell_type": "code",
   "execution_count": 8,
   "metadata": {},
   "outputs": [
    {
     "data": {
      "text/plain": [
       "[<matplotlib.lines.Line2D at 0x7f93f8789950>]"
      ]
     },
     "execution_count": 8,
     "metadata": {},
     "output_type": "execute_result"
    },
    {
     "data": {
      "image/png": "[encoded data removed]",
      "text/plain": [
       "<matplotlib.figure.Figure at 0x7f9517b9bb50>"
      ]
     },
     "metadata": {},
     "output_type": "display_data"
    }
   ],
   "source": [
    "plt.plot(np.abs([autocovariance(H-mu, tau=t) for t in range(199)]), label='$\\epsilon=%.3f$' % eps)"
   ]
  },
  {
   "cell_type": "code",
   "execution_count": 61,
   "metadata": {
    "collapsed": true
   },
   "outputs": [],
   "source": [
    "sess = tf.Session()\n",
    "\n",
    "def get_hmc_samples(eps, steps=200, samples=None):\n",
    "    hmc_dynamics = Dynamics(x_dim, gaussian.get_energy_function(), T=5, eps=eps, hmc=True)\n",
    "    hmc_x = tf.placeholder(tf.float32, shape=(None, x_dim))\n",
    "    Lx, _, px, hmc_MH = propose(hmc_x, hmc_dynamics, do_mh_step=True)\n",
    "    \n",
    "    if samples is None:\n",
    "        samples = gaussian.get_samples(n=200)\n",
    "    final_samples = []\n",
    "    \n",
    "    for t in range(steps):\n",
    "        final_samples.append(np.copy(samples))\n",
    "        Lx_, px_, samples = sess.run([Lx, px, hmc_MH[0]], {hmc_x: samples})\n",
    "        if np.isnan(Lx_.flatten()).sum() > 0:\n",
    "            print np.round(px_, decimals=2)\n",
    "    return np.array(final_samples)"
   ]
  },
  {
   "cell_type": "code",
   "execution_count": null,
   "metadata": {
    "collapsed": true
   },
   "outputs": [],
   "source": []
  },
  {
   "cell_type": "code",
   "execution_count": null,
   "metadata": {
    "collapsed": true
   },
   "outputs": [],
   "source": [
    "from utils.func_utils import get_log_likelihood\n",
    "F = np.array(final_samples)\n",
    "G = np.array(final_samples2)\n",
    "plt.plot([get_log_likelihood(F[t, :, :], gaussian) for t in range(200)], label='Small gaussian')\n",
    "plt.plot([get_log_likelihood(G[t, :, :], gaussian) for t in range(200)], label='Unit gaussian')\n",
    "plt.plot([get_log_likelihood(gaussian.get_samples(200), gaussian) for t in range(200)], label='Exact sampling')\n",
    "plt.xlabel('MH steps')\n",
    "plt.ylabel('$E(x)$')\n",
    "plt.legend()"
   ]
  },
  {
   "cell_type": "code",
   "execution_count": null,
   "metadata": {
    "collapsed": true
   },
   "outputs": [],
   "source": [
    "w = tf.placeholder(tf.float32, shape=(None, 5))\n",
    "v = tf.placeholder(tf.float32, shape=(None, 5))\n",
    "\n",
    "w / v"
   ]
  },
  {
   "cell_type": "code",
   "execution_count": null,
   "metadata": {
    "collapsed": true
   },
   "outputs": [],
   "source": [
    "sess.run(w / v, {w: [[1, 2, 3, 4, 5]], v: [[2, 2, 5, 2, 2]]})"
   ]
  },
  {
   "cell_type": "code",
   "execution_count": 11,
   "metadata": {
    "collapsed": true
   },
   "outputs": [],
   "source": [
    "steps = [500, 2500, 5000, 25000]\n",
    "lower_bound = [-96, -87.40, -85.82, -84.79]"
   ]
  },
  {
   "cell_type": "code",
   "execution_count": 12,
   "metadata": {},
   "outputs": [
    {
     "data": {
      "text/plain": [
       "[]"
      ]
     },
     "execution_count": 12,
     "metadata": {},
     "output_type": "execute_result"
    },
    {
     "data": {
      "image/png": "[encoded data removed]",
      "text/plain": [
       "<matplotlib.figure.Figure at 0x11c0addd0>"
      ]
     },
     "metadata": {},
     "output_type": "display_data"
    }
   ],
   "source": [
    "plt.plot(steps, lower_bound, marker='d')\n",
    "plt.semilogx()"
   ]
  },
  {
   "cell_type": "code",
   "execution_count": 13,
   "metadata": {
    "collapsed": true
   },
   "outputs": [],
   "source": [
    "HMC_test = [-87.59, -85.10, -84.46]\n",
    "CS_test = [-86.85, -84.56, -84.66]"
   ]
  },
  {
   "cell_type": "code",
   "execution_count": 16,
   "metadata": {},
   "outputs": [
    {
     "data": {
      "text/plain": [
       "[<matplotlib.lines.Line2D at 0x11d56ea90>]"
      ]
     },
     "execution_count": 16,
     "metadata": {},
     "output_type": "execute_result"
    },
    {
     "data": {
      "image/png": "[encoded data removed]",
      "text/plain": [
       "<matplotlib.figure.Figure at 0x11d56ec90>"
      ]
     },
     "metadata": {},
     "output_type": "display_data"
    }
   ],
   "source": [
    "plt.plot(-np.array(HMC_test))\n",
    "plt.plot(-np.array(CS_test))"
   ]
  },
  {
   "cell_type": "code",
   "execution_count": null,
   "metadata": {
    "collapsed": true
   },
   "outputs": [],
   "source": []
  }
 ],
 "metadata": {
  "anaconda-cloud": {},
  "kernelspec": {
   "display_name": "Python 2",
   "language": "python",
   "name": "python2"
  },
  "language_info": {
   "codemirror_mode": {
    "name": "ipython",
    "version": 2
   },
   "file_extension": ".py",
   "mimetype": "text/x-python",
   "name": "python",
   "nbconvert_exporter": "python",
   "pygments_lexer": "ipython2",
   "version": "2.7.13"
  }
 },
 "nbformat": 4,
 "nbformat_minor": 2
}
