{
 "cells": [
  {
   "cell_type": "code",
   "execution_count": 1,
   "metadata": {
    "collapsed": true
   },
   "outputs": [],
   "source": [
    "import tensorflow as tf\n",
    "import numpy as np\n",
    "import matplotlib.pyplot as plt\n",
    "%matplotlib inline\n",
    "%load_ext autoreload\n",
    "%autoreload 2"
   ]
  },
  {
   "cell_type": "code",
   "execution_count": 2,
   "metadata": {
    "collapsed": true
   },
   "outputs": [],
   "source": [
    "from utils.func_utils import accept, jacobian, autocovariance, get_log_likelihood, get_data, binarize, normal_kl\n",
    "from utils.distributions import Gaussian, GMM, GaussianFunnel, gen_ring, RoughWell, TiltedGaussian\n",
    "from utils.layers import Linear, Parallel, Sequential, Zip, ScaleTanh\n",
    "from utils.dynamics import Dynamics\n",
    "from utils.sampler import propose\n",
    "from utils.losses import get_loss, loss_mixed"
   ]
  },
  {
   "cell_type": "code",
   "execution_count": 32,
   "metadata": {
    "collapsed": true
   },
   "outputs": [],
   "source": [
    "tf.reset_default_graph()"
   ]
  },
  {
   "cell_type": "code",
   "execution_count": null,
   "metadata": {
    "collapsed": true
   },
   "outputs": [],
   "source": [
    "gaussian = RoughWell(dim=2, easy=False, eps=0.05)"
   ]
  },
  {
   "cell_type": "code",
   "execution_count": 3,
   "metadata": {},
   "outputs": [
    {
     "name": "stdout",
     "output_type": "stream",
     "text": [
      "17395.3188028 float64\n"
     ]
    }
   ],
   "source": [
    "size1 = 200\n",
    "size2 = 200\n",
    "\n",
    "x_dim = 100\n",
    "\n",
    "# gaussian = Gaussian(np.zeros(2,), np.array([[10., 0.], [0., 0.1]]))\n",
    "# gaussian = gen_ring(r=2.0, var=.1, nb_mixtures=4)\n",
    "# gaussian = RoughWell(dim=2, eps=0.1, easy=False)\n",
    "gaussian = TiltedGaussian(100, -3, 3)\n",
    "\n",
    "sigma1 = 50.\n",
    "sigma2 = 2\n",
    "\n",
    "def energy(x):\n",
    "    n = tf.reduce_sum(tf.square(x), 1) / (2 * sigma1 ** 2)\n",
    "    return n + tf.reduce_sum(tf.cos(x * np.pi / sigma2), 1)\n",
    "\n",
    "def net_factory(x_dim, scope, factor):\n",
    "    with tf.variable_scope(scope):\n",
    "        net = Sequential([\n",
    "            Zip([\n",
    "                Linear(x_dim, size1, scope='embed_1', factor=0.33),\n",
    "                Linear(x_dim, size1, scope='embed_2', factor=factor * 0.33),\n",
    "                Linear(2, size1, scope='embed_3', factor=0.33),\n",
    "                lambda _, *args, **kwargs: 0.\n",
    "            ]),\n",
    "            sum,\n",
    "            tf.nn.softplus,\n",
    "            Linear(size1, size2, scope='linear_1'),\n",
    "            tf.nn.softplus,\n",
    "            Parallel([\n",
    "                Sequential([\n",
    "                    Linear(size1, x_dim, scope='linear_s', factor=0.001), \n",
    "                    ScaleTanh(x_dim, scope='scale_s')\n",
    "                ]),\n",
    "                Linear(size1, x_dim, scope='linear_t', factor=0.001),\n",
    "                Sequential([\n",
    "                    Linear(size1, x_dim, scope='linear_f', factor=0.001),\n",
    "                    ScaleTanh(x_dim, scope='scale_f'),\n",
    "                ])\n",
    "            ])\n",
    "        ])\n",
    "    return net\n",
    "\n",
    "dynamics = Dynamics(\n",
    "    x_dim, \n",
    "    gaussian.get_energy_function(), \n",
    "    T=10, \n",
    "    eps=0.01, \n",
    "    hmc=False, \n",
    "    eps_trainable=True, \n",
    "    net_factory=net_factory, \n",
    "    use_temperature=False\n",
    ")"
   ]
  },
  {
   "cell_type": "code",
   "execution_count": 8,
   "metadata": {},
   "outputs": [
    {
     "data": {
      "text/plain": [
       "<matplotlib.collections.PathCollection at 0x7ff645445190>"
      ]
     },
     "execution_count": 8,
     "metadata": {},
     "output_type": "execute_result"
    },
    {
     "data": {
      "image/png": "[encoded data removed]",
      "text/plain": [
       "<matplotlib.figure.Figure at 0x7ff6454c0d90>"
      ]
     },
     "metadata": {},
     "output_type": "display_data"
    }
   ],
   "source": [
    "S = gaussian.get_samples(2000)\n",
    "plt.scatter(S[:, 0], S[:, 9])"
   ]
  },
  {
   "cell_type": "code",
   "execution_count": 10,
   "metadata": {},
   "outputs": [
    {
     "data": {
      "text/plain": [
       "array([  9.25483042e+02,   8.73872872e+02,   7.63702771e+02,\n",
       "         7.08871144e+02,   6.44947195e+02,   5.82905837e+02,\n",
       "         5.42751675e+02,   5.27910108e+02,   4.45104150e+02,\n",
       "         4.04528857e+02,   3.96870380e+02,   3.78377436e+02,\n",
       "         2.94451957e+02,   2.65856832e+02,   2.17876787e+02,\n",
       "         2.04312039e+02,   1.62991147e+02,   1.18955396e+02,\n",
       "         9.79772609e+01,   7.67471621e+01,   4.70326133e+01,\n",
       "         4.27934324e+01,   3.80743767e+01,   3.40631720e+01,\n",
       "         2.57866805e+01,   1.94189412e+01,   1.67197290e+01,\n",
       "         1.55725543e+01,   1.30250235e+01,   1.22952997e+01,\n",
       "         1.08152950e+01,   1.00611767e+01,   8.51122086e+00,\n",
       "         7.45892640e+00,   6.83597478e+00,   6.12753542e+00,\n",
       "         5.26876928e+00,   4.13440320e+00,   3.96803528e+00,\n",
       "         3.20585876e+00,   3.02091318e+00,   2.84090151e+00,\n",
       "         2.43928188e+00,   1.67454139e+00,   1.57720711e+00,\n",
       "         1.40128469e+00,   1.15191004e+00,   1.02266249e+00,\n",
       "         8.86575546e-01,   7.28933609e-01,   6.89446575e-01,\n",
       "         4.37218450e-01,   4.94053072e-01,   5.38804054e-01,\n",
       "         6.35743324e-01,   5.87458425e-01,   6.07262249e-01,\n",
       "         3.80586754e-01,   3.12028358e-01,   2.29719838e-01,\n",
       "         2.18202023e-01,   1.79098706e-01,   1.48112933e-01,\n",
       "         1.23274274e-01,   1.12233477e-01,   9.11424984e-02,\n",
       "         7.94417423e-02,   6.95091084e-02,   6.73505343e-02,\n",
       "         5.21236981e-02,   5.05200020e-02,   4.68015620e-02,\n",
       "         3.54224785e-02,   2.57254789e-02,   1.88995889e-02,\n",
       "         2.02241887e-02,   2.11707990e-02,   1.49053219e-02,\n",
       "         1.31962458e-02,   9.62793580e-03,   8.18650878e-03,\n",
       "         8.95038313e-03,   7.43444016e-03,   6.86580460e-03,\n",
       "         4.76524983e-03,   4.12636461e-03,   3.27495523e-03,\n",
       "         3.02438830e-03,   4.29300016e-04,   2.42464418e-03,\n",
       "         2.26922829e-03,   6.02211684e-04,   7.26124320e-04,\n",
       "         1.14981712e-03,   9.65532481e-04,   1.80412186e-03,\n",
       "         1.54599069e-03,   1.47071101e-03,   1.69766836e-03,\n",
       "         1.31343948e-03])"
      ]
     },
     "execution_count": 10,
     "metadata": {},
     "output_type": "execute_result"
    }
   ],
   "source": [
    "C = np.cov(S.T)\n",
    "np.linalg.eigvals(C)"
   ]
  },
  {
   "cell_type": "code",
   "execution_count": 11,
   "metadata": {
    "collapsed": true
   },
   "outputs": [],
   "source": [
    "def mixed(x, Lx, px, scale=1.0):\n",
    "    v = tf.reduce_sum(tf.square(x - Lx) / (scale ** 2), 1) * px + 1e-4\n",
    "    # v = tf.boolean_mask(v, tf.is_finite(v))\n",
    "    # return - tf.reduce_mean(v)\n",
    "    return tf.reduce_mean(1.0 / v) - tf.reduce_mean(v)"
   ]
  },
  {
   "cell_type": "code",
   "execution_count": 12,
   "metadata": {
    "collapsed": true
   },
   "outputs": [],
   "source": [
    "x = tf.placeholder(tf.float32, shape=(None, x_dim))\n",
    "z = tf.random_normal(tf.shape(x), dtype=tf.float32)\n",
    "\n",
    "Lx, _, px, MHx = propose(x, dynamics, do_mh_step=True)\n",
    "Lz, _, pz, _ = propose(z, dynamics, do_mh_step=False)\n",
    "\n",
    "energy = gaussian.get_energy_function()\n",
    "\n",
    "energy_diff1 = tf.square(energy(x) - energy(Lx)) * px + 1e-4\n",
    "energy_diff2 = tf.square(energy(z) - energy(Lz)) * pz + 1e-4\n",
    "\n",
    "energy_loss = tf.reduce_mean(1.0 / energy_diff1) - tf.reduce_mean(energy_diff1) + tf.reduce_mean(1.0 / energy_diff2) - tf.reduce_mean(energy_diff2)\n",
    "distance_loss = mixed(x, Lx, px) + mixed(z, Lz, pz)\n",
    "loss = distance_loss + 0.00 * energy_loss"
   ]
  },
  {
   "cell_type": "code",
   "execution_count": 13,
   "metadata": {
    "collapsed": true
   },
   "outputs": [],
   "source": [
    "lr = tf.placeholder(tf.float32, shape=())\n",
    "global_step = tf.Variable(0., trainable=False)\n",
    "learning_rate = tf.train.exponential_decay(lr, global_step,\n",
    "                                            750, 0.96, staircase=True)\n",
    "#learning_rate = lr\n",
    "opt_sampler = tf.train.AdamOptimizer(learning_rate=learning_rate)\n",
    "gradients, variables = zip(*opt_sampler.compute_gradients(loss))\n",
    "# gradients, global_norm = tf.clip_by_global_norm(gradients, 100.0)\n",
    "train_op = opt_sampler.apply_gradients(zip(gradients, variables), global_step=global_step)"
   ]
  },
  {
   "cell_type": "code",
   "execution_count": 33,
   "metadata": {
    "scrolled": true
   },
   "outputs": [
    {
     "name": "stdout",
     "output_type": "stream",
     "text": [
      "0/10000: Loss=-8.61e+00, Distance Loss=-8.61e+00, Energy Loss=-8.47e+06, p_acc=1.00, lr=9.6e-05\n",
      "100/10000: Loss=-2.67e+01, Distance Loss=-2.67e+01, Energy Loss=-4.14e+06, p_acc=0.70, lr=9.216e-05\n",
      "200/10000: Loss=-2.61e+01, Distance Loss=-2.61e+01, Energy Loss=-4.25e+06, p_acc=0.70, lr=9.216e-05\n"
     ]
    },
    {
     "ename": "KeyboardInterrupt",
     "evalue": "",
     "output_type": "error",
     "traceback": [
      "\u001b[0;31m---------------------------------------------------------------------------\u001b[0m",
      "\u001b[0;31mKeyboardInterrupt\u001b[0m                         Traceback (most recent call last)",
      "\u001b[0;32m<ipython-input-33-787715ff5c03>\u001b[0m in \u001b[0;36m<module>\u001b[0;34m()\u001b[0m\n\u001b[1;32m      8\u001b[0m \u001b[0;31m#     print sess.run(dynamics.eps)\u001b[0m\u001b[0;34m\u001b[0m\u001b[0;34m\u001b[0m\u001b[0m\n\u001b[1;32m      9\u001b[0m     \u001b[0mS\u001b[0m\u001b[0;34m.\u001b[0m\u001b[0mappend\u001b[0m\u001b[0;34m(\u001b[0m\u001b[0mnp\u001b[0m\u001b[0;34m.\u001b[0m\u001b[0mcopy\u001b[0m\u001b[0;34m(\u001b[0m\u001b[0msamples\u001b[0m\u001b[0;34m)\u001b[0m\u001b[0;34m)\u001b[0m\u001b[0;34m\u001b[0m\u001b[0m\n\u001b[0;32m---> 10\u001b[0;31m     \u001b[0msamples\u001b[0m\u001b[0;34m,\u001b[0m \u001b[0mloss_\u001b[0m\u001b[0;34m,\u001b[0m \u001b[0md_loss_\u001b[0m\u001b[0;34m,\u001b[0m \u001b[0me_loss_\u001b[0m\u001b[0;34m,\u001b[0m \u001b[0mpx_\u001b[0m\u001b[0;34m,\u001b[0m \u001b[0mlr_\u001b[0m\u001b[0;34m,\u001b[0m \u001b[0m_\u001b[0m \u001b[0;34m=\u001b[0m \u001b[0msess\u001b[0m\u001b[0;34m.\u001b[0m\u001b[0mrun\u001b[0m\u001b[0;34m(\u001b[0m\u001b[0;34m[\u001b[0m\u001b[0mMHx\u001b[0m\u001b[0;34m[\u001b[0m\u001b[0;36m0\u001b[0m\u001b[0;34m]\u001b[0m\u001b[0;34m,\u001b[0m \u001b[0mloss\u001b[0m\u001b[0;34m,\u001b[0m \u001b[0mdistance_loss\u001b[0m\u001b[0;34m,\u001b[0m \u001b[0menergy_loss\u001b[0m\u001b[0;34m,\u001b[0m \u001b[0mpx\u001b[0m\u001b[0;34m,\u001b[0m \u001b[0mlearning_rate\u001b[0m\u001b[0;34m,\u001b[0m \u001b[0mtrain_op\u001b[0m\u001b[0;34m]\u001b[0m\u001b[0;34m,\u001b[0m \u001b[0;34m{\u001b[0m\u001b[0mx\u001b[0m\u001b[0;34m:\u001b[0m \u001b[0msamples\u001b[0m\u001b[0;34m,\u001b[0m \u001b[0mlr\u001b[0m\u001b[0;34m:\u001b[0m \u001b[0;36m1e-4\u001b[0m\u001b[0;34m}\u001b[0m\u001b[0;34m)\u001b[0m\u001b[0;34m\u001b[0m\u001b[0m\n\u001b[0m\u001b[1;32m     11\u001b[0m     \u001b[0mL\u001b[0m\u001b[0;34m.\u001b[0m\u001b[0mappend\u001b[0m\u001b[0;34m(\u001b[0m\u001b[0mloss_\u001b[0m\u001b[0;34m)\u001b[0m\u001b[0;34m\u001b[0m\u001b[0m\n\u001b[1;32m     12\u001b[0m \u001b[0;34m\u001b[0m\u001b[0m\n",
      "\u001b[0;32m/home/danilevy/anaconda2/lib/python2.7/site-packages/tensorflow/python/client/session.pyc\u001b[0m in \u001b[0;36mrun\u001b[0;34m(self, fetches, feed_dict, options, run_metadata)\u001b[0m\n\u001b[1;32m    893\u001b[0m     \u001b[0;32mtry\u001b[0m\u001b[0;34m:\u001b[0m\u001b[0;34m\u001b[0m\u001b[0m\n\u001b[1;32m    894\u001b[0m       result = self._run(None, fetches, feed_dict, options_ptr,\n\u001b[0;32m--> 895\u001b[0;31m                          run_metadata_ptr)\n\u001b[0m\u001b[1;32m    896\u001b[0m       \u001b[0;32mif\u001b[0m \u001b[0mrun_metadata\u001b[0m\u001b[0;34m:\u001b[0m\u001b[0;34m\u001b[0m\u001b[0m\n\u001b[1;32m    897\u001b[0m         \u001b[0mproto_data\u001b[0m \u001b[0;34m=\u001b[0m \u001b[0mtf_session\u001b[0m\u001b[0;34m.\u001b[0m\u001b[0mTF_GetBuffer\u001b[0m\u001b[0;34m(\u001b[0m\u001b[0mrun_metadata_ptr\u001b[0m\u001b[0;34m)\u001b[0m\u001b[0;34m\u001b[0m\u001b[0m\n",
      "\u001b[0;32m/home/danilevy/anaconda2/lib/python2.7/site-packages/tensorflow/python/client/session.pyc\u001b[0m in \u001b[0;36m_run\u001b[0;34m(self, handle, fetches, feed_dict, options, run_metadata)\u001b[0m\n\u001b[1;32m   1122\u001b[0m     \u001b[0;32mif\u001b[0m \u001b[0mfinal_fetches\u001b[0m \u001b[0;32mor\u001b[0m \u001b[0mfinal_targets\u001b[0m \u001b[0;32mor\u001b[0m \u001b[0;34m(\u001b[0m\u001b[0mhandle\u001b[0m \u001b[0;32mand\u001b[0m \u001b[0mfeed_dict_tensor\u001b[0m\u001b[0;34m)\u001b[0m\u001b[0;34m:\u001b[0m\u001b[0;34m\u001b[0m\u001b[0m\n\u001b[1;32m   1123\u001b[0m       results = self._do_run(handle, final_targets, final_fetches,\n\u001b[0;32m-> 1124\u001b[0;31m                              feed_dict_tensor, options, run_metadata)\n\u001b[0m\u001b[1;32m   1125\u001b[0m     \u001b[0;32melse\u001b[0m\u001b[0;34m:\u001b[0m\u001b[0;34m\u001b[0m\u001b[0m\n\u001b[1;32m   1126\u001b[0m       \u001b[0mresults\u001b[0m \u001b[0;34m=\u001b[0m \u001b[0;34m[\u001b[0m\u001b[0;34m]\u001b[0m\u001b[0;34m\u001b[0m\u001b[0m\n",
      "\u001b[0;32m/home/danilevy/anaconda2/lib/python2.7/site-packages/tensorflow/python/client/session.pyc\u001b[0m in \u001b[0;36m_do_run\u001b[0;34m(self, handle, target_list, fetch_list, feed_dict, options, run_metadata)\u001b[0m\n\u001b[1;32m   1319\u001b[0m     \u001b[0;32mif\u001b[0m \u001b[0mhandle\u001b[0m \u001b[0;32mis\u001b[0m \u001b[0mNone\u001b[0m\u001b[0;34m:\u001b[0m\u001b[0;34m\u001b[0m\u001b[0m\n\u001b[1;32m   1320\u001b[0m       return self._do_call(_run_fn, self._session, feeds, fetches, targets,\n\u001b[0;32m-> 1321\u001b[0;31m                            options, run_metadata)\n\u001b[0m\u001b[1;32m   1322\u001b[0m     \u001b[0;32melse\u001b[0m\u001b[0;34m:\u001b[0m\u001b[0;34m\u001b[0m\u001b[0m\n\u001b[1;32m   1323\u001b[0m       \u001b[0;32mreturn\u001b[0m \u001b[0mself\u001b[0m\u001b[0;34m.\u001b[0m\u001b[0m_do_call\u001b[0m\u001b[0;34m(\u001b[0m\u001b[0m_prun_fn\u001b[0m\u001b[0;34m,\u001b[0m \u001b[0mself\u001b[0m\u001b[0;34m.\u001b[0m\u001b[0m_session\u001b[0m\u001b[0;34m,\u001b[0m \u001b[0mhandle\u001b[0m\u001b[0;34m,\u001b[0m \u001b[0mfeeds\u001b[0m\u001b[0;34m,\u001b[0m \u001b[0mfetches\u001b[0m\u001b[0;34m)\u001b[0m\u001b[0;34m\u001b[0m\u001b[0m\n",
      "\u001b[0;32m/home/danilevy/anaconda2/lib/python2.7/site-packages/tensorflow/python/client/session.pyc\u001b[0m in \u001b[0;36m_do_call\u001b[0;34m(self, fn, *args)\u001b[0m\n\u001b[1;32m   1325\u001b[0m   \u001b[0;32mdef\u001b[0m \u001b[0m_do_call\u001b[0m\u001b[0;34m(\u001b[0m\u001b[0mself\u001b[0m\u001b[0;34m,\u001b[0m \u001b[0mfn\u001b[0m\u001b[0;34m,\u001b[0m \u001b[0;34m*\u001b[0m\u001b[0margs\u001b[0m\u001b[0;34m)\u001b[0m\u001b[0;34m:\u001b[0m\u001b[0;34m\u001b[0m\u001b[0m\n\u001b[1;32m   1326\u001b[0m     \u001b[0;32mtry\u001b[0m\u001b[0;34m:\u001b[0m\u001b[0;34m\u001b[0m\u001b[0m\n\u001b[0;32m-> 1327\u001b[0;31m       \u001b[0;32mreturn\u001b[0m \u001b[0mfn\u001b[0m\u001b[0;34m(\u001b[0m\u001b[0;34m*\u001b[0m\u001b[0margs\u001b[0m\u001b[0;34m)\u001b[0m\u001b[0;34m\u001b[0m\u001b[0m\n\u001b[0m\u001b[1;32m   1328\u001b[0m     \u001b[0;32mexcept\u001b[0m \u001b[0merrors\u001b[0m\u001b[0;34m.\u001b[0m\u001b[0mOpError\u001b[0m \u001b[0;32mas\u001b[0m \u001b[0me\u001b[0m\u001b[0;34m:\u001b[0m\u001b[0;34m\u001b[0m\u001b[0m\n\u001b[1;32m   1329\u001b[0m       \u001b[0mmessage\u001b[0m \u001b[0;34m=\u001b[0m \u001b[0mcompat\u001b[0m\u001b[0;34m.\u001b[0m\u001b[0mas_text\u001b[0m\u001b[0;34m(\u001b[0m\u001b[0me\u001b[0m\u001b[0;34m.\u001b[0m\u001b[0mmessage\u001b[0m\u001b[0;34m)\u001b[0m\u001b[0;34m\u001b[0m\u001b[0m\n",
      "\u001b[0;32m/home/danilevy/anaconda2/lib/python2.7/site-packages/tensorflow/python/client/session.pyc\u001b[0m in \u001b[0;36m_run_fn\u001b[0;34m(session, feed_dict, fetch_list, target_list, options, run_metadata)\u001b[0m\n\u001b[1;32m   1304\u001b[0m           return tf_session.TF_Run(session, options,\n\u001b[1;32m   1305\u001b[0m                                    \u001b[0mfeed_dict\u001b[0m\u001b[0;34m,\u001b[0m \u001b[0mfetch_list\u001b[0m\u001b[0;34m,\u001b[0m \u001b[0mtarget_list\u001b[0m\u001b[0;34m,\u001b[0m\u001b[0;34m\u001b[0m\u001b[0m\n\u001b[0;32m-> 1306\u001b[0;31m                                    status, run_metadata)\n\u001b[0m\u001b[1;32m   1307\u001b[0m \u001b[0;34m\u001b[0m\u001b[0m\n\u001b[1;32m   1308\u001b[0m     \u001b[0;32mdef\u001b[0m \u001b[0m_prun_fn\u001b[0m\u001b[0;34m(\u001b[0m\u001b[0msession\u001b[0m\u001b[0;34m,\u001b[0m \u001b[0mhandle\u001b[0m\u001b[0;34m,\u001b[0m \u001b[0mfeed_dict\u001b[0m\u001b[0;34m,\u001b[0m \u001b[0mfetch_list\u001b[0m\u001b[0;34m)\u001b[0m\u001b[0;34m:\u001b[0m\u001b[0;34m\u001b[0m\u001b[0m\n",
      "\u001b[0;31mKeyboardInterrupt\u001b[0m: "
     ]
    }
   ],
   "source": [
    "samples = np.random.randn(200, 100)\n",
    "# L = []\n",
    "# S = []\n",
    "# sess = tf.Session()\n",
    "# sess.run(tf.global_variables_initializer())\n",
    "\n",
    "for t in range(5000):\n",
    "#     print sess.run(dynamics.eps)\n",
    "    S.append(np.copy(samples))\n",
    "    samples, loss_, d_loss_, e_loss_, px_, lr_, _ = sess.run([MHx[0], loss, distance_loss, energy_loss, px, learning_rate, train_op], {x: samples, lr: 1e-4})\n",
    "    L.append(loss_)\n",
    "    \n",
    "    if t % 100 == 0:\n",
    "        print '%d/%d: Loss=%.2e, Distance Loss=%.2e, Energy Loss=%.2e, p_acc=%.2f, lr=%g' % (t, 10000, loss_, d_loss_, e_loss_, np.mean(px_), lr_)\n",
    "        "
   ]
  },
  {
   "cell_type": "code",
   "execution_count": 34,
   "metadata": {},
   "outputs": [
    {
     "data": {
      "text/plain": [
       "[<matplotlib.lines.Line2D at 0x7ff6186dff10>]"
      ]
     },
     "execution_count": 34,
     "metadata": {},
     "output_type": "execute_result"
    },
    {
     "data": {
      "image/png": "[encoded data removed]",
      "text/plain": [
       "<matplotlib.figure.Figure at 0x7ff6187e1a50>"
      ]
     },
     "metadata": {},
     "output_type": "display_data"
    }
   ],
   "source": [
    "def smooth(x, k=25):\n",
    "    n = len(x)\n",
    "    return [np.mean(x[t: t+k]) for t in range(n - k)]\n",
    "plt.plot(smooth(L, k=100))"
   ]
  },
  {
   "cell_type": "code",
   "execution_count": 41,
   "metadata": {},
   "outputs": [
    {
     "data": {
      "text/plain": [
       "[<matplotlib.lines.Line2D at 0x7fbc54011c10>,\n",
       " <matplotlib.lines.Line2D at 0x7fbc54011b10>,\n",
       " <matplotlib.lines.Line2D at 0x7fbc54011d50>,\n",
       " <matplotlib.lines.Line2D at 0x7fbc54011e10>,\n",
       " <matplotlib.lines.Line2D at 0x7fbc54011f10>,\n",
       " <matplotlib.lines.Line2D at 0x7fbc540112d0>,\n",
       " <matplotlib.lines.Line2D at 0x7fbc5401f090>,\n",
       " <matplotlib.lines.Line2D at 0x7fbc5401f190>,\n",
       " <matplotlib.lines.Line2D at 0x7fbc5401f290>,\n",
       " <matplotlib.lines.Line2D at 0x7fbc5401f390>,\n",
       " <matplotlib.lines.Line2D at 0x7fbc5401f490>,\n",
       " <matplotlib.lines.Line2D at 0x7fbc5401f590>,\n",
       " <matplotlib.lines.Line2D at 0x7fbc5401f690>,\n",
       " <matplotlib.lines.Line2D at 0x7fbc5401f790>,\n",
       " <matplotlib.lines.Line2D at 0x7fbc5401f890>,\n",
       " <matplotlib.lines.Line2D at 0x7fbc5401f990>,\n",
       " <matplotlib.lines.Line2D at 0x7fbc5401fa90>,\n",
       " <matplotlib.lines.Line2D at 0x7fbc5401fb90>,\n",
       " <matplotlib.lines.Line2D at 0x7fbc5401fc90>,\n",
       " <matplotlib.lines.Line2D at 0x7fbc5401fd90>,\n",
       " <matplotlib.lines.Line2D at 0x7fbc540af450>,\n",
       " <matplotlib.lines.Line2D at 0x7fbc5401ff90>,\n",
       " <matplotlib.lines.Line2D at 0x7fbc5402a0d0>,\n",
       " <matplotlib.lines.Line2D at 0x7fbc5402a1d0>,\n",
       " <matplotlib.lines.Line2D at 0x7fbc5402a2d0>,\n",
       " <matplotlib.lines.Line2D at 0x7fbc5402a3d0>,\n",
       " <matplotlib.lines.Line2D at 0x7fbc5402a4d0>,\n",
       " <matplotlib.lines.Line2D at 0x7fbc5402a5d0>,\n",
       " <matplotlib.lines.Line2D at 0x7fbc5402a6d0>,\n",
       " <matplotlib.lines.Line2D at 0x7fbc5402a7d0>,\n",
       " <matplotlib.lines.Line2D at 0x7fbc5401fe90>,\n",
       " <matplotlib.lines.Line2D at 0x7fbc5402a9d0>,\n",
       " <matplotlib.lines.Line2D at 0x7fbc5402aad0>,\n",
       " <matplotlib.lines.Line2D at 0x7fbc5402abd0>,\n",
       " <matplotlib.lines.Line2D at 0x7fbc5402acd0>,\n",
       " <matplotlib.lines.Line2D at 0x7fbc5402add0>,\n",
       " <matplotlib.lines.Line2D at 0x7fbc5402aed0>,\n",
       " <matplotlib.lines.Line2D at 0x7fbc5402afd0>,\n",
       " <matplotlib.lines.Line2D at 0x7fbc54035110>,\n",
       " <matplotlib.lines.Line2D at 0x7fbc54035210>,\n",
       " <matplotlib.lines.Line2D at 0x7fbc5402a8d0>,\n",
       " <matplotlib.lines.Line2D at 0x7fbc54035410>,\n",
       " <matplotlib.lines.Line2D at 0x7fbc54035510>,\n",
       " <matplotlib.lines.Line2D at 0x7fbc54035610>,\n",
       " <matplotlib.lines.Line2D at 0x7fbc54035710>,\n",
       " <matplotlib.lines.Line2D at 0x7fbc54035810>,\n",
       " <matplotlib.lines.Line2D at 0x7fbc54035910>,\n",
       " <matplotlib.lines.Line2D at 0x7fbc54035a10>,\n",
       " <matplotlib.lines.Line2D at 0x7fbc54035b10>,\n",
       " <matplotlib.lines.Line2D at 0x7fbc54035c10>,\n",
       " <matplotlib.lines.Line2D at 0x7fbc54035310>,\n",
       " <matplotlib.lines.Line2D at 0x7fbc54035e10>,\n",
       " <matplotlib.lines.Line2D at 0x7fbc54035f10>,\n",
       " <matplotlib.lines.Line2D at 0x7fbc5403f050>,\n",
       " <matplotlib.lines.Line2D at 0x7fbc5403f150>,\n",
       " <matplotlib.lines.Line2D at 0x7fbc5403f250>,\n",
       " <matplotlib.lines.Line2D at 0x7fbc5403f350>,\n",
       " <matplotlib.lines.Line2D at 0x7fbc5403f450>,\n",
       " <matplotlib.lines.Line2D at 0x7fbc5403f550>,\n",
       " <matplotlib.lines.Line2D at 0x7fbc5403f650>,\n",
       " <matplotlib.lines.Line2D at 0x7fbc54035d10>,\n",
       " <matplotlib.lines.Line2D at 0x7fbc5403f850>,\n",
       " <matplotlib.lines.Line2D at 0x7fbc5403f950>,\n",
       " <matplotlib.lines.Line2D at 0x7fbc5403fa50>,\n",
       " <matplotlib.lines.Line2D at 0x7fbc5403fb50>,\n",
       " <matplotlib.lines.Line2D at 0x7fbc5403fc50>,\n",
       " <matplotlib.lines.Line2D at 0x7fbc5403fd50>,\n",
       " <matplotlib.lines.Line2D at 0x7fbc5403fe50>,\n",
       " <matplotlib.lines.Line2D at 0x7fbc5403ff50>,\n",
       " <matplotlib.lines.Line2D at 0x7fbc53fc9090>,\n",
       " <matplotlib.lines.Line2D at 0x7fbc5403f750>,\n",
       " <matplotlib.lines.Line2D at 0x7fbc53fc9290>,\n",
       " <matplotlib.lines.Line2D at 0x7fbc53fc9390>,\n",
       " <matplotlib.lines.Line2D at 0x7fbc53fc9490>,\n",
       " <matplotlib.lines.Line2D at 0x7fbc53fc9590>,\n",
       " <matplotlib.lines.Line2D at 0x7fbc53fc9690>,\n",
       " <matplotlib.lines.Line2D at 0x7fbc53fc9790>,\n",
       " <matplotlib.lines.Line2D at 0x7fbc53fc9890>,\n",
       " <matplotlib.lines.Line2D at 0x7fbc53fc9990>,\n",
       " <matplotlib.lines.Line2D at 0x7fbc53fc9a90>,\n",
       " <matplotlib.lines.Line2D at 0x7fbc53fc9190>,\n",
       " <matplotlib.lines.Line2D at 0x7fbc53fc9c90>,\n",
       " <matplotlib.lines.Line2D at 0x7fbc53fc9d90>,\n",
       " <matplotlib.lines.Line2D at 0x7fbc53fc9e90>,\n",
       " <matplotlib.lines.Line2D at 0x7fbc53fc9f90>,\n",
       " <matplotlib.lines.Line2D at 0x7fbc53fd40d0>,\n",
       " <matplotlib.lines.Line2D at 0x7fbc53fd41d0>,\n",
       " <matplotlib.lines.Line2D at 0x7fbc53fd42d0>,\n",
       " <matplotlib.lines.Line2D at 0x7fbc53fd43d0>,\n",
       " <matplotlib.lines.Line2D at 0x7fbc53fd44d0>,\n",
       " <matplotlib.lines.Line2D at 0x7fbc53fc9b90>,\n",
       " <matplotlib.lines.Line2D at 0x7fbc53fd46d0>,\n",
       " <matplotlib.lines.Line2D at 0x7fbc53fd47d0>,\n",
       " <matplotlib.lines.Line2D at 0x7fbc53fd48d0>,\n",
       " <matplotlib.lines.Line2D at 0x7fbc53fd49d0>,\n",
       " <matplotlib.lines.Line2D at 0x7fbc53fd4ad0>,\n",
       " <matplotlib.lines.Line2D at 0x7fbc53fd4bd0>,\n",
       " <matplotlib.lines.Line2D at 0x7fbc53fd4cd0>,\n",
       " <matplotlib.lines.Line2D at 0x7fbc53fd4dd0>,\n",
       " <matplotlib.lines.Line2D at 0x7fbc53fd4ed0>,\n",
       " <matplotlib.lines.Line2D at 0x7fbc53fd45d0>,\n",
       " <matplotlib.lines.Line2D at 0x7fbc53fdf110>,\n",
       " <matplotlib.lines.Line2D at 0x7fbc53fdf210>,\n",
       " <matplotlib.lines.Line2D at 0x7fbc53fdf310>,\n",
       " <matplotlib.lines.Line2D at 0x7fbc53fdf410>,\n",
       " <matplotlib.lines.Line2D at 0x7fbc53fdf510>,\n",
       " <matplotlib.lines.Line2D at 0x7fbc53fdf610>,\n",
       " <matplotlib.lines.Line2D at 0x7fbc53fdf710>,\n",
       " <matplotlib.lines.Line2D at 0x7fbc53fdf810>,\n",
       " <matplotlib.lines.Line2D at 0x7fbc53fdf910>,\n",
       " <matplotlib.lines.Line2D at 0x7fbc53fd4fd0>,\n",
       " <matplotlib.lines.Line2D at 0x7fbc53fdfb10>,\n",
       " <matplotlib.lines.Line2D at 0x7fbc53fdfc10>,\n",
       " <matplotlib.lines.Line2D at 0x7fbc53fdfd10>,\n",
       " <matplotlib.lines.Line2D at 0x7fbc53fdfe10>,\n",
       " <matplotlib.lines.Line2D at 0x7fbc53fdff10>,\n",
       " <matplotlib.lines.Line2D at 0x7fbc53fe7050>,\n",
       " <matplotlib.lines.Line2D at 0x7fbc53fe7150>,\n",
       " <matplotlib.lines.Line2D at 0x7fbc53fe7250>,\n",
       " <matplotlib.lines.Line2D at 0x7fbc53fe7350>,\n",
       " <matplotlib.lines.Line2D at 0x7fbc53fdfa10>,\n",
       " <matplotlib.lines.Line2D at 0x7fbc53fe7550>,\n",
       " <matplotlib.lines.Line2D at 0x7fbc53fe7650>,\n",
       " <matplotlib.lines.Line2D at 0x7fbc53fe7750>,\n",
       " <matplotlib.lines.Line2D at 0x7fbc53fe7850>,\n",
       " <matplotlib.lines.Line2D at 0x7fbc53fe7950>,\n",
       " <matplotlib.lines.Line2D at 0x7fbc53fe7a50>,\n",
       " <matplotlib.lines.Line2D at 0x7fbc53fe7b50>,\n",
       " <matplotlib.lines.Line2D at 0x7fbc53fe7c50>,\n",
       " <matplotlib.lines.Line2D at 0x7fbc53fe7d50>,\n",
       " <matplotlib.lines.Line2D at 0x7fbc53fe7450>,\n",
       " <matplotlib.lines.Line2D at 0x7fbc53fe7f50>,\n",
       " <matplotlib.lines.Line2D at 0x7fbc53ff4090>,\n",
       " <matplotlib.lines.Line2D at 0x7fbc53ff4190>,\n",
       " <matplotlib.lines.Line2D at 0x7fbc53ff4290>,\n",
       " <matplotlib.lines.Line2D at 0x7fbc53ff4390>,\n",
       " <matplotlib.lines.Line2D at 0x7fbc53ff4490>,\n",
       " <matplotlib.lines.Line2D at 0x7fbc53ff4590>,\n",
       " <matplotlib.lines.Line2D at 0x7fbc53ff4690>,\n",
       " <matplotlib.lines.Line2D at 0x7fbc53ff4790>,\n",
       " <matplotlib.lines.Line2D at 0x7fbc53fe7e50>,\n",
       " <matplotlib.lines.Line2D at 0x7fbc53ff4990>,\n",
       " <matplotlib.lines.Line2D at 0x7fbc53ff4a90>,\n",
       " <matplotlib.lines.Line2D at 0x7fbc53ff4b90>,\n",
       " <matplotlib.lines.Line2D at 0x7fbc53ff4c90>,\n",
       " <matplotlib.lines.Line2D at 0x7fbc53ff4d90>,\n",
       " <matplotlib.lines.Line2D at 0x7fbc53ff4e90>,\n",
       " <matplotlib.lines.Line2D at 0x7fbc53ff4f90>,\n",
       " <matplotlib.lines.Line2D at 0x7fbc53ffe0d0>,\n",
       " <matplotlib.lines.Line2D at 0x7fbc53ffe1d0>,\n",
       " <matplotlib.lines.Line2D at 0x7fbc53ff4890>,\n",
       " <matplotlib.lines.Line2D at 0x7fbc53ffe3d0>,\n",
       " <matplotlib.lines.Line2D at 0x7fbc53ffe4d0>,\n",
       " <matplotlib.lines.Line2D at 0x7fbc53ffe5d0>,\n",
       " <matplotlib.lines.Line2D at 0x7fbc53ffe6d0>,\n",
       " <matplotlib.lines.Line2D at 0x7fbc53ffe7d0>,\n",
       " <matplotlib.lines.Line2D at 0x7fbc53ffe8d0>,\n",
       " <matplotlib.lines.Line2D at 0x7fbc53ffe9d0>,\n",
       " <matplotlib.lines.Line2D at 0x7fbc53ffead0>,\n",
       " <matplotlib.lines.Line2D at 0x7fbc53ffebd0>,\n",
       " <matplotlib.lines.Line2D at 0x7fbc53ffe2d0>,\n",
       " <matplotlib.lines.Line2D at 0x7fbc53ffedd0>,\n",
       " <matplotlib.lines.Line2D at 0x7fbc53ffeed0>,\n",
       " <matplotlib.lines.Line2D at 0x7fbc53ffefd0>,\n",
       " <matplotlib.lines.Line2D at 0x7fbc53f89110>,\n",
       " <matplotlib.lines.Line2D at 0x7fbc53f89210>,\n",
       " <matplotlib.lines.Line2D at 0x7fbc53f89310>,\n",
       " <matplotlib.lines.Line2D at 0x7fbc53f89410>,\n",
       " <matplotlib.lines.Line2D at 0x7fbc53f89510>,\n",
       " <matplotlib.lines.Line2D at 0x7fbc53f89610>,\n",
       " <matplotlib.lines.Line2D at 0x7fbc53ffecd0>,\n",
       " <matplotlib.lines.Line2D at 0x7fbc53f89810>,\n",
       " <matplotlib.lines.Line2D at 0x7fbc53f89910>,\n",
       " <matplotlib.lines.Line2D at 0x7fbc53f89a10>,\n",
       " <matplotlib.lines.Line2D at 0x7fbc53f89b10>,\n",
       " <matplotlib.lines.Line2D at 0x7fbc53f89c10>,\n",
       " <matplotlib.lines.Line2D at 0x7fbc53f89d10>,\n",
       " <matplotlib.lines.Line2D at 0x7fbc53f89e10>,\n",
       " <matplotlib.lines.Line2D at 0x7fbc53f89f10>,\n",
       " <matplotlib.lines.Line2D at 0x7fbc53f93050>,\n",
       " <matplotlib.lines.Line2D at 0x7fbc53f89710>,\n",
       " <matplotlib.lines.Line2D at 0x7fbc53f93250>,\n",
       " <matplotlib.lines.Line2D at 0x7fbc53f93350>,\n",
       " <matplotlib.lines.Line2D at 0x7fbc53f93450>,\n",
       " <matplotlib.lines.Line2D at 0x7fbc53f93550>,\n",
       " <matplotlib.lines.Line2D at 0x7fbc53f93650>,\n",
       " <matplotlib.lines.Line2D at 0x7fbc53f93750>,\n",
       " <matplotlib.lines.Line2D at 0x7fbc53f93850>,\n",
       " <matplotlib.lines.Line2D at 0x7fbc53f93950>,\n",
       " <matplotlib.lines.Line2D at 0x7fbc53f93a50>,\n",
       " <matplotlib.lines.Line2D at 0x7fbc53f93150>,\n",
       " <matplotlib.lines.Line2D at 0x7fbc53f93c50>,\n",
       " <matplotlib.lines.Line2D at 0x7fbc53f93d50>,\n",
       " <matplotlib.lines.Line2D at 0x7fbc53f93e50>,\n",
       " <matplotlib.lines.Line2D at 0x7fbc53f93f50>,\n",
       " <matplotlib.lines.Line2D at 0x7fbc53f9e090>,\n",
       " <matplotlib.lines.Line2D at 0x7fbc53f9e190>,\n",
       " <matplotlib.lines.Line2D at 0x7fbc53f9e290>,\n",
       " <matplotlib.lines.Line2D at 0x7fbc53f9e390>,\n",
       " <matplotlib.lines.Line2D at 0x7fbc53f9e490>]"
      ]
     },
     "execution_count": 41,
     "metadata": {},
     "output_type": "execute_result"
    },
    {
     "data": {
      "image/png": "[encoded data removed]",
      "text/plain": [
       "<matplotlib.figure.Figure at 0x7fbde03d0290>"
      ]
     },
     "metadata": {},
     "output_type": "display_data"
    }
   ],
   "source": [
    "samples = gaussian.get_samples(200)\n",
    "plt.scatter(samples[:, 0], samples[:, 1], color='grey')\n",
    "S = np.array(S)\n",
    "plt.plot(S[-50:, :, 0], S[-50:, :, 1], marker='d')"
   ]
  },
  {
   "cell_type": "code",
   "execution_count": null,
   "metadata": {
    "collapsed": true
   },
   "outputs": [],
   "source": [
    "e = energy(x)\n",
    "\n",
    "e_ = sess.run(e, {x: S[:, 0, :]})\n",
    "\n",
    "plt.plot(e_)"
   ]
  },
  {
   "cell_type": "code",
   "execution_count": 49,
   "metadata": {},
   "outputs": [
    {
     "name": "stdout",
     "output_type": "stream",
     "text": [
      "0.599917\n",
      "0.601142\n",
      "0.546163\n",
      "0.550497\n",
      "0.491904\n",
      "0.523447\n",
      "0.543043\n",
      "0.556604\n",
      "0.501536\n",
      "0.511537\n",
      "0.503207\n",
      "0.455269\n",
      "0.482599\n",
      "0.464831\n",
      "0.46311\n",
      "0.456165\n",
      "0.406268\n",
      "0.491021\n",
      "0.439759\n",
      "0.443496\n",
      "0.456302\n",
      "0.423184\n",
      "0.427377\n",
      "0.457241\n",
      "0.400544\n",
      "0.405666\n",
      "0.46808\n",
      "0.360597\n",
      "0.392067\n",
      "0.379598\n",
      "0.395313\n",
      "0.382086\n",
      "0.361989\n",
      "0.386259\n",
      "0.347034\n",
      "0.407087\n",
      "0.42733\n",
      "0.373398\n",
      "0.371155\n",
      "0.38216\n",
      "0.384624\n",
      "0.346904\n",
      "0.339378\n",
      "0.397254\n",
      "0.340536\n",
      "0.362787\n",
      "0.360557\n",
      "0.287142\n",
      "0.371069\n",
      "0.334634\n",
      "0.320817\n",
      "0.347677\n",
      "0.317991\n",
      "0.291061\n",
      "0.347297\n",
      "0.321846\n",
      "0.344756\n",
      "0.304679\n",
      "0.387651\n",
      "0.337056\n",
      "0.328373\n",
      "0.317116\n",
      "0.296915\n",
      "0.29904\n",
      "0.297667\n",
      "0.357392\n",
      "0.273893\n",
      "0.345135\n",
      "0.279879\n",
      "0.309033\n",
      "0.288651\n",
      "0.301704\n",
      "0.292479\n",
      "0.300065\n",
      "0.267962\n",
      "0.317056\n",
      "0.263203\n",
      "0.326258\n",
      "0.263378\n",
      "0.266761\n",
      "0.271421\n",
      "0.280895\n",
      "0.278754\n",
      "0.28301\n",
      "0.255217\n",
      "0.273834\n",
      "0.279372\n",
      "0.295891\n",
      "0.277016\n",
      "0.267437\n",
      "0.244588\n",
      "0.238775\n",
      "0.272914\n",
      "0.269803\n",
      "0.25063\n",
      "0.25741\n",
      "0.26955\n",
      "0.24362\n",
      "0.245166\n",
      "0.257599\n"
     ]
    }
   ],
   "source": [
    "samples = np.random.randn(200, 100)\n",
    "samples = final_samples[-1]\n",
    "\n",
    "final_samples = []\n",
    "for t in range(10000):\n",
    "    final_samples.append(np.copy(samples))\n",
    "    samples, px_ = sess.run([MHx[0], px], {x: samples})\n",
    "    if t % 100 == 0: print px_.mean()"
   ]
  },
  {
   "cell_type": "code",
   "execution_count": 31,
   "metadata": {},
   "outputs": [
    {
     "data": {
      "text/plain": [
       "(500, 200, 100)"
      ]
     },
     "execution_count": 31,
     "metadata": {},
     "output_type": "execute_result"
    }
   ],
   "source": [
    "F.shape"
   ]
  },
  {
   "cell_type": "code",
   "execution_count": null,
   "metadata": {},
   "outputs": [],
   "source": [
    "F = np.array(final_samples)\n",
    "# plt.scatter(samples[:, 0], samples[:, 1], color='grey', alpha=0.2)\n",
    "# plt.plot(F[:, 5:10, 0], F[:, 5:10, 1], marker='d')\n",
    "# plt.show()"
   ]
  },
  {
   "cell_type": "code",
   "execution_count": 46,
   "metadata": {},
   "outputs": [],
   "source": [
    "mu = F.mean(axis=0)"
   ]
  },
  {
   "cell_type": "code",
   "execution_count": null,
   "metadata": {},
   "outputs": [],
   "source": [
    "autocov = np.array([autocovariance(F, tau=t) for t in range(9999)])"
   ]
  },
  {
   "cell_type": "code",
   "execution_count": null,
   "metadata": {},
   "outputs": [],
   "source": [
    "plt.plot(autocov)"
   ]
  },
  {
   "cell_type": "code",
   "execution_count": null,
   "metadata": {
    "collapsed": true
   },
   "outputs": [],
   "source": [
    "F = np.array(final_samples[1000:])\n",
    "mu = F.mean(axis=(0, 1))\n",
    "I = np.array(H[:1000])\n",
    "plt.plot([autocovariance(F - mu, tau=t) for t in range(199)], label='CS')\n",
    "plt.plot([autocovariance(G - mu, tau=t) for t in range(199)], label='CS')\n",
    "plt.plot([autocovariance(I - mu, tau=t) for t in range(199)], label='CS')\n",
    "plt.xlim(0, 100)"
   ]
  },
  {
   "cell_type": "code",
   "execution_count": null,
   "metadata": {
    "collapsed": true
   },
   "outputs": [],
   "source": [
    "S = gaussian.get_samples(200)\n",
    "plt.scatter(S[:, 0], S[:, 1])\n",
    "plt.plot(G[:20, 1, 0], G[:20, 1, 1], color='red', marker='d', linewidth=1.2)"
   ]
  },
  {
   "cell_type": "code",
   "execution_count": null,
   "metadata": {
    "collapsed": true
   },
   "outputs": [],
   "source": [
    "plt.hist(F[:1000, 5, 0].flatten(), bins=20)"
   ]
  },
  {
   "cell_type": "code",
   "execution_count": null,
   "metadata": {
    "collapsed": true
   },
   "outputs": [],
   "source": [
    "H = get_hmc_samples(eps=0.2)"
   ]
  },
  {
   "cell_type": "code",
   "execution_count": null,
   "metadata": {
    "collapsed": true
   },
   "outputs": [],
   "source": [
    "G = np.array(H[1000:])\n",
    "\n",
    "plt.hist(G[:500, 50, 0].flatten(), bins=20)"
   ]
  },
  {
   "cell_type": "code",
   "execution_count": null,
   "metadata": {
    "collapsed": true
   },
   "outputs": [],
   "source": [
    "def autocovariance(X, tau=0):\n",
    "    dT, dN, dX = np.shape(X)\n",
    "    s = 0.\n",
    "    for t in range(dT - tau):\n",
    "        x1 = X[t, :, :]\n",
    "        x2 = X[t+tau, :, :]\n",
    "\n",
    "        s += np.sum(x1 * x2) / dN\n",
    "\n",
    "    return s / (dT - tau)"
   ]
  },
  {
   "cell_type": "code",
   "execution_count": null,
   "metadata": {
    "collapsed": true
   },
   "outputs": [],
   "source": [
    "gaussian.easy = False"
   ]
  },
  {
   "cell_type": "code",
   "execution_count": null,
   "metadata": {
    "collapsed": true
   },
   "outputs": [],
   "source": [
    "energy"
   ]
  },
  {
   "cell_type": "code",
   "execution_count": null,
   "metadata": {
    "collapsed": true
   },
   "outputs": [],
   "source": [
    "S = gaussian.get_samples(200)\n",
    "\n",
    "mu = np.mean(F, axis=(0, 1))\n",
    "std = np.std(F, axis=(0, 1))\n",
    "for eps in [0.2]:\n",
    "    print eps\n",
    "    H = get_hmc_samples(eps, samples=S, steps=5000)\n",
    "    plt.plot(np.abs([autocovariance((H - mu) / std, tau=t) for t in range(4999)]), label='$\\epsilon=%.3f$' % eps)\n",
    "plt.plot(np.abs([autocovariance((np.array(final_samples) - mu) / std, tau=t) for t in range(4999)]), label='Cosa Nostra')\n",
    "plt.xlabel('# gradient steps')\n",
    "plt.ylabel('Autocovariance')\n",
    "plt.legend()"
   ]
  },
  {
   "cell_type": "code",
   "execution_count": null,
   "metadata": {
    "collapsed": true
   },
   "outputs": [],
   "source": [
    "plt.acorr(F[:,0,0], maxlags=300,  normed=True, usevlines=False)\n",
    "plt.xlim(0, 300)"
   ]
  },
  {
   "cell_type": "code",
   "execution_count": null,
   "metadata": {
    "collapsed": true
   },
   "outputs": [],
   "source": [
    "plt.plot(H[:100, 0, 0], H[:100, 0, 1], marker='d')"
   ]
  },
  {
   "cell_type": "code",
   "execution_count": null,
   "metadata": {
    "collapsed": true
   },
   "outputs": [],
   "source": [
    "gaussian.sigma = 3."
   ]
  },
  {
   "cell_type": "code",
   "execution_count": null,
   "metadata": {
    "collapsed": true
   },
   "outputs": [],
   "source": [
    "mu = H1.mean(axis=(0, 1))\n",
    "print mu"
   ]
  },
  {
   "cell_type": "code",
   "execution_count": null,
   "metadata": {
    "collapsed": true
   },
   "outputs": [],
   "source": [
    "S = gaussian.get_samples(n=5)\n",
    "H = get_hmc_samples(0.3, samples=S, steps=400)\n",
    "# for eps in np.arange(0.1, 0.7, 0.1):\n",
    "#     H = get_hmc_samples(eps, samples=S)\n",
    "#     plt.plot(np.abs([autocovariance(H-mu, tau=t) for t in range(199)]), label='$\\epsilon=%.3f$' % eps)\n",
    "# # plt.plot(np.abs([autocovariance(F-mu, tau=t) for t in range(199)]), label='Cosa Nostra')\n",
    "# plt.xlabel('# gradient steps')\n",
    "# plt.ylabel('Autocovariance')\n",
    "# plt.legend()"
   ]
  },
  {
   "cell_type": "code",
   "execution_count": null,
   "metadata": {
    "collapsed": true
   },
   "outputs": [],
   "source": [
    "np.isnan(H.flatten()).sum()"
   ]
  },
  {
   "cell_type": "code",
   "execution_count": null,
   "metadata": {
    "collapsed": true
   },
   "outputs": [],
   "source": [
    "plt.plot(H[:, 2, 0])"
   ]
  },
  {
   "cell_type": "code",
   "execution_count": null,
   "metadata": {
    "collapsed": true
   },
   "outputs": [],
   "source": [
    "plt.plot(np.abs([autocovariance(H-mu, tau=t) for t in range(199)]), label='$\\epsilon=%.3f$' % eps)"
   ]
  },
  {
   "cell_type": "code",
   "execution_count": null,
   "metadata": {
    "collapsed": true
   },
   "outputs": [],
   "source": [
    "# sess = tf.Session()\n",
    "\n",
    "def get_hmc_samples(eps, steps=200, samples=None):\n",
    "    hmc_dynamics = Dynamics(x_dim, gaussian.get_energy_function(), T=10, eps=eps, hmc=True)\n",
    "    hmc_x = tf.placeholder(tf.float32, shape=(None, x_dim))\n",
    "    Lx, _, px, hmc_MH = propose(hmc_x, hmc_dynamics, do_mh_step=True)\n",
    "    \n",
    "    if samples is None:\n",
    "        samples = gaussian.get_samples(n=200)\n",
    "    final_samples = []\n",
    "    \n",
    "    for t in range(steps):\n",
    "        final_samples.append(np.copy(samples))\n",
    "        Lx_, px_, samples = sess.run([Lx, px, hmc_MH[0]], {hmc_x: samples})\n",
    "        if np.isnan(Lx_.flatten()).sum() > 0:\n",
    "            print np.round(px_, decimals=2)\n",
    "    return np.array(final_samples)"
   ]
  },
  {
   "cell_type": "code",
   "execution_count": null,
   "metadata": {
    "collapsed": true
   },
   "outputs": [],
   "source": [
    "gaussian.eps"
   ]
  },
  {
   "cell_type": "code",
   "execution_count": null,
   "metadata": {
    "collapsed": true
   },
   "outputs": [],
   "source": []
  },
  {
   "cell_type": "code",
   "execution_count": null,
   "metadata": {
    "collapsed": true
   },
   "outputs": [],
   "source": [
    "from utils.func_utils import get_log_likelihood\n",
    "F = np.array(final_samples)\n",
    "G = np.array(final_samples2)\n",
    "plt.plot([get_log_likelihood(F[t, :, :], gaussian) for t in range(200)], label='Small gaussian')\n",
    "plt.plot([get_log_likelihood(G[t, :, :], gaussian) for t in range(200)], label='Unit gaussian')\n",
    "plt.plot([get_log_likelihood(gaussian.get_samples(200), gaussian) for t in range(200)], label='Exact sampling')\n",
    "plt.xlabel('MH steps')\n",
    "plt.ylabel('$E(x)$')\n",
    "plt.legend()"
   ]
  },
  {
   "cell_type": "code",
   "execution_count": null,
   "metadata": {
    "collapsed": true
   },
   "outputs": [],
   "source": [
    "w = tf.placeholder(tf.float32, shape=(None, 5))\n",
    "v = tf.placeholder(tf.float32, shape=(None, 5))\n",
    "\n",
    "w / v"
   ]
  },
  {
   "cell_type": "code",
   "execution_count": null,
   "metadata": {
    "collapsed": true
   },
   "outputs": [],
   "source": [
    "sess.run(w / v, {w: [[1, 2, 3, 4, 5]], v: [[2, 2, 5, 2, 2]]})"
   ]
  },
  {
   "cell_type": "code",
   "execution_count": null,
   "metadata": {
    "collapsed": true
   },
   "outputs": [],
   "source": [
    "steps = [500, 2500, 5000, 25000]\n",
    "lower_bound = [-96, -87.40, -85.82, -84.79]"
   ]
  },
  {
   "cell_type": "code",
   "execution_count": null,
   "metadata": {
    "collapsed": true
   },
   "outputs": [],
   "source": [
    "plt.plot(steps, lower_bound, marker='d')\n",
    "plt.semilogx()"
   ]
  },
  {
   "cell_type": "code",
   "execution_count": null,
   "metadata": {
    "collapsed": true
   },
   "outputs": [],
   "source": [
    "HMC_test = [-87.59, -85.10, -84.46]\n",
    "CS_test = [-86.85, -84.56, -84.66]"
   ]
  },
  {
   "cell_type": "code",
   "execution_count": null,
   "metadata": {
    "collapsed": true
   },
   "outputs": [],
   "source": [
    "plt.plot(-np.array(HMC_test))\n",
    "plt.plot(-np.array(CS_test))"
   ]
  },
  {
   "cell_type": "code",
   "execution_count": null,
   "metadata": {
    "collapsed": true
   },
   "outputs": [],
   "source": []
  }
 ],
 "metadata": {
  "anaconda-cloud": {},
  "kernelspec": {
   "display_name": "Python 2",
   "language": "python",
   "name": "python2"
  },
  "language_info": {
   "codemirror_mode": {
    "name": "ipython",
    "version": 2
   },
   "file_extension": ".py",
   "mimetype": "text/x-python",
   "name": "python",
   "nbconvert_exporter": "python",
   "pygments_lexer": "ipython2",
   "version": "2.7.13"
  }
 },
 "nbformat": 4,
 "nbformat_minor": 2
}
