{
 "cells": [
  {
   "cell_type": "code",
   "execution_count": 1,
   "metadata": {
    "collapsed": false
   },
   "outputs": [],
   "source": [
    "import tensorflow as tf\n",
    "import numpy as np\n",
    "import matplotlib.pyplot as plt\n",
    "%matplotlib inline\n",
    "%load_ext autoreload\n",
    "%autoreload 2"
   ]
  },
  {
   "cell_type": "code",
   "execution_count": 2,
   "metadata": {
    "collapsed": true
   },
   "outputs": [],
   "source": [
    "from utils.func_utils import accept, jacobian, autocovariance, get_log_likelihood, get_data, binarize, normal_kl\n",
    "from utils.distributions import Gaussian, GMM, GaussianFunnel, gen_ring\n",
    "from utils.layers import Linear, Parallel, Sequential, Zip, ScaleTanh\n",
    "from utils.dynamics import Dynamics\n",
    "from utils.sampler import propose\n",
    "from utils.losses import get_loss, loss_mixed"
   ]
  },
  {
   "cell_type": "code",
   "execution_count": 30,
   "metadata": {
    "collapsed": true
   },
   "outputs": [],
   "source": [
    "tf.reset_default_graph()"
   ]
  },
  {
   "cell_type": "code",
   "execution_count": 31,
   "metadata": {
    "collapsed": false
   },
   "outputs": [
    {
     "name": "stdout",
     "output_type": "stream",
     "text": [
      "getting energy fn\n"
     ]
    }
   ],
   "source": [
    "size1 = 10\n",
    "size2 = 10\n",
    "\n",
    "x_dim = 2\n",
    "\n",
    "#gaussian = Gaussian(np.zeros(2,), np.array([[10., 0.], [0., 0.1]]))\n",
    "gaussian = GaussianFunnel(dim=2)\n",
    "\n",
    "def net_factory(x_dim, scope, factor):\n",
    "    with tf.variable_scope(scope):\n",
    "        net = Sequential([\n",
    "            Zip([\n",
    "                Linear(x_dim, size1, scope='embed_1', factor=0.33),\n",
    "                Linear(x_dim, size1, scope='embed_2', factor=factor * 0.33),\n",
    "                Linear(2, size1, scope='embed_3', factor=0.33),\n",
    "                lambda _, *args, **kwargs: 0.\n",
    "            ]),\n",
    "            sum,\n",
    "            tf.nn.relu,\n",
    "            Linear(size1, size2, scope='linear_1'),\n",
    "            tf.nn.relu,\n",
    "            Parallel([\n",
    "                Sequential([\n",
    "                    Linear(size2, x_dim, scope='linear_s', factor=0.01), \n",
    "                    ScaleTanh(x_dim, scope='scale_s')\n",
    "                ]),\n",
    "                Linear(size2, x_dim, scope='linear_t', factor=0.01),\n",
    "                Sequential([\n",
    "                    Linear(size2, x_dim, scope='linear_f', factor=0.01),\n",
    "                    ScaleTanh(x_dim, scope='scale_f'),\n",
    "                ])\n",
    "            ])\n",
    "        ])\n",
    "    return net\n",
    "\n",
    "dynamics = Dynamics(\n",
    "    x_dim, \n",
    "    gaussian.get_energy_function(), \n",
    "    T=5, \n",
    "    eps=0.4, \n",
    "    hmc=False, \n",
    "    eps_trainable=True, \n",
    "    net_factory=net_factory, \n",
    "    use_temperature=False\n",
    ")\n"
   ]
  },
  {
   "cell_type": "code",
   "execution_count": 32,
   "metadata": {
    "collapsed": true
   },
   "outputs": [],
   "source": [
    "x = tf.placeholder(tf.float32, shape=(None, x_dim))\n",
    "z = tf.sqrt(0.1) * tf.random_normal(tf.shape(x))\n",
    "\n",
    "Lx, _, px, MHx = propose(x, dynamics, do_mh_step=True)\n",
    "Lz, _, pz, MHz = propose(z, dynamics, do_mh_step=True)\n",
    "\n",
    "loss = loss_mixed(x, Lx, px, scale=1.) + loss_mixed(z, Lz, pz, scale=1.)"
   ]
  },
  {
   "cell_type": "code",
   "execution_count": 33,
   "metadata": {
    "collapsed": true
   },
   "outputs": [],
   "source": [
    "lr = tf.placeholder(tf.float32, shape=())\n",
    "global_step = tf.Variable(0., trainable=False)\n",
    "learning_rate = tf.train.exponential_decay(lr, global_step,\n",
    "                                           250, 0.96, staircase=True)\n",
    "optimizer = tf.train.AdamOptimizer(learning_rate=learning_rate)\n",
    "train_op = optimizer.minimize(loss)"
   ]
  },
  {
   "cell_type": "code",
   "execution_count": null,
   "metadata": {
    "collapsed": false,
    "scrolled": true
   },
   "outputs": [
    {
     "name": "stdout",
     "output_type": "stream",
     "text": [
      "0/10000: Loss=8.20e+02\n",
      "100/10000: Loss=nan\n",
      "200/10000: Loss=nan\n"
     ]
    }
   ],
   "source": [
    "samples = np.sqrt(0.1) * np.random.randn(200, 2)\n",
    "L = []\n",
    "\n",
    "sess = tf.Session()\n",
    "sess.run(tf.global_variables_initializer())\n",
    "\n",
    "for t in range(10000):\n",
    "    samples, loss_, _ = sess.run([MHx[0], loss, train_op], {x: samples, lr: 1e-4})\n",
    "    L.append(loss_)\n",
    "    if t % 100 == 0:\n",
    "        print '%d/%d: Loss=%.2e' % (t, 10000, loss_)"
   ]
  },
  {
   "cell_type": "code",
   "execution_count": null,
   "metadata": {
    "collapsed": false
   },
   "outputs": [],
   "source": [
    "def smooth(x, k=25):\n",
    "    n = len(x)\n",
    "    return [np.mean(x[t: t+k]) for t in range(n - k)]\n",
    "plt.plot(smooth(L, k=50))"
   ]
  },
  {
   "cell_type": "code",
   "execution_count": null,
   "metadata": {
    "collapsed": false
   },
   "outputs": [],
   "source": [
    "# samples = np.sqrt(0.1) * np.random.randn(200, 2)\n",
    "samples = gaussian.get_samples(200)\n",
    "\n",
    "final_samples = []\n",
    "for t in range(2000):\n",
    "    final_samples.append(np.copy(samples))\n",
    "    samples = sess.run(MHx[0], {x: samples})"
   ]
  },
  {
   "cell_type": "code",
   "execution_count": null,
   "metadata": {
    "collapsed": false
   },
   "outputs": [],
   "source": [
    "F = np.array(final_samples[1000:])\n",
    "mu = F.mean(axis=(0, 1))\n",
    "I = np.array(H[:1000])\n",
    "plt.plot([autocovariance(F - mu, tau=t) for t in range(199)], label='CS')\n",
    "plt.plot([autocovariance(G - mu, tau=t) for t in range(199)], label='CS')\n",
    "plt.plot([autocovariance(I - mu, tau=t) for t in range(199)], label='CS')\n",
    "plt.xlim(0, 100)"
   ]
  },
  {
   "cell_type": "code",
   "execution_count": null,
   "metadata": {
    "collapsed": false
   },
   "outputs": [],
   "source": [
    "S = gaussian.get_samples(200)\n",
    "plt.scatter(S[:, 0], S[:, 1])\n",
    "plt.plot(G[:20, 1, 0], G[:20, 1, 1], color='red', marker='d', linewidth=1.2)"
   ]
  },
  {
   "cell_type": "code",
   "execution_count": null,
   "metadata": {
    "collapsed": false
   },
   "outputs": [],
   "source": [
    "plt.hist(F[:1000, 5, 0].flatten(), bins=20)"
   ]
  },
  {
   "cell_type": "code",
   "execution_count": null,
   "metadata": {
    "collapsed": false
   },
   "outputs": [],
   "source": [
    "H = get_hmc_samples(eps=0.2)"
   ]
  },
  {
   "cell_type": "code",
   "execution_count": null,
   "metadata": {
    "collapsed": false
   },
   "outputs": [],
   "source": [
    "G = np.array(H[1000:])\n",
    "\n",
    "plt.hist(G[:500, 50, 0].flatten(), bins=20)"
   ]
  },
  {
   "cell_type": "code",
   "execution_count": 7,
   "metadata": {
    "collapsed": true
   },
   "outputs": [],
   "source": [
    "def autocovariance(X, tau=0):\n",
    "    dT, dN, dX = np.shape(X)\n",
    "    s = 0.\n",
    "    for t in range(dT - tau):\n",
    "        x1 = X[t, :, :]\n",
    "        x2 = X[t+tau, :, :]\n",
    "\n",
    "        s += np.sum(x1 * x2) / dN\n",
    "\n",
    "    return s / (dT - tau)"
   ]
  },
  {
   "cell_type": "code",
   "execution_count": null,
   "metadata": {
    "collapsed": false
   },
   "outputs": [],
   "source": [
    "for eps in np.arange(0.1, 0.4, 0.05):\n",
    "    H = get_hmc_samples(eps)\n",
    "    plt.plot([autocovariance(H, tau=t) for t in range(199)], label='$\\epsilon=%.3f$' % eps)\n",
    "plt.plot(np.abs([autocovariance(np.array(final_samples), tau=t) for t in range(199)]), label='Cosa Nostra')\n",
    "plt.xlim(0, 50)\n",
    "plt.xlabel('# gradient steps')\n",
    "plt.ylabel('Autocovariance')\n",
    "plt.legend()"
   ]
  },
  {
   "cell_type": "code",
   "execution_count": 22,
   "metadata": {
    "collapsed": false
   },
   "outputs": [
    {
     "name": "stdout",
     "output_type": "stream",
     "text": [
      "getting energy fn\n"
     ]
    }
   ],
   "source": [
    "H1 = get_hmc_samples(eps=0.1, steps=2000)"
   ]
  },
  {
   "cell_type": "code",
   "execution_count": 21,
   "metadata": {
    "collapsed": true
   },
   "outputs": [],
   "source": [
    "gaussian.sigma = 3."
   ]
  },
  {
   "cell_type": "code",
   "execution_count": 29,
   "metadata": {
    "collapsed": false
   },
   "outputs": [
    {
     "name": "stdout",
     "output_type": "stream",
     "text": [
      "[ 0.0508208  -0.26301705]\n"
     ]
    }
   ],
   "source": [
    "mu = H1.mean(axis=(0, 1))\n",
    "print mu"
   ]
  },
  {
   "cell_type": "code",
   "execution_count": 28,
   "metadata": {
    "collapsed": false
   },
   "outputs": [
    {
     "name": "stdout",
     "output_type": "stream",
     "text": [
      "getting energy fn\n",
      "getting energy fn\n",
      "getting energy fn\n",
      "getting energy fn\n",
      "getting energy fn\n",
      "getting energy fn\n"
     ]
    },
    {
     "data": {
      "text/plain": [
       "<matplotlib.legend.Legend at 0x13f3a8a90>"
      ]
     },
     "execution_count": 28,
     "metadata": {},
     "output_type": "execute_result"
    },
    {
     "data": {
      "image/png": "[encoded data removed]",
      "text/plain": [
       "<matplotlib.figure.Figure at 0x13f3a8a10>"
      ]
     },
     "metadata": {},
     "output_type": "display_data"
    }
   ],
   "source": [
    "S = gaussian.get_samples(n=200)\n",
    "\n",
    "for eps in np.arange(0.1, 0.7, 0.1):\n",
    "    H = get_hmc_samples(eps, samples=S)\n",
    "    plt.plot(np.abs([autocovariance(H-mu, tau=t) for t in range(199)]), label='$\\epsilon=%.3f$' % eps)\n",
    "# plt.plot(np.abs([autocovariance(F-mu, tau=t) for t in range(199)]), label='Cosa Nostra')\n",
    "plt.xlabel('# gradient steps')\n",
    "plt.ylabel('Autocovariance')\n",
    "plt.legend()"
   ]
  },
  {
   "cell_type": "code",
   "execution_count": 27,
   "metadata": {
    "collapsed": true
   },
   "outputs": [],
   "source": [
    "sess = tf.Session()\n",
    "\n",
    "def get_hmc_samples(eps, steps=200, samples=None):\n",
    "    hmc_dynamics = Dynamics(x_dim, gaussian.get_energy_function(), T=5, eps=eps, hmc=True)\n",
    "    hmc_x = tf.placeholder(tf.float32, shape=(None, x_dim))\n",
    "    _, _, _, hmc_MH = propose(hmc_x, hmc_dynamics, do_mh_step=True)\n",
    "    \n",
    "    if samples is None:\n",
    "        samples = gaussian.get_samples(n=200)\n",
    "    final_samples = []\n",
    "    \n",
    "    for t in range(steps):\n",
    "        final_samples.append(np.copy(samples))\n",
    "        samples = sess.run(hmc_MH[0], {hmc_x: samples})\n",
    "    \n",
    "    return np.array(final_samples)"
   ]
  },
  {
   "cell_type": "code",
   "execution_count": null,
   "metadata": {
    "collapsed": false
   },
   "outputs": [],
   "source": [
    "from utils.func_utils import get_log_likelihood\n",
    "F = np.array(final_samples)\n",
    "G = np.array(final_samples2)\n",
    "plt.plot([get_log_likelihood(F[t, :, :], gaussian) for t in range(200)], label='Small gaussian')\n",
    "plt.plot([get_log_likelihood(G[t, :, :], gaussian) for t in range(200)], label='Unit gaussian')\n",
    "plt.plot([get_log_likelihood(gaussian.get_samples(200), gaussian) for t in range(200)], label='Exact sampling')\n",
    "plt.xlabel('MH steps')\n",
    "plt.ylabel('$E(x)$')\n",
    "plt.legend()"
   ]
  },
  {
   "cell_type": "code",
   "execution_count": null,
   "metadata": {
    "collapsed": false
   },
   "outputs": [],
   "source": [
    "w = tf.placeholder(tf.float32, shape=(None, 5))\n",
    "v = tf.placeholder(tf.float32, shape=(None, 5))\n",
    "\n",
    "w / v"
   ]
  },
  {
   "cell_type": "code",
   "execution_count": null,
   "metadata": {
    "collapsed": false
   },
   "outputs": [],
   "source": [
    "sess.run(w / v, {w: [[1, 2, 3, 4, 5]], v: [[2, 2, 5, 2, 2]]})"
   ]
  },
  {
   "cell_type": "code",
   "execution_count": null,
   "metadata": {
    "collapsed": true
   },
   "outputs": [],
   "source": []
  }
 ],
 "metadata": {
  "anaconda-cloud": {},
  "kernelspec": {
   "display_name": "Python [default]",
   "language": "python",
   "name": "python2"
  },
  "language_info": {
   "codemirror_mode": {
    "name": "ipython",
    "version": 2
   },
   "file_extension": ".py",
   "mimetype": "text/x-python",
   "name": "python",
   "nbconvert_exporter": "python",
   "pygments_lexer": "ipython2",
   "version": "2.7.12"
  }
 },
 "nbformat": 4,
 "nbformat_minor": 2
}
