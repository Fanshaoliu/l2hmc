{
 "cells": [
  {
   "cell_type": "code",
   "execution_count": 1,
   "metadata": {
    "collapsed": true
   },
   "outputs": [],
   "source": [
    "import tensorflow as tf\n",
    "import numpy as np\n",
    "import matplotlib.pyplot as plt\n",
    "%matplotlib inline\n",
    "%load_ext autoreload\n",
    "%autoreload 2"
   ]
  },
  {
   "cell_type": "code",
   "execution_count": 2,
   "metadata": {
    "collapsed": true
   },
   "outputs": [],
   "source": [
    "from utils.func_utils import accept, jacobian, autocovariance, get_log_likelihood, get_data, binarize, normal_kl\n",
    "from utils.distributions import Gaussian, GMM, GaussianFunnel, gen_ring\n",
    "from utils.layers import Linear, Parallel, Sequential, Zip, ScaleTanh\n",
    "from utils.dynamics import Dynamics\n",
    "from utils.sampler import propose\n",
    "from utils.losses import get_loss, loss_mixed"
   ]
  },
  {
   "cell_type": "code",
   "execution_count": 21,
   "metadata": {
    "collapsed": true
   },
   "outputs": [],
   "source": [
    "tf.reset_default_graph()"
   ]
  },
  {
   "cell_type": "code",
   "execution_count": 22,
   "metadata": {
    "collapsed": false
   },
   "outputs": [
    {
     "name": "stdout",
     "output_type": "stream",
     "text": [
      "getting energy fn\n"
     ]
    }
   ],
   "source": [
    "size1 = 10\n",
    "size2 = 10\n",
    "\n",
    "x_dim = 2\n",
    "\n",
    "#gaussian = Gaussian(np.zeros(2,), np.array([[10., 0.], [0., 0.1]]))\n",
    "gaussian = GaussianFunnel(dim=2)\n",
    "gaussian.sigma = 3.\n",
    "\n",
    "def net_factory(x_dim, scope, factor):\n",
    "    with tf.variable_scope(scope):\n",
    "        net = Sequential([\n",
    "            Zip([\n",
    "                Linear(x_dim, size1, scope='embed_1', factor=0.33),\n",
    "                Linear(x_dim, size1, scope='embed_2', factor=factor * 0.33),\n",
    "                Linear(2, size1, scope='embed_3', factor=0.33),\n",
    "                lambda _, *args, **kwargs: 0.\n",
    "            ]),\n",
    "            sum,\n",
    "            tf.nn.relu,\n",
    "            Linear(size1, size2, scope='linear_1'),\n",
    "            tf.nn.relu,\n",
    "            Parallel([\n",
    "                Sequential([\n",
    "                    Linear(size2, x_dim, scope='linear_s', factor=0.01), \n",
    "                    ScaleTanh(x_dim, scope='scale_s')\n",
    "                ]),\n",
    "                Linear(size2, x_dim, scope='linear_t', factor=0.01),\n",
    "                Sequential([\n",
    "                    Linear(size2, x_dim, scope='linear_f', factor=0.01),\n",
    "                    ScaleTanh(x_dim, scope='scale_f'),\n",
    "                ])\n",
    "            ])\n",
    "        ])\n",
    "    return net\n",
    "\n",
    "dynamics = Dynamics(\n",
    "    x_dim, \n",
    "    gaussian.get_energy_function(), \n",
    "    T=5, \n",
    "    eps=0.4, \n",
    "    hmc=False, \n",
    "    eps_trainable=True, \n",
    "    net_factory=net_factory, \n",
    "    use_temperature=False\n",
    ")\n"
   ]
  },
  {
   "cell_type": "code",
   "execution_count": 23,
   "metadata": {
    "collapsed": false
   },
   "outputs": [
    {
     "name": "stdout",
     "output_type": "stream",
     "text": [
      "3.0\n"
     ]
    }
   ],
   "source": [
    "print gaussian.sigma"
   ]
  },
  {
   "cell_type": "code",
   "execution_count": 32,
   "metadata": {
    "collapsed": true
   },
   "outputs": [],
   "source": [
    "x = tf.placeholder(tf.float32, shape=(None, x_dim))\n",
    "z = tf.sqrt(0.1) * tf.random_normal(tf.shape(x))\n",
    "\n",
    "Lx, _, px, MHx = propose(x, dynamics, do_mh_step=True)\n",
    "Lz, _, pz, MHz = propose(z, dynamics, do_mh_step=True)\n",
    "\n",
    "loss = loss_mixed(x, Lx, px, scale=1.) + loss_mixed(z, Lz, pz, scale=1.)"
   ]
  },
  {
   "cell_type": "code",
   "execution_count": 33,
   "metadata": {
    "collapsed": true
   },
   "outputs": [],
   "source": [
    "lr = tf.placeholder(tf.float32, shape=())\n",
    "global_step = tf.Variable(0., trainable=False)\n",
    "learning_rate = tf.train.exponential_decay(lr, global_step,\n",
    "                                           250, 0.96, staircase=True)\n",
    "optimizer = tf.train.AdamOptimizer(learning_rate=learning_rate)\n",
    "train_op = optimizer.minimize(loss)"
   ]
  },
  {
   "cell_type": "code",
   "execution_count": null,
   "metadata": {
    "collapsed": false,
    "scrolled": true
   },
   "outputs": [
    {
     "name": "stdout",
     "output_type": "stream",
     "text": [
      "0/10000: Loss=8.20e+02\n",
      "100/10000: Loss=nan\n",
      "200/10000: Loss=nan\n",
      "300/10000: Loss=nan\n",
      "400/10000: Loss=nan\n",
      "500/10000: Loss=nan\n",
      "600/10000: Loss=nan\n",
      "700/10000: Loss=nan\n",
      "800/10000: Loss=nan\n"
     ]
    }
   ],
   "source": [
    "samples = np.sqrt(0.1) * np.random.randn(200, 2)\n",
    "L = []\n",
    "\n",
    "sess = tf.Session()\n",
    "sess.run(tf.global_variables_initializer())\n",
    "\n",
    "for t in range(10000):\n",
    "    samples, loss_, _ = sess.run([MHx[0], loss, train_op], {x: samples, lr: 1e-4})\n",
    "    L.append(loss_)\n",
    "    if t % 100 == 0:\n",
    "        print '%d/%d: Loss=%.2e' % (t, 10000, loss_)"
   ]
  },
  {
   "cell_type": "code",
   "execution_count": null,
   "metadata": {
    "collapsed": true
   },
   "outputs": [],
   "source": [
    "def smooth(x, k=25):\n",
    "    n = len(x)\n",
    "    return [np.mean(x[t: t+k]) for t in range(n - k)]\n",
    "plt.plot(smooth(L, k=50))"
   ]
  },
  {
   "cell_type": "code",
   "execution_count": null,
   "metadata": {
    "collapsed": true
   },
   "outputs": [],
   "source": [
    "# samples = np.sqrt(0.1) * np.random.randn(200, 2)\n",
    "samples = gaussian.get_samples(200)\n",
    "\n",
    "final_samples = []\n",
    "for t in range(2000):\n",
    "    final_samples.append(np.copy(samples))\n",
    "    samples = sess.run(MHx[0], {x: samples})"
   ]
  },
  {
   "cell_type": "code",
   "execution_count": null,
   "metadata": {
    "collapsed": true
   },
   "outputs": [],
   "source": [
    "F = np.array(final_samples[1000:])\n",
    "mu = F.mean(axis=(0, 1))\n",
    "I = np.array(H[:1000])\n",
    "plt.plot([autocovariance(F - mu, tau=t) for t in range(199)], label='CS')\n",
    "plt.plot([autocovariance(G - mu, tau=t) for t in range(199)], label='CS')\n",
    "plt.plot([autocovariance(I - mu, tau=t) for t in range(199)], label='CS')\n",
    "plt.xlim(0, 100)"
   ]
  },
  {
   "cell_type": "code",
   "execution_count": null,
   "metadata": {
    "collapsed": true
   },
   "outputs": [],
   "source": [
    "S = gaussian.get_samples(200)\n",
    "plt.scatter(S[:, 0], S[:, 1])\n",
    "plt.plot(G[:20, 1, 0], G[:20, 1, 1], color='red', marker='d', linewidth=1.2)"
   ]
  },
  {
   "cell_type": "code",
   "execution_count": null,
   "metadata": {
    "collapsed": true
   },
   "outputs": [],
   "source": [
    "plt.hist(F[:1000, 5, 0].flatten(), bins=20)"
   ]
  },
  {
   "cell_type": "code",
   "execution_count": null,
   "metadata": {
    "collapsed": true
   },
   "outputs": [],
   "source": [
    "H = get_hmc_samples(eps=0.2)"
   ]
  },
  {
   "cell_type": "code",
   "execution_count": null,
   "metadata": {
    "collapsed": true
   },
   "outputs": [],
   "source": [
    "G = np.array(H[1000:])\n",
    "\n",
    "plt.hist(G[:500, 50, 0].flatten(), bins=20)"
   ]
  },
  {
   "cell_type": "code",
   "execution_count": 9,
   "metadata": {
    "collapsed": true
   },
   "outputs": [],
   "source": [
    "def autocovariance(X, tau=0):\n",
    "    dT, dN, dX = np.shape(X)\n",
    "    s = 0.\n",
    "    for t in range(dT - tau):\n",
    "        x1 = X[t, :, :]\n",
    "        x2 = X[t+tau, :, :]\n",
    "\n",
    "        s += np.sum(x1 * x2) / dN\n",
    "\n",
    "    return s / (dT - tau)"
   ]
  },
  {
   "cell_type": "code",
   "execution_count": null,
   "metadata": {
    "collapsed": true
   },
   "outputs": [],
   "source": [
    "for eps in np.arange(0.1, 0.4, 0.05):\n",
    "    H = get_hmc_samples(eps)\n",
    "    plt.plot([autocovariance(H, tau=t) for t in range(199)], label='$\\epsilon=%.3f$' % eps)\n",
    "plt.plot(np.abs([autocovariance(np.array(final_samples), tau=t) for t in range(199)]), label='Cosa Nostra')\n",
    "plt.xlim(0, 50)\n",
    "plt.xlabel('# gradient steps')\n",
    "plt.ylabel('Autocovariance')\n",
    "plt.legend()"
   ]
  },
  {
   "cell_type": "code",
   "execution_count": 22,
   "metadata": {
    "collapsed": false
   },
   "outputs": [
    {
     "name": "stdout",
     "output_type": "stream",
     "text": [
      "getting energy fn\n"
     ]
    }
   ],
   "source": [
    "H1 = get_hmc_samples(eps=0.1, steps=2000)"
   ]
  },
  {
   "cell_type": "code",
   "execution_count": 21,
   "metadata": {
    "collapsed": true
   },
   "outputs": [],
   "source": [
    "gaussian.sigma = 3."
   ]
  },
  {
   "cell_type": "code",
   "execution_count": 29,
   "metadata": {
    "collapsed": false
   },
   "outputs": [
    {
     "name": "stdout",
     "output_type": "stream",
     "text": [
      "[ 0.0508208  -0.26301705]\n"
     ]
    }
   ],
   "source": [
    "mu = H1.mean(axis=(0, 1))\n",
    "print mu"
   ]
  },
  {
   "cell_type": "code",
   "execution_count": 80,
   "metadata": {
    "collapsed": false
   },
   "outputs": [
    {
     "name": "stdout",
     "output_type": "stream",
     "text": [
      "getting energy fn\n",
      "[ 1.          1.          0.98000002  0.99000001  1.        ]\n",
      "[ 1.          1.          1.          0.98000002  1.        ]\n",
      "[ 1.          0.95999998  1.          1.          0.99000001]\n",
      "[ 1.    1.    1.    1.    0.81]\n",
      "[ 1.          1.          0.99000001  1.          1.        ]\n",
      "[ 1.          0.95999998  0.02        0.99000001  1.        ]\n",
      "[ 1.          1.          1.          1.          0.98000002]\n",
      "[ 1.          0.95999998  1.          1.          1.        ]\n",
      "[ 1.          1.          0.77999997  1.          1.        ]\n",
      "[ 1.          0.69999999  1.          1.          0.98000002]\n",
      "[ 1.    1.    0.05  1.    1.  ]\n",
      "[ 1.          1.          0.72000003  1.          1.        ]\n",
      "[ 1.          0.99000001  0.83999997  1.          0.97000003]\n",
      "[ 1.          0.80000001  0.88999999  1.          1.        ]\n",
      "[ 1.  0.  1.  1.  1.]\n",
      "[ 1.          0.          1.          0.93000001  1.        ]\n",
      "[ 1.          0.02        1.          1.          0.99000001]\n",
      "[ 1.          0.          0.99000001  1.          1.        ]\n",
      "[ 1.  0.  1.  1.  1.]\n",
      "[ 1.          0.          1.          1.          0.97000003]\n",
      "[ 1.          0.          1.          0.99000001  1.        ]\n",
      "[ 1.  1.  1.  1.  1.]\n",
      "[ 1.  1.  0.  1.  1.]\n",
      "[ 1.          1.          0.88999999  1.          1.        ]\n",
      "[ 1.          1.          0.          0.99000001  1.        ]\n",
      "[ 1.          1.          0.97000003  1.          1.        ]\n",
      "[ 1.          1.          0.95999998  1.          1.        ]\n",
      "[ 1.          1.          0.43000001  1.          1.        ]\n",
      "[ 1.          1.          0.94999999  1.          0.99000001]\n",
      "[ 1.          1.          0.94999999  1.          0.94999999]\n",
      "[ 1.  1.  1.  1.  1.]\n",
      "[ 1.          1.          1.          0.99000001  1.        ]\n",
      "[ 1.  1.  1.  1.  1.]\n",
      "[ 1.          1.          0.28        0.99000001  1.        ]\n",
      "[ 1.          1.          0.80000001  1.          1.        ]\n",
      "[ 1.          1.          0.92000002  0.99000001  1.        ]\n",
      "[ 1.          1.          0.79000002  1.          0.        ]\n",
      "[ 1.  1.  1.  1.  0.]\n",
      "[ 1.          1.          0.94999999  1.          0.47999999]\n",
      "[ 1.    1.    1.    1.    0.03]\n",
      "[ 1.    1.    1.    1.    0.09]\n",
      "[ 1.  1.  1.  1.  0.]\n",
      "[ 1.          1.          1.          0.99000001  0.        ]\n",
      "[ 1.  1.  1.  1.  0.]\n",
      "[ 1.          1.          0.95999998  0.99000001  0.        ]\n",
      "[ 1.          1.          0.99000001  1.          0.01      ]\n",
      "[ 1.    1.    1.    1.    0.09]\n",
      "[ 1.  1.  1.  1.  1.]\n",
      "[ 1.          1.          0.97000003  1.          1.        ]\n",
      "[ 1.          1.          0.97000003  1.          1.        ]\n",
      "[ 1.          1.          1.          1.          0.95999998]\n",
      "[ 1.          1.          0.99000001  0.98000002  1.        ]\n",
      "[ 1.          1.          0.99000001  1.          1.        ]\n",
      "[ 1.  1.  1.  1.  1.]\n",
      "[ 1.  1.  1.  1.  1.]\n",
      "[ 1.          1.          1.          1.          0.98000002]\n",
      "[ 1.  1.  1.  1.  1.]\n",
      "[ 1.  1.  1.  1.  1.]\n",
      "[ 1.  1.  0.  1.  1.]\n",
      "[ 1.          1.          0.87        1.          0.99000001]\n",
      "[ 1.          1.          0.23        0.99000001  1.        ]\n",
      "[ 1.  1.  1.  1.  1.]\n",
      "[ 1.          1.          0.99000001  1.          1.        ]\n",
      "[ 1.          1.          0.97000003  0.91000003  1.        ]\n",
      "[ 1.          1.          0.98000002  0.81        0.91000003]\n",
      "[ 1.          1.          1.          1.          0.95999998]\n",
      "[ 1.  1.  1.  1.  1.]\n",
      "[ 1.          1.          0.98000002  0.80000001  0.94999999]\n",
      "[ 1.          1.          0.99000001  0.87        0.28      ]\n",
      "[ 1.  1.  1.  1.  0.]\n",
      "[ 1.          1.          0.98000002  1.          0.        ]\n",
      "[ 1.  1.  1.  1.  1.]\n",
      "[ 1.          1.          0.94999999  0.98000002  0.        ]\n",
      "[ 1.          1.          1.          1.          0.81999999]\n",
      "[ 1.          1.          0.97000003  1.          0.86000001]\n",
      "[ 1.          1.          0.49000001  0.95999998  0.98000002]\n",
      "[ 1.  1.  1.  1.  1.]\n",
      "[ 1.          1.          0.68000001  1.          1.        ]\n",
      "[ 1.  1.  0.  1.  0.]\n",
      "[ 1.          1.          0.01        0.86000001  0.98000002]\n",
      "[ 1.          1.          1.          1.          0.95999998]\n",
      "[ 1.          1.          1.          1.          0.99000001]\n",
      "[ 1.          1.          0.89999998  0.92000002  0.98000002]\n",
      "[ 1.          1.          0.98000002  1.          0.92000002]\n",
      "[ 1.  1.  1.  1.  1.]\n",
      "[ 1.  1.  1.  1.  1.]\n",
      "[ 1.          1.          1.          0.97000003  1.        ]\n",
      "[ 1.  1.  1.  1.  0.]\n",
      "[ 1.          1.          0.99000001  0.99000001  0.69      ]\n",
      "[ 1.  1.  1.  1.  0.]\n",
      "[ 1.          1.          0.94999999  1.          0.80000001]\n",
      "[ 1.          1.          1.          1.          0.76999998]\n",
      "[ 1.          1.          0.99000001  1.          1.        ]\n",
      "[ 1.  1.  1.  1.  1.]\n",
      "[ 1.    1.    1.    0.25  1.  ]\n",
      "[ 1.          1.          1.          0.99000001  0.17      ]\n",
      "[ 1.          1.          1.          1.          0.70999998]\n",
      "[ 1.          1.          0.91000003  0.99000001  1.        ]\n",
      "[ 1.          1.          0.87        0.66000003  1.        ]\n",
      "[ 1.  1.  1.  1.  1.]\n",
      "[ 1.          1.          1.          0.94999999  0.99000001]\n",
      "[ 1.          1.          0.68000001  1.          1.        ]\n",
      "[ 1.  1.  0.  1.  1.]\n",
      "[ 1.  1.  1.  1.  1.]\n",
      "[ 1.  1.  1.  1.  1.]\n",
      "[ 1.          1.          1.          0.75999999  1.        ]\n",
      "[ 1.          1.          0.97000003  0.03        1.        ]\n",
      "[ 1.          1.          0.91000003  0.97000003  1.        ]\n",
      "[ 1.          1.          1.          0.82999998  1.        ]\n",
      "[ 1.    1.    0.94  1.    1.  ]\n",
      "[ 1.          1.          0.98000002  1.          1.        ]\n",
      "[ 1.          1.          0.41        0.91000003  0.98000002]\n",
      "[ 1.  1.  1.  1.  1.]\n",
      "[ 1.  1.  0.  0.  1.]\n",
      "[ 1.          1.          0.79000002  0.87        1.        ]\n",
      "[ 1.          1.          0.99000001  0.85000002  1.        ]\n",
      "[ 1.          1.          0.99000001  0.38999999  1.        ]\n",
      "[ 1.          1.          1.          0.86000001  0.99000001]\n",
      "[ 1.  1.  1.  1.  1.]\n",
      "[ 1.  1.  1.  1.  1.]\n",
      "[ 1.          1.          1.          0.99000001  0.99000001]\n",
      "[ 1.          1.          0.99000001  1.          1.        ]\n",
      "[ 1.          1.          0.97000003  0.99000001  1.        ]\n",
      "[ 1.  1.  1.  1.  1.]\n",
      "[ 1.          1.          0.97000003  1.          0.81      ]\n",
      "[ 1.          1.          1.          1.          0.49000001]\n",
      "[ 1.          1.          1.          1.          0.99000001]\n",
      "[ 1.  1.  1.  1.  1.]\n",
      "[ 1.          1.          1.          1.          0.99000001]\n",
      "[ 1.          1.          0.99000001  0.98000002  1.        ]\n",
      "[ 1.          1.          1.          1.          0.97000003]\n",
      "[ 1.          1.          0.98000002  0.98000002  0.98000002]\n",
      "[ 1.  1.  1.  1.  1.]\n",
      "[ 1.  1.  1.  1.  1.]\n",
      "[ 1.          1.          0.99000001  0.99000001  1.        ]\n",
      "[ 1.          1.          1.          1.          0.99000001]\n",
      "[ 1.          1.          1.          1.          0.97000003]\n",
      "[ 1.  1.  1.  1.  1.]\n",
      "[ 1.          1.          0.99000001  1.          0.98000002]\n",
      "[ 1.  1.  1.  1.  1.]\n",
      "[ 1.          1.          0.99000001  1.          1.        ]\n",
      "[ 1.          1.          1.          1.          0.99000001]\n",
      "[ 1.          1.          1.          0.97000003  1.        ]\n",
      "[ 1.  1.  1.  1.  1.]\n",
      "[ 1.          1.          0.99000001  0.95999998  1.        ]\n",
      "[ 1.          1.          0.88999999  1.          0.99000001]\n",
      "[ 1.          1.          1.          0.99000001  0.88999999]\n",
      "[ 1.  1.  1.  1.  1.]\n",
      "[ 1.          1.          1.          1.          0.99000001]\n",
      "[ 1.          1.          1.          1.          0.99000001]\n",
      "[ 1.          1.          0.99000001  0.95999998  1.        ]\n",
      "[ 1.  1.  1.  1.  1.]\n",
      "[ 1.          1.          1.          1.          0.79000002]\n",
      "[ 1.  1.  1.  1.  0.]\n",
      "[ 1.          1.          1.          1.          0.99000001]\n",
      "[ 1.          1.          1.          0.99000001  1.        ]\n",
      "[ 1.  1.  1.  1.  1.]\n",
      "[ 1.  1.  1.  1.  1.]\n",
      "[ 1.  1.  1.  1.  1.]\n",
      "[ 1.          1.          1.          0.99000001  1.        ]\n",
      "[ 1.          1.          1.          0.99000001  1.        ]\n",
      "[ 1.          1.          1.          0.99000001  1.        ]\n",
      "[ 1.          1.          0.99000001  1.          1.        ]\n",
      "[ 1.  1.  1.  1.  1.]\n",
      "[ 1.          1.          0.93000001  0.97000003  1.        ]\n",
      "[ 1.  1.  1.  1.  1.]\n",
      "[ 1.          1.          1.          0.98000002  1.        ]\n",
      "[ 1.  1.  1.  1.  1.]\n",
      "[ 1.          1.          1.          1.          0.99000001]\n",
      "[ 1.          1.          0.99000001  0.99000001  0.99000001]\n",
      "[ 1.  1.  1.  1.  1.]\n",
      "[ 1.  1.  1.  1.  1.]\n",
      "[ 1.          1.          1.          0.99000001  1.        ]\n",
      "[ 1.          1.          0.88        0.99000001  1.        ]\n",
      "[ 1.          1.          0.98000002  1.          1.        ]\n",
      "[ 1.  1.  0.  1.  1.]\n",
      "[ 1.          1.          0.79000002  1.          0.99000001]\n",
      "[ 1.          1.          0.41999999  0.99000001  1.        ]\n",
      "[ 1.          1.          1.          1.          0.99000001]\n",
      "[ 1.          1.          0.99000001  1.          0.99000001]\n",
      "[ 1.          1.          0.98000002  1.          1.        ]\n",
      "[ 1.  1.  1.  1.  1.]\n",
      "[ 1.  1.  1.  1.  1.]\n",
      "[ 1.          1.          1.          0.94999999  0.99000001]\n",
      "[ 1.  1.  0.  1.  1.]\n",
      "[ 1.   1.   0.1  1.   1. ]\n",
      "[ 1.          1.          0.79000002  0.83999997  1.        ]\n",
      "[ 1.          1.          0.70999998  1.          0.99000001]\n",
      "[ 1.  1.  1.  1.  1.]\n",
      "[ 1.          1.          0.94        1.          0.99000001]\n",
      "[ 1.          1.          0.98000002  1.          0.98000002]\n",
      "[ 1.          1.          0.99000001  1.          1.        ]\n",
      "[ 1.  1.  1.  1.  1.]\n",
      "[ 1.  1.  1.  1.  1.]\n",
      "[ 1.  1.  1.  1.  1.]\n",
      "[ 1.          1.          0.99000001  1.          0.93000001]\n",
      "[ 1.  1.  1.  1.  1.]\n",
      "[ 1.    1.    0.02  1.    1.  ]\n",
      "[ 1.          1.          1.          1.          0.99000001]\n",
      "[ 1.          1.          1.          0.98000002  1.        ]\n",
      "[ 1.          1.          1.          0.99000001  1.        ]\n",
      "[ 1.  1.  1.  1.  1.]\n",
      "[ 1.          1.          1.          0.98000002  1.        ]\n",
      "[ 1.  1.  1.  1.  1.]\n",
      "[ 1.  1.  1.  1.  1.]\n",
      "[ 1.          1.          1.          1.          0.92000002]\n",
      "[ 1.          1.          1.          1.          0.98000002]\n",
      "[ 1.          1.          1.          0.98000002  0.95999998]\n",
      "[ 1.          1.          0.99000001  1.          0.99000001]\n",
      "[ 1.          1.          0.99000001  1.          1.        ]\n",
      "[ 1.  1.  1.  1.  1.]\n",
      "[ 1.          1.          1.          1.          0.75999999]\n",
      "[ 1.          1.          1.          0.99000001  1.        ]\n",
      "[ 1.          1.          1.          0.82999998  1.        ]\n",
      "[ 1.          1.          0.99000001  1.          0.97000003]\n",
      "[ 1.  1.  1.  1.  1.]\n",
      "[ 1.          1.          0.95999998  0.99000001  0.98000002]\n",
      "[ 1.          1.          1.          1.          0.97000003]\n",
      "[ 1.  1.  1.  1.  1.]\n",
      "[ 1.          1.          1.          0.92000002  1.        ]\n",
      "[ 1.          1.          1.          0.37        0.99000001]\n",
      "[ 1.  1.  1.  1.  1.]\n",
      "[ 1.    1.    1.    0.94  1.  ]\n",
      "[ 1.          1.          0.94999999  0.89999998  1.        ]\n",
      "[ 1.          1.          1.          0.92000002  1.        ]\n",
      "[ 1.          1.          1.          0.99000001  0.97000003]\n",
      "[ 1.          1.          1.          1.          0.99000001]\n",
      "[ 1.          1.          1.          0.99000001  0.81999999]\n",
      "[ 1.          1.          1.          1.          0.98000002]\n",
      "[ 1.  1.  1.  1.  1.]\n",
      "[ 1.          1.          1.          1.          0.80000001]\n",
      "[ 1.          1.          0.99000001  1.          0.95999998]\n",
      "[ 1.          1.          1.          0.92000002  0.95999998]\n",
      "[ 1.          1.          0.99000001  1.          1.        ]\n",
      "[ 1.          1.          1.          1.          0.98000002]\n",
      "[ 1.          1.          0.99000001  0.98000002  1.        ]\n",
      "[ 1.          1.          1.          1.          0.93000001]\n",
      "[ 1.          1.          1.          1.          0.72000003]\n",
      "[ 1.          1.          0.97000003  1.          1.        ]\n",
      "[ 1.          1.          0.92000002  0.94999999  1.        ]\n",
      "[ 1.          1.          0.83999997  0.99000001  1.        ]\n",
      "[ 1.          1.          0.81999999  1.          1.        ]\n",
      "[ 1.          1.          0.92000002  0.97000003  0.98000002]\n",
      "[ 1.    1.    0.94  1.    1.  ]\n",
      "[ 1.          1.          0.98000002  1.          1.        ]\n",
      "[ 1.          1.          0.99000001  1.          1.        ]\n",
      "[ 1.  1.  1.  1.  1.]\n",
      "[ 1.          1.          1.          0.97000003  0.99000001]\n",
      "[ 1.          1.          0.94999999  1.          1.        ]\n",
      "[ 1.  1.  1.  1.  1.]\n",
      "[ 1.          1.          1.          1.          0.99000001]\n",
      "[ 1.  1.  1.  1.  1.]\n",
      "[ 1.  1.  1.  1.  1.]\n",
      "[ 1.          1.          1.          0.72000003  1.        ]\n",
      "[ 1.  1.  1.  1.  1.]\n",
      "[ 1.          1.          1.          1.          0.99000001]\n",
      "[ 1.  1.  1.  1.  1.]\n",
      "[ 1.          1.          0.98000002  1.          1.        ]\n",
      "[ 1.          1.          0.97000003  0.72000003  1.        ]\n",
      "[ 1.  1.  1.  1.  1.]\n",
      "[ 1.          1.          1.          0.94999999  1.        ]\n",
      "[ 1.  1.  1.  1.  1.]\n",
      "[ 1.    1.    1.    0.88  1.  ]\n",
      "[ 1.          1.          0.94999999  1.          1.        ]\n",
      "[ 1.          1.          1.          0.98000002  1.        ]\n",
      "[ 1.          1.          1.          1.          0.99000001]\n",
      "[ 1.          1.          1.          0.99000001  0.98000002]\n",
      "[ 1.  1.  1.  1.  1.]\n",
      "[ 1.  1.  1.  1.  1.]\n",
      "[ 1.          1.          1.          0.98000002  1.        ]\n",
      "[ 1.          1.          0.97000003  0.99000001  1.        ]\n",
      "[ 1.          1.          0.99000001  0.18000001  1.        ]\n",
      "[ 1.    1.    0.94  0.94  1.  ]\n",
      "[ 1.          1.          1.          0.98000002  1.        ]\n",
      "[ 1.          1.          1.          0.99000001  1.        ]\n",
      "[ 1.  1.  1.  1.  1.]\n",
      "[ 1.  1.  1.  1.  1.]\n",
      "[ 1.  1.  1.  1.  1.]\n",
      "[ 1.          1.          0.97000003  1.          1.        ]\n",
      "[ 1.          1.          0.95999998  0.99000001  1.        ]\n",
      "[ 1.          1.          0.93000001  0.81999999  1.        ]\n",
      "[ 1.          1.          1.          0.94999999  1.        ]\n",
      "[ 1.          1.          0.85000002  1.          1.        ]\n",
      "[ 1.          1.          0.99000001  0.75999999  1.        ]\n",
      "[ 1.          1.          0.97000003  1.          1.        ]\n",
      "[ 1.  1.  1.  1.  1.]\n",
      "[ 1.  1.  1.  1.  1.]\n",
      "[ 1.          1.          1.          0.95999998  1.        ]\n",
      "[ 1.  1.  1.  1.  1.]\n",
      "[ 1.          1.          0.97000003  1.          1.        ]\n",
      "[ 1.          1.          1.          0.94999999  1.        ]\n",
      "[ 1.  1.  1.  1.  1.]\n",
      "[ 1.          1.          0.89999998  1.          1.        ]\n",
      "[ 1.  1.  1.  1.  1.]\n",
      "[ 1.  1.  1.  1.  1.]\n",
      "[ 1.  1.  1.  1.  1.]\n",
      "[ 1.          1.          0.97000003  0.98000002  1.        ]\n",
      "[ 1.   1.   0.2  1.   1. ]\n",
      "[ 1.          1.          0.17        0.99000001  1.        ]\n",
      "[ 1.    1.    0.01  1.    1.  ]\n",
      "[ 1.          1.          1.          0.94999999  1.        ]\n",
      "[ 1.  1.  1.  1.  1.]\n",
      "[ 1.          1.          0.92000002  0.97000003  1.        ]\n",
      "[ 1.          1.          1.          0.95999998  1.        ]\n",
      "[ 1.          1.          1.          0.93000001  1.        ]\n",
      "[ 1.  1.  1.  1.  1.]\n",
      "[ 1.  1.  1.  1.  1.]\n",
      "[ 1.  1.  1.  1.  1.]\n",
      "[ 1.          1.          0.98000002  1.          1.        ]\n",
      "[ 1.  1.  1.  1.  1.]\n",
      "[ 1.          1.          1.          0.97000003  1.        ]\n",
      "[ 1.  1.  1.  1.  1.]\n",
      "[ 1.  1.  1.  1.  1.]\n",
      "[ 1.          1.          1.          0.99000001  1.        ]\n",
      "[ 1.  1.  1.  1.  1.]\n",
      "[ 1.  1.  1.  1.  1.]\n",
      "[ 1.  1.  1.  1.  1.]\n",
      "[ 1.          1.          0.91000003  1.          1.        ]\n",
      "[ 1.          1.          1.          0.99000001  1.        ]\n",
      "[ 1.  1.  1.  1.  1.]\n",
      "[ 1.  1.  1.  1.  1.]\n",
      "[ 1.          1.          1.          0.99000001  1.        ]\n",
      "[ 1.  1.  1.  1.  1.]\n",
      "[ 1.  1.  1.  1.  1.]\n",
      "[ 1.          1.          0.83999997  1.          1.        ]\n",
      "[ 1.  1.  1.  1.  1.]\n",
      "[ 1.          1.          0.30000001  1.          1.        ]\n",
      "[ 1.  1.  1.  1.  1.]\n",
      "[ 1.  1.  1.  1.  1.]\n",
      "[ 1.  1.  1.  1.  1.]\n",
      "[ 1.          1.          1.          0.99000001  1.        ]\n",
      "[ 1.  1.  1.  1.  1.]\n",
      "[ 1.          1.          1.          0.99000001  1.        ]\n",
      "[ 1.  1.  1.  1.  1.]\n",
      "[ 1.          1.          1.          0.99000001  1.        ]\n",
      "[ 1.  1.  1.  1.  1.]\n",
      "[ 1.  1.  1.  1.  1.]\n",
      "[ 1.          1.          1.          0.99000001  1.        ]\n",
      "[ 1.          1.          1.          0.98000002  1.        ]\n",
      "[ 1.  1.  1.  1.  1.]\n",
      "[ 1.          1.          1.          0.99000001  1.        ]\n",
      "[ 1.  1.  1.  1.  1.]\n",
      "[ 1.  1.  1.  1.  1.]\n",
      "[ 1.          1.          1.          0.97000003  1.        ]\n",
      "[ 1.  1.  1.  1.  1.]\n",
      "[ 1.  1.  1.  1.  1.]\n",
      "[ 1.  1.  1.  1.  1.]\n",
      "[ 1.          1.          1.          0.99000001  1.        ]\n",
      "[ 1.  1.  1.  1.  1.]\n",
      "[ 1.  1.  1.  1.  1.]\n",
      "[ 1.  1.  1.  1.  1.]\n",
      "[ 1.  1.  1.  1.  1.]\n",
      "[ 1.          1.          1.          0.99000001  1.        ]\n",
      "[ 1.          1.          1.          0.98000002  1.        ]\n",
      "[ 1.  1.  1.  1.  1.]\n",
      "[ 1.          1.          1.          0.98000002  1.        ]\n",
      "[ 1.          1.          1.          0.95999998  1.        ]\n",
      "[ 1.  1.  1.  1.  1.]\n",
      "[ 1.    1.    1.    0.81  1.  ]\n",
      "[ 1.  1.  1.  1.  1.]\n",
      "[ 1.  1.  1.  1.  1.]\n",
      "[ 1.  1.  1.  1.  1.]\n",
      "[ 1.  1.  1.  1.  1.]\n",
      "[ 1.  1.  1.  1.  1.]\n",
      "[ 1.  1.  1.  1.  1.]\n",
      "[ 1.          1.          1.          0.97000003  1.        ]\n",
      "[ 1.  1.  1.  1.  1.]\n",
      "[ 1.  1.  1.  1.  1.]\n",
      "[ 1.  1.  1.  1.  1.]\n",
      "[ 1.    1.    1.    0.88  1.  ]\n",
      "[ 1.  1.  1.  1.  1.]\n",
      "[ 1.          1.          1.          0.98000002  1.        ]\n",
      "[ 1.  1.  1.  1.  1.]\n",
      "[ 1.  1.  1.  1.  1.]\n",
      "[ 1.  1.  1.  1.  1.]\n",
      "[ 1.  1.  1.  1.  1.]\n",
      "[ 1.  1.  1.  1.  1.]\n",
      "[ 1.  1.  1.  1.  1.]\n",
      "[ 1.  1.  1.  1.  1.]\n",
      "[ 1.  1.  1.  1.  1.]\n",
      "[ 1.  1.  1.  1.  1.]\n",
      "[ 1.  1.  1.  0.  1.]\n",
      "[ 1.          1.          1.          0.83999997  1.        ]\n",
      "[ 1.  1.  1.  1.  1.]\n",
      "[ 1.          1.          1.          0.82999998  1.        ]\n",
      "[ 1.  1.  1.  1.  1.]\n",
      "[ 1.  1.  1.  1.  1.]\n",
      "[ 1.          1.          1.          0.91000003  1.        ]\n",
      "[ 1.  1.  1.  1.  1.]\n",
      "[ 1.          1.          1.          0.95999998  1.        ]\n",
      "[ 1.  1.  1.  1.  1.]\n",
      "[ 1.          1.          1.          0.94999999  1.        ]\n"
     ]
    }
   ],
   "source": [
    "S = gaussian.get_samples(n=5)\n",
    "H = get_hmc_samples(0.3, samples=S, steps=400)\n",
    "# for eps in np.arange(0.1, 0.7, 0.1):\n",
    "#     H = get_hmc_samples(eps, samples=S)\n",
    "#     plt.plot(np.abs([autocovariance(H-mu, tau=t) for t in range(199)]), label='$\\epsilon=%.3f$' % eps)\n",
    "# # plt.plot(np.abs([autocovariance(F-mu, tau=t) for t in range(199)]), label='Cosa Nostra')\n",
    "# plt.xlabel('# gradient steps')\n",
    "# plt.ylabel('Autocovariance')\n",
    "# plt.legend()"
   ]
  },
  {
   "cell_type": "code",
   "execution_count": 81,
   "metadata": {
    "collapsed": false
   },
   "outputs": [
    {
     "data": {
      "text/plain": [
       "1878"
      ]
     },
     "execution_count": 81,
     "metadata": {},
     "output_type": "execute_result"
    }
   ],
   "source": [
    "np.isnan(H.flatten()).sum()"
   ]
  },
  {
   "cell_type": "code",
   "execution_count": 85,
   "metadata": {
    "collapsed": false
   },
   "outputs": [
    {
     "data": {
      "text/plain": [
       "[<matplotlib.lines.Line2D at 0x7f92c9196c50>]"
      ]
     },
     "execution_count": 85,
     "metadata": {},
     "output_type": "execute_result"
    },
    {
     "data": {
      "image/png": "[encoded data removed]",
      "text/plain": [
       "<matplotlib.figure.Figure at 0x7f92c9212690>"
      ]
     },
     "metadata": {},
     "output_type": "display_data"
    }
   ],
   "source": [
    "plt.plot(H[:, 2, 0])"
   ]
  },
  {
   "cell_type": "code",
   "execution_count": 8,
   "metadata": {
    "collapsed": false
   },
   "outputs": [
    {
     "data": {
      "text/plain": [
       "[<matplotlib.lines.Line2D at 0x7f93f8789950>]"
      ]
     },
     "execution_count": 8,
     "metadata": {},
     "output_type": "execute_result"
    },
    {
     "data": {
      "image/png": "[encoded data removed]",
      "text/plain": [
       "<matplotlib.figure.Figure at 0x7f9517b9bb50>"
      ]
     },
     "metadata": {},
     "output_type": "display_data"
    }
   ],
   "source": [
    "plt.plot(np.abs([autocovariance(H-mu, tau=t) for t in range(199)]), label='$\\epsilon=%.3f$' % eps)"
   ]
  },
  {
   "cell_type": "code",
   "execution_count": 61,
   "metadata": {
    "collapsed": true
   },
   "outputs": [],
   "source": [
    "sess = tf.Session()\n",
    "\n",
    "def get_hmc_samples(eps, steps=200, samples=None):\n",
    "    hmc_dynamics = Dynamics(x_dim, gaussian.get_energy_function(), T=5, eps=eps, hmc=True)\n",
    "    hmc_x = tf.placeholder(tf.float32, shape=(None, x_dim))\n",
    "    Lx, _, px, hmc_MH = propose(hmc_x, hmc_dynamics, do_mh_step=True)\n",
    "    \n",
    "    if samples is None:\n",
    "        samples = gaussian.get_samples(n=200)\n",
    "    final_samples = []\n",
    "    \n",
    "    for t in range(steps):\n",
    "        final_samples.append(np.copy(samples))\n",
    "        Lx_, px_, samples = sess.run([Lx, px, hmc_MH[0]], {hmc_x: samples})\n",
    "        if np.isnan(Lx_.flatten()).sum() > 0:\n",
    "            print np.round(px_, decimals=2)\n",
    "    return np.array(final_samples)"
   ]
  },
  {
   "cell_type": "code",
   "execution_count": null,
   "metadata": {
    "collapsed": true
   },
   "outputs": [],
   "source": []
  },
  {
   "cell_type": "code",
   "execution_count": null,
   "metadata": {
    "collapsed": true
   },
   "outputs": [],
   "source": [
    "from utils.func_utils import get_log_likelihood\n",
    "F = np.array(final_samples)\n",
    "G = np.array(final_samples2)\n",
    "plt.plot([get_log_likelihood(F[t, :, :], gaussian) for t in range(200)], label='Small gaussian')\n",
    "plt.plot([get_log_likelihood(G[t, :, :], gaussian) for t in range(200)], label='Unit gaussian')\n",
    "plt.plot([get_log_likelihood(gaussian.get_samples(200), gaussian) for t in range(200)], label='Exact sampling')\n",
    "plt.xlabel('MH steps')\n",
    "plt.ylabel('$E(x)$')\n",
    "plt.legend()"
   ]
  },
  {
   "cell_type": "code",
   "execution_count": null,
   "metadata": {
    "collapsed": true
   },
   "outputs": [],
   "source": [
    "w = tf.placeholder(tf.float32, shape=(None, 5))\n",
    "v = tf.placeholder(tf.float32, shape=(None, 5))\n",
    "\n",
    "w / v"
   ]
  },
  {
   "cell_type": "code",
   "execution_count": null,
   "metadata": {
    "collapsed": true
   },
   "outputs": [],
   "source": [
    "sess.run(w / v, {w: [[1, 2, 3, 4, 5]], v: [[2, 2, 5, 2, 2]]})"
   ]
  },
  {
   "cell_type": "code",
   "execution_count": 11,
   "metadata": {
    "collapsed": true
   },
   "outputs": [],
   "source": [
    "steps = [500, 2500, 5000, 25000]\n",
    "lower_bound = [-96, -87.40, -85.82, -84.79]"
   ]
  },
  {
   "cell_type": "code",
   "execution_count": 12,
   "metadata": {
    "collapsed": false
   },
   "outputs": [
    {
     "data": {
      "text/plain": [
       "[]"
      ]
     },
     "execution_count": 12,
     "metadata": {},
     "output_type": "execute_result"
    },
    {
     "data": {
      "image/png": "[encoded data removed]",
      "text/plain": [
       "<matplotlib.figure.Figure at 0x11c0addd0>"
      ]
     },
     "metadata": {},
     "output_type": "display_data"
    }
   ],
   "source": [
    "plt.plot(steps, lower_bound, marker='d')\n",
    "plt.semilogx()"
   ]
  },
  {
   "cell_type": "code",
   "execution_count": 13,
   "metadata": {
    "collapsed": true
   },
   "outputs": [],
   "source": [
    "HMC_test = [-87.59, -85.10, -84.46]\n",
    "CS_test = [-86.85, -84.56, -84.66]"
   ]
  },
  {
   "cell_type": "code",
   "execution_count": 16,
   "metadata": {
    "collapsed": false
   },
   "outputs": [
    {
     "data": {
      "text/plain": [
       "[<matplotlib.lines.Line2D at 0x11d56ea90>]"
      ]
     },
     "execution_count": 16,
     "metadata": {},
     "output_type": "execute_result"
    },
    {
     "data": {
      "image/png": "[encoded data removed]",
      "text/plain": [
       "<matplotlib.figure.Figure at 0x11d56ec90>"
      ]
     },
     "metadata": {},
     "output_type": "display_data"
    }
   ],
   "source": [
    "plt.plot(-np.array(HMC_test))\n",
    "plt.plot(-np.array(CS_test))"
   ]
  },
  {
   "cell_type": "code",
   "execution_count": null,
   "metadata": {
    "collapsed": true
   },
   "outputs": [],
   "source": []
  }
 ],
 "metadata": {
  "anaconda-cloud": {},
  "kernelspec": {
   "display_name": "Python [default]",
   "language": "python",
   "name": "python2"
  },
  "language_info": {
   "codemirror_mode": {
    "name": "ipython",
    "version": 2
   },
   "file_extension": ".py",
   "mimetype": "text/x-python",
   "name": "python",
   "nbconvert_exporter": "python",
   "pygments_lexer": "ipython2",
   "version": "2.7.12"
  }
 },
 "nbformat": 4,
 "nbformat_minor": 2
}
